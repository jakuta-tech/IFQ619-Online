{
 "cells": [
  {
   "cell_type": "markdown",
   "metadata": {},
   "source": [
    "# Module 2 - Data structures - Exercises"
   ]
  },
  {
   "cell_type": "markdown",
   "metadata": {},
   "source": [
    "### Structured Data Exercise\n",
    "\n",
    "Look in the data directory and find another CSV file. Try loading in one of these into a Pandas dataframe."
   ]
  },
  {
   "cell_type": "code",
   "execution_count": 1,
   "metadata": {},
   "outputs": [],
   "source": [
    "### Type your code in here\n"
   ]
  },
  {
   "cell_type": "markdown",
   "metadata": {},
   "source": [
    "### Semi-structured Data Exercise\n",
    "\n",
    "IP data is now available via [data.gov.au](https://blog.data.gov.au/news-media/blog/ip-data-now-intuitive-visually). Instructions on how to access the API can be found [here](https://data.gov.au/data/api/1/util/snippet/api_info.html?resource_id=9050618b-c880-4bfe-9aa9-a002837f5067).\n",
    "\n",
    "1. Load a `JSON` file into a Python dictionary by using the example query url:\n",
    "\n",
    "```https://data.gov.au/data/api/3/action/datastore_search?resource_id=9050618b-c880-4bfe-9aa9-a002837f5067&q=jones```\n",
    "\n",
    "2. Extract the `result` from the dictionary into a variable called result\n",
    "3. Extract the total number of records found from the result\n",
    "4. Try modifying the query to find something else\n"
   ]
  },
  {
   "cell_type": "code",
   "execution_count": 2,
   "metadata": {},
   "outputs": [],
   "source": [
    "### Type your code in here\n"
   ]
  },
  {
   "cell_type": "code",
   "execution_count": null,
   "metadata": {},
   "outputs": [],
   "source": []
  }
 ],
 "metadata": {
  "kernelspec": {
   "display_name": "Python 3",
   "language": "python",
   "name": "python3"
  },
  "language_info": {
   "codemirror_mode": {
    "name": "ipython",
    "version": 3
   },
   "file_extension": ".py",
   "mimetype": "text/x-python",
   "name": "python",
   "nbconvert_exporter": "python",
   "pygments_lexer": "ipython3",
   "version": "3.7.6"
  }
 },
 "nbformat": 4,
 "nbformat_minor": 4
}
