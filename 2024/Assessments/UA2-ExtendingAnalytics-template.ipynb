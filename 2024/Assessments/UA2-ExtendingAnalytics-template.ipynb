{
 "cells": [
  {
   "attachments": {},
   "cell_type": "markdown",
   "id": "4f25fb7c-b847-446d-96a8-244b809fa314",
   "metadata": {
    "cell_name": "header_cell"
   },
   "source": [
    "<div style=\"background:#FFFFEE; color:#440404; padding:8px; border-radius: 4px; text-align: center; font-weight: 500;\">IFQ619 - Data Analytics for Strategic Decision Makers (2024)</div>"
   ]
  },
  {
   "attachments": {},
   "cell_type": "markdown",
   "id": "e620670b-943c-4faf-86c0-7c94a885210b",
   "metadata": {
    "cell_name": "title_cell"
   },
   "source": [
    "# IFQ619 :: UA2 - Extending Analytics (40%)\n",
    "\n",
    "**IMPORTANT:** Refer to the instructions in Canvas [UA2 - Assignment 2 - extending analytics] *BEFORE* working on this assignment.\n",
    "\n",
    "#### REQUIREMENTS ####\n",
    "\n",
    "1. Complete and run the code cell below to display your name, student number, and assignment option\n",
    "2. Identify an appropriate question (or questions) to be addressed by your overall data analytics narrative\n",
    "3. Extend your analysis in assignment 1 with:\n",
    "    - the analysis of additional unstructured data using the Guardian API (See accessing the Guardian API notebook),\n",
    "    - the use of one machine learning technique (as used in the class materials), and\n",
    "    - identification of ethical considerations relevant to the analysis (by drawing on class materials).\n",
    "4. Ensure that you include documentation of your thinking and decision-making using markdown cells\n",
    "5. Ensure that you include appropriate visualisations, and that they support the overall narrative\n",
    "6. Ensure that your insights answer your question/s and are appropriate to your narrative. \n",
    "7. Ensure that your insights are consistent with the ethical considerations identified.\n",
    "\n",
    "**NOTE:** you should not repeat the analysis from assignment 1, but you may need to save dataframes from assignment 1 and reload for use in this assignment. You may also summarise your assignment 1 insights as part of the process of identifying questions for analysis.\n",
    "\n",
    "#### SUBMISSION ####\n",
    "\n",
    "1. Create an assignment 2 folder named in the form **UA2-surname-idnumber** and put your notebook and any data files inside this folder. Note, do not put large training data in this folder (reference any training data that you used but keep it outside this folder), only keep small data files and models in this folder with your notebook.\n",
    "2. When you have everything in the correct folder, reset all cells and restart the kernel, then run the notebook completely, checking that all cells have run without error. If you encounter errors, fix your notebook and re-run the process. It is important that your notebook runs without errors only requiring the files in the folder that you have created.\n",
    "3. When the notebook is error free, zip the entire folder (you can select download folder in Jupyter).\n",
    "4. Submit the zipped folder in Canvas\n"
   ]
  },
  {
   "cell_type": "code",
   "execution_count": null,
   "id": "763f6f63",
   "metadata": {},
   "outputs": [],
   "source": [
    "# Complete the following cell with your details and run to produce your personalised header for this assignment\n",
    "\n",
    "from IPython.display import HTML\n",
    "\n",
    "# personal details\n",
    "first_name = ???\n",
    "last_name = ???\n",
    "student_number = ???\n",
    "\n",
    "personal_header = f\"<h1>{first_name} {last_name} ({student_number})</h1>\"\n",
    "HTML(personal_header)"
   ]
  },
  {
   "attachments": {},
   "cell_type": "markdown",
   "id": "24fbcf4f",
   "metadata": {},
   "source": [
    "---\n"
   ]
  },
  {
   "cell_type": "code",
   "execution_count": null,
   "id": "dca76aa9",
   "metadata": {},
   "outputs": [],
   "source": []
  }
 ],
 "metadata": {
  "creation_period": "",
  "kernelspec": {
   "display_name": "Python 3 (ipykernel)",
   "language": "python",
   "name": "python3"
  },
  "language_info": {
   "codemirror_mode": {
    "name": "ipython",
    "version": 3
   },
   "file_extension": ".py",
   "mimetype": "text/x-python",
   "name": "python",
   "nbconvert_exporter": "python",
   "pygments_lexer": "ipython3",
   "version": "3.11.9"
  },
  "nb_name": "template",
  "qut": {
   "creation_period": "2023_sem1",
   "nb_name": "template-assignment2",
   "unit_code": "IFN619"
  },
  "unit_code": "",
  "vscode": {
   "interpreter": {
    "hash": "d4d1e4263499bec80672ea0156c357c1ee493ec2b1c70f0acce89fc37c4a6abe"
   }
  }
 },
 "nbformat": 4,
 "nbformat_minor": 5
}
