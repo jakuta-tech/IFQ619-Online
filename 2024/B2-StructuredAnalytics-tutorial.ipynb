{
 "cells": [
  {
   "cell_type": "markdown",
   "id": "cdc30bc6-8bab-48ed-a375-833e6c556c6a",
   "metadata": {
    "cell_name": "header_cell"
   },
   "source": [
    "<div style=\"background:#E9FFF6; color:#440404; padding:8px; border-radius: 4px; text-align: center; font-weight: 500;\">IFN619 - Data Analytics for Strategic Decision Makers (2024_sem1)</div>"
   ]
  },
  {
   "attachments": {},
   "cell_type": "markdown",
   "id": "ed5105af-66b9-41c5-95ab-7642aae82616",
   "metadata": {
    "cell_name": "title_cell"
   },
   "source": [
    "# IFN619 :: B2-StructuredAnalytics Tutorial Exercises"
   ]
  },
  {
   "attachments": {},
   "cell_type": "markdown",
   "id": "0351e0c6",
   "metadata": {},
   "source": [
    "---\n",
    "## Task 1"
   ]
  },
  {
   "attachments": {},
   "cell_type": "markdown",
   "id": "08b61426",
   "metadata": {},
   "source": [
    "Using the structured analytics techniques demonstrated in this week's studio, work through the QDAVI cycle for the following business concern:\n",
    "\n",
    "\n",
    "> **CONCERN:** A business is looking to launch an agricultural product in either Australia or New Zealand. However, management is unsure which country to start with.\n",
    "\n",
    "### Question\n",
    "\n",
    "What questions might the business be interested in answering, and how might we use data analytics to address these questions?"
   ]
  },
  {
   "attachments": {},
   "cell_type": "markdown",
   "id": "96b0b3fc",
   "metadata": {},
   "source": [
    "### Data\n",
    "\n",
    "What data may be helpful in finding out the importance of agriculture to each country?\n",
    "\n",
    "Perhaps, data that shows the contribution of agriculture to the economy:\n",
    "\n",
    "1. Take a look at [GapMinder](https://www.gapminder.org/data/) - (based on [uw-madison resource](https://uw-madison-aci.github.io/python-novice-gapminder/39-plotting/))\n",
    "2. Under \"Choose individual indicators\", navigate to \"Agriculture, percent of GDP\" (economy>sectors>agriculture) and download the CSV file.\n",
    "3. Upload the CSV to your Jupyter files section with the 'upload' button into a 'data' directory."
   ]
  },
  {
   "cell_type": "code",
   "execution_count": null,
   "id": "6f817367",
   "metadata": {},
   "outputs": [],
   "source": [
    "# import the required library to load the data\n",
    "???\n"
   ]
  },
  {
   "cell_type": "markdown",
   "id": "fe34d005",
   "metadata": {},
   "source": [
    "#### Load the data\n",
    "\n",
    "Now that we have the data file in our Jupyter environment, we can load the data out of the file into our notebook so that we can work with it."
   ]
  },
  {
   "cell_type": "code",
   "execution_count": null,
   "id": "ed25ed72",
   "metadata": {},
   "outputs": [],
   "source": [
    "file_path = \"data/\"\n",
    "file_name = ???\n",
    "index_column = ???\n",
    "\n",
    "ag_gdp_df = pd.read_csv(f\"{file_path}{file_name}\", index_col= ???)\n",
    "\n",
    "ag_gdp_df"
   ]
  },
  {
   "attachments": {},
   "cell_type": "markdown",
   "id": "f5a6d0e6",
   "metadata": {},
   "source": [
    "#### Select relevant data\n",
    "\n",
    "Select the most recent 5 years. We can do this by getting a list of the columns, and selecting the last 5. However, we need to ensure that both countries have complete data for those years.\n",
    "\n",
    "Select the relevant rows (Australia and NZ)"
   ]
  },
  {
   "cell_type": "code",
   "execution_count": null,
   "id": "e7a2865c",
   "metadata": {},
   "outputs": [],
   "source": [
    "# get columns as a list and select recent 5 that have complete data for Aus and NZ\n",
    "all_years = list(ag_gdp_df.???)\n",
    "recent5_years = all_years[-7:-2]\n",
    "recent5_years"
   ]
  },
  {
   "cell_type": "code",
   "execution_count": null,
   "id": "b3e509bf",
   "metadata": {},
   "outputs": [],
   "source": [
    "ag_gdp5_df = ag_gdp_df[???]\n",
    "ag_gdp5_df"
   ]
  },
  {
   "cell_type": "markdown",
   "id": "81fd869c",
   "metadata": {},
   "source": [
    "We are only interested in Australia and New Zealand, so we don't need 189 rows. We can use the .loc function of the dataframe to obtain the row."
   ]
  },
  {
   "cell_type": "code",
   "execution_count": null,
   "id": "e1cfed03",
   "metadata": {},
   "outputs": [],
   "source": [
    "countries = [???,???]\n",
    "ag_gdp5_df.loc[countries]"
   ]
  },
  {
   "cell_type": "code",
   "execution_count": null,
   "id": "defb3e95",
   "metadata": {},
   "outputs": [],
   "source": [
    "# Transpose the dataframe (with .T) to better suit analysis\n",
    "au_nz_df = ag_gdp5_df.loc[countries].T\n",
    "au_nz_df.index.name = \"???\" # give the index an appropriate name\n",
    "au_nz_df"
   ]
  },
  {
   "attachments": {},
   "cell_type": "markdown",
   "id": "f2bfafc2",
   "metadata": {},
   "source": [
    "### Analysis\n",
    "\n",
    "Get a picture of the data, by using descriptives statistics"
   ]
  },
  {
   "cell_type": "code",
   "execution_count": null,
   "id": "12d01c1c",
   "metadata": {},
   "outputs": [],
   "source": [
    "au_nz_df.???"
   ]
  },
  {
   "cell_type": "code",
   "execution_count": null,
   "id": "b5e3a4ac",
   "metadata": {},
   "outputs": [],
   "source": [
    "years = list(au_nz_df.???)\n",
    "yrs_str = \", \".join(???)\n",
    "print(f\"Agriculture as a percent of GDP for the years: {???}\")\n",
    "for country in countries:\n",
    "    ds = au_nz_df[???].describe()\n",
    "    mean_pc = ???\n",
    "    min_pc = ???\n",
    "    max_pc = ???\n",
    "    print(f\"{???} mean: {???:???}%, min: {???}% max: {???}%\")\n"
   ]
  },
  {
   "attachments": {},
   "cell_type": "markdown",
   "id": "b90c3e6d",
   "metadata": {},
   "source": [
    "### Visualisation\n",
    "\n",
    "Use plotly.express to create a line chart for the new dataframe"
   ]
  },
  {
   "cell_type": "code",
   "execution_count": null,
   "id": "b0cd17af-e5ba-40df-852e-cd1ccb558440",
   "metadata": {},
   "outputs": [],
   "source": [
    "# Import the library required to use plotly express for visualisation\n",
    "import ??? as ???"
   ]
  },
  {
   "cell_type": "code",
   "execution_count": null,
   "id": "ab01eaee",
   "metadata": {},
   "outputs": [],
   "source": [
    "px.line(???)"
   ]
  },
  {
   "attachments": {},
   "cell_type": "markdown",
   "id": "5490e972",
   "metadata": {},
   "source": [
    "### Insights\n",
    "\n",
    "What insights can you identify from the analysis above?\n",
    "Can you address the business concern? To what extent?\n",
    "What limiting factors might there be in using this analysis to address the concern? (think population of countries, recency of data, etc)"
   ]
  },
  {
   "attachments": {},
   "cell_type": "markdown",
   "id": "68752e1c-1788-4904-9908-eed28b43dc49",
   "metadata": {},
   "source": [
    "---\n",
    "## Task 2"
   ]
  },
  {
   "attachments": {},
   "cell_type": "markdown",
   "id": "07f990d3-4ca7-4bd8-a9c5-3e70e35aee50",
   "metadata": {},
   "source": [
    "### Question \n",
    "\n",
    "> What sort of daily ups and downs does the stock market have?"
   ]
  },
  {
   "attachments": {},
   "cell_type": "markdown",
   "id": "d99cbfa8-f540-4cda-8178-6fb5596066a1",
   "metadata": {},
   "source": [
    "### Data"
   ]
  },
  {
   "cell_type": "markdown",
   "id": "980a52ea-9f7e-49ce-bfdf-9a0ae0446ed0",
   "metadata": {},
   "source": [
    "The file NASDAQ100.csv in the data folder contains daily opening and closing prices of a US stock index called the NASDAQ 100 for the last year downloaded from [Yahoo Finance](https://au.finance.yahoo.com/quote/%5ENDX).\n",
    "\n",
    "Load the the data from the file into a pandas dataframe. Notice that the column names from the file become the column names of the dataframe."
   ]
  },
  {
   "cell_type": "code",
   "execution_count": null,
   "id": "93952175-e3b6-43c9-be08-9c289bc0888d",
   "metadata": {},
   "outputs": [],
   "source": [
    "# import libraries (the same two as imported above)\n",
    "???"
   ]
  },
  {
   "cell_type": "code",
   "execution_count": null,
   "id": "4bf86d4a",
   "metadata": {},
   "outputs": [],
   "source": [
    "file_path = ???\n",
    "file_name = ???\n",
    "# Load the CSV file into a DataFrame\n",
    "df = pd.read_csv(f\"{file_path}{file_name}\")"
   ]
  },
  {
   "attachments": {},
   "cell_type": "markdown",
   "id": "2b84072d-da66-4ff8-8e52-0bc86e9edc66",
   "metadata": {},
   "source": [
    "#### \"Eyeballing\" the data\n",
    "Print the first 10 rows of data on your screen. Take a quick look to check it seems like good data.\n"
   ]
  },
  {
   "cell_type": "code",
   "execution_count": null,
   "id": "094b3d4a-8c72-48d4-8736-a9e27caaccf1",
   "metadata": {},
   "outputs": [],
   "source": [
    "df.head(10)"
   ]
  },
  {
   "attachments": {},
   "cell_type": "markdown",
   "id": "e060f32b-e82f-4787-ac9f-a2513adf21d3",
   "metadata": {},
   "source": [
    "#### Checking for duplicates\n",
    "\n",
    "This is \"time series\" data, so there should not be multiple rows for one day.\n",
    "\n",
    "Run a command to check for duplicate rows (all values the same as another row). If you find any, delete the duplicate rows, keeping only one. (Hint: the dataframe object has a \"duplicated\" method.)"
   ]
  },
  {
   "cell_type": "code",
   "execution_count": null,
   "id": "3b2e05aa-6028-471f-8cdc-3041adb4c74d",
   "metadata": {},
   "outputs": [],
   "source": [
    "# Check duplicates\n",
    "\n",
    "df[df.???]"
   ]
  },
  {
   "cell_type": "code",
   "execution_count": null,
   "id": "984143bf-800e-4ae3-97eb-01537c148dbb",
   "metadata": {},
   "outputs": [],
   "source": [
    "# Which row is duplicated? "
   ]
  },
  {
   "cell_type": "code",
   "execution_count": null,
   "id": "dda0f745-a762-4f1e-9e90-013bb4a67de2",
   "metadata": {},
   "outputs": [],
   "source": [
    "# Complete this line of code to remove the duplicate from the dataset.\n",
    "\n",
    "df = df[~df.???]"
   ]
  },
  {
   "cell_type": "code",
   "execution_count": null,
   "id": "4756e667-1f7a-4d7a-a7fa-2719d1b60a81",
   "metadata": {},
   "outputs": [],
   "source": [
    "# # Check duplicates again to verify it has been removed\n",
    "\n",
    "df[df.???]"
   ]
  },
  {
   "attachments": {},
   "cell_type": "markdown",
   "id": "47b3300c-3840-4a86-be28-8a6fc4fa297e",
   "metadata": {},
   "source": [
    "### Analysis\n",
    "\n",
    "Create a new column equal to the the closing price minus the opening price. Call the new column \"Daily Return\"."
   ]
  },
  {
   "cell_type": "code",
   "execution_count": null,
   "id": "0e4a7b0c-a459-4b3d-ab4e-d6ef93c20c83",
   "metadata": {},
   "outputs": [],
   "source": [
    "# Create the new column\n",
    "df['Daily Return'] = df[???] - df[???]\n",
    "\n",
    "# Look at the new column\n",
    "df.head(5)"
   ]
  },
  {
   "attachments": {},
   "cell_type": "markdown",
   "id": "14cf8f8e-7c41-4700-ae52-8c3ae4157794",
   "metadata": {},
   "source": [
    "#### Calculate some basic statistics\n",
    "\n",
    "Calculate the mean and standard deviation of the \"Daily Return\" column.\n",
    "\n",
    "Calculate how many days had a positive Daily Return and how many were negative."
   ]
  },
  {
   "cell_type": "code",
   "execution_count": null,
   "id": "3e5ad7b9-c851-4d5d-8989-33b73a1109c5",
   "metadata": {},
   "outputs": [],
   "source": [
    "# Calculate the mean and standard deviation of the 'Daily Return' column\n",
    "mean = df['Daily Return'].???\n",
    "std = df['Daily Return'].???\n",
    "\n",
    "print(\"Mean is:\", mean, \"Standard dev. is:\", std)"
   ]
  },
  {
   "cell_type": "code",
   "execution_count": null,
   "id": "a0749d31-4f46-4a33-832c-7227f161c0e0",
   "metadata": {},
   "outputs": [],
   "source": [
    "# Count the number of positive and negative values in the 'Daily Return' column\n",
    "print((df['Daily Return'] > ???).value_counts())\n"
   ]
  },
  {
   "attachments": {},
   "cell_type": "markdown",
   "id": "2a2d75bf-f39b-4b1d-9cae-dba8dc8edb93",
   "metadata": {},
   "source": [
    "### Visualisation\n",
    "\n",
    "Create a histogram of the \"Daily Return\" column. Experiment with using different \"bin\" sizes from 5 to 20."
   ]
  },
  {
   "cell_type": "code",
   "execution_count": null,
   "id": "2e6cec15-d4fd-41e0-a10c-fdd2fa10b5c6",
   "metadata": {},
   "outputs": [],
   "source": [
    "fig = px.histogram(df['Daily Return'], nbins=???)\n",
    "fig.show()\n"
   ]
  },
  {
   "cell_type": "markdown",
   "id": "7598c7e9-d493-44be-94a4-0637127168c4",
   "metadata": {},
   "source": [
    "# Interpreting results\n",
    "\n",
    "Is the mean very far from zero?\n",
    "\n",
    "What sort of distribution does \"Daily Return\" seem to be?\n",
    "\n",
    "Does there appear to be any asymmetry in the distribution?\n",
    "\n",
    "What sort of investment strategy might have made money in this year? What sort of investment strategy might have lost money?"
   ]
  },
  {
   "attachments": {},
   "cell_type": "markdown",
   "id": "d5819183-1482-4602-a2a3-06fa50d1ef52",
   "metadata": {},
   "source": [
    "---\n",
    "## Task 3\n",
    "\n",
    "### Examples of working with lists\n",
    "\n",
    "One of the most powerful features of python is lists. A list is a data structure that has no special way to get values out except by position.\n",
    "\n",
    "The next cell creates a list of numbers, but list elements can be any datatype."
   ]
  },
  {
   "cell_type": "code",
   "execution_count": null,
   "id": "ec316838-f27e-4406-aae7-6a353f2decf0",
   "metadata": {},
   "outputs": [],
   "source": [
    "# Here's a list\n",
    "\n",
    "list1 = [0,1,2,3,4,5,6,7,8,9]\n"
   ]
  },
  {
   "cell_type": "markdown",
   "id": "e385249e-fde6-40dd-b4c2-c61299213330",
   "metadata": {},
   "source": [
    "## Do some things with the list\n",
    "\n",
    "If you are new to python, you might have to do some looking around on the course materials or the internet to find the write code to do the following tasks with list1, but it shouldn't be difficult."
   ]
  },
  {
   "cell_type": "markdown",
   "id": "a3accb7f-7a7e-4f3e-af49-7f68f2829f21",
   "metadata": {},
   "source": [
    "### Add up the numbers in list1"
   ]
  },
  {
   "cell_type": "code",
   "execution_count": null,
   "id": "9ae9a865-d321-4ac6-9bb8-2580e4c23fc3",
   "metadata": {},
   "outputs": [],
   "source": [
    "sum(list1)"
   ]
  },
  {
   "cell_type": "markdown",
   "id": "ca15eace-e140-4720-9534-69dbd7a5b4c6",
   "metadata": {},
   "source": [
    "### What is the length of list1?"
   ]
  },
  {
   "cell_type": "code",
   "execution_count": null,
   "id": "679e7922-e627-4db9-bf47-96fb9de07fa3",
   "metadata": {},
   "outputs": [],
   "source": [
    "len(list1)"
   ]
  },
  {
   "cell_type": "markdown",
   "id": "2d7544cf-2e2e-4293-a20a-3180abe46c9c",
   "metadata": {},
   "source": [
    "### So what is the mean of list1?"
   ]
  },
  {
   "cell_type": "code",
   "execution_count": null,
   "id": "7b9b79ef-5e6d-4d0e-aeeb-b82564b6b686",
   "metadata": {},
   "outputs": [],
   "source": [
    "sum(list1)/len(list1)"
   ]
  },
  {
   "cell_type": "code",
   "execution_count": null,
   "id": "5b6a2d75-885c-4a13-8281-5563ff521ff5",
   "metadata": {},
   "outputs": [],
   "source": [
    "### Print the 5th number in list1? (remember there is a \"0\" element so the first item in the list is list[0])"
   ]
  },
  {
   "cell_type": "code",
   "execution_count": null,
   "id": "0587687d-fe47-4926-80cb-f87df5182a0f",
   "metadata": {},
   "outputs": [],
   "source": [
    "list1[4]"
   ]
  },
  {
   "cell_type": "markdown",
   "id": "dc01e18c-5f8f-49dd-abec-05e8e8e6947a",
   "metadata": {},
   "source": [
    "You can \"slice\" a list to get different values easily\n",
    "\n",
    "### What are the last 3 numbers in list1?"
   ]
  },
  {
   "cell_type": "code",
   "execution_count": null,
   "id": "48acee62-fe14-4781-87c5-ca6213a3dad1",
   "metadata": {},
   "outputs": [],
   "source": [
    "list1[7:10]"
   ]
  },
  {
   "cell_type": "markdown",
   "id": "7c8426ae-dad0-44c6-a00f-508fbe0be3df",
   "metadata": {},
   "source": [
    "### Loop through all the elements of list1 using a for loop"
   ]
  },
  {
   "cell_type": "code",
   "execution_count": null,
   "id": "8bcb55a4-7098-4935-a5bd-28e9d631a7a9",
   "metadata": {},
   "outputs": [],
   "source": [
    "for element in list1:\n",
    "    print(\"This is:\", element)"
   ]
  },
  {
   "cell_type": "markdown",
   "id": "40d01a7c-3270-4ab5-9cfb-64fb77254740",
   "metadata": {},
   "source": [
    "There is a shortcut way to do things with lists called \"list comprehensions\". Find out what they are.\n",
    "### Use a list comprehension to print all the elements of list1 squared"
   ]
  },
  {
   "cell_type": "code",
   "execution_count": null,
   "id": "cecb0997-1c1d-4521-aa5e-e961950c2797",
   "metadata": {},
   "outputs": [],
   "source": [
    "[x**2 for x in list1]"
   ]
  },
  {
   "cell_type": "markdown",
   "id": "b80d97af-9341-4fd8-bd31-75ae92ee3bb5",
   "metadata": {},
   "source": [
    "A list can be any combination of things.\n",
    "\n",
    "### Add a word to list1"
   ]
  },
  {
   "cell_type": "code",
   "execution_count": null,
   "id": "dc22c1a6-b2c9-40ee-9f27-72079d86829a",
   "metadata": {},
   "outputs": [],
   "source": [
    "list1.append('this list item contains some words')\n",
    "list1"
   ]
  },
  {
   "cell_type": "markdown",
   "id": "680ff5a1-5a51-4037-a12e-da45bd57aca2",
   "metadata": {},
   "source": [
    "Now if you try to sum the elements in the list, however, we will get an error because you can't add strings and numbers."
   ]
  },
  {
   "cell_type": "markdown",
   "id": "5a518fe6-591a-4fb5-832f-469a15f542c3",
   "metadata": {},
   "source": [
    "An empty list looks like this: []\n",
    "\n",
    "To empty list1 we can simply do: list1=[]\n",
    "\n"
   ]
  },
  {
   "cell_type": "code",
   "execution_count": null,
   "id": "57b96be6-81c7-4ed5-8052-18c2d67bdf2a",
   "metadata": {},
   "outputs": [],
   "source": [
    "list1=[]\n",
    "list1"
   ]
  }
 ],
 "metadata": {
  "creation_period": "",
  "kernelspec": {
   "display_name": "Python 3 (ipykernel)",
   "language": "python",
   "name": "python3"
  },
  "language_info": {
   "codemirror_mode": {
    "name": "ipython",
    "version": 3
   },
   "file_extension": ".py",
   "mimetype": "text/x-python",
   "name": "python",
   "nbconvert_exporter": "python",
   "pygments_lexer": "ipython3",
   "version": "3.10.13"
  },
  "nb_name": "template",
  "qut": {
   "creation_period": "2023_sem1",
   "nb_name": "B2-StructuredAnalytics-tutorial-solution",
   "unit_code": "IFN619"
  },
  "unit_code": ""
 },
 "nbformat": 4,
 "nbformat_minor": 5
}
