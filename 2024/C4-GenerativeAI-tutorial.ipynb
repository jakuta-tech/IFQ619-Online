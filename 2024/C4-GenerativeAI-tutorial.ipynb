{
 "cells": [
  {
   "cell_type": "markdown",
   "metadata": {},
   "source": [
    "<div style=\"background:#E9FFF6; color:#440404; padding:8px; border-radius: 4px; text-align: center; font-weight: 500;\">IFQ619 - Data Analytics for Strategic Decision Makers (2024)</div>"
   ]
  },
  {
   "cell_type": "markdown",
   "metadata": {},
   "source": [
    "# IFQ619 :: C4 - Gen AI and unstructured data - tutorial\n",
    "\n",
    "#### Principles for using Gen AI in data analytics\n",
    "\n",
    "1. Understand new technology assumptions (e.g. level of truth) limits (e.g. non-derministic)\n",
    "2. Identify typical data patterns (e.g. common code patterns, common word patterns)\n",
    "3. Look for possibilities to enhance and augment high quality thinking (e.g. ideation, unusual patterns, connecting disconnected ideas)\n",
    "4. Avoid outsourcing decision-making and evaluative judgements (e.g. naive interpretation, unchecked classification)\n",
    "5. Understand the ethical implications of inappropriate use and qualify useage appropriately\n",
    "\n"
   ]
  },
  {
   "cell_type": "markdown",
   "metadata": {},
   "source": [
    "### Gen AI experimentation\n",
    "\n",
    "**KEY PRINCIPLE:** Use GenAI to assist with ideation and augmenting thinking. Avoid using GenAI for decision-making or evaluation.\n",
    "\n",
    "Experiment with this principle by using [ChatGPT](https://chatgpt.com) to give you suggestions for python code to do an analysis task (e.g. Ideation and augmentation). Below is a trivial example, but you can experiment with more complex examples. Run the generated code in your notebook to check if ChatGPT provided you with a helpful response (e.g. human evaluation).\n",
    "\n",
    "#### Example: read, group, visualise\n",
    "\n",
    "**PROMPT:** Write python code to import a CSV into a pandas dataframe, group by a categorical data column, and visualise with plotly express.\n",
    "\n",
    "**RESPONSE:** *(paste in the the cell below)*"
   ]
  },
  {
   "cell_type": "code",
   "execution_count": null,
   "metadata": {},
   "outputs": [],
   "source": [
    "# RESPONSE FROM CHATGPT TO TRY\n",
    "\n"
   ]
  },
  {
   "cell_type": "markdown",
   "metadata": {},
   "source": [
    "**EXPLANATION:** Did ChatGPT provide a useful description of what to do?"
   ]
  },
  {
   "cell_type": "markdown",
   "metadata": {},
   "source": [
    "### UA1 - Assignment 1 Feedback\n",
    "\n",
    "3 common mistakes in UA1 to avoid in UA2:\n",
    "1. **Not reading, understanding, and doing the assignment instructions.** For example:\n",
    "    - PART A - \"Success in this part will address criteria 3 (Basic techniques) & 4 (Verification) on the rubric, and when completed fully together with a reasonable attempt of Part B will guarantee you a minimum of a 4 for the assignment. For criteria 4, you will need to provide evidence during your tutorial and/or drop-in sessions of your understanding of how you completed Part A\"\n",
    "    - PART B - \"Success in this part will address criteria 1 (Narrative) & 2 (Investigation and Justification) on the rubric, and is essential to be completed well to get a 7 for the assignment. In this part, you will apply a full data analytics cycle to a given scenario with provided data. However, you will choose the questions that you address, the way that you approach the analysis, and the kind of visualisation. You will also be required to effectively tell the story (the narrative) how your analysis leads from questions to insights, together with the reasoning behind your decisions. Also included in an effective narrative is avoiding simple assumptions and taking an ethical nuanced approach to the data.\"\n",
    "    - \"IMPORTANT: You will NOT be assessed on the quality of your code, but you WILL be assessed on the decisions you make and why you used the code that you did.  You will be marked on (a) HOW you undertake the task todgether; with (b) detail of WHY you made various decisions involved in the tasks\"\n",
    "    - \"You should familiarise yourself with the [Advance Queensland Program and Grants](https://advance.qld.gov.au) to understand the context for the data.\"\n",
    "    - \"your task is to analyse the publicly available data on the distribution of the funds over time. You are looking for patterns that may support the \"good news\" story, or which may be a cause for concern.\"\n",
    "    - \"the insights that you draw should take into account contextual factors. You should avoid simplistic assumptions\"\n",
    "2. **Not paying attention to critical tasks.** For example:\n",
    "    - \"Identify high quality questions that when answered may be helpful in addressing the scenario above\"\n",
    "    - \"you must document your thinking and approach throughout the notebook using the Markdown cells\"\n",
    "    - \"you will apply a full data analytics cycle to a given scenario with provided data. However, you will choose the questions that you address, the way that you approach the analysis, and the kind of visualisation\"\n",
    "3. **Not reading and understanding the rubric, nor ensuring that your work is appropriate evidence.** For example:\n",
    "    - Complete part A with verification to address criteria 3 & 4\n",
    "    - To address criteria 2, complete all stages of the data analytics cycle AND effectively justify your analysis - \"detail of *WHY* you made various decisions\"\n",
    "    - To address criteria 1, effective and ethical data analytics narrative - \"high quality questions\", \"detailed insights\", HOW, WHY, WHERE (NOT WHAT!)\n"
   ]
  },
  {
   "cell_type": "markdown",
   "metadata": {},
   "source": [
    "### UA2 - Assignment 2 reminder\n",
    "\n",
    "You have 3 essential requirements that you must include:\n",
    "\n",
    "1. the analysis of unstructured data\n",
    "2. the use of one machine learning technique\n",
    "3. identification of ethical considerations relevant to the analysis\n",
    "\n",
    "Other assignment instructions which are important to keep in mind:\n",
    "\n",
    "- Identify an appropriate question (or questions) to be addressed by your overall data analytics narrative\n",
    "- Ensure that you include documentation of your thinking and decision-making using markdown cells\n",
    "- Ensure that you include appropriate visualisations, and that they support the overall narrative\n",
    "- Ensure that your insights answer your question/s and are appropriate to your narrative. \n",
    "- Ensure that your insights are consistent with the ethical considerations identified.\n",
    "- you should not repeat the analysis from assignment 1\n",
    "\n",
    "You will be graded on the following criteria:\n",
    "\n",
    "- **Criteria 3:** You need to include all 3 of the essential requirements (fully completed)\n",
    "- **Criteria 2:** You need to demonstrate understanding of computational data analysis techniques\n",
    "\n",
    "*Criteria 2 and 3 need to be fully and effectively addressed to pass the assignment*\n",
    "\n",
    "- **Criteria 1:** You need an effective narrative over the whole analysis that is meaningful, provides insight, and accounts for relevant ethical considerations\n",
    "\n",
    "*Criteria 1 requires more than just the computational analysis, and is critical for achieving a 5,6 or 7 for the task.*"
   ]
  }
 ],
 "metadata": {
  "language_info": {
   "name": "python"
  }
 },
 "nbformat": 4,
 "nbformat_minor": 2
}
