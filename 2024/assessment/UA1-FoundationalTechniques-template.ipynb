{
    "cells": [
        {
            "attachments": {},
            "cell_type": "markdown",
            "id": "6ef62cbd-2ea0-442e-973e-e50ca1e97fa2",
            "metadata": {
                "cell_name": "header_cell"
            },
            "source": [
                "<div style=\"background:#FFFFEE; color:#440404; padding:8px; border-radius: 4px; text-align: center; font-weight: 500;\">IFN619 - Data Analytics for Strategic Decision Makers (2024 Sem 1)</div>"
            ]
        },
        {
            "attachments": {},
            "cell_type": "markdown",
            "id": "ff597d6e-cdac-4d1a-b657-f6d756380ae3",
            "metadata": {
                "cell_name": "title_cell"
            },
            "source": [
                "# IFN619 :: UA1 - Assignment 1 - Foundational techniques (40%)\n",
                "\n",
                "**IMPORTANT:** Refer to the instructions in Canvas module [UA1 - Assignment 1]() *BEFORE* working on this assignment. Ensure that you are familiar with the marking rubric and understand how the grade for this assignment will be awarded according to the criteria.\n",
                "\n",
                "1. Complete and run the code cell below to display your name and student number\n",
                "2. Complete all questions in Part A (within 2 weeks) - you can get assistance from your tutor with this part.\n",
                "3. Ensure that your tutor has verified your understanding of your work in Part A (no later than week 5)\n",
                "4. Complete a full analysis for Part B. Ensure that you use the techniques and libraries/packages that have been used in class.\n",
                "5. Submit your final notebook on Canvas [UA1 - Assignment 1]()\n"
            ]
        },
        {
            "cell_type": "code",
            "execution_count": null,
            "id": "763f6f63",
            "metadata": {},
            "outputs": [],
            "source": [
                "# Complete the following cell with your details and run to produce your personalised header for this assignment\n",
                "\n",
                "from IPython.display import HTML\n",
                "\n",
                "first_name = ???\n",
                "last_name = ???\n",
                "student_number = ???\n",
                "\n",
                "personal_header = f\"<h1>{first_name} {last_name} ({student_number})</h1>\"\n",
                "HTML(personal_header)"
            ]
        },
        {
            "cell_type": "markdown",
            "id": "81caa994",
            "metadata": {},
            "source": [
                "---\n",
                "\n",
                "## Data for both Part A and Part B\n",
                "\n",
                "This assignment uses data from the Queensland Government [Open Data Portal](https://www.data.qld.gov.au). Both parts will use data on [Advance Queensland Funding Recipients](https://www.data.qld.gov.au/dataset/advance-queensland-funding-recipients). You should familiarise yourself with the [Advance Queensland Program and Grants](https://advance.qld.gov.au) to understand the context for the data. You should also refer to the `field descriptions` metadata to better understand the fields that are relevant to the `funding recipients` data."
            ]
        },
        {
            "attachments": {},
            "cell_type": "markdown",
            "id": "24fbcf4f",
            "metadata": {},
            "source": [
                "---\n",
                "## Part A\n",
                "\n",
                "**IMPORTANT** For the following task, keep a record of the dates and times where you demonstrated your understanding with your tutor. These should be AFTER you have completed the questions, and BEFORE week 5."
            ]
        },
        {
            "attachments": {},
            "cell_type": "markdown",
            "id": "10629964",
            "metadata": {},
            "source": [
                "### [Q1] Read the data\n",
                "\n",
                "- Open the CSV version of the file. Open directly from the URL into a pandas dataframe.\n",
                "- Identify an appropriate index, and make a note of the columns."
            ]
        },
        {
            "cell_type": "code",
            "execution_count": null,
            "id": "d50aaa03",
            "metadata": {},
            "outputs": [],
            "source": [
                "# Your answer here\n"
            ]
        },
        {
            "cell_type": "markdown",
            "id": "32ff170c",
            "metadata": {},
            "source": [
                "### [Q2] Group the data\n",
                "- Choose at least one category and group the data\n",
                "- Obtain an appropriate aggregate for the groups (e.g. Sum, Mean, etc)\n"
            ]
        },
        {
            "cell_type": "code",
            "execution_count": null,
            "id": "2fac393f",
            "metadata": {},
            "outputs": [],
            "source": [
                "# Your answer here"
            ]
        },
        {
            "attachments": {},
            "cell_type": "markdown",
            "id": "f247e745",
            "metadata": {},
            "source": [
                "### [Q3] Save the data\n",
                "- Transform your grouped data into a dataframe\n",
                "- Save the dataframe as a CSV file\n"
            ]
        },
        {
            "cell_type": "code",
            "execution_count": null,
            "id": "0fd535fe",
            "metadata": {},
            "outputs": [],
            "source": [
                "# Your answer here"
            ]
        },
        {
            "attachments": {},
            "cell_type": "markdown",
            "id": "24e6cee2",
            "metadata": {},
            "source": [
                "### [Q4] Visualise the data\n",
                "\t\n",
                "- Visualise the grouped data with an appropriate chart\n",
                "- Ensure X and Y axes are labelled appropriately\n",
                "- Add an appropriate title for the chart"
            ]
        },
        {
            "cell_type": "code",
            "execution_count": null,
            "id": "92a5a7fa",
            "metadata": {},
            "outputs": [],
            "source": [
                "# Your answer here"
            ]
        },
        {
            "attachments": {},
            "cell_type": "markdown",
            "id": "6b76c25f",
            "metadata": {},
            "source": [
                "### [Q5] Create new dataframes\n",
                "- Select 2 groups from a particular category and filter the data into 2 separate dataframes\n",
                "- For each dataframe group by at least one logical category with meaningful aggregates"
            ]
        },
        {
            "cell_type": "code",
            "execution_count": null,
            "id": "28782429",
            "metadata": {},
            "outputs": [],
            "source": [
                "# Your answer here"
            ]
        },
        {
            "attachments": {},
            "cell_type": "markdown",
            "id": "a5e982cc",
            "metadata": {},
            "source": [
                "### [Q6] Obtain descriptive statistics\n",
                "\t\n",
                "- Find the descriptive statistics for the funds committed for the different groups.\n",
                "- Assign the `count`, `mean`, `min`, and `max` to variables. Round the mean to a reasonable precision.\n",
                "- Use the variables to create a string which describes in words the basic descriptive statistics of the committed funds.\n",
                "- Print the constructed strings for each group"
            ]
        },
        {
            "cell_type": "code",
            "execution_count": null,
            "id": "a5e9a2a2",
            "metadata": {},
            "outputs": [],
            "source": [
                "# Your answer here\n"
            ]
        },
        {
            "attachments": {},
            "cell_type": "markdown",
            "id": "1f643185",
            "metadata": {},
            "source": [
                "### [Q7] Visualise the data\n",
                "\n",
                "- Using the plotly library, create histograms of the committed funds for the different groups\n",
                "- Set the number of bins to an appropriate value\n",
                "- Display the actual counts in the bars\n",
                "- Enhance the visualisation of the variance by including a box plot\n",
                "- Use suitable colours and add appropriate textual information"
            ]
        },
        {
            "cell_type": "markdown",
            "id": "3aa02bf2",
            "metadata": {},
            "source": []
        },
        {
            "cell_type": "markdown",
            "id": "e2bdcfc5",
            "metadata": {},
            "source": []
        },
        {
            "cell_type": "code",
            "execution_count": null,
            "id": "ff7c22a4-d8e9-4247-b870-425f856790f0",
            "metadata": {},
            "outputs": [],
            "source": [
                "# Your answer here"
            ]
        },
        {
            "attachments": {},
            "cell_type": "markdown",
            "id": "71115c60",
            "metadata": {},
            "source": [
                "---\n",
                "## Part B - creating a narrative to answer significant questions\n",
                "\n",
                "**SCENARIO:**  The allocation of public money (obtained from the public via taxes) is a politically sensitive activity with governments regularly coming under scrutiny for how this money is spent. A respected media organisation is looking into the Queensland Government's Advance Queensland program. The resulting story could be a \"good news\" story reporting on the success of the program, however if inappropriate spending or irregularities are found, it could become a story that is critical of the scheme, and potentially the Government.\n",
                "\n",
                "As a data analyst, your task is to analyse the publicly available data on the distribution of the funds over time. You are looking for patterns that may support the \"good news\" story, or which may be a cause for concern. It is up to you how deeply you explore the data, but at a minimum you should look at (a) the balance between South-East Queensland and the remainder of the state (regional Queensland); and (b) how distributions align with the objectives of the scheme which may include supporting specified groups of people. \n",
                "\n",
                "**ETHICAL APPROACH:** You are expected to be fair and ethical in your analysis, and therefore the insights that you draw should take into account contextual factors. You should avoid simplistic assumptions like assuming all groups and activities should receive equal funding. For example, disproportionate funding may be appropriate due to social circumstances or the costs involved in a particular activity. Further, benefits to Queensland may come in different forms. For example, cultural benefits cannot be directly compared to economic benefits.\n",
                "\n",
                "**ESSENTIAL REQUIREMENTS:** Your task as a data analyst is to:\n",
                "\n",
                "- Ensure that you use the techniques and libraries/packages that have been used in class\n",
                "- Identify high quality questions that when answered may be helpful in addressing the scenario above\n",
                "- Obtain the data in JSON form from the API.\n",
                "- Clean and filter the data as appropriate\n",
                "- Analyse the data in a way that answers your questions and ultimately addresses the concern in the scenario\n",
                "- Visualise your results in a meaningful way that is helpful in making visible key findings\n",
                "- Provide a detailed summary of the insights found and how they address the original questions and scenario\n",
                "\n",
                "**AUTHENTICITY AND INTEGRITY**: You will be marked on (a) *HOW* you undertake the task todgether; with (b) detail of *WHY* you made various decisions involved in the tasks; and (c) acknowledgement of **WHERE** you  used material that is not directly yours. Therefore, you must document your thinking and approach throughout the notebook using the Markdown cells, and give credit to other resources as appropriate. You are encouraged to use the `Exemplars` PDF to help write your code. You may use online resources including `GenAI tools` and `stackoverflow` to help you write your code, however you must acknowledge that you are using these resources in the markdown cells explaining your analysis. Note that you do not need to use formal referencing for this.\n",
                "\n",
                "---\n"
            ]
        },
        {
            "cell_type": "markdown",
            "id": "79ad50e9",
            "metadata": {},
            "source": [
                "<<<< INSERT CELLS BELOW >>>>"
            ]
        }
    ],
    "metadata": {
        "creation_period": "",
        "kernelspec": {
            "display_name": "base",
            "language": "python",
            "name": "python3"
        },
        "language_info": {
            "codemirror_mode": {
                "name": "ipython",
                "version": 3
            },
            "file_extension": ".py",
            "mimetype": "text/x-python",
            "name": "python",
            "nbconvert_exporter": "python",
            "pygments_lexer": "ipython3",
            "version": "3.10.8"
        },
        "nb_name": "template",
        "qut": {
            "creation_period": "2023_sem1",
            "nb_name": "template-assignment1",
            "unit_code": "IFN619"
        },
        "unit_code": "",
        "vscode": {
            "interpreter": {
                "hash": "d4d1e4263499bec80672ea0156c357c1ee493ec2b1c70f0acce89fc37c4a6abe"
            }
        }
    },
    "nbformat": 4,
    "nbformat_minor": 5
}
