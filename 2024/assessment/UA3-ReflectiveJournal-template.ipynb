{
 "cells": [
  {
   "cell_type": "markdown",
   "metadata": {},
   "source": [
    "# IFN619 Assessment 3 - Reflective Journal\n",
    "\n",
    "### Instructions\n",
    "\n",
    "1. Add your name and student number and run the cell below\n",
    "2. Change the name of this file to the format: **A3-studentNumber-full_Name.ipynb**\n",
    "3. Throughout the semester add regular reflections in **Part A**. Run the date and time cells for each reflection to record the current date and time.\n",
    "4. Include in **Part A**, supporting evidence\n",
    "5. At the conclusion of the semester write your reflective journal in **Part B**. Ensure that you follow the instructions on Canvas and include 3 threads (Experience, Personal, Learning). This part should be approximately 2-3 pages long when exported to PDF.\n",
    "6. Export this notebook as a PDF file - make sure it is named in the format: **A3-studentNumber-full_Name.pdf**\n",
    "7. Submit the exported PDF file to Canvas."
   ]
  },
  {
   "cell_type": "code",
   "execution_count": null,
   "metadata": {},
   "outputs": [],
   "source": [
    "# Complete the following cell with your details and run to produce your personalised header for this assignment\n",
    "\n",
    "import time\n",
    "from IPython.display import display, HTML\n",
    "\n",
    "first_name = ???\n",
    "last_name = ???\n",
    "student_number = ???\n",
    "\n",
    "personal_header = \"<h1>\"+first_name+\" \"+last_name+\" (\"+student_number+\")</h1>\"\n",
    "display(HTML(personal_header))"
   ]
  },
  {
   "cell_type": "markdown",
   "metadata": {},
   "source": [
    "---\n",
    "\n",
    "## PART A - Records of regular reflection and supporting evidence"
   ]
  },
  {
   "cell_type": "code",
   "execution_count": null,
   "metadata": {},
   "outputs": [],
   "source": [
    "# run this cell when you complete a reflection\n",
    "display(HTML(f\"<h3>Regular reflection date: {time.strftime('%Y.%m.%d')}</h3>\"))"
   ]
  },
  {
   "cell_type": "markdown",
   "metadata": {},
   "source": [
    "### Regular Reflection\n",
    "\n",
    "\n",
    "\n",
    "### Supporting evidence\n",
    "\n"
   ]
  },
  {
   "cell_type": "code",
   "execution_count": null,
   "metadata": {},
   "outputs": [],
   "source": [
    "# run this cell when you complete a reflection\n",
    "display(HTML(f\"<h3>Regular reflection date: {time.strftime('%Y.%m.%d')}</h3>\"))"
   ]
  },
  {
   "cell_type": "markdown",
   "metadata": {},
   "source": [
    "### Regular Reflection\n",
    "\n",
    "\n",
    "\n",
    "### Supporting evidence\n",
    "\n"
   ]
  },
  {
   "cell_type": "code",
   "execution_count": null,
   "metadata": {},
   "outputs": [],
   "source": [
    "# run this cell when you complete a reflection\n",
    "display(HTML(f\"<h3>Regular reflection date: {time.strftime('%Y.%m.%d')}</h3>\"))"
   ]
  },
  {
   "cell_type": "markdown",
   "metadata": {},
   "source": [
    "### Regular Reflection\n",
    "\n",
    "\n",
    "\n",
    "### Supporting evidence\n",
    "\n"
   ]
  },
  {
   "cell_type": "code",
   "execution_count": null,
   "metadata": {},
   "outputs": [],
   "source": [
    "# run this cell when you complete a reflection\n",
    "display(HTML(f\"<h3>Regular reflection date: {time.strftime('%Y.%m.%d')}</h3>\"))"
   ]
  },
  {
   "cell_type": "markdown",
   "metadata": {},
   "source": [
    "### Regular Reflection\n",
    "\n",
    "\n",
    "\n",
    "### Supporting evidence\n",
    "\n"
   ]
  },
  {
   "cell_type": "code",
   "execution_count": null,
   "metadata": {},
   "outputs": [],
   "source": [
    "# run this cell when you complete a reflection\n",
    "display(HTML(f\"<h3>Regular reflection date: {time.strftime('%Y.%m.%d')}</h3>\"))"
   ]
  },
  {
   "cell_type": "markdown",
   "metadata": {},
   "source": [
    "### Regular Reflection\n",
    "\n",
    "\n",
    "\n",
    "### Supporting evidence\n",
    "\n"
   ]
  },
  {
   "cell_type": "code",
   "execution_count": null,
   "metadata": {},
   "outputs": [],
   "source": [
    "# run this cell when you complete a reflection\n",
    "display(HTML(f\"<h3>Regular reflection date: {time.strftime('%Y.%m.%d')}</h3>\"))"
   ]
  },
  {
   "cell_type": "markdown",
   "metadata": {},
   "source": [
    "### Regular Reflection\n",
    "\n",
    "\n",
    "\n",
    "### Supporting evidence\n",
    "\n"
   ]
  },
  {
   "cell_type": "code",
   "execution_count": null,
   "metadata": {},
   "outputs": [],
   "source": [
    "# run this cell when you complete a reflection\n",
    "display(HTML(f\"<h3>Regular reflection date: {time.strftime('%Y.%m.%d')}</h3>\"))"
   ]
  },
  {
   "cell_type": "markdown",
   "metadata": {},
   "source": [
    "### Regular Reflection\n",
    "\n",
    "\n",
    "\n",
    "### Supporting evidence\n",
    "\n"
   ]
  },
  {
   "cell_type": "code",
   "execution_count": null,
   "metadata": {},
   "outputs": [],
   "source": [
    "# run this cell when you complete a reflection\n",
    "display(HTML(f\"<h3>Regular reflection date: {time.strftime('%Y.%m.%d')}</h3>\"))"
   ]
  },
  {
   "cell_type": "markdown",
   "metadata": {},
   "source": [
    "### Regular Reflection\n",
    "\n",
    "\n",
    "\n",
    "### Supporting evidence\n",
    "\n"
   ]
  },
  {
   "cell_type": "code",
   "execution_count": null,
   "metadata": {},
   "outputs": [],
   "source": [
    "# run this cell when you complete a reflection\n",
    "display(HTML(f\"<h3>Regular reflection date: {time.strftime('%Y.%m.%d')}</h3>\"))"
   ]
  },
  {
   "cell_type": "markdown",
   "metadata": {},
   "source": [
    "### Regular Reflection\n",
    "\n",
    "\n",
    "\n",
    "### Supporting evidence\n",
    "\n"
   ]
  },
  {
   "cell_type": "code",
   "execution_count": null,
   "metadata": {},
   "outputs": [],
   "source": [
    "# run this cell when you complete a reflection\n",
    "display(HTML(f\"<h3>Regular reflection date: {time.strftime('%Y.%m.%d')}</h3>\"))"
   ]
  },
  {
   "cell_type": "markdown",
   "metadata": {},
   "source": [
    "### Regular Reflection\n",
    "\n",
    "\n",
    "\n",
    "### Supporting evidence\n",
    "\n"
   ]
  },
  {
   "cell_type": "code",
   "execution_count": null,
   "metadata": {},
   "outputs": [],
   "source": [
    "# run this cell when you complete a reflection\n",
    "display(HTML(f\"<h3>Regular reflection date: {time.strftime('%Y.%m.%d')}</h3>\"))"
   ]
  },
  {
   "cell_type": "markdown",
   "metadata": {},
   "source": [
    "### Regular Reflection\n",
    "\n",
    "\n",
    "\n",
    "### Supporting evidence\n",
    "\n"
   ]
  },
  {
   "cell_type": "code",
   "execution_count": null,
   "metadata": {},
   "outputs": [],
   "source": [
    "# run this cell when you complete a reflection\n",
    "display(HTML(f\"<h3>Regular reflection date: {time.strftime('%Y.%m.%d')}</h3>\"))"
   ]
  },
  {
   "cell_type": "markdown",
   "metadata": {},
   "source": [
    "### Regular Reflection\n",
    "\n",
    "\n",
    "\n",
    "### Supporting evidence\n",
    "\n"
   ]
  },
  {
   "cell_type": "markdown",
   "metadata": {},
   "source": [
    "---\n",
    "\n",
    "## PART B - Reflective Journal\n",
    "\n",
    "*Write your final reflective journal in the next cell (using markdown). This part should be 2-3 pages long when exported as PDF.*\n",
    "\n",
    "---"
   ]
  },
  {
   "cell_type": "markdown",
   "metadata": {},
   "source": []
  }
 ],
 "metadata": {
  "kernelspec": {
   "display_name": "Python 3",
   "language": "python",
   "name": "python3"
  },
  "language_info": {
   "codemirror_mode": {
    "name": "ipython",
    "version": 3
   },
   "file_extension": ".py",
   "mimetype": "text/x-python",
   "name": "python",
   "nbconvert_exporter": "python",
   "pygments_lexer": "ipython3",
   "version": "3.10.10"
  }
 },
 "nbformat": 4,
 "nbformat_minor": 2
}
