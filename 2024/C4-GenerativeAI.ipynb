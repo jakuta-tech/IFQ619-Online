{
 "cells": [
  {
   "cell_type": "markdown",
   "metadata": {},
   "source": [
    "<div style=\"background:#E9FFF6; color:#440404; padding:8px; border-radius: 4px; text-align: center; font-weight: 500;\">IFQ619 - Data Analytics for Strategic Decision Makers (2024 Sem 1)</div>"
   ]
  },
  {
   "cell_type": "markdown",
   "metadata": {},
   "source": [
    "### UA1 - Assignment 1 Feedback\n",
    "\n",
    "3 common mistakes in UA1 to avoid in UA2:\n",
    "1. **Not reading, understanding, and doing the assignment instructions.** For example:\n",
    "    - PART A - \"Success in this part will address criteria 3 (Basic techniques) & 4 (Verification) on the rubric, and when completed fully together with a reasonable attempt of Part B will guarantee you a minimum of a 4 for the assignment. For criteria 4, you will need to provide evidence during your tutorial and/or drop-in sessions of your understanding of how you completed Part A\"\n",
    "    - PART B - \"Success in this part will address criteria 1 (Narrative) & 2 (Investigation and Justification) on the rubric, and is essential to be completed well to get a 7 for the assignment. In this part, you will apply a full data analytics cycle to a given scenario with provided data. However, you will choose the questions that you address, the way that you approach the analysis, and the kind of visualisation. You will also be required to effectively tell the story (the narrative) how your analysis leads from questions to insights, together with the reasoning behind your decisions. Also included in an effective narrative is avoiding simple assumptions and taking an ethical nuanced approach to the data.\"\n",
    "    - \"IMPORTANT: You will NOT be assessed on the quality of your code, but you WILL be assessed on the decisions you make and why you used the code that you did.  You will be marked on (a) HOW you undertake the task todgether; with (b) detail of WHY you made various decisions involved in the tasks\"\n",
    "    - \"You should familiarise yourself with the [Advance Queensland Program and Grants](https://advance.qld.gov.au) to understand the context for the data.\"\n",
    "    - \"your task is to analyse the publicly available data on the distribution of the funds over time. You are looking for patterns that may support the \"good news\" story, or which may be a cause for concern.\"\n",
    "    - \"the insights that you draw should take into account contextual factors. You should avoid simplistic assumptions\"\n",
    "2. **Not paying attention to critical tasks.** For example:\n",
    "    - \"Identify high quality questions that when answered may be helpful in addressing the scenario above\"\n",
    "    - \"you must document your thinking and approach throughout the notebook using the Markdown cells\"\n",
    "    - \"you will apply a full data analytics cycle to a given scenario with provided data. However, you will choose the questions that you address, the way that you approach the analysis, and the kind of visualisation\"\n",
    "3. **Not reading and understanding the rubric, nor ensuring that your work is appropriate evidence.** For example:\n",
    "    - Complete part A with verification to address criteria 3 & 4\n",
    "    - To address criteria 2, complete all stages of the data analytics cycle AND effectively justify your analysis - \"detail of *WHY* you made various decisions\"\n",
    "    - To address criteria 1, effective and ethical data analytics narrative - \"high quality questions\", \"detailed insights\", HOW, WHY, WHERE (NOT WHAT!)"
   ]
  },
  {
   "cell_type": "markdown",
   "metadata": {},
   "source": [
    "# IFQ619 :: C4 - Gen AI and unstructured data\n",
    "\n",
    "1. What is GenAI?\n",
    "2. What is the current state of the field?\n",
    "3. Example of GenAI and unstructured data\n",
    "4. Principles for using GenAI in data analytics"
   ]
  },
  {
   "cell_type": "markdown",
   "metadata": {},
   "source": [
    "## What is GenAI?\n",
    "\n",
    "[Wikipedia: Generative artificial intelligence](https://en.wikipedia.org/wiki/Generative_artificial_intelligence)\n",
    "> Generative artificial intelligence (generative AI, GenAI, or GAI) is artificial intelligence capable of generating text, images, videos, or other data using generative models, often in response to prompts. Generative AI models learn the patterns and structure of their input training data and then generate new data that has similar characteristics.\n",
    "\n",
    "[What is GPT?](https://aws.amazon.com/what-is/gpt/)\n",
    "> Generative Pre-trained Transformers, commonly known as GPT, are a family of neural network models that uses the transformer architecture and is a key advancement in artificial intelligence (AI) powering generative AI applications such as ChatGPT. GPT models give applications the ability to create human-like text and content (images, music, and more), and answer questions in a conversational manner. Organizations across industries are using GPT models and generative AI for Q&A bots, text summarization, content generation, and search.\n",
    "\n",
    "[A Timeline of Large Language Model Innovation](https://synthedia.substack.com/p/a-timeline-of-large-language-model) - Bret Kinsella, Synthedia (Sep 06, 2023)"
   ]
  },
  {
   "cell_type": "markdown",
   "metadata": {},
   "source": [
    "## What is the current* state of the field?\n",
    "*\\*Note: This content was selected in the last week and it's probably already out of date*\n",
    "\n",
    "[8 Charts that Explain Enterprise Generative AI Adoption in 2024](https://synthedia.substack.com/p/8-charts-that-explain-enterprise) - Bret Kinsella, Synthedia (Apr 16, 2024)\n",
    "\n",
    "<img src=\"https://substackcdn.com/image/fetch/f_auto,q_auto:good,fl_progressive:steep/https%3A%2F%2Fsubstack-post-media.s3.amazonaws.com%2Fpublic%2Fimages%2Fdd5a3b20-f240-458f-ad60-6770d1ca07b3_1200x569.png\" width=\"600px\"></img>\n",
    "\n"
   ]
  },
  {
   "cell_type": "markdown",
   "metadata": {},
   "source": [
    "[Generative AI in Entertainment Framework and Landscape](https://synthedia.substack.com/p/generative-ai-in-entertainment-framework?utm_source=substack&utm_medium=email) - Bret Kinsella, Synthedia (Apr 30, 2024)\n",
    "\n",
    "<img src=\"https://substackcdn.com/image/fetch/w_1300,h_650,c_fill,f_auto,q_auto:good,fl_progressive:steep,g_auto/https%3A%2F%2Fsubstack-post-media.s3.amazonaws.com%2Fpublic%2Fimages%2Fc4454982-a725-42ef-832a-8a51e01905d5_1920x1080.png\" width=\"600px\"><img>\n",
    "\n"
   ]
  },
  {
   "cell_type": "markdown",
   "metadata": {},
   "source": [
    "### Is GenAI heading towards AGI?\n",
    "\n",
    ">“Whether we burn $500 million a year or $5 billion or $50 billion a year, I don’t care. I genuinely don’t as long as we can stay on a trajectory where eventually we create way more value for society than that.\n",
    "“And as long as we can figure out a way to pay the bills — like we’re making AGI, it’s gonna be expensive, it’s totally worth it.” (Sam Altman, CEO OpenAI)\n",
    "\n",
    "[Sam Altman’s Stanford University Talk on AGI: 5 Things We Learned](https://www.techopedia.com/news/sam-altman-stanford-university-talk-on-agi-5-things-we-learned) - Tim Keary, Technopedia (4 May 2024)\n",
    "\n",
    "[4 Shortcomings of Large Language Models - Yan LeCun, Research, and AGI](https://synthedia.substack.com/p/4-shortcomings-of-large-language?utm_source=substack) - Bret Kinsella, Synthedia (Apr 08, 2024)\n",
    "\n",
    "> Yan LeCun, Meta’s top AI scientist and Turing Award winner, recently laid out four reasons why the current crop of LLM architectures is not likely to reach the goal of artificial general intelligence (AGI).\n",
    "\n",
    "[Humans versus Machines: The Hallucination Edition](https://garymarcus.substack.com/p/humans-versus-machines-the-hallucination)\n",
    "\n",
    "> The field of AI will eventually do better, but probably with an AI that is structured differently, in which facts are first-class citizens, rather than something you hope you might get for free with enough data.\n",
    "\n"
   ]
  },
  {
   "cell_type": "markdown",
   "metadata": {},
   "source": [
    "## Example of GenAI and unstructured data\n",
    "\n",
    "***See recording of this week's lecture for example***"
   ]
  },
  {
   "cell_type": "markdown",
   "metadata": {},
   "source": [
    "## Principles for using GenAI in data analytics\n",
    "\n",
    "1. Understand new technology assumptions (e.g. level of truth) limits (e.g. non-derministic)\n",
    "2. Identify typical data patterns (e.g. common code patterns, common word patterns)\n",
    "3. Look for possibilities to enhance and augment high quality thinking (e.g. ideation, unusual patterns, connecting disconnected ideas)\n",
    "4. Avoid outsourcing decision-making and evaluative judgements (e.g. naive interpretation, unchecked classification)\n",
    "5. Understand the ethical implications of inappropriate use and qualify useage appropriately\n"
   ]
  },
  {
   "cell_type": "code",
   "execution_count": null,
   "metadata": {},
   "outputs": [],
   "source": []
  }
 ],
 "metadata": {
  "language_info": {
   "name": "python"
  }
 },
 "nbformat": 4,
 "nbformat_minor": 2
}
