{
    "cells": [
        {
            "cell_type": "markdown",
            "id": "6075ee20-3f59-4828-8455-a739ef016bdc",
            "metadata": {
                "cell_name": "header_cell"
            },
            "source": [
                "<div style=\"background:#E9FFF6; color:#440404; padding:8px; border-radius: 4px; text-align: center; font-weight: 500;\">IFN619 - Data Analytics for Strategic Decision Makers (2024 Sem 1)</div>"
            ]
        },
        {
            "attachments": {},
            "cell_type": "markdown",
            "id": "e156461d-7f52-4da6-a33f-bc4e3f77279b",
            "metadata": {
                "cell_name": "title_cell"
            },
            "source": [
                "# IFN619 :: B1-DataStructures"
            ]
        },
        {
            "cell_type": "markdown",
            "id": "1ac4e1b4",
            "metadata": {},
            "source": [
                "### Why consider structure in data?"
            ]
        },
        {
            "cell_type": "markdown",
            "id": "c71e499d",
            "metadata": {},
            "source": [
                "Structure in data helps us make meaning from that data and to be consistent and precise in using it.\n",
                "\n",
                "When data is structured, then we can program computational systems to compute using that data as long as the data adheres to the defined structure."
            ]
        },
        {
            "cell_type": "markdown",
            "id": "2e9ed243",
            "metadata": {},
            "source": [
                "### Structured data\n",
                "\n",
                "For example, the idea of a spreadsheet allows us to make infer relationships between the cells based on rows and columns. This was possible with even the very first spreadsheets.\n",
                "\n",
                "<a title=\"By User:Gortu (apple2history.org) [Public domain], via Wikimedia Commons\" href=\"https://commons.wikimedia.org/wiki/File%3AVisicalc.png\"><img width=\"512\" alt=\"Visicalc\" src=\"https://upload.wikimedia.org/wikipedia/commons/7/7a/Visicalc.png\"/></a>\n",
                "\n",
                "*By User:Gortu (apple2history.org) \\[Public domain\\], via Wikimedia Commons*\n"
            ]
        },
        {
            "cell_type": "markdown",
            "id": "8b7c5092",
            "metadata": {},
            "source": [
                "Even in this very simple example, we can make sense of this data, and because of the structure, the computer can work with the data, like calculating the costs for each row, calculating a subtotal, the tax, and the total. If the data in this spreadsheet was unstructured (for example written on a piece of paper), the computer would not be able to work with it."
            ]
        },
        {
            "cell_type": "markdown",
            "id": "8220ff41",
            "metadata": {},
            "source": [
                "Most structured data today is found in relational datatabase management systems (RDBMS), or commonly just refered to as databases. The structure is one of tables (like a spreadsheet) and relationships between them, but relating particular fields or columns in one table with those in another.\n",
                "\n",
                "<a data-flickr-embed=\"true\"  href=\"https://www.flickr.com/photos/14804582@N08/2111269218\" title=\"database schema\"><img src=\"https://farm3.staticflickr.com/2129/2111269218_950cf23a03_b.jpg\" width=\"1024\" height=\"953\" alt=\"database schema\"></a><script async src=\"//embedr.flickr.com/assets/client-code.js\" charset=\"utf-8\"></script>\n"
            ]
        },
        {
            "cell_type": "markdown",
            "id": "30c165a7",
            "metadata": {},
            "source": [
                "But these are not the only kinds of data structuring. Structured data is basically when the organisation of the data is pre-defined so that certain data is associated with certain labels.\n",
                "\n",
                "<p><a href=\"https://commons.wikimedia.org/wiki/File:Database_models.jpg#/media/File:Database_models.jpg\"><img src=\"https://upload.wikimedia.org/wikipedia/commons/thumb/3/3b/Database_models.jpg/1200px-Database_models.jpg\" alt=\"Database models.jpg\"></a><br>By <a href=\"//commons.wikimedia.org/wiki/User:Mdd\" title=\"User:Mdd\">Marcel Douwe Dekker</a> - <span class=\"int-own-work\" lang=\"en\">Own work</span>, <a href=\"https://creativecommons.org/licenses/by-sa/3.0\" title=\"Creative Commons Attribution-Share Alike 3.0\">CC BY-SA 3.0</a>, <a href=\"https://commons.wikimedia.org/w/index.php?curid=5679857\">Link</a></p>"
            ]
        },
        {
            "attachments": {},
            "cell_type": "markdown",
            "id": "a0ffc26d",
            "metadata": {},
            "source": [
                "### Working with structured data\n",
                "\n",
                "We will work with structured data by mostly reading it from a file into a dataframe. One of the most common files for holding structured tabular data is the comma separated value (CSV) file. A spreadsheet table or a database table can be saved as a CSV file, which we can then import into a pandas dataframe. If you'd like more information on Pandas, try the [10 minutes to pandas](https://pandas.pydata.org/pandas-docs/version/2.1/user_guide/10min.html) tutorial.\n",
                "\n",
                "For the following example, we're going to use open data from [data.gov.au](https://data.gov.au) for [2016 SoE Biodiversity Cumulative historical extinctions of Australian mammal species](https://data.gov.au/data/dataset/2016-soe-biodiversity-cumulative-number-of-extinct-mammal-species). If you're interested, you can read about the data in [Terrestrial plant and animal species: Mammals](https://soe.environment.gov.au/theme/biodiversity/topic/2016/terrestrial-plant-and-animal-species-mammals#biodiversity-figure-BIO19)\n",
                "\n",
                "Previously, we have read data into pandas from a file. But pandas also allows us to load data from a URL. Before completing the code below, take a look at the data by opening the URL in your browser. Take a note of which column might be appropriate for the index of the dataframe.\n",
                "\n",
                "[https://data.gov.au/dataset/c02731e8-5327-4720-bbc7-1fe67350a569/resource/8339c2b4-c763-4c50-a647-63935537453c/download/cumulative-number-of-extinct-mammal-species.csv](https://data.gov.au/dataset/c02731e8-5327-4720-bbc7-1fe67350a569/resource/8339c2b4-c763-4c50-a647-63935537453c/download/cumulative-number-of-extinct-mammal-species.csv)"
            ]
        },
        {
            "attachments": {},
            "cell_type": "markdown",
            "id": "2eaa4edf",
            "metadata": {},
            "source": [
                "#### Reading data from a URL"
            ]
        },
        {
            "cell_type": "code",
            "execution_count": null,
            "id": "0a57ea64",
            "metadata": {
                "scrolled": true
            },
            "outputs": [],
            "source": [
                "# To use pandas, we need to import it (normally as 'pd')\n",
                "import ??? as pd\n",
                "\n",
                "# We can then open a CSV file into a new dataframe\n",
                "extinct_mammals_url = ???\n",
                "exmam_df = pd.read_csv(extinct_mammals_url,index_col=???)\n",
                "\n",
                "# view the dataframe\n",
                "exmam_df"
            ]
        },
        {
            "attachments": {},
            "cell_type": "markdown",
            "id": "ece5abaf",
            "metadata": {},
            "source": [
                "### Saving (writing) data to a file\n",
                "\n",
                "Pandas allows us to write a dataframe to a local file with the function `to_csv()`. This can be used in a way that is similar to reading a CSV into a dataframe."
            ]
        },
        {
            "cell_type": "code",
            "execution_count": null,
            "id": "01eaab6a",
            "metadata": {},
            "outputs": [],
            "source": [
                "# We can save our dataframe to use later\n",
                "file_name = \"extinct_aus_mammals.csv\"\n",
                "path = \"data\"\n",
                "exmam_df.to_csv(f\"{??}/{???}\")\n"
            ]
        },
        {
            "cell_type": "code",
            "execution_count": null,
            "id": "cbff1eef",
            "metadata": {
                "scrolled": true
            },
            "outputs": [],
            "source": [
                "# The saved version can be loaded in the same way as the original URL\n",
                "# We have already declared the path and file_name variables in the previous string\n",
                "\n",
                "exmam_file_df = pd.???(f\"{path}/{file_name}\")\n",
                "exmam_file_df"
            ]
        },
        {
            "attachments": {},
            "cell_type": "markdown",
            "id": "34586e9e",
            "metadata": {},
            "source": [
                "#### Reading and writing different formats\n",
                "\n",
                "We can also read and write structured data formats different to CSV. Excel is a common spreadsheet format for structured data. Jupyter allows us to read and write excel files with the functions `read_excel()` and `to_excel()`.\n",
                "\n",
                "Try writing the data above to excel format and then downloading it to your local computer and opening it with Excel. You might also try reading in an excel file that you upload from your local computer.\n",
                "\n",
                "What other formats does pandas *read* and *write*? (TIP: Type `pandas.to` and then the `tab` key to bring up a menu of suggestions.)"
            ]
        },
        {
            "cell_type": "code",
            "execution_count": null,
            "id": "5eb5adec",
            "metadata": {},
            "outputs": [],
            "source": [
                "# Make sure the file extension .xlsx matches the save format\n",
                "# The old excel format of .xls does not work with the current version of pandas!\n",
                "\n",
                "excel_file = \"extinct_aus_mammals.xlsx\" # <---- note .xlsx\n",
                "exmam_file_df.to_excel(f\"{path}/{???}\")"
            ]
        },
        {
            "attachments": {},
            "cell_type": "markdown",
            "id": "745a63c4",
            "metadata": {},
            "source": [
                "To avoid writing the (new) index to the excel file, use the option: `index=False`"
            ]
        },
        {
            "cell_type": "code",
            "execution_count": null,
            "id": "a89915b8",
            "metadata": {},
            "outputs": [],
            "source": [
                "exmam_file_df.to_excel(f\"{path}/{excel_file}\",???)"
            ]
        },
        {
            "cell_type": "code",
            "execution_count": null,
            "id": "8a76722c",
            "metadata": {},
            "outputs": [],
            "source": [
                "exmam_excel_df = pd.read_excel(f\"{path}/{excel_file}\",???=\"Decade\")\n",
                "exmam_excel_df"
            ]
        },
        {
            "cell_type": "markdown",
            "id": "431a42d2",
            "metadata": {
                "tags": []
            },
            "source": [
                "### Unstructured data\n",
                "\n",
                "Humans can make meaning from data without necessarily having pre-defined structure. In fact we frequently use very ill-defined structures to organise and communicate our thinking. We are also adept at creating these kinds of structures as required, in the moment, rather than requiring the data be structured before we can make sense of it.\n",
                "\n",
                "<p><a href=\"https://commons.wikimedia.org/wiki/File:Coggle_Document.png#/media/File:Coggle_Document.png\"><img src=\"https://upload.wikimedia.org/wikipedia/commons/1/19/Coggle_Document.png\" alt=\"Coggle Document.png\"></a><br>By <a href=\"https://en.wikipedia.org/wiki/User:Lurched95\" class=\"extiw\" title=\"en:User:Lurched95\">User:Lurched95</a>, <a href=\"https://creativecommons.org/licenses/by-sa/3.0\" title=\"Creative Commons Attribution-Share Alike 3.0\">CC BY-SA 3.0</a>, <a href=\"https://commons.wikimedia.org/w/index.php?curid=33923406\">Link</a></p>\n"
            ]
        },
        {
            "cell_type": "markdown",
            "id": "80d99c67",
            "metadata": {},
            "source": [
                "Computers are not so adept, so complex in the moment sense-making tasks on unstructured data are often easy for humans but very challenging for computers.\n",
                "\n",
                "<img src=\"https://static.boredpanda.com/blog/wp-content/uploads/2016/03/dog-food-comparison-bagel-muffin-lookalike-teenybiscuit-karen-zack-5__700.jpg\">\n",
                "\n",
                "[Puppies or Food (boredpanda.com March 2016)](https://www.boredpanda.com/dog-food-comparison-bagel-muffin-lookalike-teenybiscuit-karen-zack/)"
            ]
        },
        {
            "cell_type": "markdown",
            "id": "ac641763",
            "metadata": {},
            "source": [
                "### Kinds of structuring of data\n",
                "\n",
                "In order for us to perform data analysis on unstructured data, we will usually need to do some structuring of it, and this frequently results in semi-structured data. \n",
                "\n",
                "The 3 different kinds of structuring can be summarised as:\n",
                "\n",
                "* **Structured** $\\Rightarrow$ when the structure is pre-defined\n",
                "* **Structured** $\\Rightarrow$ is almost synonymous with 'stored in a RDMS', but can also exist in other software\n",
                "* **Unstructured** $\\leadsto$ when there is no pre-defined structure, or can't easily be conformed to a structure\n",
                "* **Unstructured** $\\leadsto$ commonly raw text, but also images, video, audio\n",
                "* **Unstructured** $\\leadsto$ can appear to have some kind of structure, but often that appearence is derived from our understanding, not from the data itself\n",
                "* **Semi-structured** $\\rightarrow$ the data can be stored in defined structure, but the actual instance of the structure is not predefined"
            ]
        },
        {
            "cell_type": "markdown",
            "id": "28cbfcc8",
            "metadata": {},
            "source": [
                "### Semi-structured data\n",
                "\n",
                "Semi-structured data is a lot more prevalent than structured data, but the computational tools are not as mature as structured data tools. Most semi-structured data tools have come about with the advent of the internet and then social media."
            ]
        },
        {
            "attachments": {},
            "cell_type": "markdown",
            "id": "e9a9bb22",
            "metadata": {},
            "source": [
                "### Working with semi-structured data\n",
                "\n",
                "We will work with semi-structured data mostly by:\n",
                "1. creating it from plain text which is read from a file, or\n",
                "2. importing the data from a `JSON` file.\n",
                "\n",
                "*JSON* is a way of labelling data, but without requiring all data to be the same or without requiring the structure to be fixed in advance.\n",
                "\n",
                "\n"
            ]
        },
        {
            "cell_type": "markdown",
            "id": "63651263",
            "metadata": {},
            "source": [
                "#### Reading plain text files"
            ]
        },
        {
            "cell_type": "code",
            "execution_count": null,
            "id": "d24cb750",
            "metadata": {},
            "outputs": [],
            "source": [
                "# Read in a plain text file\n",
                "with open(f\"{path}/{file_name}\", 'r') as fp:\n",
                "    exmam_text = fp.???\n",
                "\n",
                "# Print the string that was read from the file\n",
                "print(???)"
            ]
        },
        {
            "cell_type": "code",
            "execution_count": null,
            "id": "12eac510",
            "metadata": {},
            "outputs": [],
            "source": [
                "# What does the actual string look like (not formatted)\n",
                "exmam_text"
            ]
        },
        {
            "cell_type": "code",
            "execution_count": null,
            "id": "36fd9c5f",
            "metadata": {},
            "outputs": [],
            "source": [
                "# We can read the text in a semi-structured format by taking advantage of the lines in the file\n",
                "with open(f\"{path}/{file_name}\", 'r') as fp:\n",
                "    exmam_lines = fp.???\n",
                "\n",
                "print(???)"
            ]
        },
        {
            "cell_type": "code",
            "execution_count": null,
            "id": "b8473cf2",
            "metadata": {},
            "outputs": [],
            "source": [
                "# Show the list that was read from the file\n",
                "???"
            ]
        },
        {
            "attachments": {},
            "cell_type": "markdown",
            "id": "9e7faacd",
            "metadata": {},
            "source": [
                "In each of these examples, notice that we have `\\n` newline characters in the data. This is because Python is keeping all of the data from the original file including the characters that specify the end of a line of text.\n",
                "\n",
                "A way to import the data *without* this character is to split the lines using the string `.split()` function after reading in the text as a single string."
            ]
        },
        {
            "cell_type": "code",
            "execution_count": null,
            "id": "018df77d",
            "metadata": {},
            "outputs": [],
            "source": [
                "# We can also create the list, by splitting the original string\n",
                "lines = exmam_text.split(???)\n",
                "\n",
                "# view the list\n",
                "???"
            ]
        },
        {
            "attachments": {},
            "cell_type": "markdown",
            "id": "98cd038d",
            "metadata": {},
            "source": [
                "Now each line of the file is an element in the list and the `\\n` characters have been removed. \n",
                "\n",
                "However, because each line includes 2 data points, we can split each line. This creates a list of lists which gives us a structure similar to a dataframe."
            ]
        },
        {
            "cell_type": "code",
            "execution_count": null,
            "id": "f28723d1",
            "metadata": {},
            "outputs": [],
            "source": [
                "# We can also create the list, by splitting the original string\n",
                "lines = exmam_text.split('\\n')\n",
                "\n",
                "# view the list\n",
                "for line in lines:\n",
                "    data_points = line.split(???)\n",
                "    print(data_points)"
            ]
        },
        {
            "attachments": {},
            "cell_type": "markdown",
            "id": "3cb934f8",
            "metadata": {},
            "source": [
                "Notice that the data is not `clean`. Think about ways that we might be able to fix this."
            ]
        },
        {
            "attachments": {},
            "cell_type": "markdown",
            "id": "5f91ac11",
            "metadata": {},
            "source": [
                "#### Reading JSON\n",
                "\n",
                "JSON is a very common file format for semi-structured data. To read this format we open the file as before, but we use the `json` library to help load the data into a Python dictionary or `dict` structure."
            ]
        },
        {
            "cell_type": "code",
            "execution_count": null,
            "id": "49e11d43",
            "metadata": {},
            "outputs": [],
            "source": [
                "# We need the JSON library\n",
                "import json"
            ]
        },
        {
            "cell_type": "code",
            "execution_count": null,
            "id": "2880b905",
            "metadata": {},
            "outputs": [],
            "source": [
                "# Read a JSON file like text, but with conversion to python dictionary\n",
                "json_file_name = \"simple_json_file.json\"\n",
                "path = \"data\"\n",
                "\n",
                "with open(f\"{path}/{json_file_name}\", ???) as file:\n",
                "    json_data = json.load(file)\n",
                "\n",
                "# print the loaded data\n",
                "print(???)"
            ]
        },
        {
            "cell_type": "code",
            "execution_count": null,
            "id": "414eee02",
            "metadata": {},
            "outputs": [],
            "source": [
                "# View the json data\n",
                "???"
            ]
        },
        {
            "attachments": {},
            "cell_type": "markdown",
            "id": "55e84125",
            "metadata": {},
            "source": [
                "The advantage of a `dict` in python is that you can access a `value` by calling its `key`. These are called *key-value pairs* and are fundamental to a dictionary structure."
            ]
        },
        {
            "cell_type": "code",
            "execution_count": null,
            "id": "da365e22",
            "metadata": {},
            "outputs": [],
            "source": [
                "# Access values in the dict by calling the keys\n",
                "json_data['Key 1']"
            ]
        },
        {
            "cell_type": "code",
            "execution_count": null,
            "id": "642d7b32",
            "metadata": {},
            "outputs": [],
            "source": [
                "# Get a list of keys for a dict\n",
                "json_data.keys()"
            ]
        },
        {
            "cell_type": "code",
            "execution_count": null,
            "id": "72e1774c",
            "metadata": {},
            "outputs": [],
            "source": [
                "# Iterate over the keys in a dict\n",
                "\n",
                "for key in json_data.???:\n",
                "    print(\"key:\",???)\n",
                "    value = json_data[???]\n",
                "    print(\"value:\",???)\n",
                "    print()"
            ]
        },
        {
            "attachments": {},
            "cell_type": "markdown",
            "id": "80c492b0",
            "metadata": {},
            "source": [
                "JSON data can include dictionary structures and list structures and they can be nested. To see this, in action we can load json data from a URL. \n",
                "\n",
                "To get data from a URL we use the `requests` library. This works like your web browser by sending `get` *request* to a web server, and then processing the response (instead of rendering in a browser)."
            ]
        },
        {
            "cell_type": "code",
            "execution_count": null,
            "id": "a3ae2026",
            "metadata": {},
            "outputs": [],
            "source": [
                "# You can also load json data from a URL\n",
                "import requests\n",
                "\n",
                "# JSON data about the CSV on extinct mammals from the same website above\n",
                "mammal_url = \"https://data.gov.au/api/3/action/package_show?id=c02731e8-5327-4720-bbc7-1fe67350a569\"\n",
                "\n",
                "# Request the content from the web server with a .get() request\n",
                "response = requests.get(???)\n",
                "\n",
                "response.content"
            ]
        },
        {
            "cell_type": "code",
            "execution_count": null,
            "id": "4e0af0a1",
            "metadata": {},
            "outputs": [],
            "source": [
                "# Get the data as json from the response\n",
                "\n",
                "mammal_json = response.json()\n",
                "\n",
                "mammal_json"
            ]
        },
        {
            "attachments": {},
            "cell_type": "markdown",
            "id": "d53cd62e",
            "metadata": {},
            "source": [
                "Since we know this is json data, we can use the structure to navigate the data and find what we are interested in."
            ]
        },
        {
            "cell_type": "code",
            "execution_count": null,
            "id": "8dea4ec3",
            "metadata": {
                "scrolled": true
            },
            "outputs": [],
            "source": [
                "# Take a look at the keys\n",
                "mammal_json.keys()"
            ]
        },
        {
            "cell_type": "code",
            "execution_count": null,
            "id": "75dc8a0e",
            "metadata": {},
            "outputs": [],
            "source": [
                "# What about the keys down a level?\n",
                "mammal_json[???].keys()"
            ]
        },
        {
            "cell_type": "code",
            "execution_count": null,
            "id": "e7f624cf",
            "metadata": {},
            "outputs": [],
            "source": [
                "# Digging deeper\n",
                "mammal_json['result']['resources']"
            ]
        },
        {
            "attachments": {},
            "cell_type": "markdown",
            "id": "7d7410f0",
            "metadata": {},
            "source": [
                "This is a list of dicts - let's get the first dict in the list (item 0) and explore further"
            ]
        },
        {
            "cell_type": "code",
            "execution_count": null,
            "id": "ea67f991",
            "metadata": {},
            "outputs": [],
            "source": [
                "# Only one item in the list - get it by accessing the first item 0\n",
                "mammal_json['result']['resources'][???]"
            ]
        },
        {
            "attachments": {},
            "cell_type": "markdown",
            "id": "c176efdd",
            "metadata": {},
            "source": [
                "We can save this dictionary formated data as *JSON* by using the `dumps()` function of the `json` library."
            ]
        },
        {
            "cell_type": "code",
            "execution_count": null,
            "id": "aeb7b601",
            "metadata": {},
            "outputs": [],
            "source": [
                "# Dump the dict into a json string\n",
                "metadata = json.dumps(???)\n",
                "metadata"
            ]
        },
        {
            "cell_type": "code",
            "execution_count": null,
            "id": "bd45b370",
            "metadata": {},
            "outputs": [],
            "source": [
                "# Write the json string to a file\n",
                "file_name = \"extinct_mammals_metadata.json\"\n",
                "with open(f\"{path}/{file_name}\",'w') as fp:\n",
                "    fp.write(???)"
            ]
        },
        {
            "attachments": {},
            "cell_type": "markdown",
            "id": "cb6bb49a",
            "metadata": {},
            "source": [
                "Open the file that you just created to check that it has been written correctly."
            ]
        },
        {
            "cell_type": "code",
            "execution_count": null,
            "id": "3fdf1c6b",
            "metadata": {},
            "outputs": [],
            "source": [
                "# read the file back in\n",
                "with open(f\"{path}/{file_name}\",'r') as fp:\n",
                "    text = fp.read()\n",
                "    file_json = json.loads(text)\n",
                "\n",
                "file_json"
            ]
        },
        {
            "attachments": {},
            "cell_type": "markdown",
            "id": "72a6ba29",
            "metadata": {},
            "source": [
                "Explore the JSON structure starting with the keys"
            ]
        },
        {
            "cell_type": "code",
            "execution_count": null,
            "id": "1e4d6eb7",
            "metadata": {},
            "outputs": [],
            "source": [
                "# What keys are available in the first item in the list of resources?\n",
                "mammal_json['result']['resources'][0].???"
            ]
        },
        {
            "cell_type": "code",
            "execution_count": null,
            "id": "daa50e4f",
            "metadata": {},
            "outputs": [],
            "source": [
                "# Take a look at the description\n",
                "mammal_json['result']['resources'][0][???]"
            ]
        },
        {
            "cell_type": "code",
            "execution_count": null,
            "id": "e5538a9e",
            "metadata": {},
            "outputs": [],
            "source": [
                "# Format the description as a list\n",
                "mammal_json['result']['resources'][0]['description'].split(???)"
            ]
        },
        {
            "cell_type": "code",
            "execution_count": null,
            "id": "2e926d10",
            "metadata": {},
            "outputs": [],
            "source": [
                "# Get the first item in the list\n",
                "mammal_json['result']['resources'][0]['description'].split('\\r\\n')[???]"
            ]
        },
        {
            "cell_type": "code",
            "execution_count": null,
            "id": "1f8be749",
            "metadata": {},
            "outputs": [],
            "source": [
                "# since the result is a dictionary, we can the value for one particular key\n",
                "mammal_json[\"result\"][\"notes\"]"
            ]
        },
        {
            "cell_type": "code",
            "execution_count": null,
            "id": "7de72e24",
            "metadata": {},
            "outputs": [],
            "source": [
                "# we can take this data and structure it further\n",
                "\n",
                "notes = mammal_json[\"result\"][\"notes\"]\n",
                "struct_notes = notes.split(???)\n",
                "for note in struct_notes:\n",
                "    print(???)"
            ]
        },
        {
            "attachments": {},
            "cell_type": "markdown",
            "id": "8dc776d3",
            "metadata": {},
            "source": [
                "### Explore further\n",
                "\n",
                "Try experimenting with exploring the dict format to find interesting parts of the data. \n",
                "\n",
                "You might also like to try saving the extracted data as a file, and creating a new dataframe with the structured data."
            ]
        },
        {
            "cell_type": "code",
            "execution_count": null,
            "id": "60966a77",
            "metadata": {},
            "outputs": [],
            "source": [
                "???"
            ]
        }
    ],
    "metadata": {
        "creation_period": "",
        "kernelspec": {
            "display_name": "Python 3 (ipykernel)",
            "language": "python",
            "name": "python3"
        },
        "language_info": {
            "codemirror_mode": {
                "name": "ipython",
                "version": 3
            },
            "file_extension": ".py",
            "mimetype": "text/x-python",
            "name": "python",
            "nbconvert_exporter": "python",
            "pygments_lexer": "ipython3",
            "version": "3.10.8"
        },
        "nb_name": "template",
        "qut": {
            "creation_period": "2023_sem1",
            "nb_name": "B1-DataStructures",
            "unit_code": "IFN619"
        }
    },
    "nbformat": 4,
    "nbformat_minor": 5
}
