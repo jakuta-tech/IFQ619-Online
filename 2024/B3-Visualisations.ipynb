{
    "cells": [
        {
            "cell_type": "markdown",
            "id": "b0c50005-e196-4dae-809e-36b09dc26842",
            "metadata": {
                "cell_name": "header_cell"
            },
            "source": [
                "<div style=\"background:#E9FFF6; color:#440404; padding:8px; border-radius: 4px; text-align: center; font-weight: 500;\">IFQ619 - Data Analytics for Strategic Decision Makers (2024)</div>"
            ]
        },
        {
            "cell_type": "markdown",
            "id": "fd645ec1-ff98-4fb0-ab47-6d9bacca5a01",
            "metadata": {
                "cell_name": "title_cell"
            },
            "source": [
                "# IFQ619 :: B3-Visualisations"
            ]
        },
        {
            "attachments": {},
            "cell_type": "markdown",
            "id": "86b4c75c",
            "metadata": {},
            "source": [
                "### What is data visualisation?\n",
                "\n",
                "Data visualisation is the process of transforming data into a compeling story use graphical tools\n",
                "\n",
                "<img src=\"./graphics/b3-vis-overview.png\">\n",
                "\n",
                "> **Tip:** Tables can be also considered as data visualisations if they are used to represent a compeling story\n",
                "\n",
                "### Benefits of data visualisations\n",
                "\n",
                "- Data visualisations highlight patterns in the data\n",
                "- Data visualisations allow to graphically represent complex data\n",
                "- Data visualisations support decision-making for different stakeholders\n",
                "\n",
                "### Can you see any problems with the following visualisations?\n",
                "\n",
                "<img src=\"./graphics/b3-bad-example.png\" style=\"width: 49%; height: 300px; float: left;\">\n",
                "<img src=\"./graphics/b3-better-example.png\" style=\"width: 49%; height: 300px; float: right\">\n",
                "\n",
                "Both visualisations have exactly the same underlying data. However, the order of the data and the decisions on how to build the visualisation are different\n",
                "- The visualisation on the left:\n",
                "    - The data is not sorted\n",
                "    - The title is missing\n",
                "    - The legend is not sorted\n",
                "    \n",
                "- The visualisation on the right:\n",
                "    - The data is sorted\n",
                "    - It has a meaningful title\n",
                "    - The legend is sorted\n",
                "\n",
                "The data is only one part of of building a data visualisation, the other part is support humans to interpret the data and make sense of what is being presented to them.\n",
                "\n",
                "---"
            ]
        },
        {
            "attachments": {},
            "cell_type": "markdown",
            "id": "878cb5b9",
            "metadata": {},
            "source": [
                "## Data visualisations structure\n",
                "\n",
                "### Coordinate systems\n",
                "\n",
                "The coordinate system specifies the position and a scale to be used to position the data. The most common is the *cartesian coordinate system* that is composed of two axis commonly named X and Y. This system gives a 2 dimensional linear position. Most of the data visualisations use this coordinate system.\n",
                "\n",
                "<img src=\"./graphics/b3-cartesian.jpg\" style=\"width: 500px\">\n",
                "\n",
                "The second most common is the *radial coordinate system* that gives the positions based on a circle. The most common data visualisations that use this system is the pie chart or donut chart.\n",
                "\n",
                "<img src=\"./graphics/b3-radial.png\" style=\"width: 500px\">\n",
                "\n",
                "\n",
                "### Aesthetics\n",
                "\n",
                "Aesthetics are visual elements of the visualisation that can be mapped to quantifiable data. The most important aesthetics are the following:\n",
                "\n",
                "1. *Position* is the most powerful aesthetic as it is the fastest and easier graphical feature to be differentiated\n",
                "2. *Colour* provides an easy way to group data belonging to the same category. Every colour has different meanings, for instance, red is commonly used to depict danger while green usually depicts safety\n",
                "3. *Shape* can be used as colour but has the limitation of a limited amount of shapes that can be easily differentiated\n",
                "4. *Size* can used as position but it is more difficult for the visual system to properly evaluate a difference in size\n",
                "5. *Line type* similarly to shape there are a limited amount of different line types that can be easily differentiated\n",
                "6. *Line width* it is highly unsed for having a limited amount of different widhts as well as being difficult to being evaluated\n",
                "\n",
                "<img src=\"./graphics/b3-aesthetics.png\" style=\"width: 500px\">\n"
            ]
        },
        {
            "attachments": {},
            "cell_type": "markdown",
            "id": "10ddf896",
            "metadata": {},
            "source": [
                "### How to visualise complex data\n",
                "\n",
                "The human visual system is one of the fastest senses and for this reason needs to be fully supported to deliver meaningful messages through data visualisations.\n",
                "\n",
                "Different data types are going to be better represented in different formats\n",
                "\n",
                "- *Temporal data* is usually represented in line graphs and scatter plots\n",
                "- *Hierarchical data* is usually represented in tree maps and tree diagrams\n",
                "- *Network data* is usually represented in matrix and node-link diagrams\n",
                "- *Multidimensional data* is usually represented in scatter plots, stacked bar charts and parallel coordinate plots\n",
                "- *Geographical data* is sually represented in choroplet map and cartograms\n",
                "\n",
                "> **Tip:** The previous list provides suggestions for what is normally used in each data type. However, other charts could be valuable if there is a different intention in the visualisation\n",
                "---"
            ]
        },
        {
            "attachments": {},
            "cell_type": "markdown",
            "id": "cfdcf161",
            "metadata": {},
            "source": [
                "### Visualising datasets with different visualisation types\n",
                "\n",
                "The next section were are going to compare how the same data can look different using different visualisations. The most important to remember is which type of visualisation supports your narrative better.\n",
                "\n",
                "\n",
                "#### Temporal data\n",
                "\n",
                "Let's visualise temporal data in different charts to see how it can be easier to understand. The dataset is the [Daily minimum temperatures in Melbourne](https://www.kaggle.com/datasets/paulbrabban/daily-minimum-temperatures-in-melbourne) from Kaggle."
            ]
        },
        {
            "cell_type": "code",
            "execution_count": null,
            "id": "d5205f71",
            "metadata": {},
            "outputs": [],
            "source": [
                "import pandas as pd\n",
                "import plotly.express as px # Data visualisation library"
            ]
        },
        {
            "cell_type": "code",
            "execution_count": null,
            "id": "8af750de",
            "metadata": {},
            "outputs": [],
            "source": [
                "# Load the data from the CSV file\n",
                "path = \"data/\"\n",
                "file_name = \"b3-daily-minimum-MEL.csv\"\n",
                "temp_df = pd.read_csv(???)\n",
                "temp_df"
            ]
        },
        {
            "attachments": {},
            "cell_type": "markdown",
            "id": "6d98ddd0",
            "metadata": {},
            "source": [
                "When working with dates, it is important to check that the data imported is in the correct format. Otherwise, any calculations and operations will not work as the data values are string (object type). The most common problem shows when trying to sort dates in the incorrect format."
            ]
        },
        {
            "cell_type": "code",
            "execution_count": null,
            "id": "22839ce4",
            "metadata": {},
            "outputs": [],
            "source": [
                "# Checking the data types of our dataset\n",
                "temp_df.dtypes"
            ]
        },
        {
            "cell_type": "code",
            "execution_count": null,
            "id": "7244fcf2",
            "metadata": {},
            "outputs": [],
            "source": [
                "# Convert the data column to a DateTime type matching the string format \"%d/%m/%Y\"\n",
                "temp_df[\"Date\"] = pd.to_datetime(temp_df[???], format=???)\n",
                "temp_df.dtypes"
            ]
        },
        {
            "cell_type": "code",
            "execution_count": null,
            "id": "1cc5330f",
            "metadata": {},
            "outputs": [],
            "source": [
                "# Plot a bar chart using the temperature dataframe\n",
                "temp_bar = px.bar(???, x=\"Date\", y=\"Daily minimum temperatures in Melbourne, Australia, 1981-1990\")\n",
                "temp_bar.show()"
            ]
        },
        {
            "cell_type": "code",
            "execution_count": null,
            "id": "d8b3bd70",
            "metadata": {},
            "outputs": [],
            "source": [
                "# Fix the x-axis label\n",
                "temp_bar = px.bar(temp_df, x=\"Date\", y=\"Daily minimum temperatures in Melbourne, Australia, 1981-1990\",\n",
                "                  labels={\n",
                "                     ???: \"Minimum (degrees Celcius)\"\n",
                "                 },\n",
                "                title=???)\n",
                "temp_bar.show()"
            ]
        },
        {
            "cell_type": "code",
            "execution_count": null,
            "id": "021d54ed",
            "metadata": {},
            "outputs": [],
            "source": [
                "# An easier way may be to rename the column\n",
                "temp2_df = temp_df.rename(columns={\"Daily minimum temperatures in Melbourne, Australia, 1981-1990\": \"Minimum (degrees Celcius)\"})\n",
                "temp2_df.head()"
            ]
        },
        {
            "cell_type": "code",
            "execution_count": null,
            "id": "b4ee69ea",
            "metadata": {},
            "outputs": [],
            "source": [
                "# Plot a scatter plot using the temperature dataframe\n",
                "temp_scatter = px.scatter(temp2_df, x=???, y=???)\n",
                "temp_scatter.show()"
            ]
        },
        {
            "cell_type": "code",
            "execution_count": null,
            "id": "50ca11a0",
            "metadata": {},
            "outputs": [],
            "source": [
                "# Plot a timeline using the temperature dataframe\n",
                "temp_line = px.line(???, x=???, y=???)\n",
                "temp_line.show()"
            ]
        },
        {
            "attachments": {},
            "cell_type": "markdown",
            "id": "21ffc6e7",
            "metadata": {},
            "source": [
                "The line graph provides the best graphical description for this type of data for the following reasons:\n",
                "- The line gives a sense of continuity in time\n",
                "- The line provides an easy way to follow the trend\n",
                "- The line highlights the patterns"
            ]
        },
        {
            "attachments": {},
            "cell_type": "markdown",
            "id": "95b867d4",
            "metadata": {},
            "source": [
                "#### Hierarchical data\n",
                "\n",
                "Let's visualise hierarchical data in different charts to see how it can be easier to understand. The dataset is the [Formula 1 pilots of all times](https://www.kaggle.com/datasets/bvovczak/f1-pilots) from Kaggle."
            ]
        },
        {
            "cell_type": "code",
            "execution_count": null,
            "id": "330e60dd",
            "metadata": {},
            "outputs": [],
            "source": [
                "# Load the data from the CSV file\n",
                "path = \"data/\"\n",
                "file_name = \"b3-f1_data.csv\"\n",
                "f1_df = pd.read_csv(f\"{path}{file_name}\")\n",
                "f1_df"
            ]
        },
        {
            "cell_type": "code",
            "execution_count": null,
            "id": "1ede98b9",
            "metadata": {},
            "outputs": [],
            "source": [
                "# Plot a stacked bar chart using the f1 dataframe\n",
                "f1_bar = px.bar(???, x=\"Nationality\", y=\"Race_Wins\", color=\"Champion\")\n",
                "f1_bar.show()"
            ]
        },
        {
            "cell_type": "markdown",
            "id": "bf86925e",
            "metadata": {},
            "source": [
                "We need a visualisation that makes it easier to compare on what we care about. A treemap visualisation can be helpful for heirachical data"
            ]
        },
        {
            "cell_type": "code",
            "execution_count": null,
            "id": "36744bd4",
            "metadata": {},
            "outputs": [],
            "source": [
                "# Plot a treemap using the f1 dataframe\n",
                "f1_tree = px.icicle(???, path=[px.Constant(\"F1 Wins\"), \"Champion\", 'Nationality'], values='Race_Wins') # px.Constant creates a common root for the data. This is needed in treemaps\n",
                "f1_tree.update_traces(root_color=\"lightgrey\")\n",
                "f1_tree.update_layout(margin = dict(t=25, l=25, r=25, b=25))\n",
                "f1_tree.show()"
            ]
        },
        {
            "attachments": {},
            "cell_type": "markdown",
            "id": "d6c2e0dd",
            "metadata": {},
            "source": [
                "#### Multidimensional data\n",
                "\n",
                "Let's visualise multidimensional data in different charts to see how it can be easier to understand. The data set is [Walmart orders](https://www.kaggle.com/datasets/matthewcornfield/wallmart) from Kaggle."
            ]
        },
        {
            "cell_type": "code",
            "execution_count": null,
            "id": "4485ad14",
            "metadata": {},
            "outputs": [],
            "source": [
                "# Load the data from the CSV file\n",
                "path = \"data/\"\n",
                "file_name = \"b3-walmart_data.csv\"\n",
                "walmart_df = pd.read_csv(f\"{path}{file_name}\")\n",
                "walmart_df"
            ]
        },
        {
            "cell_type": "code",
            "execution_count": null,
            "id": "8c44f8fb",
            "metadata": {},
            "outputs": [],
            "source": [
                "# Check the dataframe data types\n",
                "walmart.dtypes"
            ]
        },
        {
            "cell_type": "code",
            "execution_count": null,
            "id": "a5372b48",
            "metadata": {},
            "outputs": [],
            "source": [
                "# Transform the Order Date to a DateTime format\n",
                "walmart_df[\"Order Date\"] = pd.to_datetime(walmart_df[\"Order Date\"], format=???)\n",
                "walmart_df.dtypes"
            ]
        },
        {
            "cell_type": "code",
            "execution_count": null,
            "id": "b37412e7",
            "metadata": {},
            "outputs": [],
            "source": [
                "# Filter rows where Walmart made a profit\n",
                "walmart_df = walmart_df[walmart_df[\"Profit\"] > 0]\n",
                "walmart_df"
            ]
        },
        {
            "cell_type": "code",
            "execution_count": null,
            "id": "74c25ada",
            "metadata": {},
            "outputs": [],
            "source": [
                "# Plot a bar chat using the Walmart dataframe\n",
                "walmart_bar = px.bar(walmart_df, x=\"Order Date\", y=\"Sales\", color=\"Quantity\")\n",
                "walmart_bar.show()"
            ]
        },
        {
            "cell_type": "code",
            "execution_count": null,
            "id": "37af5997",
            "metadata": {},
            "outputs": [],
            "source": [
                "# Plot a line chart using the Walmart dataframe\n",
                "walmart_line = px.line(walmart_df, x=???, y=???, color=???)\n",
                "walmart_line.show()"
            ]
        },
        {
            "attachments": {},
            "cell_type": "markdown",
            "id": "28a460a4",
            "metadata": {},
            "source": [
                "The line chart does not look properly formatted. The reason is that the dataframe is not sorted by date. Therefore, the lines go forwards and backwards depending of the order and the timeline. To fix it, lets sort the dataframe."
            ]
        },
        {
            "cell_type": "code",
            "execution_count": null,
            "id": "cefc42b2",
            "metadata": {},
            "outputs": [],
            "source": [
                "# Sort de dataframt by Order Date\n",
                "??? = walmart_df.sort_values(by=\"Order Date\")\n",
                "???"
            ]
        },
        {
            "cell_type": "code",
            "execution_count": null,
            "id": "21c8d87d",
            "metadata": {},
            "outputs": [],
            "source": [
                "# Plot a line chart using the Walmart dataframe\n",
                "walmart_line_sorted = px.line(???, x=???, y=???, color=???)\n",
                "walmart_line_sorted.update_layout(\n",
                "    title_font_size=25, # Update the title font size\n",
                "    title_x=0.5, # Update the title horizontal position top middle\n",
                "    legend_title_font_size=15\n",
                ")\n",
                "walmart_line_sorted.show()"
            ]
        },
        {
            "cell_type": "code",
            "execution_count": null,
            "id": "06f31717",
            "metadata": {},
            "outputs": [],
            "source": [
                "# Plot a scatter plot using the Walmart dataframe\n",
                "walmart_scatter = px.scatter(???, x=\"Order Date\", y=\"Sales\", size=\"Profit\", color=\"Quantity\")\n",
                "walmart_scatter.show()"
            ]
        },
        {
            "attachments": {},
            "cell_type": "markdown",
            "id": "5af18f77",
            "metadata": {},
            "source": [
                "The scatter plot is the chart that provides more aesthetics that are easily differentiated. It can support the following aesthetics:\n",
                "- Position\n",
                "- Color\n",
                "- Size\n",
                "---"
            ]
        },
        {
            "attachments": {},
            "cell_type": "markdown",
            "id": "d54ba1a1",
            "metadata": {},
            "source": [
                "### Data visualisation structure with Plotly\n",
                "\n",
                "There are certain elements in visualisations that can be generated automatically based on the data structure. However, it is useful to know how to manipulate these to suit the narrative we want to tell to our stakeholders.\n",
                "\n",
                "This exercise uses the [Iris dataset](https://www.kaggle.com/datasets/uciml/iris). The iris dataset has sepal and petal width and lenght of 3 different iris species. Each specie has 50 samples. All the measurements are in centimeters."
            ]
        },
        {
            "cell_type": "code",
            "execution_count": null,
            "id": "6d7b8be1",
            "metadata": {},
            "outputs": [],
            "source": [
                "# Import a the Iris dataframe included in the plotly library\n",
                "iris = px.data.iris()\n",
                "iris"
            ]
        },
        {
            "cell_type": "code",
            "execution_count": null,
            "id": "9daaa126",
            "metadata": {},
            "outputs": [],
            "source": [
                "# Plot a scatter plot using the Iris dataframe\n",
                "iris_fig = px.scatter(iris, \n",
                "    x=\"sepal_length\", \n",
                "    y=\"sepal_width\", \n",
                "    color=\"species\",\n",
                "    title=\"Iris Sepals\")\n",
                "iris_fig.show()"
            ]
        },
        {
            "attachments": {},
            "cell_type": "markdown",
            "id": "ac0b0269",
            "metadata": {},
            "source": [
                "1. Manipulating title, labels and legend ([Plotly layout documentation](https://plotly.com/python/figure-labels/))\n",
                "    - The property title allows to set a title for the chart\n",
                "    - The property labels allows to map the original name from the Dataframe to a manually set label\n",
                "    - The method update_layout allows you to modify the feel and look of the visualisation in general including title and legends. For instance, updating the visualisation width, title font size, position, etc."
            ]
        },
        {
            "cell_type": "code",
            "execution_count": null,
            "id": "865ff5cf",
            "metadata": {},
            "outputs": [],
            "source": [
                "# Update the labels to include relevant information\n",
                "iris_fig = px.scatter(iris, \n",
                "    x=\"sepal_length\", \n",
                "    y=\"sepal_width\", \n",
                "    color=\"species\",\n",
                "    title=\"Iris Sepals\",\n",
                "    labels={\n",
                "        \"sepal_length\": \"Sepal Length (cm)\", # Include the units of measurement\n",
                "        \"sepal_width\": \"Sepal Width (cm)\", # Include the units of measurement\n",
                "        \"species\": \"Species of Iris\" # Provide a complete title\n",
                "    })\n",
                "iris_fig.update_layout(\n",
                "    title_font_size=25, # Update the title font size\n",
                "    title_x=0.5, # Update the title horizontal position top middle\n",
                "    legend_title_font_size=15, # Update the legend title font size\n",
                "    width=750 # Specify the width of the chart\n",
                ")\n",
                "iris_fig.show()"
            ]
        },
        {
            "attachments": {},
            "cell_type": "markdown",
            "id": "0675b48f",
            "metadata": {},
            "source": [
                "2. Manipulating the axis ([Plotly axes layout documentation](https://plotly.com/python/axes/))\n",
                "    - The method update_xaxes allows you to modify the feel and look of the x axis. For instance, title font size, tick font size. It can also be modified the amount of ticks and the style of the ticks\n",
                "    - The method update_yaxes allows you to modify the feel and look of the y axis. The examples are exantly the same as the x axis"
            ]
        },
        {
            "cell_type": "code",
            "execution_count": null,
            "id": "1e7739b2",
            "metadata": {},
            "outputs": [],
            "source": [
                "# Update the font size and ticks in the axes\n",
                "iris_fig = px.scatter(iris, \n",
                "    x=\"sepal_length\", \n",
                "    y=\"sepal_width\", \n",
                "    color=\"species\",\n",
                "    title=\"Iris Sepals\",\n",
                "    labels={\n",
                "        \"sepal_length\": \"Sepal Length (cm)\",\n",
                "        \"sepal_width\": \"Sepal Width (cm)\",\n",
                "        \"species\": \"Species of Iris\"\n",
                "    })\n",
                "iris_fig.update_layout(\n",
                "    title_font_size=25,\n",
                "    title_x=0.5,\n",
                "    legend_title_font_size=15,\n",
                "    width=750\n",
                ")\n",
                "iris_fig.update_xaxes(\n",
                "    title_font_size=12, # Update x axis label font size\n",
                "    tickfont_size=10, # Update x axis tick font size\n",
                "    tick0=0, # Set the value of the first tick\n",
                "    dtick=1 # Set the distance between ticks\n",
                ")\n",
                "iris_fig.update_yaxes(\n",
                "    title_font_size=12,\n",
                "    tickfont_size=10,\n",
                "    dtick=0.25\n",
                ")\n",
                "iris_fig.show()"
            ]
        },
        {
            "attachments": {},
            "cell_type": "markdown",
            "id": "fefd5bf0",
            "metadata": {},
            "source": [
                "> **TIP:** If you need to download the plot as an image, you can use the tools that appear on the top right corner of the visualisation. The camera icon (first from left to right) allows you to download the image. \n",
                "\n",
                "To import an image into the notebook you can use the following code:\n",
                "\n",
                "```Html\n",
                "<img src=\"path/file_name.png\">\n",
                " ```\n",
                "\n",
                " For example: \n",
                "\n",
                " ```Html\n",
                " <img src=\"./images/vis.png\">\n",
                " ```\n",
                "\n",
                "---"
            ]
        },
        {
            "attachments": {},
            "cell_type": "markdown",
            "id": "ce76e845",
            "metadata": {},
            "source": [
                "### Guidelines to design data visualisations\n",
                "\n",
                "1. Every chart needs a title, labels and legends\n",
                "2. Keep it simple. Too many aesthetics in a single chart might confuse the reader\n",
                "3. Use white space\n",
                "4. Design having in mind your audience\n",
                "5. Double check that all the calculations have been done correctly\n",
                "6. Use colour meaningfully\n",
                "7. Be mindful of the starting points of the axes\n",
                "\n",
                "> **Tip:** Remember that data visualisations need to support your story. Data storytelling is critical in design"
            ]
        },
        {
            "attachments": {},
            "cell_type": "markdown",
            "id": "3c22b3cc",
            "metadata": {},
            "source": [
                "### Do it yourself\n",
                "\n",
                "Using the [Earthquake dataset](https://www.kaggle.com/datasets/warcoder/earthquake-dataset), try to create meaningful charts to depict the relationship between the magnitude, significance and location. You can use many charts and associate with other variables such as date_time."
            ]
        },
        {
            "cell_type": "code",
            "execution_count": null,
            "id": "462b9d3c",
            "metadata": {},
            "outputs": [],
            "source": []
        },
        {
            "attachments": {},
            "cell_type": "markdown",
            "id": "58f9842d",
            "metadata": {},
            "source": [
                "What and how would you visualise this dataset?"
            ]
        },
        {
            "cell_type": "code",
            "execution_count": null,
            "id": "aabdc115",
            "metadata": {},
            "outputs": [],
            "source": []
        }
    ],
    "metadata": {
        "creation_period": "2023_sem1",
        "kernelspec": {
            "display_name": "Python 3 (ipykernel)",
            "language": "python",
            "name": "python3"
        },
        "language_info": {
            "codemirror_mode": {
                "name": "ipython",
                "version": 3
            },
            "file_extension": ".py",
            "mimetype": "text/x-python",
            "name": "python",
            "nbconvert_exporter": "python",
            "pygments_lexer": "ipython3",
            "version": "3.9.13"
        },
        "nb_name": "C4-MachineLearning",
        "qut": {
            "creation_period": "2023_sem1",
            "nb_name": "B3-Visualisations",
            "unit_code": "IFQ619"
        },
        "unit_code": "IFQ619"
    },
    "nbformat": 4,
    "nbformat_minor": 5
}
