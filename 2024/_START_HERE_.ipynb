{
 "cells": [
  {
   "attachments": {},
   "cell_type": "markdown",
   "metadata": {},
   "source": [
    "# Getting Started in IFQ619\n",
    "\n",
    "Welcome to the IFQ619 JupyterLab. This service is running in QUT's datacentre. During the teaching period, the teaching team may update the notebooks and other resources on our GitHub repo if we find errors.\n",
    "\n",
    "To *PULL* these updated resources into your personal Jupyter environment, click this link below.  It will resync any notebook where it hasn't been changed by you.:\n",
    "\n",
    "If you mess up a notebook, you can simply delete that notebookm file from JupyterHub and then *PULL* everything down again by clicking the link below. It will add the notebook back in:\n",
    "\n",
    "### [Reload the IFQ619-Online notebooks into this Jupyter environment](https://jupyter.eres.qut.edu.au/hub/user-redirect/git-pull?repo=https%3A%2F%2Fgithub.com%2Fjakuta-tech%2FIFQ619-Online&branch=release&urlpath=lab)\n",
    "\n",
    "Note that this will not overwrite your own files. If you need a clean copy at any point, copy your old files into another directory (like 'old-files'), and then click the link above to pull a fresh copy of the files."
   ]
  },
  {
   "cell_type": "markdown",
   "metadata": {},
   "source": [
    "## Acknowledgement of Traditional Owners\n",
    "<img src=\"graphics/Acknowledgement_of_Traditional_Owners_ON_CAMPUS_presentation_landscape.jpg\" width=\"70%\"/>"
   ]
  },
  {
   "attachments": {},
   "cell_type": "markdown",
   "metadata": {},
   "source": []
  },
  {
   "cell_type": "markdown",
   "metadata": {},
   "source": []
  }
 ],
 "metadata": {
  "kernelspec": {
   "display_name": "Python 3 (ipykernel)",
   "language": "python",
   "name": "python3"
  },
  "language_info": {
   "codemirror_mode": {
    "name": "ipython",
    "version": 3
   },
   "file_extension": ".py",
   "mimetype": "text/x-python",
   "name": "python",
   "nbconvert_exporter": "python",
   "pygments_lexer": "ipython3",
   "version": "3.10.13"
  },
  "vscode": {
   "interpreter": {
    "hash": "31f2aee4e71d21fbe5cf8b01ff0e069b9275f58929596ceb00d14d90e3e16cd6"
   }
  }
 },
 "nbformat": 4,
 "nbformat_minor": 4
}
