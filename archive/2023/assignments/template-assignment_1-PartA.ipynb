{
    "cells": [
        {
            "attachments": {},
            "cell_type": "markdown",
            "id": "6ef62cbd-2ea0-442e-973e-e50ca1e97fa2",
            "metadata": {
                "cell_name": "header_cell"
            },
            "source": [
                "<div style=\"background:#FFFFEE; color:#440404; padding:8px; border-radius: 4px; text-align: center; font-weight: 500;\">IFN619 - Data Analytics for Strategic Decision Makers (2023_sem1)</div>"
            ]
        },
        {
            "attachments": {},
            "cell_type": "markdown",
            "id": "ff597d6e-cdac-4d1a-b657-f6d756380ae3",
            "metadata": {
                "cell_name": "title_cell"
            },
            "source": [
                "# IFN619 :: Assignment 1 :: Foundational techniques (40%)\n",
                "\n",
                "**IMPORTANT:** Refer to the instructions in Canvas module [About the Assessment - Assignment 1](https://canvas.qut.edu.au/courses/2159/pages/instructions-for-foundational-techniques-assignment-assign-1?module_item_id=1170255) *BEFORE* working on this assignment.\n",
                "\n",
                "1. Complete and run the code cell below to display your name and student number\n",
                "2. Complete all questions in Part A\n",
                "3. Arrange with your tutor to have 1 on 1 check of Part A\n",
                "4. Complete a full analysis for Part B\n",
                "5. Submit your final notebook on Canvas [Assignment 1 submission page](https://canvas.qut.edu.au/courses/2159/assignments/127214)\n"
            ]
        },
        {
            "cell_type": "code",
            "execution_count": null,
            "id": "763f6f63",
            "metadata": {},
            "outputs": [],
            "source": [
                "# Complete the following cell with your details and run to produce your personalised header for this assignment\n",
                "\n",
                "from IPython.display import HTML\n",
                "\n",
                "first_name = ???\n",
                "last_name = ???\n",
                "student_number = ???\n",
                "\n",
                "personal_header = f\"<h1>{first_name} {last_name} ({student_number})</h1>\"\n",
                "HTML(personal_header)"
            ]
        },
        {
            "attachments": {},
            "cell_type": "markdown",
            "id": "24fbcf4f",
            "metadata": {},
            "source": [
                "---\n",
                "## Part A - computational processing and data analysis techniques"
            ]
        },
        {
            "attachments": {},
            "cell_type": "markdown",
            "id": "10629964",
            "metadata": {},
            "source": [
                "### [Q1] Read in data from CSV (pandas)\n",
                "\n",
                "- Open the file `assignment1-partA-data.csv` in Jupyter to view the data (from [www.covid19data.com.au](https://www.covid19data.com.au)). The data are QLD Hospitalisations and ICU beds related to COVID from April 2022 to February 2023.\n",
                "- Identify an appropriate index, and make a note of the columns.\n",
                "- Using the approach you have been shown in class, load the data into a pandas dataframe."
            ]
        },
        {
            "cell_type": "code",
            "execution_count": null,
            "id": "d50aaa03",
            "metadata": {},
            "outputs": [],
            "source": [
                "# Your answer here\n"
            ]
        },
        {
            "attachments": {},
            "cell_type": "markdown",
            "id": "f247e745",
            "metadata": {},
            "source": [
                "### [Q2] Filter a dataframe\n",
                "\t\n",
                "- Qld health are most concerned about COVID during the Winter period.\n",
                "- Select last year's winter data including the month before (May) and month after (September) into a **new** dataframe\n"
            ]
        },
        {
            "cell_type": "code",
            "execution_count": null,
            "id": "0fd535fe",
            "metadata": {},
            "outputs": [],
            "source": [
                "# Your answer here"
            ]
        },
        {
            "attachments": {},
            "cell_type": "markdown",
            "id": "24e6cee2",
            "metadata": {},
            "source": [
                "### [Q3] Visualisation\n",
                "\t\n",
                "- Visualise the new dataframe with a line plot of size 16 x 9\n",
                "- Ensure X and Y axes are labelled appropriately\n",
                "- Create a legend of *cases* with 2 labels: *hospital* and *ICU*\n",
                "- Add an appropriate title for the chart"
            ]
        },
        {
            "cell_type": "code",
            "execution_count": null,
            "id": "92a5a7fa",
            "metadata": {},
            "outputs": [],
            "source": [
                "# Your answer here"
            ]
        },
        {
            "attachments": {},
            "cell_type": "markdown",
            "id": "70843e9b",
            "metadata": {},
            "source": [
                "### [Q4] Get data URL from API\n",
                "\n",
                "- import the appropriate libraries\n",
                "- Use this url to get a JSON response: [https://data.gov.au/data/api/3/action/package_show?id=87f276c3-5fba-4f31-9032-199793d6f4a7](https://data.gov.au/data/api/3/action/package_show?id=87f276c3-5fba-4f31-9032-199793d6f4a7)\n",
                "- Using the `result` key, get the result from the JSON response\n",
                "- Using the `get_url(result,n)` function below, get the necessary URLS (Don't modify the function):\n",
                "    0. Electric Vehicle Trial Data\n",
                "    1. Electric Vehicle Trial Data Dictionary"
            ]
        },
        {
            "cell_type": "code",
            "execution_count": null,
            "id": "58156680",
            "metadata": {},
            "outputs": [],
            "source": [
                "def get_url(result, n):\n",
                "    base = result['result']['resources'][n]\n",
                "    print(base['name'])\n",
                "    return base['url']"
            ]
        },
        {
            "cell_type": "code",
            "execution_count": null,
            "id": "c2fd4522",
            "metadata": {},
            "outputs": [],
            "source": [
                "# Your answer here"
            ]
        },
        {
            "attachments": {},
            "cell_type": "markdown",
            "id": "9fe47014",
            "metadata": {},
            "source": [
                "### [Q5] Read in CSV data from API\n",
                "\n",
                "- Using the URLs that you obtained in Q4, load the data into two pandas dataframes\n",
                "\t\n"
            ]
        },
        {
            "cell_type": "code",
            "execution_count": null,
            "id": "cbcc6791",
            "metadata": {},
            "outputs": [],
            "source": [
                "# Your answer here"
            ]
        },
        {
            "attachments": {},
            "cell_type": "markdown",
            "id": "6b76c25f",
            "metadata": {},
            "source": [
                "### [Q6] Create a new dataframe with required columns\n",
                "\n",
                "- Use the data dictionary dataframe to find the Column heading for: *'Number of kms indicated on odometer of EV at the beginning of the trip'*\n",
                "- Use the data dictionary dataframe to find the Column heading for: *'Number of kms indicated on odometer of EV at the end of the trip'*\n",
                "- Create a new dataframe with the columns headings found (Note: you may need to clean the column headings!)\n",
                "- Rename the columns to `start` and `end`\n",
                "- Filter out rows with `NaN`s\n",
                "- Create a new column `kms` with a calculation of kms travelled"
            ]
        },
        {
            "cell_type": "code",
            "execution_count": null,
            "id": "28782429",
            "metadata": {},
            "outputs": [],
            "source": [
                "# Your answer here"
            ]
        },
        {
            "attachments": {},
            "cell_type": "markdown",
            "id": "a5e982cc",
            "metadata": {},
            "source": [
                "### [Q7] Descriptive stats on dataframe\n",
                "\t\n",
                "- Find the desriptive statistics for the kms travelled\n",
                "- Assign the `count`, `mean`, `min`, and `max` to variables. Round the mean to a reasonable precision.\n",
                "- Use the variables to create a string in the following format:\n",
                "    - During the trial, a total of nnnn EV trips were recorded with the shortest trip being nnnn km and the longest trip being nnnn km. The average trip length was nnnn km.\n",
                "- Print the constructed string"
            ]
        },
        {
            "cell_type": "code",
            "execution_count": null,
            "id": "a5e9a2a2",
            "metadata": {},
            "outputs": [],
            "source": [
                "# Your answer here\n"
            ]
        },
        {
            "attachments": {},
            "cell_type": "markdown",
            "id": "1f643185",
            "metadata": {},
            "source": [
                "### [Q8] Visualisation\n",
                "\n",
                "- Using the plotly library, create a histogram of the kms travelled\n",
                "- Set the number of bins such that the maximum count in any one bin is no more than a third of the total trips\n",
                "- Display the actual counts in the bars\n",
                "- Enhance the visualisation of the variance by including a box plot\n",
                "- Use suitable colours and add appropriate textual information"
            ]
        },
        {
            "cell_type": "code",
            "execution_count": null,
            "id": "ff7c22a4-d8e9-4247-b870-425f856790f0",
            "metadata": {},
            "outputs": [],
            "source": [
                "# Your answer here"
            ]
        },
        {
            "attachments": {},
            "cell_type": "markdown",
            "id": "71115c60",
            "metadata": {},
            "source": [
                "---\n",
                "## Part B - creating a narrative to answer significant questions\n",
                "\n",
                "**Scenario:**  When children are unwell it is a stressful period not only for the child, but their carers (e.g. parent/s), and other family members and friends as well. Child injury and illness, and the extent to which they can be alleviated is a significant concern for local communities. Serious injury or illness will usually result in a child presenting to an emergency department (ED) of a local hospital. The degree of stress for children and their support network can be impacted significantly by lengthy wait times in the ED. Thus there is a general community interest knowing how well local hospitals are performing in this area.\n",
                "\n",
                " **Data Source:** Queensland Health provides open data on [paediatric emergency departments via data.gov.au](https://data.gov.au/dataset/ds-qld-c9c345bd-f05a-47ca-84b6-aade1e062d8b/details?q=emergency) NOTE: Use *Summary 1* and *Summary 3* data from 2022 for this task.\n",
                "\n",
                "**Task:** Your task as a data analyst is to:\n",
                "\n",
                "- Identify high quality questions that when answered may be helpful in addressing the scenario above\n",
                "- Select at least _3 months_ of ED paediatric data to analyse\n",
                "- Select at least _2 hospitals_ with high quality data to analyse\n",
                "- Clean the data as necessary\n",
                "- Analyse the data in a way that answers your questions and ultimately addresses the concern in the scenario\n",
                "- Visualise your results in a meaningful way that is helpful in making visible key findings\n",
                "- Provide a detailed summary of the insights found and how they address the original questions and scenario\n",
                "\n",
                "NOTE: You must document your thinking and approach throughout the notebook using the Markdown cells"
            ]
        },
        {
            "cell_type": "markdown",
            "id": "79ad50e9",
            "metadata": {},
            "source": []
        }
    ],
    "metadata": {
        "creation_period": "",
        "kernelspec": {
            "display_name": "base",
            "language": "python",
            "name": "python3"
        },
        "language_info": {
            "codemirror_mode": {
                "name": "ipython",
                "version": 3
            },
            "file_extension": ".py",
            "mimetype": "text/x-python",
            "name": "python",
            "nbconvert_exporter": "python",
            "pygments_lexer": "ipython3",
            "version": "3.10.8"
        },
        "nb_name": "template",
        "qut": {
            "creation_period": "2023_sem1",
            "nb_name": "template-assignment1",
            "unit_code": "IFN619"
        },
        "unit_code": "",
        "vscode": {
            "interpreter": {
                "hash": "d4d1e4263499bec80672ea0156c357c1ee493ec2b1c70f0acce89fc37c4a6abe"
            }
        }
    },
    "nbformat": 4,
    "nbformat_minor": 5
}
