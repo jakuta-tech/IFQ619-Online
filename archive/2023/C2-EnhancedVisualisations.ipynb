{
    "cells": [
        {
            "attachments": {},
            "cell_type": "markdown",
            "id": "981f97ef-42ac-489b-8460-6deaa25b7819",
            "metadata": {
                "cell_name": "header_cell"
            },
            "source": [
                "<div style=\"background:#E9FFF6; color:#440404; padding:8px; border-radius: 4px; text-align: center; font-weight: 500;\">IFN619 - Data Analytics for Strategic Decision Makers (2023_sem1)</div>"
            ]
        },
        {
            "attachments": {},
            "cell_type": "markdown",
            "id": "ab8a3216-866c-41f7-a872-7a1bb788d35b",
            "metadata": {
                "cell_name": "title_cell"
            },
            "source": [
                "# IFN619 :: C2-Enhanced Visualisations"
            ]
        },
        {
            "attachments": {},
            "cell_type": "markdown",
            "id": "ea3c9ac1",
            "metadata": {},
            "source": [
                "## How do we interpret visualisations?\n",
                "\n",
                "Data visualisations from a human-data interaction perspective do not contain any meaning attached to them until a user starts interpreting the visualisation. Interpretation is a subjective process that is impacted by the user's previous knowledge, culture, environment and context. Understanding the visualisations components provide a programatic way to develop visualisations but there is still the human side to be considered.\n",
                "\n",
                "Just like language can be interpreted in different ways depending on the context, visualisations follow the same pattern. For instance, the word \"cup\" is going to have different meanings depending on the context. In a cooking context a cup is a measurement, in a sports context a cup is trophy and in a meal context a cup is a liquid container. All the meanings are correct but the context of use and the user's previous knowledge is what is going to define which meaning to be used.\n",
                "\n",
                "<img src=\"./graphics/information_processing.jpg\">\n",
                "\n",
                "## How visualisations can be enhanced for better interpretation?\n",
                "\n",
                "The most important way to enhance a visualisation is to understand the effect of different aesthetics in human interpretation. The two most important aesthetics are colour and position and both have different effects on human interpretation. Additionally, interactions can be handled effectively to provide further information. The most common interaction is hovering over data points to obtain information on demand.\n",
                "\n",
                "---"
            ]
        },
        {
            "attachments": {},
            "cell_type": "markdown",
            "id": "cbc58e04",
            "metadata": {},
            "source": [
                "## The role of colour in interpretation\n",
                "\n",
                "The aesthetic colour is can evoke different feelings and emotions in the interpretation of a visualisation. For instance, the colour red have different meanings in different contexts. Red can mean love, passion or danger. Thus, selecting a colour can have a great impact on the interpretation of a visualisation.\n",
                "\n",
                "### Colour theory\n",
                "\n",
                "Colour theory is the collection of rules and guidelines which designers use to communicate with users through appealing colour schemes in visual interfaces. To pick the best colours every time, designers use a colour wheel and refer to extensive collected knowledge about human optical ability, psychology, culture and more.\n",
                "\n",
                "The colour wheel is an useful tool to design visualisations.\n",
                "\n",
                "<img src=\"./graphics/colour-wheel.jpg\" style=\"width: 400px\">\n",
                "\n",
                "#### Colour components\n",
                "Different shades or tints, saturations and hues are all possible while still being within the same colour part of the colour wheel.\n",
                "- *Hue* - This is the position on the colour wheel, and represents the base colour itself\n",
                "- *Saturation* - This is a representation of how saturated (or rich) a colour is or the amount of white light mixed with the hue. A 0% saturation becomes a shade of gray while 100% is the pure colour with absence of white light\n",
                "- *Brightness/Lightness* - The amount of shade being mixed with the hue. A 0% of brightness will be black\n",
                "\n",
                "<img src=\"./graphics/colour-components.png\" style=\"width: 400px\">\n",
                "\n",
                "#### Colour schemes\n",
                "The scheme is the way the colours are going to be combined\n",
                "- *Sequential schemes* - Uses saturation to differentiate different colours\n",
                "\n",
                "<img src=\"./graphics/colour-sequential.jpg\" style=\"width: 400px\" >\n",
                "\n",
                "- *Divergent schemes* - Uses two sequential schemes sharing a common colour (usually white) in the middle and diverging using brightness towards each end with different hues\n",
                "\n",
                "<img src=\"./graphics/colour-divergent.jpg\" style=\"width: 400px\" >\n",
                "\n",
                "- *Spectral schemes* - Uses a large segment of hues keeping the saturation and brightness equal\n",
                "\n",
                "<img src=\"./graphics/colour-spectral.jpg\" style=\"width: 400px\" >\n",
                "\n",
                "#### Colour temperature\n",
                "Colours can be used to convey emotive content as well as assist with the look and feel of your visualisation. We’re talking about moving people now, evoking passions and feelings in our readers. It’s worth noting at this point that people’s culture, gender, experiences, etc. will also affect the way that colours resonate with them\n",
                "- *Warm colours* – These are colours located on the half of the colour wheel that includes yellow, orange, and red. These colours are said to reflect feelings such as passion, power, happiness, and energy\n",
                "- *Cool colours* – These are colours located on the other side of the colour wheel, including green, blue, and purple. Cool colours are said to reflect calmness, meditation, and soothing impressions\n",
                "- *Neutral Colours* – These are not said to reflect any particular emotions. These colours include gray, brown, white, and black\n",
                "\n",
                "#### Colour emotions\n",
                "Colour can play a vital role in how people feel when they see an image since certain colours tend to be associated with certain emotions. There are many complex reasons why a colour creates a psychological reaction in a viewer, and it depends on context, societal influences and interactions with other colours rather than the colour’s inherent properties alone.\n",
                "- *Red* - excitement, aggression, danger, romance\n",
                "- *Yellow* - wamth, friendliness, warning\n",
                "- *Green* - nature, sickliness, envy\n",
                "- *Blue* - relaxation, coldness, grief\n",
                "- *White* - cleanliness, innocence, emptiness\n",
                "- *Black* - oppresive, calm, powerfull"
            ]
        },
        {
            "attachments": {},
            "cell_type": "markdown",
            "id": "d391b968",
            "metadata": {},
            "source": [
                "#### Let's try to see the effect of the colour in different visualisations\n",
                "\n",
                "We are going to use the wallmart dataset from previous weeks"
            ]
        },
        {
            "cell_type": "code",
            "execution_count": null,
            "id": "ff7c22a4-d8e9-4247-b870-425f856790f0",
            "metadata": {},
            "outputs": [],
            "source": [
                "import pandas as pd\n",
                "import plotly.express as px # Data visualisation library\n",
                "import json\n",
                "from urllib.request import urlopen"
            ]
        },
        {
            "cell_type": "code",
            "execution_count": null,
            "id": "a7242342",
            "metadata": {},
            "outputs": [],
            "source": [
                "# Load the data from the CSV file\n",
                "walmart = pd.read_csv(???)\n",
                "walmart"
            ]
        },
        {
            "cell_type": "code",
            "execution_count": null,
            "id": "ceb6bf71",
            "metadata": {},
            "outputs": [],
            "source": [
                "# Check the dataframe data types\n",
                "walmart.dtypes"
            ]
        },
        {
            "cell_type": "code",
            "execution_count": null,
            "id": "4e1154ac",
            "metadata": {},
            "outputs": [],
            "source": [
                "# Transform the Order Date to a DateTime format\n",
                "walmart[\"Order Date\"] = pd.to_datetime(walmart[\"Order Date\"], format=???)\n",
                "walmart[\"Ship Date\"] = pd.to_datetime(walmart[\"Ship Date\"], format=???)\n",
                "walmart.dtypes"
            ]
        },
        {
            "cell_type": "code",
            "execution_count": null,
            "id": "744d7c6d",
            "metadata": {},
            "outputs": [],
            "source": [
                "# Plot a scatter plot using the Walmart dataframe\n",
                "walmart_scatter = px.scatter(walmart, \n",
                "    x=\"Order Date\", \n",
                "    y=\"Profit\", \n",
                "    color=\"Profit\", \n",
                "    color_continuous_midpoint=0, # Specify the value that is going to be the middle of the colour scale\n",
                "    color_continuous_scale=[\"green\", \"white\", \"red\"], # Specify the colours in the scale\n",
                "    title=\"Wallmart orders profit (2011-2015)\")\n",
                "walmart_scatter.update_layout(\n",
                "    plot_bgcolor=\"black\" # Specify the backkground colour of the chart\n",
                ")\n",
                "walmart_scatter.show()"
            ]
        },
        {
            "attachments": {},
            "cell_type": "markdown",
            "id": "26d2d27e",
            "metadata": {},
            "source": [
                "The previous visualisation has the colours inverted, green for negative numbers while red for positive number. What do you think is going to be the effect of this change?"
            ]
        },
        {
            "cell_type": "code",
            "execution_count": null,
            "id": "a4d4bbe4",
            "metadata": {},
            "outputs": [],
            "source": [
                "# Plot a scatter plot using the Walmart dataframe\n",
                "walmart_scatter = px.scatter(walmart, \n",
                "    x=\"Order Date\", \n",
                "    y=\"Profit\", \n",
                "    color=\"Profit\", \n",
                "    color_continuous_midpoint=0, \n",
                "    color_continuous_scale=[\"red\", \"white\", \"green\"])\n",
                "walmart_scatter.update_layout(\n",
                "    plot_bgcolor=\"black\"\n",
                ")\n",
                "walmart_scatter.show()"
            ]
        },
        {
            "attachments": {},
            "cell_type": "markdown",
            "id": "97195c00",
            "metadata": {},
            "source": [
                "This visualisation is exactly the same but now the colours represent what we are used to see, red for negative colours and green for positive"
            ]
        },
        {
            "attachments": {},
            "cell_type": "markdown",
            "id": "08c56b8b",
            "metadata": {},
            "source": [
                "What if we use a different colour scheme to represent the data, probably a sequential scheme"
            ]
        },
        {
            "cell_type": "code",
            "execution_count": null,
            "id": "d175d13e",
            "metadata": {},
            "outputs": [],
            "source": [
                "# Plot a scatter plot using the Walmart dataframe\n",
                "walmart_scatter = px.scatter(walmart, \n",
                "    x=\"Order Date\", \n",
                "    y=\"Profit\", \n",
                "    color=\"Profit\", \n",
                "    color_continuous_midpoint=0, \n",
                "    color_continuous_scale=[\"white\", \"green\"])\n",
                "walmart_scatter.update_layout(\n",
                "    plot_bgcolor=\"black\"\n",
                ")\n",
                "walmart_scatter.show()"
            ]
        },
        {
            "attachments": {},
            "cell_type": "markdown",
            "id": "cbdfd8b0",
            "metadata": {},
            "source": [
                "Does this convey a different meaning compared to the divergent colour scheme?"
            ]
        },
        {
            "cell_type": "code",
            "execution_count": null,
            "id": "0b776253",
            "metadata": {},
            "outputs": [],
            "source": [
                "# Plot a scatter plot using the Walmart dataframe\n",
                "walmart_scatter = px.scatter(walmart, \n",
                "    x=\"Order Date\", \n",
                "    y=\"Profit\", \n",
                "    color=\"Profit\", \n",
                "    color_continuous_midpoint=0, \n",
                "    color_continuous_scale=[\"white\", \"red\"])\n",
                "walmart_scatter.update_layout(\n",
                "    plot_bgcolor=\"black\"\n",
                ")\n",
                "walmart_scatter.show()"
            ]
        },
        {
            "attachments": {},
            "cell_type": "markdown",
            "id": "70310853",
            "metadata": {},
            "source": [
                "Changing the colour makes a difference?"
            ]
        },
        {
            "cell_type": "code",
            "execution_count": null,
            "id": "fc1ef168",
            "metadata": {},
            "outputs": [],
            "source": [
                "# Plot a scatter plot using the Walmart dataframe\n",
                "walmart_scatter = px.scatter(walmart, \n",
                "    x=\"Order Date\", \n",
                "    y=\"Profit\", \n",
                "    color=\"Profit\", \n",
                "    color_continuous_midpoint=0, \n",
                "    color_continuous_scale=[\"white\", \"blue\"])\n",
                "walmart_scatter.update_layout(\n",
                "    plot_bgcolor=\"black\"\n",
                ")\n",
                "walmart_scatter.show()"
            ]
        },
        {
            "attachments": {},
            "cell_type": "markdown",
            "id": "24c82468",
            "metadata": {},
            "source": [
                "Which visualisation conveys the message of profit/loss better? Why?\n",
                "\n",
                "---"
            ]
        },
        {
            "attachments": {},
            "cell_type": "markdown",
            "id": "79326ccc",
            "metadata": {},
            "source": [
                "## The role of position in interpretation\n",
                "\n",
                "The aesthetic position is one of the most powerful to use when designing visualisations. How position can be convey can have a big impact on the interpretation of a visualisation. What is shown first in the chart and the position of the axes can lead to cognitive biases that need to be considered.\n",
                "\n",
                "### Cognitive bias\n",
                "\n",
                "A cognitive bias is a subconscious error in thinking that leads you to misinterpret information from the world around you and affects the rationality and accuracy of decisions and judgments.\n",
                "\n",
                "Biases are unconscious and automatic processes designed to make decision-making quicker and more efficient. Cognitive bias is often a result of your brain’s attempt to simplify information processing — we receive roughly 11 million bits of information per second. Still, we can only process about 40 bits of information per second. Therefore, we often rely on mental shortcuts (called heuristics) to help make sense of the world with relative speed. As such, these errors tend to arise from problems related to thinking: memory, attention, and other mental mistakes.\n",
                "\n",
                "There are more than 200 cognitive biases identified (see the full list in the [Cognitive Bias Codex](https://commons.wikimedia.org/wiki/File:Cognitive_bias_codex_en.svg)) but the following are the most important in terms of visualisations:"
            ]
        },
        {
            "attachments": {},
            "cell_type": "markdown",
            "id": "f85a93b1",
            "metadata": {},
            "source": [
                "#### 1. Inatentional blindness\n",
                "\n",
                "This occurs when a person fails to notice a stimulus that is in plain sight because their attention is directed elsewhere.\n",
                "\n",
                "The following factors are some reasons of the occurrance of this cognitive bias:\n",
                "- Certain sensory stimuli (such as bright colours) and cognitive stimuli (such as something familiar) are more likely to be processed, and so stimuli that don’t fit into one of these two categories might be missed.\n",
                "-  When we focus a lot of our brain’s mental energy on one stimulus, we are using up our cognitive resources and won’t be able to process another stimulus simultaneously.\n",
                "\n",
                "To see this bias in action we are going to use the life expectancy at birth dataset from [Gapminder](https://www.gapminder.org/data/documentation/gd004/)."
            ]
        },
        {
            "cell_type": "code",
            "execution_count": null,
            "id": "4a0a2aaa",
            "metadata": {},
            "outputs": [],
            "source": [
                "gap = px.data.gapminder()\n",
                "gap"
            ]
        },
        {
            "cell_type": "code",
            "execution_count": null,
            "id": "acf8278f",
            "metadata": {},
            "outputs": [],
            "source": [
                "gap_new = gap[gap[\"year\"] == 2007]\n",
                "gap_new"
            ]
        },
        {
            "cell_type": "code",
            "execution_count": null,
            "id": "bf380a71",
            "metadata": {},
            "outputs": [],
            "source": [
                "gap_new_fig = px.bar(gap_new[(gap_new[\"country\"] == \"Japan\") | (gap_new[\"country\"] == \"Korea, Rep.\")], \n",
                "    x=\"country\", \n",
                "    y=\"lifeExp\", \n",
                "    title=\"Japan has a higher life expectancy than Korea\",\n",
                "    labels={\n",
                "        \"lifeExp\": \"Life expectancy (Years)\",\n",
                "        \"country\": \"Countries\"\n",
                "    })\n",
                "gap_new_fig.update_layout(\n",
                "    title_font_size=25,\n",
                "    title_x=0.5,\n",
                ")\n",
                "gap_new_fig.update_xaxes(\n",
                "    title_font_size=15,\n",
                "    tickfont_size=12\n",
                ")\n",
                "gap_new_fig.update_yaxes(\n",
                "    title_font_size=15,\n",
                "    tickfont_size=10,\n",
                "    dtick=10,\n",
                "    range = [75, 85]\n",
                ")\n",
                "gap_new_fig.show()"
            ]
        },
        {
            "attachments": {},
            "cell_type": "markdown",
            "id": "5106c8df",
            "metadata": {},
            "source": [
                "The previous visualisation draws that attention of the reader to the bars and gives the idea that Japan has double the life expectancy that Korea. In fact, the difference is only 4 years (< 5%). However, given the size of the bars and the title, the reader's attention goes directly to the bars. Additionally, other configurations make the comparison unfair such as the minimal number of ticks in the Y axis as well as the difference in font size. Consequently, the reader's first impresion is that Japan is far way better than Korea.\n",
                "\n",
                "A fairer comparison would be the following:"
            ]
        },
        {
            "cell_type": "code",
            "execution_count": null,
            "id": "5bebdc09",
            "metadata": {},
            "outputs": [],
            "source": [
                "gap_new_fig = px.bar(gap_new[(gap_new[\"country\"] == \"Japan\") | (gap_new[\"country\"] == \"Korea, Rep.\")], \n",
                "    x=\"country\", \n",
                "    y=\"lifeExp\", \n",
                "    title=\"Life expectancy in Japan and Korea\",\n",
                "    labels={\n",
                "        \"lifeExp\": \"Life expectancy (Years)\",\n",
                "        \"country\": \"Countries\"\n",
                "    },\n",
                "    text_auto=True) # Display the value of the bars\n",
                "gap_new_fig.update_layout(\n",
                "    title_font_size=25,\n",
                "    title_x=0.5,\n",
                ")\n",
                "gap_new_fig.update_traces(\n",
                "    textfont_size=15\n",
                ")\n",
                "gap_new_fig.update_xaxes(\n",
                "    title_font_size=15,\n",
                "    tickfont_size=10\n",
                ")\n",
                "gap_new_fig.update_yaxes(\n",
                "    title_font_size=15,\n",
                "    tickfont_size=10,\n",
                "    dtick=10,\n",
                ")\n",
                "gap_new_fig.show()"
            ]
        },
        {
            "attachments": {},
            "cell_type": "markdown",
            "id": "45035bee",
            "metadata": {},
            "source": [
                "Setting the range of the Y axis to start in the position 0 gives an accurate way to visually compare both countries. Additionally, adding the numbers to the bars gives the reader the accurate values to give the specific number to each country. The bars in this example look very similar supporting the argument that the difference is small (< 5%)."
            ]
        },
        {
            "attachments": {},
            "cell_type": "markdown",
            "id": "daf882db",
            "metadata": {},
            "source": [
                "#### 2. Anchoring bias\n",
                "\n",
                "It occurs when we rely too heavily on either pre-existing information or the first piece of information (the anchor) when making a decision.\n",
                "\n",
                "The following factors are some reasons of the occurrance of this cognitive bias:\n",
                "- Once an anchor is established, people insufficiently adjust away from it to arrive at their final answer, and so their final guess or decision is closer to the anchor than it otherwise would have been.\n",
                "- An anchor changes someone’s attitudes to be more favorable to the anchor, which then biases future answers to have similar characteristics as the initial anchor.\n",
                "- When people experience a greater cognitive load (the amount of information the working memory can hold at any given time), they are more susceptible to the effects of anchoring."
            ]
        },
        {
            "cell_type": "code",
            "execution_count": null,
            "id": "9c8db169",
            "metadata": {},
            "outputs": [],
            "source": [
                "gap_americas = gap_new[gap_new[\"continent\"] == \"Americas\"]\n",
                "gap_americas"
            ]
        },
        {
            "cell_type": "code",
            "execution_count": null,
            "id": "44ec9580",
            "metadata": {},
            "outputs": [],
            "source": [
                "gap_ab_fig = px.bar(gap_americas[(gap_americas[\"country\"] == \"Canada\") | (gap_americas[\"country\"] == \"Honduras\")].sort_values(by=\"lifeExp\", ascending=False), \n",
                "    x=\"country\", \n",
                "    y=\"lifeExp\",\n",
                "    title=\"Life expectancy in Canada and Honduras\",\n",
                "    labels={\n",
                "        \"lifeExp\": \"Life expectancy (Years)\",\n",
                "        \"country\": \"Countries\"\n",
                "    })\n",
                "gap_ab_fig.update_layout(\n",
                "    title_font_size=25,\n",
                "    title_x=0.5,\n",
                ")\n",
                "gap_ab_fig.show()"
            ]
        },
        {
            "attachments": {},
            "cell_type": "markdown",
            "id": "71c26bd6",
            "metadata": {},
            "source": [
                "The previous visualisation provides an anchor with Canada because is the first bar (from left to right) and the biggest. Thus, it is likely to be the first element the reader is going to view. This bar is going to be used for comparison purposes and likely to draw a conclusion that Honduras's life expectancy is low. However, in general terms Honduras's life expectancy is above the average of the dataset (avg 67). Without the context to have a proper comparison (how many years are a low life expectancy) the reader is going to anchor their interpretation to what it is in the visualistion.\n",
                "\n",
                "A better way to describe this dataset would be the following:"
            ]
        },
        {
            "cell_type": "code",
            "execution_count": null,
            "id": "d88eb8e1",
            "metadata": {},
            "outputs": [],
            "source": [
                "gap_ab_fig = px.bar(gap_americas.sort_values(by=\"lifeExp\", ascending=False), \n",
                "    x=\"country\", \n",
                "    y=\"lifeExp\",\n",
                "    title=\"Life expectancy in the Americas\",\n",
                "    labels={\n",
                "        \"lifeExp\": \"Life expectancy (Years)\",\n",
                "        \"country\": \"Countries\"\n",
                "    })\n",
                "gap_ab_fig.update_layout(\n",
                "    title_font_size=25,\n",
                "    title_x=0.5,\n",
                ")\n",
                "gap_ab_fig[\"data\"][0][\"marker\"][\"color\"] = [\"red\" if (c == \"Canada\") | (c == \"Honduras\") else \"blue\" for c in gap_ab_fig[\"data\"][0][\"x\"]] # Creates a condition for the bar's colour depending on the country\n",
                "gap_ab_fig.show()"
            ]
        },
        {
            "attachments": {},
            "cell_type": "markdown",
            "id": "e29c6f36",
            "metadata": {},
            "source": [
                "Or even better a comparison with the world"
            ]
        },
        {
            "cell_type": "code",
            "execution_count": null,
            "id": "b3f81bbd",
            "metadata": {},
            "outputs": [],
            "source": [
                "gap_ab_fig = px.bar(gap_new.sort_values(by=\"lifeExp\", ascending=False), \n",
                "    x=\"country\", \n",
                "    y=\"lifeExp\",\n",
                "    title=\"Life expectancy in the World\",\n",
                "    labels={\n",
                "        \"lifeExp\": \"Life expectancy (Years)\",\n",
                "        \"country\": \"Countries\"\n",
                "    })\n",
                "gap_ab_fig.update_layout(\n",
                "    title_font_size=25,\n",
                "    title_x=0.5,\n",
                ")\n",
                "gap_ab_fig[\"data\"][0][\"marker\"][\"color\"] = [\"red\" if (c == \"Canada\") | (c == \"Honduras\") else \"blue\" for c in gap_ab_fig[\"data\"][0][\"x\"]]\n",
                "gap_ab_fig.show()"
            ]
        },
        {
            "attachments": {},
            "cell_type": "markdown",
            "id": "e9219c78",
            "metadata": {},
            "source": [
                "#### 3. Confirmation bias\n",
                "\n",
                "Confirmation bias refers to the tendency to interpret new information as confirmation of your preexisting beliefs and opinions.\n",
                "\n",
                "The following factors are some reasons of the occurrance of this cognitive bias:\n",
                "- Certain desired conclusions (ones that support our beliefs) are more likely to be processed by the brain and labeled as true.\n",
                "- Our minds choose to reinforce our preexisting ideas because being right helps preserve our sense of self-esteem, which is important for feeling secure in the world and maintaining positive relationships."
            ]
        },
        {
            "cell_type": "code",
            "execution_count": null,
            "id": "3cedd557",
            "metadata": {},
            "outputs": [],
            "source": [
                "gap_oc = gap[gap[\"continent\"] == \"Oceania\"]\n",
                "gap_oc"
            ]
        },
        {
            "cell_type": "code",
            "execution_count": null,
            "id": "bfc262a9",
            "metadata": {},
            "outputs": [],
            "source": [
                "gap_oc_fig = px.line(gap_oc, \n",
                "    x=\"year\", \n",
                "    y=\"lifeExp\", \n",
                "    color=\"country\",\n",
                "    title=\"Australia has the highest Life expectancy in Oceania\")\n",
                "gap_oc_fig.show()"
            ]
        },
        {
            "cell_type": "code",
            "execution_count": null,
            "id": "37ba4ac4",
            "metadata": {},
            "outputs": [],
            "source": [
                "gap_aus = gap_new[(gap_new[\"continent\"] != \"Europe\") & (gap_new[\"continent\"] != \"Asia\")]\n",
                "gap_aus"
            ]
        },
        {
            "cell_type": "code",
            "execution_count": null,
            "metadata": {},
            "outputs": [],
            "source": [
                "gap_aus_fig = px.bar(gap_aus.sort_values(by=\"lifeExp\", ascending=False), \n",
                "    x=\"country\", \n",
                "    y=\"lifeExp\", \n",
                "    color=\"continent\",\n",
                "    title=\"Australia has the highest Life expectancy in Oceania, the Americas and Africa\")\n",
                "gap_aus_fig.show()"
            ]
        },
        {
            "attachments": {},
            "cell_type": "markdown",
            "id": "b4ebbbf8",
            "metadata": {},
            "source": [
                "The previous visualisations highlight the good position that Australia has in terms of life expectancy. Most people that belief that Australia is one of the best countries in the world to live would be happy to see this comparison. However, we are selecting the continents where Australia is the highest in terms of life expectancy. Leaving out Europe and Asia, Australia becomes the highest life expectancy country.\n",
                "\n",
                "A better comparison would be:"
            ]
        },
        {
            "cell_type": "code",
            "execution_count": null,
            "id": "45bb7d8f",
            "metadata": {},
            "outputs": [],
            "source": [
                "gap_ab_fig = px.bar(gap_new.sort_values(by=\"lifeExp\", ascending=False), \n",
                "    x=\"country\", \n",
                "    y=\"lifeExp\",\n",
                "    title=\"Life expectancy in the World\",\n",
                "    color=\"continent\",\n",
                "    labels={\n",
                "        \"lifeExp\": \"Life expectancy (Years)\",\n",
                "        \"country\": \"Countries\"\n",
                "    })\n",
                "gap_ab_fig.update_layout(\n",
                "    title_font_size=25,\n",
                "    title_x=0.5,\n",
                ")\n",
                "gap_ab_fig.show()"
            ]
        },
        {
            "attachments": {},
            "cell_type": "markdown",
            "id": "41305d94",
            "metadata": {},
            "source": [
                "## Enhance visualisations with interactions\n",
                "\n",
                "Several kind of interactions have been included in visualisations recently to make data exploration easier. The most common interaction is called information on demand or hover. Other type on interactions include zooming, dragging, drilldown, filter and search. \n",
                "\n",
                "Maps are without doubt one of the visualisation that have benefited the most from interactions. Zooming, hovering, filtering and searching are mostly expected to be present in maps due to the highly use of tools such as Google Maps."
            ]
        },
        {
            "attachments": {},
            "cell_type": "markdown",
            "id": "266715a3",
            "metadata": {},
            "source": [
                "### Working with maps\n",
                "\n",
                "We are going to use a dataset about the airport traffic in Australia. We have the Top 9 airports and the number of aircarfts (domestic and international) that have been throught those airports in 2022. Additionally, we have the latitude and longitude of the airports."
            ]
        },
        {
            "cell_type": "code",
            "execution_count": null,
            "id": "b60f1561",
            "metadata": {},
            "outputs": [],
            "source": [
                "# Load the dataset\n",
                "air = pd.read_csv(???)\n",
                "air[\"Total\"] = ??? + ???\n",
                "air"
            ]
        },
        {
            "attachments": {},
            "cell_type": "markdown",
            "id": "77e48754",
            "metadata": {},
            "source": [
                "This dataset provides the opportunity to plot a map given the latitude and longitude coordinates. "
            ]
        },
        {
            "cell_type": "code",
            "execution_count": null,
            "id": "7c78ecc0",
            "metadata": {},
            "outputs": [],
            "source": [
                "air_map = px.scatter_mapbox(air, # Create a bubbles on top of a map\n",
                "    lat=\"Latitude\", # Specify the latitude for the bubbles\n",
                "    lon=\"Longitude\") # Specify the longitude for the bubbles\n",
                "air_map.update_layout(mapbox_style=\"stamen-terrain\", # Specify the kind of background map\n",
                "    margin={\"r\":0,\"t\":0,\"l\":0,\"b\":0}) # Sets the margins for the map\n",
                "air_map.show()"
            ]
        },
        {
            "attachments": {},
            "cell_type": "markdown",
            "id": "f48970ae",
            "metadata": {},
            "source": [
                "Given the interactivity provided the maps it is extremely important to guide the user to the correct place to start with. The map must be rendered pointing to Australia as the dataset contains information only about Australia and use the correct zoom. Otherwise, the information can be overlooked causing inattentional blindness."
            ]
        },
        {
            "cell_type": "code",
            "execution_count": null,
            "id": "8f890d42",
            "metadata": {},
            "outputs": [],
            "source": [
                "air_map = px.scatter_mapbox(air, \n",
                "    lat=\"Latitude\", \n",
                "    lon=\"Longitude\"\n",
                ")\n",
                "air_map.update_layout(mapbox_style=\"stamen-terrain\", \n",
                "    mapbox_center_lat = ???, # Specifies the starting latitude for first render \n",
                "    mapbox_center_lon = ???,  # Specifies the starting longitude for first render \n",
                "    mapbox_zoom = ???, # Specifies the starting zoom for first render \n",
                "    margin={\"r\":0,\"t\":0,\"l\":0,\"b\":0})\n",
                "air_map.show()"
            ]
        },
        {
            "attachments": {},
            "cell_type": "markdown",
            "id": "93348eb7",
            "metadata": {},
            "source": [
                "Once the data has been correctly positioned and showed. It is time to use colour to depict the aircrafts that have been through each airport in the map. It is important to remember what is the purpose of the visualisation to select the appropriate colour."
            ]
        },
        {
            "cell_type": "code",
            "execution_count": null,
            "id": "33d2c877",
            "metadata": {},
            "outputs": [],
            "source": [
                "air_map = px.scatter_mapbox(air, \n",
                "    lat=\"Latitude\", \n",
                "    lon=\"Longitude\", \n",
                "    color=\"Total\", # Specifies the colour to be mapped to the international aircrafts\n",
                "    title=\"Total aircrafts through Australian airports in 2022\",\n",
                "    color_continuous_scale = ??? # Sets the colour scale to be used\n",
                ")\n",
                "air_map.update_layout(mapbox_style=\"stamen-terrain\", \n",
                "    mapbox_center_lat = ???, \n",
                "    mapbox_center_lon = ???, \n",
                "    mapbox_zoom = ???,\n",
                "    margin={\"r\":0,\"t\":0,\"l\":0,\"b\":0})\n",
                "air_map.show()"
            ]
        },
        {
            "attachments": {},
            "cell_type": "markdown",
            "id": "7347a68e",
            "metadata": {},
            "source": [
                "The points in the map are quite difficult to see. Thus, it is a good idea to make the dot bigger to provide a clearer visualisation."
            ]
        },
        {
            "cell_type": "code",
            "execution_count": null,
            "id": "2e809ed9",
            "metadata": {},
            "outputs": [],
            "source": [
                "air_map = px.scatter_mapbox(air, \n",
                "    lat=\"Latitude\", \n",
                "    lon=\"Longitude\", \n",
                "    color=\"Total\", # Specifies the colour to be mapped to the international aircrafts\n",
                "    title=\"Total aircrafts through Australian airports in 2022\",\n",
                "    color_continuous_scale = ??? # Sets the colour scale to be used\n",
                ")\n",
                "air_map.update_layout(mapbox_style=\"stamen-terrain\", \n",
                "    mapbox_center_lat = ???, \n",
                "    mapbox_center_lon = ???, \n",
                "    mapbox_zoom = ???,\n",
                "    margin={\"r\":0,\"t\":0,\"l\":0,\"b\":0})\n",
                "air_map.update_traces(marker_size = ???) # Specified the size of the marker in pixels\n",
                "air_map.show()"
            ]
        },
        {
            "attachments": {},
            "cell_type": "markdown",
            "id": "9c98ac8c",
            "metadata": {},
            "source": [
                "The information in demand needs to include the name of the airport as the coordinates are not really meaningful.Additionally, it could include more information such as domestic and international aircarfts as well."
            ]
        },
        {
            "cell_type": "code",
            "execution_count": null,
            "id": "99f7b246",
            "metadata": {},
            "outputs": [],
            "source": [
                "air_map = px.scatter_mapbox(air, \n",
                "    lat=\"Latitude\", \n",
                "    lon=\"Longitude\", \n",
                "    color=\"Total\", # Specifies the colour to be mapped to the international aircrafts\n",
                "    title=\"Total aircrafts through Australian airports in 2022\",\n",
                "    color_continuous_scale = ???, # Sets the colour scale to be used\n",
                "    hover_name = ???, # Includes the text to be used as the tittle when hovered \n",
                "    hover_data = ???, # Includes additional data to be displayed when hovered\n",
                ")\n",
                "air_map.update_layout(mapbox_style=\"stamen-terrain\", \n",
                "    mapbox_center_lat = ???, \n",
                "    mapbox_center_lon = ???, \n",
                "    mapbox_zoom = ???,\n",
                "    margin={\"r\":0,\"t\":0,\"l\":0,\"b\":0})\n",
                "air_map.update_traces(marker_size = ???) # Specified the size of the marker in pixels\n",
                "air_map.show()"
            ]
        },
        {
            "attachments": {},
            "cell_type": "markdown",
            "id": "a9330f17",
            "metadata": {},
            "source": [
                "We can potentially use other aesthetics such as size to depict an additional information such as domestic or international flights."
            ]
        },
        {
            "cell_type": "code",
            "execution_count": null,
            "id": "2730e86e",
            "metadata": {},
            "outputs": [],
            "source": [
                "air_map_label = px.scatter_mapbox(air, \n",
                "    lat=\"Latitude\", \n",
                "    lon=\"Longitude\", \n",
                "    hover_name = \"Airport\", # Includes the name of the airport when hovered \n",
                "    hover_data = [\"Domestic\", \"International\"], # Includes additional data to be displayed when hovered\n",
                "    size = \"Domestic\", # Specifies the size to be mapped to the domestic aircrafts\n",
                "    color = \"Total\", # Specifies the colour to be mapped to the international aircrafts\n",
                "    title = \"Total aircrafts through Australian airports in 2022\",\n",
                "    color_continuous_scale = [\"white\", \"green\"], # Sets the colour scale to be used\n",
                ")\n",
                "air_map_label.update_layout(mapbox_style=\"stamen-terrain\", \n",
                "    mapbox_center_lat = -29, \n",
                "    mapbox_center_lon = 140, \n",
                "    mapbox_zoom = 3,\n",
                "    margin={\"r\":0,\"t\":0,\"l\":0,\"b\":0})\n",
                "air_map_label.show()"
            ]
        },
        {
            "attachments": {},
            "cell_type": "markdown",
            "id": "e254b420",
            "metadata": {},
            "source": [
                "The most important consideration when working with maps is that these are highly interactive. Hover and zoom are interactions that are usually expected when designing maps. Thus, in addition to all what we have learnt before we need to curate interactions that are going to be meaningful to the users."
            ]
        },
        {
            "cell_type": "code",
            "execution_count": null,
            "id": "00c1bdeb",
            "metadata": {},
            "outputs": [],
            "source": []
        }
    ],
    "metadata": {
        "creation_period": "2023_sem1",
        "kernelspec": {
            "display_name": "Python 3 (ipykernel)",
            "language": "python",
            "name": "python3"
        },
        "language_info": {
            "codemirror_mode": {
                "name": "ipython",
                "version": 3
            },
            "file_extension": ".py",
            "mimetype": "text/x-python",
            "name": "python",
            "nbconvert_exporter": "python",
            "pygments_lexer": "ipython3",
            "version": "3.9.13"
        },
        "nb_name": "C4-MachineLearning",
        "qut": {
            "creation_period": "2023_sem1",
            "nb_name": "C2-EnhancedVisualisations",
            "unit_code": "IFN619"
        },
        "unit_code": "IFN619"
    },
    "nbformat": 4,
    "nbformat_minor": 5
}
