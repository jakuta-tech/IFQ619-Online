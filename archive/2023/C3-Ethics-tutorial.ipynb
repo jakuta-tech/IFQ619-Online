{
    "cells": [
        {
            "cell_type": "markdown",
            "id": "5a3b8c1b-a2dc-4056-b19d-46f34999dded",
            "metadata": {
                "cell_name": "header_cell"
            },
            "source": [
                "<div style=\"background:#E9FFF6; color:#440404; padding:8px; border-radius: 4px; text-align: center; font-weight: 500;\">IFN619 - Data Analytics for Strategic Decision Makers (2023_sem1)</div>"
            ]
        },
        {
            "attachments": {},
            "cell_type": "markdown",
            "id": "b4657c87-4b4c-4b2f-8d3d-a16f14854cc1",
            "metadata": {
                "cell_name": "title_cell"
            },
            "source": [
                "# IFN619 :: C3 - Ethical considerations in data analytics (tutorial)"
            ]
        },
        {
            "attachments": {},
            "cell_type": "markdown",
            "id": "065f7f2c",
            "metadata": {
                "slideshow": {
                    "slide_type": "slide"
                }
            },
            "source": [
                "## Fairness in data analytics"
            ]
        },
        {
            "cell_type": "markdown",
            "id": "7c2116b7",
            "metadata": {
                "slideshow": {
                    "slide_type": "fragment"
                }
            },
            "source": [
                "> ***It is possible for analysis to be acurate without being fair.***\n",
                "\n",
                "Consider a scenario where we are analysing data from a survey completed by employees from a company. The employees were asked to rank how fair they believe their workplace to be on a scale as follows:\n",
                "\n",
                "1. Very unfair\n",
                "2. Unfair\n",
                "3. Mostly fair\n",
                "4. Fair\n",
                "5. Very fair\n",
                "\n",
                "Our analysis will give feedback to the company management on how well the company is doing in being fair to it's workers."
            ]
        },
        {
            "cell_type": "code",
            "execution_count": null,
            "id": "084f6167",
            "metadata": {
                "slideshow": {
                    "slide_type": "subslide"
                }
            },
            "outputs": [],
            "source": [
                "import pandas as pd\n",
                "import plotly.express as px"
            ]
        },
        {
            "cell_type": "code",
            "execution_count": null,
            "id": "26cbd053",
            "metadata": {},
            "outputs": [],
            "source": [
                "file_path = \"data/\"\n",
                "file_name = \"fair-workplace-survey.csv\"\n",
                "df = pd.read_csv(???, index_col=???)\n",
                "???"
            ]
        },
        {
            "cell_type": "markdown",
            "id": "5c79b17d",
            "metadata": {
                "slideshow": {
                    "slide_type": "subslide"
                }
            },
            "source": [
                "There are 20 responses to the survey. Let's see what the average rating is to give us an idea of the overall fairness..."
            ]
        },
        {
            "cell_type": "code",
            "execution_count": null,
            "id": "f9b4eaaa",
            "metadata": {
                "slideshow": {
                    "slide_type": "-"
                }
            },
            "outputs": [],
            "source": [
                "# get the average rating\n",
                "df[???].mean()"
            ]
        },
        {
            "cell_type": "markdown",
            "id": "241770f1",
            "metadata": {
                "slideshow": {
                    "slide_type": "fragment"
                }
            },
            "source": [
                "So this is looking good. The average rating is between 'Mostly fair' and 'Fair'."
            ]
        },
        {
            "cell_type": "markdown",
            "id": "763df482",
            "metadata": {
                "slideshow": {
                    "slide_type": "subslide"
                }
            },
            "source": [
                "### The average problem\n",
                "\n",
                "Consider what the average would be if we had 10 'Very unfair' (1) responses, and 10 'Very fair' (5) responses.\n",
                "\n",
                "\n"
            ]
        },
        {
            "cell_type": "markdown",
            "id": "0c746f88",
            "metadata": {},
            "source": [
                "$$\\frac{(10\\times 1) + (10\\times 5)}{20} = 3$$"
            ]
        },
        {
            "cell_type": "markdown",
            "id": "acf37997",
            "metadata": {
                "slideshow": {
                    "slide_type": "fragment"
                }
            },
            "source": [
                "The result is 'Mostly fair' even though half of the people said 'Very unfair' and the other half 'Very fair'. Do you think that this is a *fair* interpretation?\n",
                "\n",
                "However, this type of bipolar distribution is unusual. Let's check the shape of our actual data..."
            ]
        },
        {
            "cell_type": "code",
            "execution_count": null,
            "id": "6f5146d0",
            "metadata": {
                "slideshow": {
                    "slide_type": "subslide"
                }
            },
            "outputs": [],
            "source": [
                "fig = px.histogram(df[???])\n",
                "fig.show()"
            ]
        },
        {
            "cell_type": "markdown",
            "id": "61df812b",
            "metadata": {
                "slideshow": {
                    "slide_type": "fragment"
                }
            },
            "source": [
                "Even better. It looks like the highest rating was 4 which is very good news for the company."
            ]
        },
        {
            "cell_type": "markdown",
            "id": "4f8ee922",
            "metadata": {
                "slideshow": {
                    "slide_type": "slide"
                }
            },
            "source": [
                "### Digging deeper\n",
                "\n",
                "However, if we consider the human factors behind the data, would the results be so positive?\n",
                "\n",
                "Although the survey was anonymous, we have 2 other types of information available: the gender and role of the respondants. Our respondants indicated whether they are Male or Female and if they are a Worker or a Supervisor.\n",
                "\n",
                "What's the average rating for a female worker?"
            ]
        },
        {
            "cell_type": "code",
            "execution_count": null,
            "id": "fbd0a44b",
            "metadata": {
                "slideshow": {
                    "slide_type": "fragment"
                }
            },
            "outputs": [],
            "source": [
                "femaleWorker = df.loc[(df[???] == ???) & (df[???] == ???)]\n",
                "femaleWorker[???].mean(0)"
            ]
        },
        {
            "cell_type": "markdown",
            "id": "5927eb34",
            "metadata": {
                "slideshow": {
                    "slide_type": "fragment"
                }
            },
            "source": [
                "How does this compare with the average that we calculated above?\n",
                "\n",
                "Let's get a better idea by segmenting the data and finding the averages of each segment..."
            ]
        },
        {
            "cell_type": "code",
            "execution_count": null,
            "id": "6b8beee8",
            "metadata": {
                "slideshow": {
                    "slide_type": "subslide"
                }
            },
            "outputs": [],
            "source": [
                "female = (df[???] == ???)\n",
                "male = (df[???] == ???)\n",
                "worker = (df[???] == ???)\n",
                "supervisor = (df[???] == ???)\n",
                "\n",
                "def averageRating(type1,type2):\n",
                "    return df.loc[type1 & type2]['FairWorkPlace'].mean(0)\n",
                "\n",
                "segments = {}\n",
                "segments['FemaleWorker'] = averageRating(???,???)\n",
                "segments['FemaleSupervisor'] = averageRating(???,???)\n",
                "segments['MaleWorker'] = averageRating(???,???)\n",
                "segments['MaleSupervisor'] = averageRating(???,???)\n",
                "segments"
            ]
        },
        {
            "cell_type": "markdown",
            "id": "5460c17e",
            "metadata": {
                "slideshow": {
                    "slide_type": "fragment"
                }
            },
            "source": [
                "This tells a different story than our first histogram. Let's visualise this data..."
            ]
        },
        {
            "cell_type": "code",
            "execution_count": null,
            "id": "56a34c6b",
            "metadata": {},
            "outputs": [],
            "source": [
                "fig = px.histogram(df[???],color=df[???], barmode=\"overlay\",histnorm='percent',facet_col=df[???],\n",
                "                   labels = {\"value\":\"rating\",\"color\":\"gender\",\"facet_col\":\"role\"},\n",
                "                   title = ???)\n",
                "fig.show()"
            ]
        },
        {
            "cell_type": "markdown",
            "id": "b1afcdd1",
            "metadata": {
                "slideshow": {
                    "slide_type": "subslide"
                }
            },
            "source": [
                "### What can we learn?\n",
                "\n",
                "* What is the story of the segment visualisation?\n",
                "* How does this different from the original story?\n",
                "* Was the first analysis wrong?\n",
                "* If we didn't dig deeper, how fair would our analysis be?\n",
                "* What is the difference between accurate analysis and fair analysis?"
            ]
        },
        {
            "attachments": {},
            "cell_type": "markdown",
            "id": "27a6d90b",
            "metadata": {
                "slideshow": {
                    "slide_type": "slide"
                }
            },
            "source": [
                "### Anscombe's Quartet\n",
                "\n",
                "[Anscombe, F.J. (1973) Graphs in Statistical Analysis](https://www.jstor.org/stable/2682899)"
            ]
        },
        {
            "cell_type": "code",
            "execution_count": null,
            "id": "d8ce889a",
            "metadata": {},
            "outputs": [],
            "source": [
                "# Load Anscombe's Quartet data\n",
                "file_path = \"data/\"\n",
                "file_name = ???\n",
                "aq_df = pd.read_csv(f\"{file_path}{file_name}\",index_col=???)\n",
                "aq_df"
            ]
        },
        {
            "cell_type": "code",
            "execution_count": null,
            "id": "b23b78de",
            "metadata": {},
            "outputs": [],
            "source": [
                "aq_df.groupby('dataset').describe()"
            ]
        },
        {
            "cell_type": "code",
            "execution_count": null,
            "id": "1e62a138",
            "metadata": {},
            "outputs": [],
            "source": [
                "fig = px.scatter(aq_df,x=???,y=???,facet_col=???,color=???,trendline='ols')\n",
                "fig.update_layout(showlegend=False)\n",
                "fig.show()"
            ]
        },
        {
            "cell_type": "markdown",
            "id": "86cebeb7",
            "metadata": {
                "slideshow": {
                    "slide_type": "slide"
                }
            },
            "source": [
                "### A more complex example\n",
                "\n",
                "Read through the following example which explains how similar biases can occur when working with more complicated machine learning algorithms:\n",
                "\n",
                "[Google Developers - Text Embedding Models Contain Bias. Here's Why That Matters.](https://developers.googleblog.com/2018/04/text-embedding-models-contain-bias.html?m=1)"
            ]
        }
    ],
    "metadata": {
        "creation_period": "",
        "kernelspec": {
            "display_name": "Python 3 (ipykernel)",
            "language": "python",
            "name": "python3"
        },
        "language_info": {
            "codemirror_mode": {
                "name": "ipython",
                "version": 3
            },
            "file_extension": ".py",
            "mimetype": "text/x-python",
            "name": "python",
            "nbconvert_exporter": "python",
            "pygments_lexer": "ipython3",
            "version": "3.10.10"
        },
        "nb_name": "template",
        "qut": {
            "creation_period": "2023_sem1",
            "nb_name": "C3-Ethics-tutorial",
            "unit_code": "IFN619"
        },
        "unit_code": ""
    },
    "nbformat": 4,
    "nbformat_minor": 5
}
