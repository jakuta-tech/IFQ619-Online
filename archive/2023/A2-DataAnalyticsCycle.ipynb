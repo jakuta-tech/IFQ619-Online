{
 "cells": [
  {
   "cell_type": "markdown",
   "id": "5b918dae-cf79-4472-8a23-383ca9a71a13",
   "metadata": {
    "cell_name": "header_cell"
   },
   "source": [
    "<div style=\"background:#E9FFF6; color:#440404; padding:8px; border-radius: 4px; text-align: center; font-weight: 500;\">IFN619 - Data Analytics for Strategic Decision Makers (2023_sem1)</div>"
   ]
  },
  {
   "cell_type": "markdown",
   "id": "0888e26c-e3cd-446a-be05-1d5924897e2a",
   "metadata": {
    "cell_name": "title_cell"
   },
   "source": [
    "# IFN619 :: A2-DataAnalyticsCycle"
   ]
  },
  {
   "cell_type": "markdown",
   "id": "7c224077",
   "metadata": {},
   "source": [
    "### QDAVI\n",
    "\n",
    "In our approach to data analytics, we will follow a process that requires that we address 5 questions:\n",
    "\n",
    "1. Which is the right question?\n",
    "2. Which is the right data?\n",
    "3. Which is the right analysis?\n",
    "4. Which is the right visualisation?\n",
    "5. Which is the right insight?\n",
    "\n",
    "For this unit, we are concerned with more than just data analytics, we are interested in what is *appropriate, efficous, ethical ...* what is ***right!***\n",
    "\n",
    "You can easily remember the data analytics cycle by the acronym **QDAVI**:\n",
    "\n",
    "1. **Q**uestion\n",
    "2. **D**ata\n",
    "3. **A**nalysis\n",
    "4. **V**isualisation\n",
    "5. **I**nsight\n",
    "\n",
    "<img src=\"graphics/QDAVI_cycle_sm.png\" width=\"50%\" />\n"
   ]
  },
  {
   "cell_type": "markdown",
   "id": "3bef02cc",
   "metadata": {},
   "source": [
    "---\n",
    "\n",
    "## QDAVI Example\n",
    "\n",
    "### Question\n",
    "\n",
    "In this part of the cycle we will:\n",
    "1. consider the context, and the main concern of stakeholders \n",
    "2. identify a specific question (or questions) to address the context and stakeholder concern/s, and \n",
    "3. plan how we might connect the question with available data for analysis\n",
    "\n",
    "**CONTEXT:** We have many students in IFN619 coming from different backgrounds and choosing to study for different reasons. A better understanding of the cohort may be helpful for the teaching team, allowing them to adapt the learning experiences to groups with different needs.\n",
    "\n",
    "> **QUESTION** What different groups of students are studying IFN619, and how might information about the cohort help the teaching team provide meaningful learning experiences?\n",
    "\n",
    "**PLAN:** To answer this question, we might consider the kinds of groups that might be possible within available data. Some thoughts are:\n",
    "- courses\n",
    "- majors/minors\n",
    "- part time/full time (mode)\n",
    "- connections between studios and tutes (registration)\n",
    "- relationship between mode and registration\n",
    "\n",
    "The courses and majors/minors may provide information on whether the student has some knowledge of IT or whether their main field is not IT. The mode and registration information may provide an indicator of students that are studying while undertaking other responsibilities (like working and/or caring)."
   ]
  },
  {
   "cell_type": "markdown",
   "id": "df89edcc",
   "metadata": {},
   "source": [
    "### Data\n",
    "\n",
    "In this part of the cycle, we will:\n",
    "1. Identify appropriate data to address the question\n",
    "2. Read the data into the analysis environment (Jupyter)\n",
    "3. Clean the data and format it so that it is ready for analysis\n",
    "\n",
    "As part of this process, we will take into account: \n",
    "- the shape of the data and whether there is meaning in the structure - e.g. do rows and columns mean something?\n",
    "- the completeness of the data - is any data missing?\n",
    "- the appropriateness of the data - do any aspects of the data need to be modified prior to analysis - e.g. dates and times"
   ]
  },
  {
   "cell_type": "markdown",
   "id": "ffc5504f",
   "metadata": {},
   "source": [
    "#### Required libraries\n",
    "\n",
    "For any data analysis, we need to use existing software that has been loaded into the Jupyter environment in the form of 'libraries', 'packages', or 'modules'. To make these libraries available to your notebook, you need to `import` them."
   ]
  },
  {
   "cell_type": "code",
   "execution_count": null,
   "id": "3a473948",
   "metadata": {},
   "outputs": [],
   "source": [
    "import pandas as pd # Dataframes\n",
    "import numpy as np  # Mathematical functions\n",
    "import re           # Regular expressions"
   ]
  },
  {
   "cell_type": "markdown",
   "id": "f7eaab58",
   "metadata": {},
   "source": [
    "#### Read in the data\n",
    "\n",
    "1. Take a look at the data first to identify its structure\n",
    "2. Use appropriate code to read the data in to Jupyter\n",
    "3. Display the data to check it was read correctly"
   ]
  },
  {
   "cell_type": "code",
   "execution_count": null,
   "id": "11fb44c6",
   "metadata": {},
   "outputs": [],
   "source": [
    "# Read the CSV into a dataframe\n",
    "file_name = ???\n",
    "class_df = pd.read_csv(f\"data/{file_name}\",index_col='id')\n",
    "class_df.shape"
   ]
  },
  {
   "cell_type": "code",
   "execution_count": null,
   "id": "f4142961",
   "metadata": {},
   "outputs": [],
   "source": [
    "# We can take a look at the dataframe by adding the variable name as the last line of a cell\n",
    "class_df"
   ]
  },
  {
   "cell_type": "markdown",
   "id": "24b965cb",
   "metadata": {},
   "source": [
    "#### Clean the data\n",
    "\n",
    "Looking at the data, there are some cells that have `NaN` in them. This is short for *not a number* and is an indicator that there is nothing in these cells. Importantly, in code *nothing* or `null` is different to `0` or an empty string`\"\"`.\n",
    "\n",
    "Let's check how many of these `NaN`s we have in the data...\n"
   ]
  },
  {
   "cell_type": "code",
   "execution_count": null,
   "id": "cf0db046",
   "metadata": {},
   "outputs": [],
   "source": [
    "# For each column check if a cell isna() and then sum() to get total\n",
    "class_df.isna().sum()"
   ]
  },
  {
   "cell_type": "markdown",
   "id": "6fa2827a",
   "metadata": {},
   "source": [
    "Before we can fix this, we need to know what the missing data means.\n",
    "\n",
    "In the case of the course code, the value is missing because the data didn't include any courses of 1 or 2 people (as they may be identified by their uniqueness in the data). So this missing data could be characterised as `OTHER` (a course other than the main courses listed).\n",
    "\n",
    "Let's replace the `NaN`s with `OTHER`s for the course column..."
   ]
  },
  {
   "cell_type": "code",
   "execution_count": null,
   "id": "475fa5f5",
   "metadata": {},
   "outputs": [],
   "source": [
    "# Replace missing data for course column\n",
    "class_df[???] = class_df[???].fillna(???)\n",
    "# Check that it worked\n",
    "class_df.isna().sum()\n"
   ]
  },
  {
   "cell_type": "markdown",
   "id": "b78be900",
   "metadata": {},
   "source": [
    "Now we can replace the the `NaN`s with `NR`s for the tutorial and studio columns..."
   ]
  },
  {
   "cell_type": "code",
   "execution_count": null,
   "id": "51bd923a",
   "metadata": {},
   "outputs": [],
   "source": [
    "# Replace missing data for tutorial and studio columns\n",
    "columns = [???,???]\n",
    "class_df[columns] = class_df[columns].fillna(???)\n",
    "# Check that it worked\n",
    "class_df.isna().sum()"
   ]
  },
  {
   "cell_type": "markdown",
   "id": "5d7f95d8",
   "metadata": {},
   "source": [
    "In the case of the major column, there is something else lurking. Let's take a look at more rows of the dataframe..."
   ]
  },
  {
   "cell_type": "code",
   "execution_count": null,
   "id": "5ba88334",
   "metadata": {},
   "outputs": [],
   "source": [
    "pd.set_option('display.max_rows', None)"
   ]
  },
  {
   "cell_type": "code",
   "execution_count": null,
   "id": "6f7c2c11",
   "metadata": {
    "scrolled": true,
    "tags": []
   },
   "outputs": [],
   "source": [
    "class_df"
   ]
  },
  {
   "cell_type": "markdown",
   "id": "96bfc84d",
   "metadata": {},
   "source": [
    "What's going on here? We have some cells with `NaN` and some that are just blank. We need to take a closer look at the data in the major column..."
   ]
  },
  {
   "cell_type": "code",
   "execution_count": null,
   "id": "9e028970",
   "metadata": {},
   "outputs": [],
   "source": [
    "# Take a look at the dataframe\n",
    "print(list(class_df.major))"
   ]
  },
  {
   "cell_type": "markdown",
   "id": "95c849da",
   "metadata": {},
   "source": [
    "It's now obvious that there is *whitespace* in the column as well as `NaN`s. Let's convert the whitespace to `NaN`s and then replace the `NaN`s with `NONE`"
   ]
  },
  {
   "cell_type": "code",
   "execution_count": null,
   "id": "50ea0692",
   "metadata": {},
   "outputs": [],
   "source": [
    "# Replace whitespace major column\n",
    "class_df[???] = class_df[???].replace(r'^\\s*$', np.nan, regex=True)\n",
    "# Check that it worked\n",
    "class_df.isna().sum()"
   ]
  },
  {
   "cell_type": "code",
   "execution_count": null,
   "id": "01d02412",
   "metadata": {},
   "outputs": [],
   "source": [
    "# Replace missing data for course column\n",
    "class_df[???] = class_df[???].fillna(???)\n",
    "# Check that it worked\n",
    "class_df.isna().sum()"
   ]
  },
  {
   "cell_type": "code",
   "execution_count": null,
   "id": "07ca23c6",
   "metadata": {
    "scrolled": true,
    "tags": []
   },
   "outputs": [],
   "source": [
    "class_df"
   ]
  },
  {
   "cell_type": "markdown",
   "id": "d411c29b",
   "metadata": {},
   "source": [
    "### Analysis\n",
    "\n",
    "In this part of the cycle, we will:\n",
    "1. Select appropriate analysis to address the question\n",
    "2. Analyse the data using selected techniques\n",
    "3. Check suitability of results and re-analyse as necessary\n",
    "\n",
    "As part of this process, we will take into account: \n",
    "- the composition of the data and how techniques might yield useful results\n",
    "- starting with simple approaches and working up to more complex as necessary (and/or feasible)\n",
    "- the appropriateness of the results - is the analysis yielding useful information that can help answer the question"
   ]
  },
  {
   "cell_type": "code",
   "execution_count": null,
   "id": "b6eb11a0",
   "metadata": {},
   "outputs": [],
   "source": [
    "# Find out the proportion of categories for each column\n",
    "class_df.groupby(???).count()"
   ]
  },
  {
   "cell_type": "code",
   "execution_count": null,
   "id": "01b8d9ad",
   "metadata": {},
   "outputs": [],
   "source": [
    "# Just take the course column\n",
    "class_df.groupby('course')[???].count()"
   ]
  },
  {
   "cell_type": "code",
   "execution_count": null,
   "id": "92679e59",
   "metadata": {},
   "outputs": [],
   "source": [
    "# Include the major\n",
    "class_df.groupby(['course',???]).size()"
   ]
  },
  {
   "cell_type": "code",
   "execution_count": null,
   "id": "4b464249",
   "metadata": {},
   "outputs": [],
   "source": [
    "# turn the groupby into a dataframe and concat course and major\n",
    "cm_df = class_df.groupby([???,???]).size().reset_index(name=\"total\")\n",
    "cm_df = cm_df.sort_values(by='total',ascending=False)\n",
    "cm_df['course_major'] = cm_df.course + '_' + cm_df.major \n",
    "cm_df.set_index(???,inplace=True)\n",
    "cm_df.drop([???,???],axis=1,inplace=True)\n",
    "cm_df"
   ]
  },
  {
   "cell_type": "markdown",
   "id": "2233ccf9",
   "metadata": {},
   "source": [
    "### Visualise\n",
    "\n",
    "At this point, it could be helpful to visualise what we found."
   ]
  },
  {
   "cell_type": "code",
   "execution_count": null,
   "id": "a861edab",
   "metadata": {},
   "outputs": [],
   "source": [
    "cm_chart = cm_df.total.plot(kind='bar')"
   ]
  },
  {
   "cell_type": "markdown",
   "id": "732739ea",
   "metadata": {},
   "source": [
    "However, the original grouped data lends itself to a stacked bar chart."
   ]
  },
  {
   "cell_type": "code",
   "execution_count": null,
   "id": "30d23f47",
   "metadata": {},
   "outputs": [],
   "source": [
    "# Get the courses in sorted order\n",
    "courses = list(class_df.course.unique())\n",
    "#Use the grouped data, ordered by courses to created a stacked bar chart\n",
    "cm_chart = class_df.groupby([???,???]).size().unstack().loc[courses].plot(kind=???, stacked=True,colormap=\"turbo\")"
   ]
  },
  {
   "cell_type": "markdown",
   "id": "8515e900",
   "metadata": {},
   "source": [
    "When we are undertaking analysis, we may need to get information from other sources to help us make sense of the data. In this case, looking up QUT course codes is helpful:\n",
    "\n",
    "| Code | Course\n",
    "| -----|--------\n",
    "| IN20 | Master IT\n",
    "| IN23 | Master BPM\n",
    "| IN26 | Grad Cert Data Analytics\n",
    "| IN27 | Master Data Analytics"
   ]
  },
  {
   "cell_type": "markdown",
   "id": "8ab3bb7f",
   "metadata": {},
   "source": [
    "### Analyse\n",
    "\n",
    "We can return to the analysis to do a similar analysis for the Studio and Tutorial sessions"
   ]
  },
  {
   "cell_type": "code",
   "execution_count": null,
   "id": "513deb6a",
   "metadata": {},
   "outputs": [],
   "source": [
    "# groupby for studio and tutes\n",
    "studio_tute = class_df.groupby([???,???]).size().reset_index(name=\"total\")\n",
    "studio_tute"
   ]
  },
  {
   "cell_type": "markdown",
   "id": "87ee93f4",
   "metadata": {},
   "source": [
    "### Visualise\n",
    "\n",
    "And visualise these results"
   ]
  },
  {
   "cell_type": "code",
   "execution_count": null,
   "id": "81c26c0d",
   "metadata": {},
   "outputs": [],
   "source": [
    "st_chart = class_df.groupby([???,???]).size().unstack().plot(kind=???, stacked=???)"
   ]
  },
  {
   "cell_type": "markdown",
   "id": "3d08b14d",
   "metadata": {},
   "source": [
    "### Insights\n",
    "\n",
    "To derive insights, we need to think about the analysis and visualisation and relate them to the original question:\n",
    "\n",
    "> **QUESTION** What different groups of students are studying IFN619, and how might information about the cohort help the teaching team provide meaningful learning experiences?\n",
    "\n",
    "- What does our analysis and visualisation tell/show us that is relevant to the initial question?\n",
    "- Which of the results are the most insightful and why?\n",
    "- Do we need to do further analysis? Why?\n",
    "- What further analysis is possible? Should it be considered? Why?\n",
    "- What are the limitations of the data analytics that we've done. Can we overcome those limitations?\n"
   ]
  },
  {
   "cell_type": "markdown",
   "id": "0bfa25b5",
   "metadata": {},
   "source": [
    "Considering these questions carefully can sometimes result in...\n",
    "- re-thinking the original question\n",
    "- looking for additional data to supplement the original data\n",
    "- undertaking more cleaning of the original data\n",
    "- pursuing further analysis or visualisation\n",
    "- (occasionally) abandoning the approach and adopting a new approach"
   ]
  },
  {
   "cell_type": "markdown",
   "id": "0b8214f5",
   "metadata": {},
   "source": [
    "For example, it might be helpful to consider part time and full time modes and their relationship to the times of the tutorials and studio sessions..."
   ]
  },
  {
   "cell_type": "code",
   "execution_count": null,
   "id": "2dd3a9be",
   "metadata": {},
   "outputs": [],
   "source": [
    "# Create a dictionary to map times to tutorials and studios\n",
    "class_times = {\"STU 1\":\"afternoon\",\n",
    "               \"STU 2\":\"morning\",\n",
    "               \"STU 3\":\"afternoon\",\n",
    "               \"TUT 1\":\"evening\",\n",
    "               \"TUT 2\":\"morning\",\n",
    "               \"TUT 3\":\"afternoon\",\n",
    "               \"TUT 5\":\"evening\",\n",
    "               \"TUT 6\":\"morning\",\n",
    "               \"NR\":\"none\"}\n",
    "\n",
    "# Create a function to return the time for the session\n",
    "def get_time(session):\n",
    "    return class_times[???]\n",
    "\n",
    "# Test the function\n",
    "get_time(???)"
   ]
  },
  {
   "cell_type": "code",
   "execution_count": null,
   "id": "6c69de06",
   "metadata": {
    "scrolled": true,
    "tags": []
   },
   "outputs": [],
   "source": [
    "# Create new columns for the times calculated based on the class_times dictionary\n",
    "class_df['studio_time'] = class_df[???].apply(get_time)\n",
    "class_df['tutorial_time'] = class_df[???].apply(get_time)\n",
    "class_df"
   ]
  },
  {
   "cell_type": "code",
   "execution_count": null,
   "id": "7fe44067",
   "metadata": {},
   "outputs": [],
   "source": [
    "times_chart = class_df.groupby([???,???,'mode']).size().unstack().plot(kind='bar', stacked=True)"
   ]
  },
  {
   "cell_type": "markdown",
   "id": "67a73686",
   "metadata": {},
   "source": [
    "### Insights\n",
    "\n",
    "Insights from this visualisation at first glance don't look surprising, but there are some factors in the data that can skew our interpretation...\n",
    "- there are only limited times for students to select, and they are not offered in equal numbers\n",
    "- not all offerings are available when class registration opens\n",
    "- once a class is full, students need to register for a different class even if its not their preference\n",
    "- there are not equal number of full-time and part-time students\n"
   ]
  },
  {
   "cell_type": "markdown",
   "id": "388b68e3",
   "metadata": {},
   "source": [
    "### FINAL INSIGHTS\n",
    "\n",
    "{synthesise the insights from above here in written form}\n"
   ]
  },
  {
   "cell_type": "markdown",
   "id": "38e45fb7",
   "metadata": {},
   "source": [
    "---\n",
    "\n",
    "## Next steps...\n",
    "\n",
    "1. Experiment with the data and the code above to try different approaches to the analysis\n",
    "2. Attend the tutorial, and try the data analytics cycle with a different problem\n",
    "3. Try out some of the exercises during the week"
   ]
  }
 ],
 "metadata": {
  "creation_period": "",
  "kernelspec": {
   "display_name": "Python 3 (ipykernel)",
   "language": "python",
   "name": "python3"
  },
  "language_info": {
   "codemirror_mode": {
    "name": "ipython",
    "version": 3
   },
   "file_extension": ".py",
   "mimetype": "text/x-python",
   "name": "python",
   "nbconvert_exporter": "python",
   "pygments_lexer": "ipython3",
   "version": "3.9.16"
  },
  "nb_name": "template",
  "qut": {
   "creation_period": "2023_sem1",
   "nb_name": "A2-DataAnalyticsCycle",
   "unit_code": "IFN619"
  },
  "unit_code": "",
  "vscode": {
   "interpreter": {
    "hash": "d4d1e4263499bec80672ea0156c357c1ee493ec2b1c70f0acce89fc37c4a6abe"
   }
  }
 },
 "nbformat": 4,
 "nbformat_minor": 5
}
