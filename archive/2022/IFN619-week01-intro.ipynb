{
 "cells": [
  {
   "cell_type": "markdown",
   "id": "unlimited-webster",
   "metadata": {
    "slideshow": {
     "slide_type": "slide"
    }
   },
   "source": [
    "# IFN619 - Data Analytics for Strategic Decision Makers\n",
    "\n",
    "## Introduction"
   ]
  },
  {
   "cell_type": "markdown",
   "id": "entitled-blame",
   "metadata": {
    "slideshow": {
     "slide_type": "slide"
    }
   },
   "source": [
    "### Agenda\n",
    "\n",
    "0. Change in plans - weeks 1-3\n",
    "\n",
    "1. Team introductions\n",
    "\n",
    "2. Slack\n",
    "\n",
    "3. Overview - Learning Guide\n",
    "\n",
    "4. Jupyter & Python\n",
    "\n",
    "5. Assessment 3 - Reflective Journal\n",
    "\n",
    "6. GoingOK\n",
    "\n",
    "7. Q&A"
   ]
  },
  {
   "cell_type": "markdown",
   "id": "6d43adb1",
   "metadata": {
    "slideshow": {
     "slide_type": "slide"
    }
   },
   "source": [
    "### [0] Change in plans - weeks 1-3\n",
    "\n",
    "* Providing a bit of certainty - different contexts for different people\n",
    "* Module 1\n",
    "* Planning to return to oncampus week 4\n",
    "* Ensure that you are enrolled in a suitable studio/tutorial\n",
    "* Wed 3-5pm - if this time works for you, please swap!\n"
   ]
  },
  {
   "cell_type": "markdown",
   "id": "forbidden-danger",
   "metadata": {
    "slideshow": {
     "slide_type": "slide"
    }
   },
   "source": [
    "### [1] The Team\n",
    "\n",
    "**Lecturers:**\n",
    "* Dr Andrew Gibson & Dr Catarina Moreira (Tues studios 9am & 2pm)\n",
    "\n",
    "**Tutors:**\n",
    "* Miguel Canizares (Wed 1pm, Thurs 10am & 6pm)\n",
    "* Mythreyi Velmurugan (Wed 3pm)"
   ]
  },
  {
   "cell_type": "markdown",
   "id": "supposed-hybrid",
   "metadata": {
    "slideshow": {
     "slide_type": "slide"
    }
   },
   "source": [
    "### [2] Slack\n",
    "\n",
    "* Use the link on blackboard to get signed up\n",
    "* Introduce yourself - congrats to those who already have\n",
    "* Make sure you know how to:\n",
    "    * add channels\n",
    "    * reply in thread\n",
    "    * acknowledge with emoji\n",
    "    * post code\n",
    "* Please DON'T DM the teaching team. If it's personal, email U/C.\n",
    "* demo..."
   ]
  },
  {
   "cell_type": "markdown",
   "id": "close-delay",
   "metadata": {
    "slideshow": {
     "slide_type": "slide"
    }
   },
   "source": [
    "### [3] Overview - Learning Guide\n",
    "\n",
    "* Make sure you download AND READ the Learning Guide  (Slack & Blackboard)\n",
    "* Note the structure of the unit - what we do differently\n",
    "* Put dates in your calendar\n",
    "* Note expectations and communication\n",
    "* Note approach to assessment\n"
   ]
  },
  {
   "cell_type": "markdown",
   "id": "presidential-engineer",
   "metadata": {
    "slideshow": {
     "slide_type": "slide"
    }
   },
   "source": [
    "### [4] Jupyter & Python\n",
    "* About Jupyter - [https://jupyter.qutanalytics.io](https://jupyter.qutanalytics.io)\n",
    "* Upload the 'Welcome' and sync files from GitHub\n",
    "* Get Help!! (tutorials, but skip the install, and don't need command line)\n",
    "* Basic tour - markdown and code"
   ]
  },
  {
   "cell_type": "markdown",
   "id": "periodic-ideal",
   "metadata": {
    "slideshow": {
     "slide_type": "slide"
    }
   },
   "source": [
    "### [5] Assessment 3 - Reflective Journal\n",
    "\n",
    "* Make sure you download AND READ the Task sheet (Slack & Blackboard)\n",
    "* Subscribe to the `#assess3-reflectivejournal` channel on Slack\n",
    "* Put dates in your calendar\n",
    "* Note the formative component"
   ]
  },
  {
   "cell_type": "markdown",
   "id": "virgin-clinton",
   "metadata": {
    "slideshow": {
     "slide_type": "slide"
    }
   },
   "source": [
    "### [6] GoingOK\n",
    "* About GoingOK - [https://qut.goingok.org](https://qut.goingok.org)\n",
    "* Optional, but helpful\n",
    "* Deidentified reflections help teaching team\n",
    "* Deidentified reflections may be used in reflective writing analytics research\n"
   ]
  },
  {
   "cell_type": "markdown",
   "id": "fifty-stack",
   "metadata": {
    "slideshow": {
     "slide_type": "slide"
    }
   },
   "source": [
    "### [7] Q&A\n",
    "\n",
    "* Not recorded\n",
    "* Additional questions via Slack"
   ]
  }
 ],
 "metadata": {
  "celltoolbar": "Slideshow",
  "kernelspec": {
   "display_name": "Python 3",
   "language": "python",
   "name": "python3"
  },
  "language_info": {
   "codemirror_mode": {
    "name": "ipython",
    "version": 3
   },
   "file_extension": ".py",
   "mimetype": "text/x-python",
   "name": "python",
   "nbconvert_exporter": "python",
   "pygments_lexer": "ipython3",
   "version": "3.6.9"
  }
 },
 "nbformat": 4,
 "nbformat_minor": 5
}
