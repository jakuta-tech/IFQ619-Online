{
 "cells": [
  {
   "cell_type": "markdown",
   "metadata": {},
   "source": [
    "# Module 1 - The Data Analytics Cycle - Exercise 1\n",
    "\n",
    "## Familiarise yourself with Jupyter\n",
    "\n",
    "First, open the [JupyterLab Documentation](https://jupyterlab.readthedocs.io/en/stable/user/interface.html) and read at least the following sections, stopping to experiment with your own Jupyter environment as you go:\n",
    "1. [The Jupyter interface](https://jupyterlab.readthedocs.io/en/stable/user/interface.html#the-jupyterlab-interface)\n",
    "2. [Working with files](https://jupyterlab.readthedocs.io/en/stable/user/files.html#working-with-files)\n",
    "3. [Notebooks](https://jupyterlab.readthedocs.io/en/stable/user/notebook.html#notebooks)\n",
    "\n",
    "After you are familiar with the basic environment, try working with notebook cells by modifying this notebook under the sections below."
   ]
  },
  {
   "cell_type": "markdown",
   "metadata": {},
   "source": [
    "### Markdown cells\n",
    "\n",
    "Open `Help > Markdown Reference` and read what is possible to do in a markdown cell. Try out the 10 minute tutorial to get a feel for what is possible.\n",
    "\n",
    "Try creating the following markdown elements. Create a new markdown cell for each element: \n",
    "\n",
    "1. Headings - 3 different levels. Then give each subsequent element a heading \n",
    "2. Plain text, italics and bold text, and a horizontal line. Then put a line between each element. \n",
    "3. A numbered list of your 3 favourite bands/musicians, with sublists of a couple of their albums \n",
    "4. A bulleted list of your 3 favourite movies, with sublists of characters in each. \n",
    "5. A table with your movies above, your favourite character and the actor who plays the character. \n",
    "6. A quote from a web page, and a link to the original webpage \n",
    "7. A code block that demonstrates printing your name \n",
    "8. An inline maths equation for a quadratic equation - f of x equals ax squared plus bx plus c (between some text)"
   ]
  },
  {
   "cell_type": "markdown",
   "metadata": {},
   "source": [
    "Write your markdown here"
   ]
  },
  {
   "cell_type": "markdown",
   "metadata": {},
   "source": [
    "### Python cells\n",
    "\n",
    "Open `Help > Python Reference` and browse the resources available to help you recall (or learn) basic Python. You can learn as you go, so if you don't have a good knowledge of Python, don't worry - you will be able to pick it up week by week.\n",
    "\n",
    "Try running Python code for the following tasks. Create a new Code cell for each task.\n",
    "\n",
    "1. Code comments. Include one at the start of the cell and another beside answer = 42 that tells the reader that it is the answer to life, the universe and everything.\n",
    "2. Calculate the number hours in a week. Assign this to a variable hoursInWeek, and then calculate the number of hours in a 13 week semester. Comment what you are doing.\n",
    "3. Create a 2 line string using newline and print it out.\n",
    "4. Create a 3 line string using triple quotes and print it out.\n",
    "5. Print out Data Analytics for Strategic Decision Makers concatenated from 4 parts.\n",
    "6. Assign IFN619 Data Analytics for Strategic Decision Makers to a variable unit and then extract the unit code separated to the unit name and print them out as Data Analytics for Strategic Decision Makers (IFN619).\n",
    "7. Check that the unit code is 6 characters long.\n",
    "8. Add your movies from the markdown task to a list, then use a while loop to print each element of the list out on a separate line.\n"
   ]
  },
  {
   "cell_type": "code",
   "execution_count": 1,
   "metadata": {},
   "outputs": [],
   "source": [
    "# Write your python code here\n"
   ]
  }
 ],
 "metadata": {
  "kernelspec": {
   "display_name": "Python 3",
   "language": "python",
   "name": "python3"
  },
  "language_info": {
   "codemirror_mode": {
    "name": "ipython",
    "version": 3
   },
   "file_extension": ".py",
   "mimetype": "text/x-python",
   "name": "python",
   "nbconvert_exporter": "python",
   "pygments_lexer": "ipython3",
   "version": "3.6.9"
  }
 },
 "nbformat": 4,
 "nbformat_minor": 4
}
