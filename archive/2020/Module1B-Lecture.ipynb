{
 "cells": [
  {
   "cell_type": "markdown",
   "metadata": {
    "slideshow": {
     "slide_type": "slide"
    }
   },
   "source": [
    "<div class=\"alert alert-block alert-success\"><h3>IFN619 - Data Analytics for Strategic Decision Makers</h4></div>"
   ]
  },
  {
   "cell_type": "markdown",
   "metadata": {
    "slideshow": {
     "slide_type": "slide"
    }
   },
   "source": [
    "# Module 1B Lecture\n",
    "\n",
    "1. Motivation\n",
    "2. The Data Analytics Process\n",
    "3. Case Study: The Corona Virus\n",
    "4. Optional Exercises\n"
   ]
  },
  {
   "cell_type": "markdown",
   "metadata": {
    "slideshow": {
     "slide_type": "slide"
    }
   },
   "source": [
    "## Introduction: Data Analytics and the Business Concern\n",
    "\n",
    "- Goal of data analytics: given a **business concern**, **augment human intelligence** using data and analytical techniques\n",
    "\n",
    "- It is about converting data in a **meaningful way** so you can make a decision\n",
    "\n",
    "<img src=\"images/data_analytics.png\" />\n"
   ]
  },
  {
   "cell_type": "markdown",
   "metadata": {},
   "source": [
    "- Data is a valuable resource that organizations should learn to extract and use to get additional information in order to make better decisions.\n",
    "\n",
    "- Data is the “new economic currency”. Who has more, has the opportunity to gain market advantage\n",
    "\n",
    "- However, the more data you collect, the more difficult it is for a human to get some understanding about it. The goal of this unit is to help you make the data more interpretable so you can act upon it!"
   ]
  },
  {
   "cell_type": "markdown",
   "metadata": {
    "slideshow": {
     "slide_type": "slide"
    }
   },
   "source": [
    "## How to Approach a Data Science Case Study?\n",
    "\n",
    "Case studies help students learn by immersing them in a real world business scenario where they act as problem solvers and decision-makers.\n",
    "\n",
    "A case study must not merely summarize the case. It should identify **key features** and **key problems**. And also **outline** and **assess** alternative courses of action to deal with the problem you identify.\n",
    "\n",
    "One can do this in four steps:\n",
    "\n",
    "<img src=\"images/case_study.png\" />\n",
    "\n",
    "\n"
   ]
  },
  {
   "cell_type": "markdown",
   "metadata": {
    "slideshow": {
     "slide_type": "slide"
    }
   },
   "source": [
    "### Problem Discovery\n",
    "\n",
    "- What is the business question?\n",
    "- What is the context surrounding the question?\n",
    "- Why is the answer relevant for the context?\n",
    "- What opportunities emerge by addressing this question (business, social, technological)?\n",
    "- Is the answer answerable and feasible?"
   ]
  },
  {
   "cell_type": "markdown",
   "metadata": {
    "slideshow": {
     "slide_type": "slide"
    }
   },
   "source": [
    "### Identify Approach\n",
    "\n",
    "- What methods were applied?\n",
    "- What variables is the method going to deal with?\n",
    "- Were the methods appropriate to address the question?\n",
    "- Was the analysis well conducted?"
   ]
  },
  {
   "cell_type": "markdown",
   "metadata": {
    "slideshow": {
     "slide_type": "slide"
    }
   },
   "source": [
    "### Identify Findings\n",
    "\n",
    "- What were the findings?\n",
    "- Are the findings statistically significant?\n",
    "- How are the findings linked with methods?\n",
    "- Are there potential issues with these findings?"
   ]
  },
  {
   "cell_type": "markdown",
   "metadata": {
    "slideshow": {
     "slide_type": "slide"
    }
   },
   "source": [
    "### Analyse the Case\n",
    "\n",
    "- What kind of analysis was made (business, social, technological)?\n",
    "- Does the analysis answer the business question\n",
    "- Were there any risks with the approach that was taken?\n",
    "- Would you follow an alternative analysis to answer the question? Why?"
   ]
  },
  {
   "cell_type": "markdown",
   "metadata": {},
   "source": [
    "## Case Study: The Corona Virus\n",
    "\n",
    "A highly contagious virus has hit China and it is spreading fast, not only in mainland China, but also other countries accross the world. At the moment, the virus has spread accross Europe, Amnerica, Australia, Nz, and many other countries.\n",
    "\n",
    "The World Health Organisation (WHO) wants to take some measures in order to slow down the spread of the virus, but they have no idea how to achive this. \n",
    "\n",
    "You have been called to analyse the latest reported data about the virus. Can you help the WHO and give them some insights based on the data that has been collected?\n"
   ]
  },
  {
   "cell_type": "markdown",
   "metadata": {},
   "source": [
    "### The Data Analytics Cycle\n",
    "\n",
    "<img src=\"images/Data Analytics Decision Process.png\" />\n",
    "\n"
   ]
  },
  {
   "cell_type": "markdown",
   "metadata": {},
   "source": [
    "As a business analyst, we need to always keep in mind our business concern. It is our business concern that will guide our analysis.\n",
    "\n",
    "- What is the **business question**?\n",
    "- What is the **context** surrounding the question?\n",
    "- Why is the answer **relevant** for the **context**?\n",
    "- What **opportunities** (and challenges) emerge by addressing this question (business, social, technological)?\n",
    "- Is the answer **answerable** and **feasible**?\n",
    "\n",
    "For this case study, I will be interested in analysing the spread of the corona virus thoughout the world and how it affects people of different countries. Is there a reason to panic about this virus?"
   ]
  },
  {
   "cell_type": "markdown",
   "metadata": {},
   "source": [
    "### Collect / Load Data\n",
    "\n",
    "What data (or variables) do we need to address our business concern and where can we get them?\n",
    "\n",
    "For this case study, I will make use of the following data:\n",
    "\n",
    "- Corona virus dataset from \n",
    "\n"
   ]
  },
  {
   "cell_type": "code",
   "execution_count": null,
   "metadata": {
    "ExecuteTime": {
     "end_time": "2020-03-08T21:30:24.454644Z",
     "start_time": "2020-03-08T21:30:21.946010Z"
    }
   },
   "outputs": [],
   "source": [
    "# install library\n",
    "!pip install folium"
   ]
  },
  {
   "cell_type": "code",
   "execution_count": null,
   "metadata": {
    "ExecuteTime": {
     "end_time": "2020-03-08T21:33:48.472550Z",
     "start_time": "2020-03-08T21:33:48.465292Z"
    }
   },
   "outputs": [],
   "source": [
    "# import libraries\n",
    "import numpy as np              # used for algebraic operations      \n",
    "import pandas as pd             # used for data manipulation and data analysis\n",
    "import matplotlib.pyplot as plt # used for visualisations\n",
    "import seaborn as sns           # used for visualisations\n",
    " \n",
    "from IPython.display import Markdown # used for visualisations\n",
    "import plotly.graph_objs as go       # used for visualisations\n",
    "import plotly.offline as py          # used for visualisations\n",
    "from plotly.subplots import make_subplots # used for visualisations\n",
    "import plotly.express as px          # used for visualisations\n",
    "import folium                        # used for visualisations\n",
    "from folium import plugins           # used for visualisations\n",
    "import json\n",
    "plt.style.use('fivethirtyeight')        # setting the style in visualisations\n",
    "plt.rcParams.update({'font.size': 14})  # setting the font size in visualisations\n",
    "\n",
    "pd.set_option('display.max_rows', 250)  # maximum number of rows to display in a dataframe\n",
    "pd.options.display.max_rows\n",
    "\n"
   ]
  },
  {
   "cell_type": "code",
   "execution_count": null,
   "metadata": {
    "ExecuteTime": {
     "end_time": "2020-03-08T19:10:54.201497Z",
     "start_time": "2020-03-08T19:10:52.817368Z"
    },
    "scrolled": true
   },
   "outputs": [],
   "source": [
    "# real-time updated datasets with information about\n",
    "# COVID-19 confirmed cases\n",
    "# COVID-19 related death cases\n",
    "# COVID-19 related recovered cases\n",
    "url_confirmed = \"https://raw.githubusercontent.com/CSSEGISandData/COVID-19/master/csse_covid_19_data/csse_covid_19_time_series/time_series_19-covid-Confirmed.csv\"\n",
    "url_deaths = \"https://raw.githubusercontent.com/CSSEGISandData/COVID-19/master/csse_covid_19_data/csse_covid_19_time_series/time_series_19-covid-Deaths.csv\"\n",
    "url_recovered = \"https://raw.githubusercontent.com/CSSEGISandData/COVID-19/master/csse_covid_19_data/csse_covid_19_time_series/time_series_19-covid-Recovered.csv\"\n",
    "\n",
    "INDEX = \"Country/Region\"\n",
    "\n",
    "# dataset with the number of confirmed COVID-19 cases accross the world\n",
    "data_conf = pd.read_csv( url_confirmed, index_col=INDEX )\n",
    "\n",
    "# dataset with the number of death related COVID-19 cases accross the world\n",
    "data_deaths = pd.read_csv( url_deaths, index_col=INDEX )\n",
    "\n",
    "# dataset with the number of recovered COVID-19 cases accross the world\n",
    "data_recovered = pd.read_csv( url_recovered, index_col=INDEX )\n"
   ]
  },
  {
   "cell_type": "code",
   "execution_count": null,
   "metadata": {
    "ExecuteTime": {
     "end_time": "2020-03-08T19:13:09.104115Z",
     "start_time": "2020-03-08T19:13:09.017841Z"
    }
   },
   "outputs": [],
   "source": [
    "data_conf"
   ]
  },
  {
   "cell_type": "code",
   "execution_count": null,
   "metadata": {
    "ExecuteTime": {
     "end_time": "2020-03-08T19:13:16.196706Z",
     "start_time": "2020-03-08T19:13:16.114276Z"
    }
   },
   "outputs": [],
   "source": [
    "# taking a quick look at the data\n",
    "data_deaths"
   ]
  },
  {
   "cell_type": "code",
   "execution_count": null,
   "metadata": {
    "ExecuteTime": {
     "end_time": "2020-03-08T19:13:18.633252Z",
     "start_time": "2020-03-08T19:13:18.554253Z"
    }
   },
   "outputs": [],
   "source": [
    "# taking a quick look at the data\n",
    "data_recovered"
   ]
  },
  {
   "cell_type": "markdown",
   "metadata": {},
   "source": [
    "Looking at the dataset, it seems that the number of rows correspond to the pair Country / State where it was reported a confirmed case, a recovered case or a death related case of COVID-19\n",
    "\n",
    "The columns have information about the geographic codes where COVID-19 has been found and it has the overall number of confirmed cases, deaths and recovered cases **per day** since the **22nd of January of 2020**.\n",
    "\n",
    "For curiosity, this type of arrangement of data in a dataset is called a **time series**. This kind of format is very used in finance / economic data analytics problems."
   ]
  },
  {
   "cell_type": "code",
   "execution_count": null,
   "metadata": {
    "ExecuteTime": {
     "end_time": "2020-03-08T19:14:00.908090Z",
     "start_time": "2020-03-08T19:14:00.904295Z"
    }
   },
   "outputs": [],
   "source": [
    "# general information about the dataset\n",
    "num_states = data_conf.shape[0]\n",
    "num_days = data_conf.shape[1] - 3 # removing the columns without time information\n",
    "\n",
    "# get the column names out of your dataset\n",
    "column_info = data_conf.columns\n",
    "\n",
    "# get information about the first date where the virus has been reported\n",
    "start_date = column_info[3]\n",
    "\n",
    "# get information about the last date where the virus has been reported\n",
    "end_date = column_info[-1] # the -1 index represents the END of a list\n",
    "\n",
    "print(\"There are %d regions where COVID-19 has been confirmed\" %num_states )\n",
    "print(\"The evolution of confirmed cases is reported throughout %d days with\\nStart Date: %s\\nEnd Date: %s\" %(num_days, start_date, end_date))\n",
    "\n"
   ]
  },
  {
   "cell_type": "markdown",
   "metadata": {},
   "source": [
    "### Data Cleaning / Preprocessing"
   ]
  },
  {
   "cell_type": "code",
   "execution_count": null,
   "metadata": {
    "ExecuteTime": {
     "end_time": "2020-03-08T19:14:18.535544Z",
     "start_time": "2020-03-08T19:14:18.530927Z"
    }
   },
   "outputs": [],
   "source": [
    "# Lets check the total #Countries affected by nCoV\n",
    "\n",
    "list_countries = data_conf.index.unique().tolist()\n",
    "print('\\n')\n",
    "print(list_countries)\n",
    "print(\"\\n------------------------------------------------------------------\")\n",
    "print(\"\\nTotal countries affected by nCoV: \",len(list_countries))"
   ]
  },
  {
   "cell_type": "code",
   "execution_count": null,
   "metadata": {
    "ExecuteTime": {
     "end_time": "2020-03-08T19:14:21.007730Z",
     "start_time": "2020-03-08T19:14:21.003675Z"
    }
   },
   "outputs": [],
   "source": [
    "# let's rename \"Mainland China\" to just \"China\"\n",
    "data_conf.index = np.where(data_conf.index == 'Mainland China', \n",
    "                                       'China', \n",
    "                                       data_conf.index)\n",
    "\n",
    "data_deaths.index = np.where(data_deaths.index == 'Mainland China', \n",
    "                                       'China', \n",
    "                                       data_deaths.index)\n",
    "\n",
    "data_recovered.index = np.where(data_recovered.index == 'Mainland China', \n",
    "                                       'China', \n",
    "                                       data_recovered.index)"
   ]
  },
  {
   "cell_type": "code",
   "execution_count": null,
   "metadata": {
    "ExecuteTime": {
     "end_time": "2020-03-08T19:14:23.369029Z",
     "start_time": "2020-03-08T19:14:23.364814Z"
    }
   },
   "outputs": [],
   "source": [
    "# Check the # countries again\n",
    "nCoV_Countries = data_conf.index.unique().tolist()\n",
    "print('\\n')\n",
    "print(nCoV_Countries)\n",
    "print(\"\\n------------------------------------------------------------------\")\n",
    "print(\"\\nTotal countries affected by COVID-19: \",len(nCoV_Countries))"
   ]
  },
  {
   "cell_type": "markdown",
   "metadata": {
    "ExecuteTime": {
     "end_time": "2020-03-08T06:41:31.080170Z",
     "start_time": "2020-03-08T06:41:31.061964Z"
    }
   },
   "source": [
    "**Exploring Some Data Quaility Techniques with Python**\n",
    "\n",
    "\n",
    "When using dataframes, a very useful function that gives you a full overview of your dataset is *info()*\n"
   ]
  },
  {
   "cell_type": "code",
   "execution_count": null,
   "metadata": {
    "ExecuteTime": {
     "end_time": "2020-03-08T17:42:42.234866Z",
     "start_time": "2020-03-08T17:42:42.228309Z"
    }
   },
   "outputs": [],
   "source": [
    "# one can see that there are missing values in the column \"Province/State\"\n",
    "# Do you think this is problematic for our analysis?\n",
    "data_conf.info()\n"
   ]
  },
  {
   "cell_type": "markdown",
   "metadata": {},
   "source": [
    "In Pandas missing data is represented by two value:\n",
    "\n",
    "- *None*\n",
    "- *NaN (Not a Number)*\n",
    "\n",
    "Pandas treats *None* and *NaN* for indicating **missing or null values**. To facilitate this convention, there are several useful functions for **detecting**, **removing**, and **replacing** null values in Pandas DataFrame:\n",
    "\n",
    "- isnull()\n",
    "- notnull()\n",
    "- dropna()\n",
    "- fillna()\n",
    "- replace()\n",
    "- interpolate()"
   ]
  },
  {
   "cell_type": "code",
   "execution_count": null,
   "metadata": {
    "ExecuteTime": {
     "end_time": "2020-03-08T17:42:48.503139Z",
     "start_time": "2020-03-08T17:42:48.452462Z"
    }
   },
   "outputs": [],
   "source": [
    "# one can display the rows to the dataset where the \"Province/State\" is NULL\n",
    "\n",
    "# for the confirmed cases\n",
    "null_entries_conf = pd.isnull(data_conf[\"Province/State\"]) \n",
    "data_conf[null_entries_conf]\n",
    "\n",
    "# the death related cases\n",
    "null_entries_deaths = pd.isnull(data_conf[\"Province/State\"]) \n",
    "data_deaths[null_entries_deaths]\n",
    "\n",
    "# the recovered cases\n",
    "null_entries_recs = pd.isnull(data_conf[\"Province/State\"]) \n",
    "data_recovered[null_entries_recs]\n"
   ]
  },
  {
   "cell_type": "code",
   "execution_count": null,
   "metadata": {
    "ExecuteTime": {
     "end_time": "2020-03-08T17:42:52.458306Z",
     "start_time": "2020-03-08T17:42:52.395189Z"
    },
    "solution": "shown",
    "solution_first": true
   },
   "outputs": [],
   "source": [
    "# one can also ask the opposite question and check the information of NON-NULL entries\n",
    "not_null_entries = pd.notnull(data_conf[\"Province/State\"]) \n",
    "\n",
    "data_conf[not_null_entries]"
   ]
  },
  {
   "cell_type": "markdown",
   "metadata": {},
   "source": [
    "In order to fill null values in a datasets, we use the functions *fillna()*, *dropna()* or *interpolate()*. \n",
    "\n",
    "These functions replace NaN values with some value of their own.\n",
    "\n",
    "- **fillna()** fucntion basically hard-codes a value to replace the NaN entries. It is used for simpler datasets with few missing entries (like in this lecture).\n",
    "\n",
    "- **interpolate()** function is basically used to fill NA values in the dataframe but it uses various interpolation techniques to fill the missing values rather than hard-coding the value. This method uses **statistical estimations** based on the distribution of the data. This is an advanced method that you might be interested in exploring in your tutorials or in your assignments if you are dealing with a complex dataset\n",
    "\n",
    "- **dropna()** function basically drops either a row or a column. This is usually applied for datasets where there are variables that have **too many missing entries** and it is not possible to estimate them or to hand-code them\n"
   ]
  },
  {
   "cell_type": "code",
   "execution_count": null,
   "metadata": {
    "ExecuteTime": {
     "end_time": "2020-03-08T17:42:54.420304Z",
     "start_time": "2020-03-08T17:42:54.415594Z"
    }
   },
   "outputs": [],
   "source": [
    "# let's fill the NaN columns with \"Not Specified\"\n",
    "\n",
    "# filling a null values using fillna() for the confirmed cases\n",
    "data_conf.fillna(\"Not Specified\", inplace = True)  \n",
    "\n",
    "# filling a null values using fillna() for the confirmed cases\n",
    "data_deaths.fillna(\"Not Specified\", inplace = True)  \n",
    "\n",
    "# filling a null values using fillna() for the confirmed cases\n",
    "data_recovered.fillna(\"Not Specified\", inplace = True)  \n"
   ]
  },
  {
   "cell_type": "code",
   "execution_count": null,
   "metadata": {
    "ExecuteTime": {
     "end_time": "2020-03-08T17:42:55.789258Z",
     "start_time": "2020-03-08T17:42:55.783104Z"
    }
   },
   "outputs": [],
   "source": [
    "# one can double check if this worked\n",
    "data_conf.info()\n"
   ]
  },
  {
   "cell_type": "markdown",
   "metadata": {},
   "source": [
    "### Analysis & Visualisation\n",
    "\n",
    "Let's analyse the distribution of Confirmed, Deaths, Recovered cases on every day basis starting from 22nd Jan 2019"
   ]
  },
  {
   "cell_type": "markdown",
   "metadata": {},
   "source": [
    "So far, the analysis showed that our data is cummulative: the cases confirmed in a specific day will be propagated (or accumulated) to the next day and so on. So this distribution is always growing. This is obvious and can show us how much it is growing. "
   ]
  },
  {
   "cell_type": "code",
   "execution_count": null,
   "metadata": {
    "ExecuteTime": {
     "end_time": "2020-03-08T19:22:47.458979Z",
     "start_time": "2020-03-08T19:22:47.409516Z"
    }
   },
   "outputs": [],
   "source": [
    "# the data is cummulative. We can group the information by country by getting \n",
    "# the last value reported in the data, in order to get more realistic values\n",
    "confirmed_cases_per_day = data_conf.iloc[:,3:].groupby(data_conf.index).last()\n",
    "death_cases_per_day = data_deaths.iloc[:,3:].groupby(data_deaths.index).last()\n",
    "recov_cases_per_day = data_recovered.iloc[:,3:].groupby(data_recovered.index).last()\n",
    "\n",
    "# let's take a look at the confirmed cases\n",
    "confirmed_cases_per_day"
   ]
  },
  {
   "cell_type": "code",
   "execution_count": null,
   "metadata": {
    "ExecuteTime": {
     "end_time": "2020-03-08T19:22:54.263164Z",
     "start_time": "2020-03-08T19:22:52.646849Z"
    }
   },
   "outputs": [],
   "source": [
    "fig = plt.figure(figsize=(25,10))\n",
    "ax = fig.add_subplot(111)\n",
    "\n",
    "sns.barplot(  data = confirmed_cases_per_day)\n",
    "ax.set_xticklabels( confirmed_cases_per_day , rotation=45 )\n",
    "plt.xlabel(\"Date\")\n",
    "plt.xlabel(\"Number of People with COVID-19\")\n",
    "plt.title('Distribution of total confirmed cases of COVID-19 on every day basis starting from 22nd Jan')\n"
   ]
  },
  {
   "cell_type": "markdown",
   "metadata": {},
   "source": [
    "One can notice that the distribution of dead people is shifted compared with the number of confirmed cases: almost 1 month later the start of the virus, one starts to notice significant numbers of deaths"
   ]
  },
  {
   "cell_type": "code",
   "execution_count": null,
   "metadata": {
    "ExecuteTime": {
     "end_time": "2020-03-08T19:22:58.364645Z",
     "start_time": "2020-03-08T19:22:56.800511Z"
    }
   },
   "outputs": [],
   "source": [
    "fig = plt.figure(figsize=(25,10))\n",
    "ax = fig.add_subplot(111)\n",
    "\n",
    "sns.barplot(  data = death_cases_per_day)\n",
    "ax.set_xticklabels( death_cases_per_day , rotation=45 )\n",
    "plt.xlabel(\"Date\")\n",
    "plt.xlabel(\"Number of Deaths\")\n",
    "plt.title('Distribution of total people who died because of COVID-19 on every day basis starting from 22nd Jan')\n"
   ]
  },
  {
   "cell_type": "markdown",
   "metadata": {},
   "source": [
    "Regarding the number of recovered cases, one can see that after 2 / 3 weeks, one can already see a significant amount of poeple recovering from the virus\n",
    "\n"
   ]
  },
  {
   "cell_type": "code",
   "execution_count": null,
   "metadata": {
    "ExecuteTime": {
     "end_time": "2020-03-08T19:23:02.541662Z",
     "start_time": "2020-03-08T19:23:00.895666Z"
    }
   },
   "outputs": [],
   "source": [
    "fig = plt.figure(figsize=(25,10))\n",
    "ax = fig.add_subplot(111)\n",
    "\n",
    "sns.barplot(  data = recov_cases_per_day)\n",
    "ax.set_xticklabels( recov_cases_per_day , rotation=45 )\n",
    "plt.xlabel(\"Date\")\n",
    "plt.xlabel(\"Number of Recovered Cases\")\n",
    "plt.title('Distribution of total people who recovered from COVID-19 on every day basis starting from 22nd Jan')\n"
   ]
  },
  {
   "cell_type": "code",
   "execution_count": null,
   "metadata": {
    "ExecuteTime": {
     "end_time": "2020-03-08T19:35:00.486899Z",
     "start_time": "2020-03-08T19:34:59.496623Z"
    }
   },
   "outputs": [],
   "source": [
    "# let's check the impact of the virus by country\n",
    "conf_cases = data_conf.groupby(data_conf.index).sum()\n",
    "conf_cases_per_country = conf_cases.iloc[:,-1]\n",
    "\n",
    "# let's look at countries with more than 100 cases, only\n",
    "#conf_cases_per_country = conf_cases_per_country[ conf_cases_per_country > 100 ]\n",
    "\n",
    "x = conf_cases_per_country.index.tolist()\n",
    "y = conf_cases_per_country.tolist()\n",
    "\n",
    "fig = plt.figure(figsize=(25,7))\n",
    "ax = plt.axes()\n",
    "\n",
    "plt.bar(x, y)\n",
    "ax.set_xticklabels( x , rotation=45 )\n",
    "plt.xlabel(\"Date\")\n",
    "plt.xlabel(\"Number of Confirmed Cases\")\n",
    "plt.title('Number of Confirmed cases per country')\n"
   ]
  },
  {
   "cell_type": "code",
   "execution_count": null,
   "metadata": {
    "ExecuteTime": {
     "end_time": "2020-03-08T20:36:50.012767Z",
     "start_time": "2020-03-08T20:36:49.756352Z"
    }
   },
   "outputs": [],
   "source": [
    "from plotly.subplots import make_subplots\n",
    "import plotly.graph_objs as go\n",
    "\n",
    "# confirmed cases\n",
    "country = \"China\"\n",
    "conf_cases = data_conf.groupby(data_conf.index).sum()\n",
    "country_conf = conf_cases.iloc[:,3:].loc[country]\n",
    "\n",
    "# recovered cases\n",
    "recov_cases = data_recovered.groupby(data_recovered.index).sum()\n",
    "country_recov = recov_cases.iloc[:,3:].loc[country]\n",
    "\n",
    "# death cases\n",
    "death_cases = data_deaths.groupby(data_deaths.index).sum()\n",
    "country_death = death_cases.iloc[:,3:].loc[country]\n",
    "\n",
    "# visualisation \n",
    "plot = make_subplots(rows=1, cols=3, subplot_titles=(\"Confirmed\", \"Recovered\", \"Deaths\"))\n",
    "\n",
    "subPlot1 = go.Scatter(x = country_conf.index.tolist(),\n",
    "                      y = country_conf.tolist(),\n",
    "                      name=\"Confirmed\",\n",
    "                      line_color='orange',\n",
    "                      opacity=0.8)\n",
    "\n",
    "subPlot2 = go.Scatter(x = country_recov.index.tolist(),\n",
    "                      y = country_recov.tolist(),\n",
    "                      name=\"Recovered\",\n",
    "                      line_color='green',\n",
    "                      opacity=0.8)\n",
    "\n",
    "subPlot3 = go.Scatter(x = country_death.index.tolist(),\n",
    "                      y = country_death,\n",
    "                      name=\"Deaths\",\n",
    "                      line_color='red',\n",
    "                      opacity=0.8)\n",
    "\n",
    "\n",
    "plot.append_trace(subPlot1, 1, 1)\n",
    "plot.append_trace(subPlot2, 1, 2)\n",
    "plot.append_trace(subPlot3, 1, 3)\n",
    "plot.update_layout(template=\"ggplot2\", title_text = '<b>Spread of the nCov Over Time in %s</b>' %country)\n"
   ]
  },
  {
   "cell_type": "markdown",
   "metadata": {},
   "source": [
    "One interesting aspect in pandemics is that the propagation of a virus tends to follow what it is known as a sigmoid function (or an S shaped function). One can antually see thar in China the shape is no longer in exponencial growth and is starting to stabilize."
   ]
  },
  {
   "cell_type": "code",
   "execution_count": null,
   "metadata": {
    "ExecuteTime": {
     "end_time": "2020-03-08T20:44:19.499422Z",
     "start_time": "2020-03-08T20:44:19.262578Z"
    }
   },
   "outputs": [],
   "source": [
    "# confirmed cases\n",
    "country = \"Australia\"\n",
    "conf_cases = data_conf.groupby(data_conf.index).sum()\n",
    "country_conf = conf_cases.iloc[:,3:].loc[country]\n",
    "\n",
    "# recovered cases\n",
    "recov_cases = data_recovered.groupby(data_recovered.index).sum()\n",
    "country_recov = recov_cases.iloc[:,3:].loc[country]\n",
    "\n",
    "# death cases\n",
    "death_cases = data_deaths.groupby(data_deaths.index).sum()\n",
    "country_death = death_cases.iloc[:,3:].loc[country]\n",
    "\n",
    "# visualisation \n",
    "plot = make_subplots(rows=1, cols=3, subplot_titles=(\"Confirmed\", \"Recovered\", \"Deaths\"))\n",
    "\n",
    "subPlot1 = go.Scatter(x = country_conf.index.tolist(),\n",
    "                      y = country_conf.tolist(),\n",
    "                      name=\"Confirmed\",\n",
    "                      line_color='orange',\n",
    "                      opacity=0.8)\n",
    "\n",
    "subPlot2 = go.Scatter(x = country_recov.index.tolist(),\n",
    "                      y = country_recov.tolist(),\n",
    "                      name=\"Recovered\",\n",
    "                      line_color='green',\n",
    "                      opacity=0.8)\n",
    "\n",
    "subPlot3 = go.Scatter(x = country_death.index.tolist(),\n",
    "                      y = country_death,\n",
    "                      name=\"Deaths\",\n",
    "                      line_color='red',\n",
    "                      opacity=0.8)\n",
    "\n",
    "\n",
    "plot.append_trace(subPlot1, 1, 1)\n",
    "plot.append_trace(subPlot2, 1, 2)\n",
    "plot.append_trace(subPlot3, 1, 3)\n",
    "plot.update_layout(template=\"ggplot2\", title_text = '<b>Spread of the nCov Over Time in %s</b>' %country)\n"
   ]
  },
  {
   "cell_type": "markdown",
   "metadata": {},
   "source": [
    "**TODO**\n",
    "\n",
    "Can you group the data into \"China\" and Other \"Countries\" and make a single plot with the confirmed, recovered, and death cases of CovID-19?\n",
    "\n",
    "**TODO**\n",
    " Can you make an analysis between all the different regions in China nad see how the virus is propagating there?"
   ]
  },
  {
   "cell_type": "markdown",
   "metadata": {},
   "source": [
    "### Geographical Analysis\n",
    "\n",
    "An interesting analysis is to see how the virus propagates throughout the world.\n",
    "Python has some libraries that can assist us on making some geographical analysis. One of these packages is *folium*"
   ]
  },
  {
   "cell_type": "code",
   "execution_count": null,
   "metadata": {
    "ExecuteTime": {
     "end_time": "2020-03-08T21:04:04.582593Z",
     "start_time": "2020-03-08T21:04:04.557676Z"
    }
   },
   "outputs": [],
   "source": [
    "# create a dataframe with the following information: \n",
    "# Country, \n",
    "# Latitude, \n",
    "# Longitude, \n",
    "# NumConfirmed cases\n",
    "# NumRecovered cases\n",
    "# NumDeaths\n",
    "\n",
    "last_date = conf_cases.columns[-1]\n",
    "conf_cases_geo = conf_cases[[\"Lat\", \"Long\", last_date]]\n",
    "\n",
    "# we can rename the last column as \"Confirmed Cases\"\n",
    "cases_geo = conf_cases_geo.rename(columns={last_date: \"Confirmed Cases\"})\n",
    "\n",
    "# we can also add the information about the number of recovered cases and deaths\n",
    "cases_geo['Recovered Cases'] =  recov_cases[last_date]\n",
    "cases_geo['Death Cases'] =  death_cases[last_date]\n",
    "cases_geo"
   ]
  },
  {
   "cell_type": "code",
   "execution_count": null,
   "metadata": {
    "ExecuteTime": {
     "end_time": "2020-03-08T21:04:47.668965Z",
     "start_time": "2020-03-08T21:04:47.654168Z"
    }
   },
   "outputs": [],
   "source": [
    "# One can use Python folium to generate geographic visualisations\n",
    "WorldMap = folium.Map(location=[0,0], zoom_start=1.5,tiles='cartodbpositron')\n",
    "WorldMap"
   ]
  },
  {
   "cell_type": "code",
   "execution_count": null,
   "metadata": {
    "ExecuteTime": {
     "end_time": "2020-03-08T21:25:02.693370Z",
     "start_time": "2020-03-08T21:25:02.268775Z"
    }
   },
   "outputs": [],
   "source": [
    "for lat, long, confirmed, recovered, deaths, country in zip(cases_geo['Lat'],\n",
    "                                                           cases_geo['Long'],\n",
    "                                                           cases_geo['Confirmed Cases'],\n",
    "                                                           cases_geo['Recovered Cases'],\n",
    "                                                           cases_geo['Death Cases'], \n",
    "                                                           cases_geo.index.tolist()):\n",
    "        if (deaths == 0):\n",
    "            folium.Marker(location=[lat, long]\n",
    "                    , popup = ('<strong>nCov Numbers:</strong> ' + '<br>' + \n",
    "                               '<strong>Country:</strong> ' + str(country).capitalize() + '<br>'\n",
    "                               '<strong>Confirmed:</strong> ' + str(int(confirmed)) + '<br>'\n",
    "                               '<strong>Deaths:</strong> ' + str(int(deaths)) + '<br>'\n",
    "                               '<strong>Recovered:</strong> ' + str(int(recovered)) + '<br>')\n",
    "                    , icon=folium.Icon(color='darkblue',icon='info-sign'), color='rgb(55, 83, 109)'\n",
    "                    , tooltip = str(country).capitalize(), fill_color='rgb(55, 83, 109)').add_to(WorldMap)\n",
    "\n",
    "        else:\n",
    "            folium.Marker(location=[lat, long]\n",
    "                    , popup = ('<strong>nCov Numbers:</strong> ' + '<br>' + \n",
    "                               '<strong>Country:</strong> ' + str(country).capitalize() + '<br>'\n",
    "                               '<strong>Confirmed:</strong> ' + str(int(confirmed)) + '<br>'\n",
    "                               '<strong>Deaths:</strong> ' + str(int(deaths)) + '<br>'\n",
    "                               '<strong>Recovered:</strong> ' + str(int(recovered)) + '<br>')\n",
    "                    , icon=folium.Icon(color='red', icon='info-sign'), color='rgb(26, 118, 255)'\n",
    "                    , tooltip = str(country).capitalize(), fill_color='rgb(26, 118, 255)').add_to(WorldMap)\n",
    "        \n",
    "WorldMap\n"
   ]
  },
  {
   "cell_type": "code",
   "execution_count": null,
   "metadata": {
    "ExecuteTime": {
     "end_time": "2020-03-08T21:46:24.363277Z",
     "start_time": "2020-03-08T21:46:24.346548Z"
    }
   },
   "outputs": [],
   "source": [
    "# analysing only China\n",
    "\n",
    "china_cases = data_conf.loc[\"China\"][[\"Lat\", \"Long\", \"Province/State\", last_date]]\n",
    "china_cases = china_cases.rename(columns={last_date: \"Confirmed Cases\"})\n",
    "\n",
    "# add the numbers of deaths and recovered cases\n",
    "china_cases['Recovered Cases'] =  data_recovered.loc[\"China\"][last_date]\n",
    "china_cases['Death Cases'] =  data_deaths.loc[\"China\"][last_date]\n",
    "china_cases"
   ]
  },
  {
   "cell_type": "code",
   "execution_count": null,
   "metadata": {
    "ExecuteTime": {
     "end_time": "2020-03-08T21:24:51.894298Z",
     "start_time": "2020-03-08T21:24:51.812286Z"
    },
    "scrolled": true
   },
   "outputs": [],
   "source": [
    "china_lat = 35.8617\n",
    "china_lon = 104.1954\n",
    "\n",
    "\n",
    "ChinaMap = folium.Map(location=[china_lat, china_lon], zoom_start=4, tiles='cartodbpositron')\n",
    "\n",
    "for lat, long, confirmed, deaths, recovered, state in zip(china_cases['Lat'],\n",
    "                                                           china_cases['Long'],\n",
    "                                                           china_cases['Confirmed Cases'],\n",
    "                                                           china_cases['Death Cases'],\n",
    "                                                           china_cases['Recovered Cases'], \n",
    "                                                           china_cases['Province/State']):\n",
    "    \n",
    "    if (deaths == 0):\n",
    "        folium.Marker(location=[lat, long]\n",
    "                    , popup = ('<strong>nCov Numbers:</strong> ' + '<br>' + \n",
    "                                 '<strong>State:</strong> ' + str(state).capitalize() + '<br>'\n",
    "                                 '<strong>Confirmed:</strong> ' + str(int(confirmed)) + '<br>'\n",
    "                                 '<strong>Deaths:</strong> ' + str(int(deaths)) + '<br>'\n",
    "                                 '<strong>Recovered:</strong> ' + str(int(recovered)) + '<br>')\n",
    "                    , icon=folium.Icon(color='darkblue',icon='info-sign'), color='rgb(55, 83, 109)'\n",
    "                    , tooltip = str(state).capitalize(), fill_color='rgb(55, 83, 109)').add_to(ChinaMap)\n",
    "    else:\n",
    "        folium.Marker(location=[lat, long]\n",
    "                    , popup = ('<strong>nCov Numbers:</strong> ' + '<br>' + \n",
    "                                 '<strong>State:</strong> ' + str(state).capitalize() + '<br>'\n",
    "                                 '<strong>Confirmed:</strong> ' + str(int(confirmed)) + '<br>'\n",
    "                                 '<strong>Deaths:</strong> ' + str(int(deaths)) + '<br>'\n",
    "                                 '<strong>Recovered:</strong> ' + str(int(recovered)) + '<br>')\n",
    "                    , icon=folium.Icon(color='red', icon='info-sign'), color='rgb(26, 118, 255)'\n",
    "                    , tooltip = str(state).capitalize(), fill_color='rgb(26, 118, 255)').add_to(ChinaMap)\n",
    "    \n",
    "    \n",
    "ChinaMap\n"
   ]
  },
  {
   "cell_type": "code",
   "execution_count": null,
   "metadata": {
    "ExecuteTime": {
     "end_time": "2020-03-08T21:51:47.366252Z",
     "start_time": "2020-03-08T21:51:47.352581Z"
    }
   },
   "outputs": [],
   "source": [
    "# Analysing virus recovery and death rate in China\n",
    "# Remeber that China has a total population of 1380000000\n",
    "# 80000 cases have been reported, which corresponds to 0.0058% of the population\n",
    "china_cases[\"% Recovered\"] =  100*(china_cases[\"Recovered Cases\"] / china_cases[\"Confirmed Cases\"])\n",
    "china_cases[\"% Death\"] =  100*(china_cases[\"Death Cases\"] / china_cases[\"Confirmed Cases\"])\n",
    "china_cases[[\"Province/State\",\"% Recovered\", \"% Death\"]]\n"
   ]
  },
  {
   "cell_type": "code",
   "execution_count": null,
   "metadata": {
    "ExecuteTime": {
     "end_time": "2020-03-08T21:58:40.271195Z",
     "start_time": "2020-03-08T21:58:40.267125Z"
    }
   },
   "outputs": [],
   "source": [
    "avg_rec_rate = np.mean(china_cases[\"% Recovered\"])\n",
    "print(\"Average recovery rate is %.2f%%\" %avg_rec_rate)\n",
    "\n",
    "avg_death_rate = np.mean(china_cases[\"% Death\"])\n",
    "print(\"Average death rate is %.2f%%\" %avg_death_rate)\n"
   ]
  },
  {
   "cell_type": "markdown",
   "metadata": {},
   "source": [
    "### Business Insights\n",
    "\n",
    "With this analysis, we found the following:\n",
    "\n",
    "- COVID-19 is a highly contagious virus, which has already propagated to 102 countries in just 3 months.\n",
    "- Although it is highly contagious, the analysis of the Chinese data (the most representative), shows that the recovery rate is quite high (around 90%) and the death rate so far is just (1.17%). \n",
    "- These results should only be used as a mere indication given that the data reports about China might be hidden due to political reasons\n",
    "- Data shows, as expected, the sigmoid tendency of the propagation of the virus. In China, it seems the virus is no longer in exponential phase and is slowly stabilizing.\n",
    "- Panic in current population might be due to the effects of media and the fact that information was attempted to be hidden from the public (remember the Spanish flu)\n",
    "- This panic in population can also be an effect of **negative bias** where people tend to put more weight on the occurence of negative events, even if the chance of those negative events happening is very low.\n",
    "- These insights should not ignore the severity of the virus. Higiene measures, quarantines, traveling control and a healthy diet are advised to slowdown the virus."
   ]
  },
  {
   "cell_type": "markdown",
   "metadata": {},
   "source": [
    "### Answer Some Questions\n",
    "\n",
    "<img src=\"images/wooclap.png\" />"
   ]
  },
  {
   "cell_type": "markdown",
   "metadata": {},
   "source": [
    "## Optional Exercise\n",
    "\n",
    "Take a look at the data used in this lecture. Can you pickup a country, let's say Italy, and make a similar analysis? \n",
    "\n",
    "**Advanced Challenge** \n",
    "Can you get additional data about the groups of people who are being affected by the virus (for instance, older people have a higher probability of getting the disease, and see what would be the impact of COVID-19 in Europe?"
   ]
  }
 ],
 "metadata": {
  "celltoolbar": "Slideshow",
  "kernelspec": {
   "display_name": "Python 3",
   "language": "python",
   "name": "python3"
  },
  "language_info": {
   "codemirror_mode": {
    "name": "ipython",
    "version": 3
   },
   "file_extension": ".py",
   "mimetype": "text/x-python",
   "name": "python",
   "nbconvert_exporter": "python",
   "pygments_lexer": "ipython3",
   "version": "3.7.4"
  },
  "toc": {
   "base_numbering": 1,
   "nav_menu": {},
   "number_sections": true,
   "sideBar": true,
   "skip_h1_title": false,
   "title_cell": "Table of Contents",
   "title_sidebar": "Contents",
   "toc_cell": false,
   "toc_position": {
    "height": "calc(100% - 180px)",
    "left": "10px",
    "top": "150px",
    "width": "223px"
   },
   "toc_section_display": true,
   "toc_window_display": true
  },
  "varInspector": {
   "cols": {
    "lenName": 16,
    "lenType": 16,
    "lenVar": 40
   },
   "kernels_config": {
    "python": {
     "delete_cmd_postfix": "",
     "delete_cmd_prefix": "del ",
     "library": "var_list.py",
     "varRefreshCmd": "print(var_dic_list())"
    },
    "r": {
     "delete_cmd_postfix": ") ",
     "delete_cmd_prefix": "rm(",
     "library": "var_list.r",
     "varRefreshCmd": "cat(var_dic_list()) "
    }
   },
   "types_to_exclude": [
    "module",
    "function",
    "builtin_function_or_method",
    "instance",
    "_Feature"
   ],
   "window_display": false
  }
 },
 "nbformat": 4,
 "nbformat_minor": 2
}
