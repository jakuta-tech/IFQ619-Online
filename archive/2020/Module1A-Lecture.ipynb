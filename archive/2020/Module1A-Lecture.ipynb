{
 "cells": [
  {
   "cell_type": "markdown",
   "metadata": {
    "slideshow": {
     "slide_type": "slide"
    }
   },
   "source": [
    "<div class=\"alert alert-block alert-success\"><h3>IFN619 - Data Analytics for Strategic Decision Makers</h4></div>"
   ]
  },
  {
   "cell_type": "markdown",
   "metadata": {
    "slideshow": {
     "slide_type": "fragment"
    }
   },
   "source": [
    "## Module 1A Lecture\n",
    "\n",
    "1. Recap\n",
    "2. Decision theory\n",
    "3. Retrieving data from APIs\n",
    "4. Analysing unstructured data\n",
    "5. Visualising with HTML\n",
    "6. Introducing Assignments 1 & 3"
   ]
  },
  {
   "cell_type": "markdown",
   "metadata": {
    "slideshow": {
     "slide_type": "slide"
    }
   },
   "source": [
    "### [1] Recap\n",
    "\n",
    "* Getting familiar with Juoyter notebooks\n",
    "    * Logging in to Jupyter\n",
    "    * Syncing files from GitHub to Jupyter\n",
    "    * Opening notebooks and other files (e.g. CSV files)\n",
    "    * Navigating and using the notebook - markdown and code cells"
   ]
  },
  {
   "cell_type": "markdown",
   "metadata": {
    "slideshow": {
     "slide_type": "slide"
    }
   },
   "source": [
    "* The data analytics cycle (QDAVI)\n",
    "    1. **Q**uestion\n",
    "    2. **D**ata\n",
    "    3. **A**nalysis\n",
    "    4. **V**isualisation\n",
    "    5. **I**nsight\n",
    "    "
   ]
  },
  {
   "cell_type": "markdown",
   "metadata": {
    "slideshow": {
     "slide_type": "slide"
    }
   },
   "source": [
    "* Basics\n",
    "    * Importing libraries\n",
    "    * Loading data into a dataframe from a CSV file\n",
    "    * Extracting data from a dataframe\n",
    "    * Plotting numerical data with matplotlib"
   ]
  },
  {
   "cell_type": "markdown",
   "metadata": {
    "slideshow": {
     "slide_type": "slide"
    }
   },
   "source": [
    "## [2] Decision theory (very briefly)\n",
    "\n",
    "* What?\n",
    "    - Reasoning and Judgements, not just actions\n",
    "    - Preferences over prospects, not just choices\n",
    "    - More than choice under risk, values and beliefs\n",
    "    - Expected Utility\n"
   ]
  },
  {
   "cell_type": "markdown",
   "metadata": {
    "slideshow": {
     "slide_type": "slide"
    }
   },
   "source": [
    "* Why?\n",
    "    - The definition of utility is very important\n",
    "    - The implications of uncertainty are very important\n",
    "    - Are people always rational agents?\n",
    "    - Are data and data analytics objective?"
   ]
  },
  {
   "cell_type": "markdown",
   "metadata": {
    "slideshow": {
     "slide_type": "slide"
    }
   },
   "source": [
    "## [3] Retrieving data from APIs\n",
    "\n",
    "Data is not always conveniently stored in local files.\n",
    "\n",
    "Increasingly data is being made open via **Application Programming Interfaces (APIs)**.\n",
    "\n",
    "First some **functions** to help us. Using functions, we can avoid typing the same (or very similar) code over and over again.\n"
   ]
  },
  {
   "cell_type": "code",
   "execution_count": 58,
   "metadata": {},
   "outputs": [],
   "source": [
    "# We will need some libraries...\n",
    "from urllib import request, response\n",
    "import json\n",
    "\n",
    "# Functions to fetch string/json from an API\n",
    "\n",
    "def fetch_string_from_api(url):\n",
    "    req = request.Request(url)\n",
    "    resp = request.urlopen(req)\n",
    "    return resp.read().decode('utf8')\n",
    "\n",
    "def fetch_json_from_api(url):\n",
    "    body = fetch_string_from_api(url) #Uses the function above\n",
    "    return json.loads(body)"
   ]
  },
  {
   "cell_type": "code",
   "execution_count": 59,
   "metadata": {
    "slideshow": {
     "slide_type": "-"
    }
   },
   "outputs": [
    {
     "output_type": "stream",
     "name": "stdout",
     "text": "{'month': '6', 'num': 2314, 'link': '', 'year': '2020', 'news': '', 'safe_title': 'Carcinization', 'transcript': '', 'alt': \"Nature abhors a vacuum and also anything that's not a crab.\", 'img': 'https://imgs.xkcd.com/comics/carcinization.png', 'title': 'Carcinization', 'day': '1'}\n"
    }
   ],
   "source": [
    "#Fetch the data for the latest xkcd comic\n",
    "xkcd_url = 'http://xkcd.com/info.0.json'\n",
    "xkcd_json = fetch_json_from_api(xkcd_url)\n",
    "print(xkcd_json)"
   ]
  },
  {
   "cell_type": "code",
   "execution_count": 60,
   "metadata": {
    "slideshow": {
     "slide_type": "-"
    }
   },
   "outputs": [
    {
     "output_type": "stream",
     "name": "stdout",
     "text": "https://imgs.xkcd.com/comics/carcinization.png\n"
    }
   ],
   "source": [
    "comicUrl = xkcd_json.get(\"img\")\n",
    "print(comicUrl)"
   ]
  },
  {
   "cell_type": "code",
   "execution_count": 61,
   "metadata": {
    "slideshow": {
     "slide_type": "-"
    }
   },
   "outputs": [
    {
     "output_type": "display_data",
     "data": {
      "text/plain": "<IPython.core.display.HTML object>",
      "text/html": "<img src=\"https://imgs.xkcd.com/comics/carcinization.png\"/>"
     },
     "metadata": {}
    }
   ],
   "source": [
    "# A library to display HTML\n",
    "from IPython.core.display import display, HTML\n",
    "\n",
    "# Use the library to display the comic\n",
    "display(HTML('<img src=\"'+comicUrl+'\"/>'))"
   ]
  },
  {
   "cell_type": "markdown",
   "metadata": {},
   "source": [
    "What about something a little more serious?"
   ]
  },
  {
   "cell_type": "code",
   "execution_count": 62,
   "metadata": {},
   "outputs": [
    {
     "output_type": "stream",
     "name": "stdout",
     "text": "[{'web_pages': ['http://www.usq.edu.au/'], 'state-province': None, 'country': 'Australia', 'domains': ['usq.edu.au'], 'name': 'University of Southern Queensland', 'alpha_two_code': 'AU'}, {'web_pages': ['http://www.uq.edu.au/'], 'state-province': None, 'country': 'Australia', 'domains': ['uq.edu.au'], 'name': 'University of Queensland', 'alpha_two_code': 'AU'}, {'web_pages': ['http://www.cqu.edu.au/'], 'state-province': None, 'country': 'Australia', 'domains': ['cqu.edu.au'], 'name': 'Central Queensland University', 'alpha_two_code': 'AU'}, {'web_pages': ['http://www.jcu.edu.au/'], 'state-province': None, 'country': 'Australia', 'domains': ['jcu.edu.au'], 'name': 'James Cook University of North Queensland', 'alpha_two_code': 'AU'}, {'web_pages': ['http://www.qut.edu.au/'], 'state-province': None, 'country': 'Australia', 'domains': ['qut.edu.au'], 'name': 'Queensland University of Technology', 'alpha_two_code': 'AU'}]\n"
    }
   ],
   "source": [
    "country = \"australia\"\n",
    "name = \"queensland\"\n",
    "unis_url = \"http://universities.hipolabs.com/search?country=\"+country+\"&name=\"+name\n",
    "unis_json = fetch_json_from_api(unis_url)\n",
    "print(unis_json)"
   ]
  },
  {
   "cell_type": "code",
   "execution_count": 63,
   "metadata": {},
   "outputs": [
    {
     "output_type": "execute_result",
     "data": {
      "text/plain": "5"
     },
     "metadata": {},
     "execution_count": 63
    }
   ],
   "source": [
    "len(unis_json)"
   ]
  },
  {
   "cell_type": "code",
   "execution_count": 64,
   "metadata": {},
   "outputs": [
    {
     "output_type": "display_data",
     "data": {
      "text/plain": "<IPython.core.display.HTML object>",
      "text/html": "<p><a href=\"http://www.usq.edu.au/\">University of Southern Queensland</a></p>"
     },
     "metadata": {}
    },
    {
     "output_type": "display_data",
     "data": {
      "text/plain": "<IPython.core.display.HTML object>",
      "text/html": "<p><a href=\"http://www.uq.edu.au/\">University of Queensland</a></p>"
     },
     "metadata": {}
    },
    {
     "output_type": "display_data",
     "data": {
      "text/plain": "<IPython.core.display.HTML object>",
      "text/html": "<p><a href=\"http://www.cqu.edu.au/\">Central Queensland University</a></p>"
     },
     "metadata": {}
    },
    {
     "output_type": "display_data",
     "data": {
      "text/plain": "<IPython.core.display.HTML object>",
      "text/html": "<p><a href=\"http://www.jcu.edu.au/\">James Cook University of North Queensland</a></p>"
     },
     "metadata": {}
    },
    {
     "output_type": "display_data",
     "data": {
      "text/plain": "<IPython.core.display.HTML object>",
      "text/html": "<p><a href=\"http://www.qut.edu.au/\">Queensland University of Technology</a></p>"
     },
     "metadata": {}
    }
   ],
   "source": [
    "for uni in unis_json:\n",
    "    name = uni.get(\"name\")\n",
    "    url = uni.get(\"web_pages\")[0]\n",
    "    link = '<p><a href=\"'+url+'\">'+name+'</a></p>'\n",
    "    display(HTML(link))"
   ]
  },
  {
   "cell_type": "markdown",
   "metadata": {},
   "source": [
    "## [4] Analysing unstructured data\n",
    "* What is structured data?\n",
    "* What is unstructured data?\n",
    "* What is semi-structured data?"
   ]
  },
  {
   "cell_type": "markdown",
   "metadata": {
    "slideshow": {
     "slide_type": "-"
    }
   },
   "source": [
    "With the following code, we transform unstructured data into structured data.\n",
    "\n",
    "We start by loading the data from from the file system. In this case it is a text file of 50 Amazon reviews."
   ]
  },
  {
   "cell_type": "code",
   "execution_count": 65,
   "metadata": {
    "slideshow": {
     "slide_type": "-"
    }
   },
   "outputs": [
    {
     "output_type": "error",
     "ename": "FileNotFoundError",
     "evalue": "[Errno 2] No such file or directory: 'data/kaggle-amazon_reviews-first50.txt'",
     "traceback": [
      "\u001b[0;31m---------------------------------------------------------------------------\u001b[0m",
      "\u001b[0;31mFileNotFoundError\u001b[0m                         Traceback (most recent call last)",
      "\u001b[0;32m<ipython-input-65-171879029274>\u001b[0m in \u001b[0;36m<module>\u001b[0;34m\u001b[0m\n\u001b[0;32m----> 1\u001b[0;31m \u001b[0mfile\u001b[0m \u001b[0;34m=\u001b[0m \u001b[0mopen\u001b[0m\u001b[0;34m(\u001b[0m\u001b[0;34m\"data/kaggle-amazon_reviews-first50.txt\"\u001b[0m\u001b[0;34m)\u001b[0m\u001b[0;34m\u001b[0m\u001b[0;34m\u001b[0m\u001b[0m\n\u001b[0m\u001b[1;32m      2\u001b[0m \u001b[0mrawtext\u001b[0m \u001b[0;34m=\u001b[0m \u001b[0mfile\u001b[0m\u001b[0;34m.\u001b[0m\u001b[0mread\u001b[0m\u001b[0;34m(\u001b[0m\u001b[0;34m)\u001b[0m\u001b[0;34m\u001b[0m\u001b[0;34m\u001b[0m\u001b[0m\n\u001b[1;32m      3\u001b[0m \u001b[0mfile\u001b[0m\u001b[0;34m.\u001b[0m\u001b[0mclose\u001b[0m\u001b[0;34m(\u001b[0m\u001b[0;34m)\u001b[0m\u001b[0;34m\u001b[0m\u001b[0;34m\u001b[0m\u001b[0m\n",
      "\u001b[0;31mFileNotFoundError\u001b[0m: [Errno 2] No such file or directory: 'data/kaggle-amazon_reviews-first50.txt'"
     ]
    }
   ],
   "source": [
    "file = open(\"data/kaggle-amazon_reviews-first50.txt\")\n",
    "rawtext = file.read()\n",
    "file.close()"
   ]
  },
  {
   "cell_type": "code",
   "execution_count": 66,
   "metadata": {
    "slideshow": {
     "slide_type": "-"
    }
   },
   "outputs": [
    {
     "output_type": "error",
     "ename": "NameError",
     "evalue": "name 'rawtext' is not defined",
     "traceback": [
      "\u001b[0;31m---------------------------------------------------------------------------\u001b[0m",
      "\u001b[0;31mNameError\u001b[0m                                 Traceback (most recent call last)",
      "\u001b[0;32m<ipython-input-66-acc414b6974f>\u001b[0m in \u001b[0;36m<module>\u001b[0;34m\u001b[0m\n\u001b[0;32m----> 1\u001b[0;31m \u001b[0mrawtext\u001b[0m\u001b[0;34m\u001b[0m\u001b[0;34m\u001b[0m\u001b[0m\n\u001b[0m",
      "\u001b[0;31mNameError\u001b[0m: name 'rawtext' is not defined"
     ]
    }
   ],
   "source": [
    "rawtext"
   ]
  },
  {
   "cell_type": "markdown",
   "metadata": {
    "slideshow": {
     "slide_type": "-"
    }
   },
   "source": [
    "Easy first step in structuring the data: split the string into a list of strings"
   ]
  },
  {
   "cell_type": "code",
   "execution_count": 67,
   "metadata": {
    "slideshow": {
     "slide_type": "-"
    }
   },
   "outputs": [
    {
     "output_type": "error",
     "ename": "NameError",
     "evalue": "name 'rawtext' is not defined",
     "traceback": [
      "\u001b[0;31m---------------------------------------------------------------------------\u001b[0m",
      "\u001b[0;31mNameError\u001b[0m                                 Traceback (most recent call last)",
      "\u001b[0;32m<ipython-input-67-bdeb8832c0dc>\u001b[0m in \u001b[0;36m<module>\u001b[0;34m\u001b[0m\n\u001b[0;32m----> 1\u001b[0;31m \u001b[0mreviews\u001b[0m \u001b[0;34m=\u001b[0m \u001b[0mrawtext\u001b[0m\u001b[0;34m.\u001b[0m\u001b[0msplit\u001b[0m\u001b[0;34m(\u001b[0m\u001b[0;34m'\\n'\u001b[0m\u001b[0;34m)\u001b[0m\u001b[0;34m\u001b[0m\u001b[0;34m\u001b[0m\u001b[0m\n\u001b[0m\u001b[1;32m      2\u001b[0m \u001b[0;32mif\u001b[0m \u001b[0mreviews\u001b[0m\u001b[0;34m[\u001b[0m\u001b[0;34m-\u001b[0m\u001b[0;36m1\u001b[0m\u001b[0;34m]\u001b[0m\u001b[0;34m==\u001b[0m\u001b[0;34m''\u001b[0m\u001b[0;34m:\u001b[0m\u001b[0;34m\u001b[0m\u001b[0;34m\u001b[0m\u001b[0m\n\u001b[1;32m      3\u001b[0m     \u001b[0;32mdel\u001b[0m \u001b[0mreviews\u001b[0m\u001b[0;34m[\u001b[0m\u001b[0;34m-\u001b[0m\u001b[0;36m1\u001b[0m\u001b[0;34m]\u001b[0m \u001b[0;31m#Remove last empty item\u001b[0m\u001b[0;34m\u001b[0m\u001b[0;34m\u001b[0m\u001b[0m\n",
      "\u001b[0;31mNameError\u001b[0m: name 'rawtext' is not defined"
     ]
    }
   ],
   "source": [
    "reviews = rawtext.split('\\n')\n",
    "if reviews[-1]=='':\n",
    "    del reviews[-1] #Remove last empty item"
   ]
  },
  {
   "cell_type": "code",
   "execution_count": 68,
   "metadata": {
    "slideshow": {
     "slide_type": "-"
    }
   },
   "outputs": [
    {
     "output_type": "error",
     "ename": "NameError",
     "evalue": "name 'reviews' is not defined",
     "traceback": [
      "\u001b[0;31m---------------------------------------------------------------------------\u001b[0m",
      "\u001b[0;31mNameError\u001b[0m                                 Traceback (most recent call last)",
      "\u001b[0;32m<ipython-input-68-470bec042f77>\u001b[0m in \u001b[0;36m<module>\u001b[0;34m\u001b[0m\n\u001b[0;32m----> 1\u001b[0;31m \u001b[0mreviews\u001b[0m\u001b[0;34m\u001b[0m\u001b[0;34m\u001b[0m\u001b[0m\n\u001b[0m",
      "\u001b[0;31mNameError\u001b[0m: name 'reviews' is not defined"
     ]
    }
   ],
   "source": [
    "reviews"
   ]
  },
  {
   "cell_type": "markdown",
   "metadata": {
    "slideshow": {
     "slide_type": "-"
    }
   },
   "source": [
    "Now we structured each review further, by extracting the sentiment and the subject."
   ]
  },
  {
   "cell_type": "code",
   "execution_count": 69,
   "metadata": {
    "slideshow": {
     "slide_type": "-"
    }
   },
   "outputs": [],
   "source": [
    "import re # Need the python regular expression library for these functions\n",
    "\n",
    "def getSentimentLabel(text):\n",
    "    match = re.search(r\"(?<=__label__)[0-9]+\",text)\n",
    "    value = match.group(0)\n",
    "    if value=='1':\n",
    "        return \"negative\"\n",
    "    elif value=='2':\n",
    "        return \"positive\"\n",
    "\n",
    "def getSubject(text):\n",
    "    split = re.split(r\"(?<=__label__)[0-9]+\",text)\n",
    "    return split[1].strip()"
   ]
  },
  {
   "cell_type": "markdown",
   "metadata": {
    "slideshow": {
     "slide_type": "-"
    }
   },
   "source": [
    "Now that we have the bits, we can store them in our own custom data structure `Review` based on a `namedtuple`. We also create a function to parse the reviews into this data structure"
   ]
  },
  {
   "cell_type": "code",
   "execution_count": 70,
   "metadata": {
    "slideshow": {
     "slide_type": "-"
    }
   },
   "outputs": [],
   "source": [
    "from collections import namedtuple # Need a library that gives us a named tuple\n",
    "\n",
    "Review = namedtuple('review',['label','subject','text'])"
   ]
  },
  {
   "cell_type": "code",
   "execution_count": 71,
   "metadata": {
    "slideshow": {
     "slide_type": "-"
    }
   },
   "outputs": [],
   "source": [
    "def parseReview(text):\n",
    "    textSplit = text.split(\":\")\n",
    "    leader = textSplit[0]\n",
    "    text = textSplit[1]\n",
    "    subject = getSubject(leader)\n",
    "    label = getSentimentLabel(leader)\n",
    "    return Review(label,subject,text)"
   ]
  },
  {
   "cell_type": "code",
   "execution_count": 72,
   "metadata": {
    "slideshow": {
     "slide_type": "-"
    }
   },
   "outputs": [
    {
     "output_type": "error",
     "ename": "NameError",
     "evalue": "name 'reviews' is not defined",
     "traceback": [
      "\u001b[0;31m---------------------------------------------------------------------------\u001b[0m",
      "\u001b[0;31mNameError\u001b[0m                                 Traceback (most recent call last)",
      "\u001b[0;32m<ipython-input-72-c99e7e2c0255>\u001b[0m in \u001b[0;36m<module>\u001b[0;34m\u001b[0m\n\u001b[0;32m----> 1\u001b[0;31m \u001b[0mstructuredReviews\u001b[0m \u001b[0;34m=\u001b[0m \u001b[0mlist\u001b[0m\u001b[0;34m(\u001b[0m\u001b[0mmap\u001b[0m\u001b[0;34m(\u001b[0m\u001b[0mparseReview\u001b[0m\u001b[0;34m,\u001b[0m\u001b[0mreviews\u001b[0m\u001b[0;34m)\u001b[0m\u001b[0;34m)\u001b[0m\u001b[0;34m\u001b[0m\u001b[0;34m\u001b[0m\u001b[0m\n\u001b[0m\u001b[1;32m      2\u001b[0m \u001b[0mstructuredReviews\u001b[0m\u001b[0;34m\u001b[0m\u001b[0;34m\u001b[0m\u001b[0m\n",
      "\u001b[0;31mNameError\u001b[0m: name 'reviews' is not defined"
     ]
    }
   ],
   "source": [
    "structuredReviews = list(map(parseReview,reviews))\n",
    "structuredReviews"
   ]
  },
  {
   "cell_type": "markdown",
   "metadata": {},
   "source": [
    "## [5] Visualising with HTML"
   ]
  },
  {
   "cell_type": "markdown",
   "metadata": {
    "slideshow": {
     "slide_type": "-"
    }
   },
   "source": [
    "We have structured data now, but it is difficult to explore as it is not in a format that is easy for humans to read. Let's fix that..."
   ]
  },
  {
   "cell_type": "code",
   "execution_count": 73,
   "metadata": {
    "slideshow": {
     "slide_type": "-"
    }
   },
   "outputs": [
    {
     "output_type": "error",
     "ename": "NameError",
     "evalue": "name 'structuredReviews' is not defined",
     "traceback": [
      "\u001b[0;31m---------------------------------------------------------------------------\u001b[0m",
      "\u001b[0;31mNameError\u001b[0m                                 Traceback (most recent call last)",
      "\u001b[0;32m<ipython-input-73-575db11654cd>\u001b[0m in \u001b[0;36m<module>\u001b[0;34m\u001b[0m\n\u001b[1;32m      5\u001b[0m     \u001b[0;32mreturn\u001b[0m \u001b[0mHTML\u001b[0m\u001b[0;34m(\u001b[0m\u001b[0;34m''\u001b[0m\u001b[0;34m.\u001b[0m\u001b[0mjoin\u001b[0m\u001b[0;34m(\u001b[0m\u001b[0mparas\u001b[0m\u001b[0;34m)\u001b[0m\u001b[0;34m)\u001b[0m \u001b[0;31m#Join the paragraphs together and return as HTML\u001b[0m\u001b[0;34m\u001b[0m\u001b[0;34m\u001b[0m\u001b[0m\n\u001b[1;32m      6\u001b[0m \u001b[0;34m\u001b[0m\u001b[0m\n\u001b[0;32m----> 7\u001b[0;31m \u001b[0mstructReviewsHtml\u001b[0m \u001b[0;34m=\u001b[0m \u001b[0mreviewsToHtml\u001b[0m\u001b[0;34m(\u001b[0m\u001b[0mstructuredReviews\u001b[0m\u001b[0;34m)\u001b[0m\u001b[0;34m\u001b[0m\u001b[0;34m\u001b[0m\u001b[0m\n\u001b[0m\u001b[1;32m      8\u001b[0m css = HTML(\"\"\"<style>\n\u001b[1;32m      9\u001b[0m \u001b[0;34m.\u001b[0m\u001b[0mpositive\u001b[0m \u001b[0;34m{\u001b[0m \u001b[0mcolor\u001b[0m\u001b[0;34m:\u001b[0m \u001b[0mgreen\u001b[0m\u001b[0;34m;\u001b[0m \u001b[0;34m}\u001b[0m\u001b[0;34m\u001b[0m\u001b[0;34m\u001b[0m\u001b[0m\n",
      "\u001b[0;31mNameError\u001b[0m: name 'structuredReviews' is not defined"
     ]
    }
   ],
   "source": [
    "def reviewsToHtml(reviewList):\n",
    "    def pTag(review): #function that wraps review in tags\n",
    "        return '<p><b class=\"'+review.label+'\">'+review.subject+\"</b>: \"+review.text+\"</p>\"\n",
    "    paras = map(pTag,reviewList) #Apply the wrapping function to the list\n",
    "    return HTML(''.join(paras)) #Join the paragraphs together and return as HTML\n",
    "\n",
    "structReviewsHtml = reviewsToHtml(structuredReviews)\n",
    "css = HTML(\"\"\"<style>\n",
    ".positive { color: green; }\n",
    ".negative { color: red; }\n",
    "</style>\"\"\")"
   ]
  },
  {
   "cell_type": "code",
   "execution_count": 74,
   "metadata": {
    "slideshow": {
     "slide_type": "-"
    }
   },
   "outputs": [
    {
     "output_type": "error",
     "ename": "NameError",
     "evalue": "name 'css' is not defined",
     "traceback": [
      "\u001b[0;31m---------------------------------------------------------------------------\u001b[0m",
      "\u001b[0;31mNameError\u001b[0m                                 Traceback (most recent call last)",
      "\u001b[0;32m<ipython-input-74-972291df8f3d>\u001b[0m in \u001b[0;36m<module>\u001b[0;34m\u001b[0m\n\u001b[0;32m----> 1\u001b[0;31m \u001b[0mdisplay\u001b[0m\u001b[0;34m(\u001b[0m\u001b[0mcss\u001b[0m\u001b[0;34m,\u001b[0m\u001b[0mstructReviewsHtml\u001b[0m\u001b[0;34m)\u001b[0m\u001b[0;34m\u001b[0m\u001b[0;34m\u001b[0m\u001b[0m\n\u001b[0m",
      "\u001b[0;31mNameError\u001b[0m: name 'css' is not defined"
     ]
    }
   ],
   "source": [
    "display(css,structReviewsHtml)"
   ]
  },
  {
   "cell_type": "markdown",
   "metadata": {
    "slideshow": {
     "slide_type": "-"
    }
   },
   "source": [
    "**DISCUSSION**\n",
    "- We did this 50 reviews. How many could we do this task on?\n",
    "- What other structuring could we do to the data?\n",
    "- In what way/s might we have *corrupted* the data?"
   ]
  },
  {
   "cell_type": "markdown",
   "metadata": {
    "slideshow": {
     "slide_type": "slide"
    }
   },
   "source": [
    "## [6] Introducing Assignment 3\n",
    "\n",
    "* Assignment 3 (Reflective Journal) is on blackboard\n",
    "* Recommend using [GoingOK http://qut.goingok.org](http://qut.goingok.org) to record regular reflections\n",
    "* Formative component"
   ]
  },
  {
   "cell_type": "markdown",
   "metadata": {
    "slideshow": {
     "slide_type": "slide"
    }
   },
   "source": [
    "## [7] Introducing Assignment 1\n",
    "\n",
    "* Assignment 1 (Data Analytics Notebook) is on blackboard\n",
    "* 2 parts:\n",
    "    - Part A - basic skills notebook. Multiple attempts, guaranteed grade, computer marked.\n",
    "    - Part B - data analytics notebook for two questions. Demonstrate understanding of applying techniques to a specific question.\n",
    "* Success in part A will guarantee a grade of 4, degree of success in part B will determine final grade."
   ]
  }
 ],
 "metadata": {
  "celltoolbar": "Slideshow",
  "kernelspec": {
   "display_name": "Python 3",
   "language": "python",
   "name": "python3"
  },
  "language_info": {
   "codemirror_mode": {
    "name": "ipython",
    "version": 3
   },
   "file_extension": ".py",
   "mimetype": "text/x-python",
   "name": "python",
   "nbconvert_exporter": "python",
   "pygments_lexer": "ipython3",
   "version": "3.7.6-final"
  }
 },
 "nbformat": 4,
 "nbformat_minor": 2
}