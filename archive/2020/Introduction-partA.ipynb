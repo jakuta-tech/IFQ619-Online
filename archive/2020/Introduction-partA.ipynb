{
 "cells": [
  {
   "cell_type": "markdown",
   "metadata": {
    "slideshow": {
     "slide_type": "slide"
    }
   },
   "source": [
    "<div class=\"alert alert-block alert-success\"><h3>IFN619 - Data Analytics for Strategic Decision Makers</h4></div>"
   ]
  },
  {
   "cell_type": "markdown",
   "metadata": {
    "slideshow": {
     "slide_type": "-"
    }
   },
   "source": [
    "## Introduction :: Asking the right questions\n",
    "\n",
    "1. Introductions\n",
    "2. Unit Structure and Assessment\n",
    "3. Communication and Slack\n",
    "4. Data Analytics Cycle\n",
    "5. Getting started with Jupyter\n",
    "6. Asking the right questions\n"
   ]
  },
  {
   "cell_type": "markdown",
   "metadata": {
    "slideshow": {
     "slide_type": "slide"
    }
   },
   "source": [
    "### [1] Introductions "
   ]
  },
  {
   "cell_type": "markdown",
   "metadata": {
    "slideshow": {
     "slide_type": "subslide"
    }
   },
   "source": [
    "#### meet the team..."
   ]
  },
  {
   "cell_type": "markdown",
   "metadata": {
    "slideshow": {
     "slide_type": "fragment"
    }
   },
   "source": [
    "- Andrew Gibson (Lecturer, Unit Coorindator)\n",
    "- Catarina Moreira (Lecturer)\n",
    "- Lance DeVine, Patrick Delaney, Abdul Obeid, ... (Tutors)"
   ]
  },
  {
   "cell_type": "markdown",
   "metadata": {
    "slideshow": {
     "slide_type": "subslide"
    }
   },
   "source": [
    "#### and you?"
   ]
  },
  {
   "cell_type": "markdown",
   "metadata": {
    "slideshow": {
     "slide_type": "fragment"
    }
   },
   "source": [
    "   - How many MIT or GradCertIT? MDA or GradCertMDA? Other courses?\n",
    "   - Why did you take the unit? \n",
    "       - Had to for course requirements? \n",
    "       - Need to for work or career? \n",
    "       - Wanted to for interst?\n",
    "       - Other?\n",
    "   - What do you hope to get out of it?\n",
    "       - Just graduate?\n",
    "       - Learn?\n",
    "       - Other?"
   ]
  },
  {
   "cell_type": "markdown",
   "metadata": {
    "slideshow": {
     "slide_type": "subslide"
    }
   },
   "source": [
    "#### we have designed this unit to help..."
   ]
  },
  {
   "cell_type": "markdown",
   "metadata": {
    "slideshow": {
     "slide_type": "fragment"
    }
   },
   "source": [
    "- **Entice** you to think carefully about how data analytics is used\n",
    "- **Expand** your thinking beyond just techniques and tools\n",
    "- **Equip** you to participate in strategic decision making\n",
    "- **Extend** your existing analytics skills"
   ]
  },
  {
   "cell_type": "markdown",
   "metadata": {
    "slideshow": {
     "slide_type": "subslide"
    }
   },
   "source": [
    "> “They need to **understand the business problem or decision being made** and be able to 'model' or 'abstract' **what is critical to solving the problem**, versus what is extraneous and can be ignored,” says Anand Rao, global artificial intelligence and innovation lead for data and analytics at consulting firm PwC. “This skill more than anything else determines the success of a data scientist,” Rao says.\n",
    "\n",
    "[Essential skills and traits of elite data scientists](https://www.cio.com/article/3263790/the-essential-skills-and-traits-of-an-expert-data-scientist.html)\n"
   ]
  },
  {
   "cell_type": "markdown",
   "metadata": {
    "slideshow": {
     "slide_type": "slide"
    }
   },
   "source": [
    "### [2] Unit Structure and Assessment\n",
    "\n",
    "- Study Guide - download from Blackboard (Unit details)\n",
    "- Modular\n",
    "- Blended\n",
    "- Team teaching\n",
    "- Maximising for success\n"
   ]
  },
  {
   "cell_type": "markdown",
   "metadata": {
    "slideshow": {
     "slide_type": "subslide"
    }
   },
   "source": [
    "#### but first, some strategic decision-making based on the data in this unit\n",
    "- Predicting max 150 students, currently > 215 and rising\n",
    "- Need to preserve *personal* and *interactive* philosophy of the unit, but in a different form than timetabled\n",
    "- We are using the blended approach to re-purpose the studio sessions (from week 2)\n",
    "    1. Core content will be presented in Monday studio, lecture style. \n",
    "        - Please attend if you benefit from in-person learning. \n",
    "        - This will be recorded\n",
    "    2. The Tuesday studio sessions will be re-purposed to provide interactive followup (with Andrew and/or Catarina) on the material presented in the Monday session. \n",
    "        - unpacking the key ideas through Q&A \n",
    "        - more detailed explanations\n",
    "        - a chance to discuss issues with Andrew and/or Catarina\n",
    "    3. You choose what is best for your learning"
   ]
  },
  {
   "cell_type": "markdown",
   "metadata": {
    "slideshow": {
     "slide_type": "slide"
    }
   },
   "source": [
    "### [3] Communication and Slack\n",
    "\n",
    "- Connect to Slack Workspace `qut-ifn619-2020.slack.com` - signup with link from Blackboard (Learning Materials)\n",
    "- Introduce yourself\n",
    "- Post your ideas and questions for the benefit of everyone (in the correct channel)\n",
    "- Direct message the teaching team if you have individual concerns\n",
    "- **TRY IT!!** Sign in, introduce yourself and state one thing that you would like to learn"
   ]
  },
  {
   "cell_type": "markdown",
   "metadata": {
    "slideshow": {
     "slide_type": "slide"
    }
   },
   "source": [
    "### [4] Data Analytics Cycle\n",
    "\n",
    "In our approach to data analytics, we will follow a process that requires that we address 5 questions:\n",
    "1. Which is the right question?\n",
    "2. Which is the right data?\n",
    "3. Which is the right analysis?\n",
    "4. Which is the right visualisation?\n",
    "5. Which is the right insight?\n",
    "\n",
    "For this unit, we are concerned with more than just data analytics, we are interested in what is *appropriate, efficous, ethical ...* what is ***right!***"
   ]
  },
  {
   "cell_type": "markdown",
   "metadata": {
    "slideshow": {
     "slide_type": "slide"
    }
   },
   "source": [
    "### [5] Getting started with Jupyter\n",
    "- Login to Jupyter - [https://jupyter.qistudio.io](http://jupyter.qistudio.io)\n",
    "- Click the link in the welcome notebook to sync the workshop materials to your Jupyter accounts"
   ]
  },
  {
   "cell_type": "markdown",
   "metadata": {
    "slideshow": {
     "slide_type": "slide"
    }
   },
   "source": [
    "### [6] Asking the right questions\n",
    "\n",
    "- Not just about the analytics, more about asking the right questions\n",
    "- Try the business analytics excercise at home"
   ]
  },
  {
   "cell_type": "markdown",
   "metadata": {},
   "source": [
    "### [7] What's next\n",
    "- Studios - help with getting started in Jupyter\n",
    "- Tutorials - work on a basic task to help you get oriented to the technologies\n",
    "- Assessment - Assignments 1 & 3 will be introduced next week"
   ]
  }
 ],
 "metadata": {
  "celltoolbar": "Slideshow",
  "kernelspec": {
   "display_name": "Python 3",
   "language": "python",
   "name": "python3"
  },
  "language_info": {
   "codemirror_mode": {
    "name": "ipython",
    "version": 3
   },
   "file_extension": ".py",
   "mimetype": "text/x-python",
   "name": "python",
   "nbconvert_exporter": "python",
   "pygments_lexer": "ipython3",
   "version": "3.7.6"
  }
 },
 "nbformat": 4,
 "nbformat_minor": 4
}
