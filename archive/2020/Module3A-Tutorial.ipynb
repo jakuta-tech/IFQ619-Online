{
 "cells": [
  {
   "cell_type": "markdown",
   "metadata": {
    "slideshow": {
     "slide_type": "slide"
    }
   },
   "source": [
    "# Data Analytics in Context\n",
    "\n",
    "1. Issues\n",
    "2. Trust\n",
    "3. Principles\n",
    "4. Personal"
   ]
  },
  {
   "cell_type": "markdown",
   "metadata": {
    "slideshow": {
     "slide_type": "slide"
    }
   },
   "source": [
    "---\n",
    "## [1] Issues\n",
    "\n",
    "An important starting point for being critically aware of the context of data analytics is to examine issue in the application of data anlytics."
   ]
  },
  {
   "cell_type": "markdown",
   "metadata": {
    "slideshow": {
     "slide_type": "fragment"
    }
   },
   "source": [
    "### PMI Example\n",
    "\n",
    "[Automated Inference on Criminality using Face Images](https://arxiv.org/pdf/1611.04135v2.pdf)\n",
    "\n",
    "Record Plus, Minus, Interesting on Slack channel `#module-3a`            "
   ]
  },
  {
   "cell_type": "markdown",
   "metadata": {},
   "source": [
    "**PLUS:** What are the potential benefits and good aspects of this kind of analytics?\n",
    "\n"
   ]
  },
  {
   "cell_type": "markdown",
   "metadata": {},
   "source": [
    "* "
   ]
  },
  {
   "cell_type": "markdown",
   "metadata": {},
   "source": [
    "**MINUS:** What are the potential negative effects and bad aspects of this kind of analytics?\n"
   ]
  },
  {
   "cell_type": "markdown",
   "metadata": {},
   "source": [
    "* "
   ]
  },
  {
   "cell_type": "markdown",
   "metadata": {},
   "source": [
    "**INTERESTING:** What might be an interesting use or change to this kind of analytics?"
   ]
  },
  {
   "cell_type": "markdown",
   "metadata": {},
   "source": [
    "* "
   ]
  },
  {
   "cell_type": "markdown",
   "metadata": {
    "slideshow": {
     "slide_type": "subslide"
    }
   },
   "source": [
    "---\n",
    "### Try these PMIs yourself...\n",
    "\n",
    "### PMI-1\n",
    "\n",
    "[COVIDSafe tracking app reviewed: the government delivers on data security, but other issues remain](https://theconversation.com/covidsafe-tracking-app-reviewed-the-government-delivers-on-data-security-but-other-issues-remain-137249)\n"
   ]
  },
  {
   "cell_type": "markdown",
   "metadata": {
    "slideshow": {
     "slide_type": "subslide"
    }
   },
   "source": [
    "### PMI-2\n",
    "\n",
    "[One Month, 500,000 Face Scans: How China Is Using A.I. to Profile a Minority (Apr 14)](https://www.nytimes.com/2019/04/14/technology/china-surveillance-artificial-intelligence-racial-profiling.html)"
   ]
  },
  {
   "cell_type": "markdown",
   "metadata": {
    "slideshow": {
     "slide_type": "subslide"
    }
   },
   "source": [
    "### PMI-3\n",
    "[Amazon staff listen to customers' Alexa recordings, report says (11 Apr)](https://www.theguardian.com/technology/2019/apr/11/amazon-staff-listen-to-customers-alexa-recordings-report-says)\n"
   ]
  },
  {
   "cell_type": "markdown",
   "metadata": {
    "slideshow": {
     "slide_type": "subslide"
    }
   },
   "source": [
    "### PMI-4\n",
    "\n",
    "[Are you being scanned? How facial recognition technology follows you, even as you shop (Feb 24)](https://www.theguardian.com/technology/2019/feb/24/are-you-being-scanned-how-facial-recognition-technology-follows-you-even-as-you-shop)"
   ]
  },
  {
   "cell_type": "markdown",
   "metadata": {
    "slideshow": {
     "slide_type": "subslide"
    }
   },
   "source": [
    "### PMI-5\n",
    "\n",
    "[Five-Eyes nations to force encryption backdoors](https://www.itnews.com.au/news/five-eyes-nations-to-force-encryption-backdoors-511865)"
   ]
  },
  {
   "cell_type": "markdown",
   "metadata": {},
   "source": [
    "### PMI-6\n",
    "\n",
    "[Amazon’s system for tracking its warehouse workers can automatically fire them (Apr 26)](https://www.technologyreview.com/f/613434/amazons-system-for-tracking-its-warehouse-workers-can-automatically-fire-them/)"
   ]
  },
  {
   "cell_type": "markdown",
   "metadata": {
    "slideshow": {
     "slide_type": "slide"
    }
   },
   "source": [
    "---\n",
    "## [2] Trust\n",
    "\n",
    "Read through the following research paper and industry report, and distill the important elements of trust and how they relate to data analytics practice."
   ]
  },
  {
   "cell_type": "markdown",
   "metadata": {
    "slideshow": {
     "slide_type": "fragment"
    }
   },
   "source": [
    "Read the following research paper...\n",
    "\n",
    "[Passi & Jackson (2018) Trust in Data Science: Collaboration, Translation, and Accountability in Corporate Data Science Projects](https://sjackson.infosci.cornell.edu/Passi&Jackson_TrustinDataScience(CSCW2018).pdf)\n",
    "\n",
    "List the 4 comomon tensions, and briefly describe them...\n"
   ]
  },
  {
   "cell_type": "markdown",
   "metadata": {},
   "source": [
    "1. ...\n",
    "2. ... \n",
    "3. ... \n",
    "4. ...\n",
    "\n",
    "\n",
    "\n"
   ]
  },
  {
   "cell_type": "markdown",
   "metadata": {},
   "source": [
    "What do the authors mean by...\n",
    "\n",
    ">Trust in data science is therefore best understood as a deeply collaborative accomplishment, undertaken in the service of pragmatic ways of acting in an uncertain world.\n",
    "\n"
   ]
  },
  {
   "cell_type": "markdown",
   "metadata": {},
   "source": []
  },
  {
   "cell_type": "markdown",
   "metadata": {},
   "source": [
    "What did they find, and how do their findings relate to *you* as a stategic decision maker?"
   ]
  },
  {
   "cell_type": "markdown",
   "metadata": {},
   "source": []
  },
  {
   "cell_type": "markdown",
   "metadata": {
    "slideshow": {
     "slide_type": "subslide"
    }
   },
   "source": [
    "Make a list of key points from this Accenture report about building trust...\n",
    "\n",
    "[Accenture: Building Digital Trust: The Role of Data Ethics in the Digital Age](https://www.accenture.com/au-en/insight-data-ethics)\n",
    "\n",
    "Key points:"
   ]
  },
  {
   "cell_type": "markdown",
   "metadata": {},
   "source": [
    "* ...\n",
    "* ..."
   ]
  },
  {
   "cell_type": "markdown",
   "metadata": {
    "slideshow": {
     "slide_type": "slide"
    }
   },
   "source": [
    "---\n",
    "## [3] Principles\n",
    "\n",
    "How might the following principles contribute to your personal principles as a decision maker and data anlytics practitioner?"
   ]
  },
  {
   "cell_type": "markdown",
   "metadata": {
    "slideshow": {
     "slide_type": "subslide"
    }
   },
   "source": [
    "**Contextual Integrity**\n",
    "\n",
    "[Respecting Context to Protect Privacy: Why Meaning Matters](https://nissenbaum.tech.cornell.edu/papers/Respecting%20Context%20to%20Protect%20Privacy%20Why%20Meaning%20Matters.pdf)"
   ]
  },
  {
   "cell_type": "markdown",
   "metadata": {
    "slideshow": {
     "slide_type": "subslide"
    }
   },
   "source": [
    "**Bias Awareness**\n",
    "\n",
    "[Text Embedding Models Contain Bias. Here's Why That Matters.](https://developers.googleblog.com/2018/04/text-embedding-models-contain-bias.html?m=1)"
   ]
  },
  {
   "cell_type": "markdown",
   "metadata": {
    "slideshow": {
     "slide_type": "subslide"
    }
   },
   "source": [
    "#### Bias Identification\n",
    "\n",
    "[Assessing and Addressing Algorithmic Bias in Practice](http://interactions.acm.org/archive/view/november-december-2018/assessing-and-addressing-algorithmic-bias-in-practice)\n",
    "\n",
    "[PDF](http://delivery.acm.org/10.1145/3280000/3278156/p58-cramer.pdf)\n"
   ]
  },
  {
   "cell_type": "markdown",
   "metadata": {
    "slideshow": {
     "slide_type": "subslide"
    }
   },
   "source": [
    "**Privacy Regulation**\n",
    "\n",
    "[GDPR](https://digitalguardian.com/blog/what-does-gdpr-mean-global-data-protection-infographic)"
   ]
  },
  {
   "cell_type": "markdown",
   "metadata": {
    "slideshow": {
     "slide_type": "subslide"
    }
   },
   "source": [
    "#### Unconditional Counterfactual Explanations\n",
    "\n",
    "[COUNTERFACTUAL EXPLANATIONS WITHOUT OPENING THE BLACK BOX: AUTOMATED DECISIONS AND THE GDPR](https://arxiv.org/pdf/1711.00399.pdf)"
   ]
  },
  {
   "cell_type": "markdown",
   "metadata": {
    "slideshow": {
     "slide_type": "subslide"
    }
   },
   "source": [
    "#### Fairness traps\n",
    "\n",
    "[Fairness and Abstraction in Sociotechnical Systems](https://dl.acm.org/citation.cfm?id=3287598)"
   ]
  },
  {
   "cell_type": "markdown",
   "metadata": {
    "slideshow": {
     "slide_type": "subslide"
    }
   },
   "source": [
    "#### Data Sharing\n",
    "\n",
    "[Beyond Open vs. Closed: Balancing Individual Privacy and Public Accountability in Data Sharing](https://dl.acm.org/citation.cfm?id=3287577)"
   ]
  },
  {
   "cell_type": "markdown",
   "metadata": {
    "slideshow": {
     "slide_type": "subslide"
    }
   },
   "source": [
    "#### Moral Compass\n",
    "\n",
    "[Designing a Moral Compass for the Future of Computer Vision using Speculative Analysis](http://openaccess.thecvf.com/content_cvpr_2017_workshops/w16/html/Yeh_Designing_a_Moral_CVPR_2017_paper.html)"
   ]
  },
  {
   "cell_type": "markdown",
   "metadata": {
    "slideshow": {
     "slide_type": "slide"
    }
   },
   "source": [
    "---\n",
    "## [4] Personal\n",
    "\n",
    "When you apply ethical principles personally, it will force you to consider where you *draw the line* on certain applications of data analytics. Here are a couple of examples. What other examples can you think of where you might need to *draw a line* between what you accept and what you don't?"
   ]
  },
  {
   "cell_type": "markdown",
   "metadata": {
    "slideshow": {
     "slide_type": "subslide"
    }
   },
   "source": [
    "#### Reflect: Where do I draw the line?\n",
    "\n",
    "**HEALTH EXAMPLE**\n",
    "[Big data hurdles in precision medicine and precision public health](https://bmcmedinformdecismak.biomedcentral.com/articles/10.1186/s12911-018-0719-2)\n",
    "\n",
    "- Predict societal health burden due to refusal to take common-sense action (e.g. avoiding poor diet, quitting smoking)\n",
    "- Classify individual as low risk, moderate risk, high risk of increasing societal health burden\n",
    "- Incentivise low risk, remediate moderate risk, and disincentivise high risk\n",
    "- Reduce costs to tax payer, by targeting tax dollars to those active in improving health\n",
    "    \n",
    "\n",
    "\n",
    "\n",
    "\n"
   ]
  },
  {
   "cell_type": "markdown",
   "metadata": {
    "slideshow": {
     "slide_type": "subslide"
    }
   },
   "source": [
    "#### Reflect: Where do I draw the line?\n",
    "\n",
    "**EDUCATION EXAMPLE** [Automated Predictive Assessment from Unstructured Student Writing](http://citeseerx.ist.psu.edu/viewdoc/download?doi=10.1.1.850.4181&rep=rep1&type=pdf)   \n",
    "\n",
    "- Predict course fit and liklihood of success to reduce costs of unsuccessful study \n",
    "- Determine assessment features that best align with course success predictions\n",
    "- All assessment computationally graded on assessment features to ensure objectivity\n",
    "- Classification of progress, remediate, and terminate enrolment\n",
    "    \n",
    " "
   ]
  },
  {
   "cell_type": "code",
   "execution_count": null,
   "metadata": {},
   "outputs": [],
   "source": []
  }
 ],
 "metadata": {
  "celltoolbar": "Slideshow",
  "kernelspec": {
   "display_name": "Python 3",
   "language": "python",
   "name": "python3"
  },
  "language_info": {
   "codemirror_mode": {
    "name": "ipython",
    "version": 3
   },
   "file_extension": ".py",
   "mimetype": "text/x-python",
   "name": "python",
   "nbconvert_exporter": "python",
   "pygments_lexer": "ipython3",
   "version": "3.6.7"
  }
 },
 "nbformat": 4,
 "nbformat_minor": 2
}
