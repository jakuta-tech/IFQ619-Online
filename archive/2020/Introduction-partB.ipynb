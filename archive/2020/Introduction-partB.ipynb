{
 "cells": [
  {
   "cell_type": "markdown",
   "metadata": {
    "slideshow": {
     "slide_type": "slide"
    }
   },
   "source": [
    "<div class=\"alert alert-block alert-success\"><h3>IFN619 - Data Analytics for Strategic Decision Makers</h4></div>"
   ]
  },
  {
   "cell_type": "markdown",
   "metadata": {
    "slideshow": {
     "slide_type": "-"
    }
   },
   "source": [
    "## Introduction :: Asking the right questions\n",
    "\n",
    "1. Introductions\n",
    "2. Unit Structure and Assessment\n",
    "3. Communication and Slack\n",
    "**4. Data Analytics Cycle**\n",
    "**5. Getting started with Jupyter**\n",
    "**6. Some Exercises to Consolidate Your Knowledge**\n",
    "**7. Asking the right questions**\n"
   ]
  },
  {
   "cell_type": "markdown",
   "metadata": {
    "slideshow": {
     "slide_type": "slide"
    }
   },
   "source": [
    "### [4] Data Analytics Cycle\n",
    "\n",
    "In our approach to data analytics, we will follow a process that requires that we address 5 questions:\n",
    "1. Which is the right question?\n",
    "2. Which is the right data?\n",
    "3. Which is the right analysis?\n",
    "4. Which is the right visualisation?\n",
    "5. Which is the right insight?\n",
    "\n",
    "For this unit, we are concerned with more than just data analytics, we are interested in what is *appropriate, efficous, ethical ...* what is ***right!***"
   ]
  },
  {
   "cell_type": "markdown",
   "metadata": {
    "slideshow": {
     "slide_type": "subslide"
    }
   },
   "source": [
    "#### 1. A starting question\n",
    "\n",
    "Students choose to study for many different reasons. Usually, these reasons are associated with both (a) their history and (b) their imagined future. \n",
    "\n",
    "*Which questions might give us insight into students of IFN619 and their reasons for studying?* \n",
    "\n",
    "- **One example:** ***Which fields are IFN619 students most interested in?***\n",
    "\n",
    "**DISCUSSION:** What are some other possible questions?"
   ]
  },
  {
   "cell_type": "markdown",
   "metadata": {
    "slideshow": {
     "slide_type": "subslide"
    }
   },
   "source": [
    "#### 2. Some relevant data"
   ]
  },
  {
   "cell_type": "code",
   "execution_count": 79,
   "metadata": {},
   "outputs": [],
   "source": [
    "# importa Python libraries\n",
    "import pandas as pd               # used for tabular datasets\n",
    "import matplotlib.pyplot as plt   # used for visualisation purposes"
   ]
  },
  {
   "cell_type": "code",
   "execution_count": 54,
   "metadata": {
    "scrolled": true,
    "slideshow": {
     "slide_type": "fragment"
    }
   },
   "outputs": [],
   "source": [
    "# read our data into a dataframe variable (df)\n",
    "data = pd.read_csv('data/ifn619_2020.csv') \n"
   ]
  },
  {
   "cell_type": "code",
   "execution_count": 55,
   "metadata": {},
   "outputs": [
    {
     "name": "stdout",
     "output_type": "stream",
     "text": [
      "student_id\n",
      "course_code\n",
      "major_code\n"
     ]
    }
   ],
   "source": [
    "# what is this data about?\n",
    "# let's check if there is any information in the columns\n",
    "\n",
    "for heading in data.columns:   # for each heading in the dataframe\n",
    "    print(heading)           # print the heading"
   ]
  },
  {
   "cell_type": "code",
   "execution_count": 56,
   "metadata": {},
   "outputs": [
    {
     "data": {
      "text/html": [
       "<div>\n",
       "<style scoped>\n",
       "    .dataframe tbody tr th:only-of-type {\n",
       "        vertical-align: middle;\n",
       "    }\n",
       "\n",
       "    .dataframe tbody tr th {\n",
       "        vertical-align: top;\n",
       "    }\n",
       "\n",
       "    .dataframe thead th {\n",
       "        text-align: right;\n",
       "    }\n",
       "</style>\n",
       "<table border=\"1\" class=\"dataframe\">\n",
       "  <thead>\n",
       "    <tr style=\"text-align: right;\">\n",
       "      <th></th>\n",
       "      <th>student_id</th>\n",
       "      <th>course_code</th>\n",
       "      <th>major_code</th>\n",
       "    </tr>\n",
       "  </thead>\n",
       "  <tbody>\n",
       "    <tr>\n",
       "      <th>0</th>\n",
       "      <td>1</td>\n",
       "      <td>IN27</td>\n",
       "      <td></td>\n",
       "    </tr>\n",
       "    <tr>\n",
       "      <th>1</th>\n",
       "      <td>2</td>\n",
       "      <td>IN23</td>\n",
       "      <td></td>\n",
       "    </tr>\n",
       "    <tr>\n",
       "      <th>2</th>\n",
       "      <td>3</td>\n",
       "      <td>IN20</td>\n",
       "      <td>IN20MJR-DATASC</td>\n",
       "    </tr>\n",
       "    <tr>\n",
       "      <th>3</th>\n",
       "      <td>4</td>\n",
       "      <td>IN26</td>\n",
       "      <td></td>\n",
       "    </tr>\n",
       "    <tr>\n",
       "      <th>4</th>\n",
       "      <td>5</td>\n",
       "      <td>IN20</td>\n",
       "      <td>IN20MJR-DATASC</td>\n",
       "    </tr>\n",
       "    <tr>\n",
       "      <th>5</th>\n",
       "      <td>6</td>\n",
       "      <td>IN21</td>\n",
       "      <td>IN20MJR-SECUR</td>\n",
       "    </tr>\n",
       "    <tr>\n",
       "      <th>6</th>\n",
       "      <td>7</td>\n",
       "      <td>IN20</td>\n",
       "      <td>IN20MJR-BUSPMGT</td>\n",
       "    </tr>\n",
       "    <tr>\n",
       "      <th>7</th>\n",
       "      <td>8</td>\n",
       "      <td>IN20</td>\n",
       "      <td>IN20MJR-COMPSC</td>\n",
       "    </tr>\n",
       "    <tr>\n",
       "      <th>8</th>\n",
       "      <td>9</td>\n",
       "      <td>IN20</td>\n",
       "      <td>IN20MJR-DATASC</td>\n",
       "    </tr>\n",
       "    <tr>\n",
       "      <th>9</th>\n",
       "      <td>10</td>\n",
       "      <td>IN26</td>\n",
       "      <td></td>\n",
       "    </tr>\n",
       "  </tbody>\n",
       "</table>\n",
       "</div>"
      ],
      "text/plain": [
       "   student_id course_code       major_code\n",
       "0           1        IN27                 \n",
       "1           2        IN23                 \n",
       "2           3        IN20   IN20MJR-DATASC\n",
       "3           4        IN26                 \n",
       "4           5        IN20   IN20MJR-DATASC\n",
       "5           6        IN21    IN20MJR-SECUR\n",
       "6           7        IN20  IN20MJR-BUSPMGT\n",
       "7           8        IN20   IN20MJR-COMPSC\n",
       "8           9        IN20   IN20MJR-DATASC\n",
       "9          10        IN26                 "
      ]
     },
     "execution_count": 56,
     "metadata": {},
     "output_type": "execute_result"
    }
   ],
   "source": [
    "# let's take a quick look at our data\n",
    "N = 10          # number of rows to display\n",
    "data.head(N)    # print the first N rows"
   ]
  },
  {
   "cell_type": "markdown",
   "metadata": {
    "slideshow": {
     "slide_type": "fragment"
    }
   },
   "source": [
    "**DISCUSSION:** How relevant is the data, what are some potential issues?"
   ]
  },
  {
   "cell_type": "markdown",
   "metadata": {
    "slideshow": {
     "slide_type": "subslide"
    }
   },
   "source": [
    "#### 3. Analysing the data\n",
    "\n",
    "We can explore the data, asking questions like *how many students are there?*"
   ]
  },
  {
   "cell_type": "code",
   "execution_count": 57,
   "metadata": {
    "slideshow": {
     "slide_type": "fragment"
    }
   },
   "outputs": [
    {
     "data": {
      "text/plain": [
       "(218, 3)"
      ]
     },
     "execution_count": 57,
     "metadata": {},
     "output_type": "execute_result"
    }
   ],
   "source": [
    "# How many students are in this dataset?\n",
    "# We can answer this questions by determining the total number of \n",
    "# instances (rows) in our dataset\n",
    "\n",
    "# The dimensional shape of the dataframe\n",
    "data.shape"
   ]
  },
  {
   "cell_type": "code",
   "execution_count": 58,
   "metadata": {
    "slideshow": {
     "slide_type": "-"
    }
   },
   "outputs": [
    {
     "data": {
      "text/plain": [
       "218"
      ]
     },
     "execution_count": 58,
     "metadata": {},
     "output_type": "execute_result"
    }
   ],
   "source": [
    "#We only want the number of rows\n",
    "data.shape[0]"
   ]
  },
  {
   "cell_type": "code",
   "execution_count": 59,
   "metadata": {
    "slideshow": {
     "slide_type": "-"
    }
   },
   "outputs": [
    {
     "name": "stdout",
     "output_type": "stream",
     "text": [
      "There are 218 students represented in the data\n"
     ]
    }
   ],
   "source": [
    "print(\"There are {} students represented in the data\".format(df.shape[0]))"
   ]
  },
  {
   "cell_type": "markdown",
   "metadata": {
    "slideshow": {
     "slide_type": "fragment"
    }
   },
   "source": [
    "**DISCUSSION:** Why might this question be important?"
   ]
  },
  {
   "cell_type": "markdown",
   "metadata": {
    "slideshow": {
     "slide_type": "subslide"
    }
   },
   "source": [
    "How can we address our original question: Which fields are IFN619 students most interested in?\n",
    "\n",
    "Perhaps, the course code?"
   ]
  },
  {
   "cell_type": "code",
   "execution_count": 60,
   "metadata": {
    "slideshow": {
     "slide_type": "fragment"
    }
   },
   "outputs": [
    {
     "data": {
      "text/plain": [
       "0      IN27\n",
       "1      IN23\n",
       "2      IN20\n",
       "3      IN26\n",
       "4      IN20\n",
       "       ... \n",
       "213    IN23\n",
       "214    IN27\n",
       "215    IN20\n",
       "216    IN20\n",
       "217    IN20\n",
       "Name: course_code, Length: 218, dtype: object"
      ]
     },
     "execution_count": 60,
     "metadata": {},
     "output_type": "execute_result"
    }
   ],
   "source": [
    "# Select column \"course_code\" from our dataset\\\n",
    "\n",
    "data.course_code"
   ]
  },
  {
   "cell_type": "code",
   "execution_count": 61,
   "metadata": {},
   "outputs": [
    {
     "data": {
      "text/plain": [
       "array(['IN27', 'IN23', 'IN20', 'IN26', 'IN21', 'U083'], dtype=object)"
      ]
     },
     "execution_count": 61,
     "metadata": {},
     "output_type": "execute_result"
    }
   ],
   "source": [
    "# we can remove all repeated elements of the columns by \n",
    "# calling the unique() method\n",
    "\n",
    "data.course_code.unique()"
   ]
  },
  {
   "cell_type": "markdown",
   "metadata": {
    "slideshow": {
     "slide_type": "subslide"
    }
   },
   "source": [
    "But perhaps what is more useful is to know how many students are from each course..."
   ]
  },
  {
   "cell_type": "code",
   "execution_count": 64,
   "metadata": {
    "scrolled": true,
    "slideshow": {
     "slide_type": "fragment"
    }
   },
   "outputs": [
    {
     "data": {
      "text/plain": [
       "course_code\n",
       "IN20    90\n",
       "IN21    12\n",
       "IN23    14\n",
       "IN26    19\n",
       "IN27    82\n",
       "U083     1\n",
       "Name: student_id, dtype: int64"
      ]
     },
     "execution_count": 64,
     "metadata": {},
     "output_type": "execute_result"
    }
   ],
   "source": [
    "course_counts = data.groupby('course_code')['student_id'].count()\n",
    "course_counts"
   ]
  },
  {
   "cell_type": "markdown",
   "metadata": {
    "slideshow": {
     "slide_type": "subslide"
    }
   },
   "source": [
    "What about the major code?"
   ]
  },
  {
   "cell_type": "code",
   "execution_count": 66,
   "metadata": {
    "slideshow": {
     "slide_type": "fragment"
    }
   },
   "outputs": [
    {
     "data": {
      "text/plain": [
       "array([' ', 'IN20MJR-DATASC', 'IN20MJR-SECUR', 'IN20MJR-BUSPMGT',\n",
       "       'IN20MJR-COMPSC', 'IN20MJR-ENTSYS', 'IN20MJR-INFOMGT',\n",
       "       'IN20MJR-BUSANAL'], dtype=object)"
      ]
     },
     "execution_count": 66,
     "metadata": {},
     "output_type": "execute_result"
    }
   ],
   "source": [
    "data.major_code.unique()"
   ]
  },
  {
   "cell_type": "code",
   "execution_count": 69,
   "metadata": {
    "scrolled": true,
    "slideshow": {
     "slide_type": "fragment"
    }
   },
   "outputs": [
    {
     "data": {
      "text/plain": [
       "major_code\n",
       "                   117\n",
       "IN20MJR-BUSANAL      1\n",
       "IN20MJR-BUSPMGT     15\n",
       "IN20MJR-COMPSC      15\n",
       "IN20MJR-DATASC      59\n",
       "IN20MJR-ENTSYS       4\n",
       "IN20MJR-INFOMGT      6\n",
       "IN20MJR-SECUR        1\n",
       "Name: student_id, dtype: int64"
      ]
     },
     "execution_count": 69,
     "metadata": {},
     "output_type": "execute_result"
    }
   ],
   "source": [
    "major_counts = data.groupby('major_code')['student_id'].count()\n",
    "major_counts"
   ]
  },
  {
   "cell_type": "markdown",
   "metadata": {
    "slideshow": {
     "slide_type": "fragment"
    }
   },
   "source": [
    "**DISCUSSION:** What is the problem with our analysis?"
   ]
  },
  {
   "cell_type": "markdown",
   "metadata": {
    "slideshow": {
     "slide_type": "subslide"
    }
   },
   "source": [
    "#### 4. Visualising the results\n",
    "\n",
    "Visualising our results can help us see features that are difficult to see in raw numbers. Visualisation can also help others understand our results."
   ]
  },
  {
   "cell_type": "code",
   "execution_count": 77,
   "metadata": {
    "slideshow": {
     "slide_type": "fragment"
    }
   },
   "outputs": [
    {
     "data": {
      "image/png": "[encoded data removed]",
      "text/plain": [
       "<Figure size 432x288 with 1 Axes>"
      ]
     },
     "metadata": {
      "needs_background": "light"
     },
     "output_type": "display_data"
    }
   ],
   "source": [
    "\n",
    "course_counts.plot(kind=\"line\")\n",
    "plt.show()"
   ]
  },
  {
   "cell_type": "code",
   "execution_count": 78,
   "metadata": {
    "slideshow": {
     "slide_type": "subslide"
    }
   },
   "outputs": [
    {
     "data": {
      "image/png": "[encoded data removed]",
      "text/plain": [
       "<Figure size 432x288 with 1 Axes>"
      ]
     },
     "metadata": {
      "needs_background": "light"
     },
     "output_type": "display_data"
    }
   ],
   "source": [
    "major_counts.plot(kind=\"bar\")\n",
    "plt.show()"
   ]
  },
  {
   "cell_type": "markdown",
   "metadata": {
    "slideshow": {
     "slide_type": "fragment"
    }
   },
   "source": [
    "**DISCUSSION:** What are the problem with these visualisations? How can these problems be fixed?"
   ]
  },
  {
   "cell_type": "code",
   "execution_count": 80,
   "metadata": {
    "scrolled": true,
    "slideshow": {
     "slide_type": "subslide"
    }
   },
   "outputs": [
    {
     "data": {
      "text/html": [
       "<div>\n",
       "<style scoped>\n",
       "    .dataframe tbody tr th:only-of-type {\n",
       "        vertical-align: middle;\n",
       "    }\n",
       "\n",
       "    .dataframe tbody tr th {\n",
       "        vertical-align: top;\n",
       "    }\n",
       "\n",
       "    .dataframe thead th {\n",
       "        text-align: right;\n",
       "    }\n",
       "</style>\n",
       "<table border=\"1\" class=\"dataframe\">\n",
       "  <thead>\n",
       "    <tr style=\"text-align: right;\">\n",
       "      <th></th>\n",
       "      <th>student_id</th>\n",
       "      <th>course_code</th>\n",
       "      <th>major_code</th>\n",
       "    </tr>\n",
       "  </thead>\n",
       "  <tbody>\n",
       "    <tr>\n",
       "      <th>2</th>\n",
       "      <td>3</td>\n",
       "      <td>IN20</td>\n",
       "      <td>IN20MJR-DATASC</td>\n",
       "    </tr>\n",
       "    <tr>\n",
       "      <th>4</th>\n",
       "      <td>5</td>\n",
       "      <td>IN20</td>\n",
       "      <td>IN20MJR-DATASC</td>\n",
       "    </tr>\n",
       "    <tr>\n",
       "      <th>5</th>\n",
       "      <td>6</td>\n",
       "      <td>IN21</td>\n",
       "      <td>IN20MJR-SECUR</td>\n",
       "    </tr>\n",
       "    <tr>\n",
       "      <th>6</th>\n",
       "      <td>7</td>\n",
       "      <td>IN20</td>\n",
       "      <td>IN20MJR-BUSPMGT</td>\n",
       "    </tr>\n",
       "    <tr>\n",
       "      <th>7</th>\n",
       "      <td>8</td>\n",
       "      <td>IN20</td>\n",
       "      <td>IN20MJR-COMPSC</td>\n",
       "    </tr>\n",
       "    <tr>\n",
       "      <th>...</th>\n",
       "      <td>...</td>\n",
       "      <td>...</td>\n",
       "      <td>...</td>\n",
       "    </tr>\n",
       "    <tr>\n",
       "      <th>211</th>\n",
       "      <td>212</td>\n",
       "      <td>IN20</td>\n",
       "      <td>IN20MJR-DATASC</td>\n",
       "    </tr>\n",
       "    <tr>\n",
       "      <th>212</th>\n",
       "      <td>213</td>\n",
       "      <td>IN21</td>\n",
       "      <td>IN20MJR-DATASC</td>\n",
       "    </tr>\n",
       "    <tr>\n",
       "      <th>215</th>\n",
       "      <td>216</td>\n",
       "      <td>IN20</td>\n",
       "      <td>IN20MJR-BUSANAL</td>\n",
       "    </tr>\n",
       "    <tr>\n",
       "      <th>216</th>\n",
       "      <td>217</td>\n",
       "      <td>IN20</td>\n",
       "      <td>IN20MJR-DATASC</td>\n",
       "    </tr>\n",
       "    <tr>\n",
       "      <th>217</th>\n",
       "      <td>218</td>\n",
       "      <td>IN20</td>\n",
       "      <td>IN20MJR-COMPSC</td>\n",
       "    </tr>\n",
       "  </tbody>\n",
       "</table>\n",
       "<p>101 rows × 3 columns</p>\n",
       "</div>"
      ],
      "text/plain": [
       "     student_id course_code       major_code\n",
       "2             3        IN20   IN20MJR-DATASC\n",
       "4             5        IN20   IN20MJR-DATASC\n",
       "5             6        IN21    IN20MJR-SECUR\n",
       "6             7        IN20  IN20MJR-BUSPMGT\n",
       "7             8        IN20   IN20MJR-COMPSC\n",
       "..          ...         ...              ...\n",
       "211         212        IN20   IN20MJR-DATASC\n",
       "212         213        IN21   IN20MJR-DATASC\n",
       "215         216        IN20  IN20MJR-BUSANAL\n",
       "216         217        IN20   IN20MJR-DATASC\n",
       "217         218        IN20   IN20MJR-COMPSC\n",
       "\n",
       "[101 rows x 3 columns]"
      ]
     },
     "execution_count": 80,
     "metadata": {},
     "output_type": "execute_result"
    }
   ],
   "source": [
    "new_data = data[data['major_code'].str.contains('\\S', regex=True)]\n",
    "new_data"
   ]
  },
  {
   "cell_type": "code",
   "execution_count": 93,
   "metadata": {
    "slideshow": {
     "slide_type": "subslide"
    }
   },
   "outputs": [
    {
     "data": {
      "text/plain": [
       "major_code\n",
       "IN20MJR-BUSANAL     1\n",
       "IN20MJR-BUSPMGT    15\n",
       "IN20MJR-COMPSC     15\n",
       "IN20MJR-DATASC     59\n",
       "IN20MJR-ENTSYS      4\n",
       "IN20MJR-INFOMGT     6\n",
       "IN20MJR-SECUR       1\n",
       "Name: student_id, dtype: int64"
      ]
     },
     "execution_count": 93,
     "metadata": {},
     "output_type": "execute_result"
    }
   ],
   "source": [
    "only_major_counts = new_data.groupby('major_code')['student_id'].count()\n",
    "only_major_counts\n"
   ]
  },
  {
   "cell_type": "code",
   "execution_count": 105,
   "metadata": {},
   "outputs": [
    {
     "data": {
      "image/png": "[encoded data removed]",
      "text/plain": [
       "<Figure size 432x288 with 1 Axes>"
      ]
     },
     "metadata": {
      "needs_background": "light"
     },
     "output_type": "display_data"
    }
   ],
   "source": [
    "only_major_counts.plot(kind=\"bar\")\n",
    "plt.show()"
   ]
  },
  {
   "cell_type": "markdown",
   "metadata": {},
   "source": [
    "Maybe we can add different colors to the different majors"
   ]
  },
  {
   "cell_type": "code",
   "execution_count": 107,
   "metadata": {},
   "outputs": [
    {
     "data": {
      "image/png": "[encoded data removed]",
      "text/plain": [
       "<Figure size 432x288 with 1 Axes>"
      ]
     },
     "metadata": {
      "needs_background": "light"
     },
     "output_type": "display_data"
    }
   ],
   "source": [
    "# we have 7 different majors, so we can. use the system's colors from the default color map\n",
    "colors = tuple([\"C0\", \"C1\",\"C2\",\"C3\",\"C4\",\"C5\", \"C6\"])\n",
    "\n",
    "only_major_counts.plot(kind=\"bar\", color=colors)\n",
    "plt.show()"
   ]
  },
  {
   "cell_type": "markdown",
   "metadata": {
    "slideshow": {
     "slide_type": "subslide"
    }
   },
   "source": [
    "#### 5. Insight\n",
    "\n",
    "To actually make our analytics insightful, we need to present it in a way that makes the analysis meaningful to people."
   ]
  },
  {
   "cell_type": "code",
   "execution_count": 109,
   "metadata": {
    "slideshow": {
     "slide_type": "fragment"
    }
   },
   "outputs": [
    {
     "data": {
      "image/png": "[encoded data removed]",
      "text/plain": [
       "<Figure size 432x288 with 1 Axes>"
      ]
     },
     "metadata": {
      "needs_background": "light"
     },
     "output_type": "display_data"
    }
   ],
   "source": [
    "chartTitle=\"Number of IFN619 students per major\"\n",
    "yaxisLabel=\"number of students\"\n",
    "xaxisLabel=\"major\"\n",
    "\n",
    "only_major_counts.plot.bar(color=colors, ax=plt.axes(title=chartTitle,ylabel = yaxisLabel ,\n",
    "                                                     xlabel = xaxisLabel) )\n",
    "plt.show()"
   ]
  },
  {
   "cell_type": "markdown",
   "metadata": {
    "slideshow": {
     "slide_type": "fragment"
    }
   },
   "source": [
    "**DISCUSSION:** Is this sufficient for insight? What else is needed for insight?"
   ]
  },
  {
   "cell_type": "code",
   "execution_count": 84,
   "metadata": {
    "slideshow": {
     "slide_type": "subslide"
    }
   },
   "outputs": [
    {
     "name": "stdout",
     "output_type": "stream",
     "text": [
      "Only 101 of a total 218 students have a major. This represents only 46.33% of the population.\n"
     ]
    }
   ],
   "source": [
    "studs_with_major = only_major_counts.sum()\n",
    "total_studs = data.shape[0]\n",
    "ratio = studs_with_major/total_studs\n",
    "sent = \"Only {} of a total {} students have a major. This represents only {:.2%} of the population.\"\n",
    "print(sent.format(studs_with_major,total_studs,ratio))"
   ]
  },
  {
   "cell_type": "markdown",
   "metadata": {
    "slideshow": {
     "slide_type": "fragment"
    }
   },
   "source": [
    "**DISCUSSION:** \n",
    "- Is this enough?\n",
    "- What can we say about the original question?\n",
    "- Think back to the issues raised in the discussion - How do they compound over the course of the analytics?\n",
    "- What is the end result for the insight?"
   ]
  },
  {
   "cell_type": "markdown",
   "metadata": {
    "slideshow": {
     "slide_type": "slide"
    }
   },
   "source": [
    "### [5] Getting started with Jupyter\n",
    "- Create a GitHub account (if you don't have one)\n",
    "- Login to Jupyter - [http://jupyter.infosci-apps.qut.edu.au](http://jupyter.infosci-apps.qut.edu.au)\n",
    "- Click the link in Blackboard to sync the workshop materials to your Jupyter accounts"
   ]
  },
  {
   "cell_type": "markdown",
   "metadata": {
    "slideshow": {
     "slide_type": "subslide"
    }
   },
   "source": [
    "Notebooks have 2 main types of cells - `Markdown` cells for displaying content like a web page, and `Code` cells for running code (in our case Python code) and displaying the results. In this practical session we will explore both of these types of cells and how they work together for a complete analytics process.\n",
    "\n",
    "Before moving on to the tasks, familiarise yourself with the menus above, and in particular the keyboard short cuts (click the keyboard icon) for `run cell and insert below`, `run cell and select next`, changing between `command` and `edit` modes, and changing between `Code` and `Markdown` cell types.\n",
    "\n",
    "---"
   ]
  },
  {
   "cell_type": "markdown",
   "metadata": {
    "slideshow": {
     "slide_type": "subslide"
    }
   },
   "source": [
    "### [6] Some Exercises to Consolidate Your Knowledge\n",
    "\n",
    "You are part of a data analytics company that evaluates data from sport competitions. Your boss needs to get some information about the olympic games and wants you to answer the following questions:\n",
    "\n",
    "-> answer each question with the appropriate visualisations and insights\n",
    "\n",
    "-> (dataset file can be found in *data/olympics.csv*)"
   ]
  },
  {
   "cell_type": "markdown",
   "metadata": {
    "slideshow": {
     "slide_type": "subslide"
    }
   },
   "source": [
    "#### **Question 1:** \n",
    "Which are the best performing countries in the olympics (most medals won in summer games, winter games, or both)?\n"
   ]
  },
  {
   "cell_type": "code",
   "execution_count": 111,
   "metadata": {},
   "outputs": [],
   "source": [
    "# dataset to be used throughout this exercise\n",
    "dataset_path = \"data/olympics.csv\"\n",
    "\n",
    "# YOUR ANALYSIS HERE"
   ]
  },
  {
   "cell_type": "markdown",
   "metadata": {},
   "source": [
    "#### **Question 2:**\n",
    "Which country had the biggest difference between their summer and winter gold medal counts?"
   ]
  },
  {
   "cell_type": "code",
   "execution_count": 112,
   "metadata": {},
   "outputs": [],
   "source": [
    "# YOUR ANALYSIS HERE\n"
   ]
  },
  {
   "cell_type": "markdown",
   "metadata": {},
   "source": [
    "#### **Question 3:**\n",
    "Make an exploratory analysis of the entire dataset, find a relevant business concern that would provide new insights about the performance of each country, and provide an answer to it.\n",
    "\n",
    "-> there is no right / wrong answer here. Your creatility and ability to find a relevant business concern are the most important things here"
   ]
  },
  {
   "cell_type": "code",
   "execution_count": 113,
   "metadata": {},
   "outputs": [],
   "source": [
    "# YOUR ANALYSIS HERE\n"
   ]
  },
  {
   "cell_type": "markdown",
   "metadata": {
    "slideshow": {
     "slide_type": "slide"
    }
   },
   "source": [
    "### [7] Asking the right questions\n",
    "\n",
    "- Not just about the analytics, more about asking the right questions\n",
    "- Try the business analytics excercise at home"
   ]
  },
  {
   "cell_type": "markdown",
   "metadata": {},
   "source": [
    "### [8] What's next\n",
    "- Studios - help with getting started in Jupyter\n",
    "- Tutorials - work on a basic task to help you get oriented to the technologies\n",
    "- Assessment - Assignments 1 & 3 will be introduced next week"
   ]
  },
  {
   "cell_type": "code",
   "execution_count": null,
   "metadata": {},
   "outputs": [],
   "source": []
  }
 ],
 "metadata": {
  "celltoolbar": "Slideshow",
  "kernelspec": {
   "display_name": "Python 3",
   "language": "python",
   "name": "python3"
  },
  "language_info": {
   "codemirror_mode": {
    "name": "ipython",
    "version": 3
   },
   "file_extension": ".py",
   "mimetype": "text/x-python",
   "name": "python",
   "nbconvert_exporter": "python",
   "pygments_lexer": "ipython3",
   "version": "3.7.6"
  }
 },
 "nbformat": 4,
 "nbformat_minor": 4
}
