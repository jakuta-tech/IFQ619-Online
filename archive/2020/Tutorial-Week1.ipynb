{
 "cells": [
  {
   "cell_type": "markdown",
   "metadata": {},
   "source": [
    "<div class=\"alert alert-block alert-success\"><b>IFN619</b> - Data Analytics for Strategic Decision Makers</div>"
   ]
  },
  {
   "cell_type": "markdown",
   "metadata": {},
   "source": [
    "## TUTORIAL Week 1 :: Introducing Jupyter notebook\n",
    "\n",
    "You've made it to this point, so you know how to:\n",
    "1. Sync files to your Jupyter server\n",
    "2. Launch a notebook from the Jupyter `files` section. \n",
    "\n",
    "Now it's time to take a look at how these notebooks are created. \n",
    "\n",
    "Notebooks have 2 main types of cells - `Markdown` cells for displaying content like a web page, and `Code` cells for running code (in our case Python code) and displaying the results. In this practical session we will explore both of these types of cells and how they work together for a complete analytics process.\n",
    "\n",
    "This tutorial includes 4 groups of tasks:\n",
    "1. Basic Markdown\n",
    "2. Basic Python\n",
    "3. Overview of analytics process\n",
    "\n",
    "Before moving on to the tasks, familiarise yourself with the menus above, and in particular the keyboard short cuts (click the keyboard icon) for `run selected cells and insert below`, `run selected cells`, changing between `command` and `edit` modes, and changing between `Code` and `Markdown` cell types.\n",
    "\n",
    "---"
   ]
  },
  {
   "cell_type": "markdown",
   "metadata": {},
   "source": [
    "## [1] Basic Markdown\n",
    "\n",
    "Open `Help > Markdown Reference` and read what is possible to do in a markdown cell. Try out the 10 minute tutorial to get a feel for what is possible.\n",
    "\n",
    "Try creating the following markdown elements. Create a new markdown cell for each element:\n",
    "1. Headings - 3 different levels. Then give each subsequent element a heading\n",
    "2. Plain text, italics and bold text, and a horizontal line. Then put a line between each element.\n",
    "3. A numbered list of your 3 favourite bands/musicians, with sublists of a couple of their albums \n",
    "4. A bulleted list of your 3 favourite movies, with sublists of characters in each.\n",
    "5. A table with your movies above, your favourite character and the actor who plays the character.\n",
    "6. A quote from a web page, and a link to the original webpage\n",
    "7. A code block that demonstrates printing your name\n",
    "8. An inline maths equation for a quadratic equation - f of x equals ax squared plus bx plus c (between some text)\n",
    "\n",
    "---"
   ]
  },
  {
   "cell_type": "markdown",
   "metadata": {},
   "source": [
    "Add your Markdown here."
   ]
  },
  {
   "cell_type": "markdown",
   "metadata": {},
   "source": [
    "---\n",
    "## [2] Basic Python\n",
    "\n",
    "Open `Help > Python Reference` and browse the resources available to help you recall (or learn) basic Python. You can learn as you go, so if you don't have a good knowledge of Python, don't worry - you will be able to pick it up week by week.\n",
    "\n",
    "Try running Python code for the following tasks. Create a new `Code` cell for each task. \n",
    "\n",
    "1. Code comments. Include one at the start of the cell and another beside `answer = 42` that tells the reader that it is the answer to life, the universe and everything.\n",
    "2. Calculate the number hours in a week. Assign this to a variable `hoursInWeek`, and then calculate the number of hours in a 13 week semester. Comment what you are doing.\n",
    "3. Create a 2 line string using newline and print it out.\n",
    "4. Create a 3 line string using triple quotes and print it out.\n",
    "5. Print out `Data Analytics for Strategic Decision Makers` concatenated from 4 parts.\n",
    "6. Assign `IFN619 Data Analytics for Strategic Decision Makers` to a variable `unit` and then extract the unit code separated to the unit name and print them out as `Data Analytics for Strategic Decision Makers (IFN619)`.\n",
    "7. Check that the unit code is 6 characters long.\n",
    "8. Add your movies from the markdown task to a list, then use a while loop to print each element of the list out on a separate line.\n",
    "---"
   ]
  },
  {
   "cell_type": "code",
   "execution_count": null,
   "metadata": {},
   "outputs": [],
   "source": [
    "#Write your code here"
   ]
  },
  {
   "cell_type": "markdown",
   "metadata": {},
   "source": [
    "---\n",
    "## [3] Overview of analytics process\n",
    "\n",
    "1. Question\n",
    "2. Data\n",
    "3. Analysis\n",
    "4. Visualisation\n",
    "5. Insight"
   ]
  },
  {
   "cell_type": "markdown",
   "metadata": {},
   "source": [
    "### 1. Question\n",
    "\n",
    "> **CONCERN:** A business is looking to launch an agricultural product in either Australia or New Zealand. However, management is unsure which country to start with.\n",
    "\n",
    "What questions might the business be interested in answering, and how might we use data analytics to address these questions?"
   ]
  },
  {
   "cell_type": "markdown",
   "metadata": {},
   "source": [
    "### 1. Data\n",
    "\n",
    "What data may be helpful in finding out the importance of agriculture to each country?\n",
    "\n",
    "Perhaps, data that shows the contribution of agriculture to the economy:\n",
    "1. Take a look at [GapMinder](https://www.gapminder.org/data/) - (based on [uw-madison resource](https://uw-madison-aci.github.io/python-novice-gapminder/39-plotting/))\n",
    "2. Find the \"Agriculture, percent of GDP\" and download the CSV\n",
    "3. Upload the CSV to your Jupyter files section with the 'upload' button"
   ]
  },
  {
   "cell_type": "markdown",
   "metadata": {},
   "source": [
    "#### Required libraries\n",
    "\n",
    "For any data analysis, we need to use existing software that has been loaded into the Jupyter environment in the form of 'libraries', 'packages', or 'modules'. To make these libraries available to your notebook, you need to `import` them."
   ]
  },
  {
   "cell_type": "code",
   "execution_count": null,
   "metadata": {},
   "outputs": [],
   "source": [
    "# Import pandas for dataframes and matplotlib for plotting\n",
    "import matplotlib.pyplot as plt\n",
    "import pandas"
   ]
  },
  {
   "cell_type": "markdown",
   "metadata": {},
   "source": [
    "#### Load the data\n",
    "\n",
    "Now that we have the data file in our Jupyter environment, we can load the data out of the file into our notebook so that we can work with it."
   ]
  },
  {
   "cell_type": "code",
   "execution_count": null,
   "metadata": {},
   "outputs": [],
   "source": [
    "# Set variables for file and index column\n",
    "filename = ??? #the name of your uploaded file - ensure that you use quotes \"filename.csv\"\n",
    "colname = ??? #open the csv and have a look at what the index column is called\n",
    "\n",
    "# Read in the percent of gdp data\n",
    "ag_gdp = pandas.read_csv(filename, index_col= colname)\n",
    "\n",
    "# Show the shape of the data\n",
    "print(ag_gdp.shape)\n"
   ]
  },
  {
   "cell_type": "markdown",
   "metadata": {},
   "source": [
    "What does the shape tell us?\n",
    "Take a look at the data. \n",
    "TIP: You can view any variable by typing its name in a cell and running the cell."
   ]
  },
  {
   "cell_type": "code",
   "execution_count": null,
   "metadata": {},
   "outputs": [],
   "source": [
    "# Display loaded data\n",
    "???"
   ]
  },
  {
   "cell_type": "markdown",
   "metadata": {},
   "source": [
    "#### Clean the data\n",
    "\n",
    "Data is rarely in a form where it is ready to analyse immediately. One of the most common tasks in data analytics is cleaning. See [The Ultimate Guide to Data Cleaning](https://towardsdatascience.com/the-ultimate-guide-to-data-cleaning-3969843991d4)\n",
    "\n",
    "For this task, we're going to work with a subset of the data, and we will select data that needs minimal cleaning. For other tasks, you may need to do a lot of cleaning. How much always depends on both the question being addressed and the data that you have selected."
   ]
  },
  {
   "cell_type": "code",
   "execution_count": null,
   "metadata": {},
   "outputs": [],
   "source": [
    "# Take the last 5 years of the GDP data\n",
    "most_recent_five_years = [???,???,???,???,???] # TIP: Ensure you put names of columns in quotes \"colname\"\n",
    "ag_gdp_clean = ag_gdp.filter(most_recent_five_years, axis=1)\n",
    "print(???.shape)"
   ]
  },
  {
   "cell_type": "markdown",
   "metadata": {},
   "source": [
    "We are only interested in Australia and New Zealand, so we don't need 189 rows. We can use the .loc function of the dataframe to obtain the row."
   ]
  },
  {
   "cell_type": "code",
   "execution_count": null,
   "metadata": {},
   "outputs": [],
   "source": [
    "ag_gdp_clean.loc[\"Zimbabwe\"]"
   ]
  },
  {
   "cell_type": "markdown",
   "metadata": {},
   "source": [
    "So we can take the appropriate rows and assign them to new variables for each country"
   ]
  },
  {
   "cell_type": "code",
   "execution_count": null,
   "metadata": {},
   "outputs": [],
   "source": [
    "# Just select the countries we are interested in by referencing the index\n",
    "ag_gdp_au = ag_gdp_clean.loc[???]\n",
    "ag_gdp_nz = ag_gdp_clean.loc[???]"
   ]
  },
  {
   "cell_type": "code",
   "execution_count": null,
   "metadata": {},
   "outputs": [],
   "source": [
    "# Take a look at the data for AU\n",
    "???"
   ]
  },
  {
   "cell_type": "code",
   "execution_count": null,
   "metadata": {},
   "outputs": [],
   "source": [
    "# Take a look at the data for NZ\n",
    "???"
   ]
  },
  {
   "cell_type": "markdown",
   "metadata": {},
   "source": [
    "### 3. Analysis\n",
    "\n",
    "* What is the problem with the NZ data?\n",
    "* What can be done about this?\n",
    "* What are the implications for the question?\n",
    "\n",
    "For this exercise, we are not going to do any computational analysis on this data, but we still need to 'analyse' the data by **critiquing** it in terms of the question. We could work with the raw numbers, but a visualisation of those numbers may be more helpful."
   ]
  },
  {
   "cell_type": "markdown",
   "metadata": {},
   "source": [
    "### 4. Visualisation\n",
    "\n",
    "At the beginning of the notebook we imported the plotting library and called it `plt`. Here we use this software to visualise our data."
   ]
  },
  {
   "cell_type": "code",
   "execution_count": null,
   "metadata": {},
   "outputs": [],
   "source": [
    "# Plot the data for the 2 countries\n",
    "plt.plot(???)\n",
    "plt.plot(???)"
   ]
  },
  {
   "cell_type": "markdown",
   "metadata": {},
   "source": [
    "This visualisation could easily be misinterpreted. Let's add some additional features to the visualisation to improvement."
   ]
  },
  {
   "cell_type": "code",
   "execution_count": null,
   "metadata": {},
   "outputs": [],
   "source": [
    "# Add labels and set colours\n",
    "plt.plot(ag_gdp_au,'g-',label=???)\n",
    "plt.plot(ag_gdp_nz,'m-',label=???)\n",
    "\n",
    "# Create legend.\n",
    "plt.legend(loc='upper right')\n",
    "plt.xlabel(???)\n",
    "plt.ylabel(???)"
   ]
  },
  {
   "cell_type": "markdown",
   "metadata": {},
   "source": [
    "### 5. Insight\n",
    "\n",
    "Our data analytics is not complete at this point. We still need to identify insights from the analytics process that can help address our original questions or address the main business concern.\n",
    "* What did we find, and how does it relate to the original quest?\n",
    "* What is the recommendation for the concern? \n",
    "* What other information would be helpful? \n",
    "* What *doesn't* the data tell us? \n",
    "* Can we make inferences? What inferences should we avoid?"
   ]
  },
  {
   "cell_type": "code",
   "execution_count": null,
   "metadata": {},
   "outputs": [],
   "source": []
  }
 ],
 "metadata": {
  "hide_input": false,
  "kernelspec": {
   "display_name": "Python 3",
   "language": "python",
   "name": "python3"
  },
  "language_info": {
   "codemirror_mode": {
    "name": "ipython",
    "version": 3
   },
   "file_extension": ".py",
   "mimetype": "text/x-python",
   "name": "python",
   "nbconvert_exporter": "python",
   "pygments_lexer": "ipython3",
   "version": "3.7.6"
  }
 },
 "nbformat": 4,
 "nbformat_minor": 4
}
