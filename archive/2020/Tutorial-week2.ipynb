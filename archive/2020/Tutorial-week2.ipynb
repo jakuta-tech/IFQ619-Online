{
 "cells": [
  {
   "cell_type": "markdown",
   "metadata": {},
   "source": [
    "# Tutorial - Week 2\n",
    "\n",
    "These tasks build on what you have learnt in the Module 1A Lecture:\n",
    "1. Obtaining data from APIs\n",
    "2. Structuring text\n",
    "3. Visualising using HTML"
   ]
  },
  {
   "cell_type": "markdown",
   "metadata": {},
   "source": [
    "### [1] Obtaining data from APIs\n",
    "Using the code for accessing an API that was used in the lecture, retrieve data from an API that interests you.\n",
    "\n",
    "Start with one from this list that has `No` in the Auth column: [Public APIs](https://github.com/public-apis/public-apis)\n",
    "\n",
    "You may also like to explore this site: [AnyAPI](https://any-api.com)\n",
    "\n",
    "If you would like to try an API that requires authentication, the following code provides a common approach. \n",
    "\n",
    "```python\n",
    "request = urllib.request.Request('http://mysite/admin/index.cgi?index=127')\n",
    "base64string = base64.b64encode(bytes('%s:%s' % ('login', 'password'),'ascii'))\n",
    "request.add_header(\"Authorization\", \"Basic %s\" % base64string.decode('utf-8'))\n",
    "result = urllib.request.urlopen(request)\n",
    "resulttext = result.read()\n",
    "\n",
    "```\n",
    "\n",
    "Note that this will depend on the API, and you may need to read the API documentation to work out how to authenticate. Some sites may require you to create an account and use an authentication token. Most sites will have examples of how to use their APIs.\n"
   ]
  },
  {
   "cell_type": "markdown",
   "metadata": {},
   "source": [
    "### [2] Structuring text\n",
    "\n",
    "A common task that invovles turning unstructured text into structured text is parsing log files. Using the example from the lecture, parse the apache webserver error logfile:\n",
    "    `data/Apache_2k.log.txt` from [loghub](https://github.com/logpai/loghub/tree/master/Apache)\n",
    "\n",
    "Use regular expressions (regex) to extract (1) the timestamp, (2) the error level, and (3) the message. You may find this [cheat sheet](https://www.dataquest.io/blog/regex-cheatsheet/) helpful. You can also test your regex at [regex101.com](https://regex101.com)\n",
    "\n",
    "You could try parsing the log file into both Json format and into a pandas dataframe. You could use the Json structure for the task [3] below, and you could use the pandas dataframe to address questions like: 'do certain errors occur on some days more than others?'\n"
   ]
  },
  {
   "cell_type": "markdown",
   "metadata": {},
   "source": [
    "### [3] Visualising using HTML\n",
    "\n",
    "Using the examples from the lecture, visualise the log file above by displaying each entry on a separate line and colour coding the error levels.\n",
    "\n",
    "To get you started, the following HTML might help:\n",
    "```html\n",
    "<p>\n",
    "  <span class=\"date\">[Sun Dec 04 04:47:44 2005]</span>\n",
    "  <span class=\"notice\">[notice]</span>\n",
    "  <div>workerEnv.init() ok /etc/httpd/conf/workers2.properties</div>\n",
    "</p>\n",
    "```\n",
    "You will also need some CSS:\n",
    "```css\n",
    ".date {\n",
    "    color: blue;\n",
    "}\n",
    ".notice {\n",
    "    color: orange;\n",
    "}\n",
    ".error {\n",
    "    color: red;\n",
    "}\n",
    "```"
   ]
  },
  {
   "cell_type": "code",
   "execution_count": null,
   "metadata": {},
   "outputs": [],
   "source": []
  }
 ],
 "metadata": {
  "kernelspec": {
   "display_name": "Python 3",
   "language": "python",
   "name": "python3"
  },
  "language_info": {
   "codemirror_mode": {
    "name": "ipython",
    "version": 3
   },
   "file_extension": ".py",
   "mimetype": "text/x-python",
   "name": "python",
   "nbconvert_exporter": "python",
   "pygments_lexer": "ipython3",
   "version": "3.6.7"
  }
 },
 "nbformat": 4,
 "nbformat_minor": 2
}
