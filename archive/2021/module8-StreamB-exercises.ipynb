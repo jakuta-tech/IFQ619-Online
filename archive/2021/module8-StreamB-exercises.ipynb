{
 "cells": [
  {
   "cell_type": "markdown",
   "metadata": {
    "colab_type": "text",
    "id": "a6aI01kSh_7f"
   },
   "source": [
    "# IFN619. Week11: Explainability"
   ]
  },
  {
   "cell_type": "markdown",
   "metadata": {
    "colab_type": "text",
    "id": "Hfs36QT-h94f"
   },
   "source": [
    "The goal of this tutorial is to continue the tutorial from last week and apply LIME to different datapoints in order to understand if the explanations make sense or not according to the prediction and the Ground Truth"
   ]
  },
  {
   "cell_type": "markdown",
   "metadata": {},
   "source": [
    "#### Task:\n",
    "- Get the tutorial notebook from week 10 (the neural network notebook on the iris dataset)\n",
    "\n",
    "- Separate the testset into true positives, false positives, false negatives, and true negatives\n",
    "\n",
    "- apply LIME to generate explanations for all of the datapoints in true positives, false positives, false negatives, and true negatives\n",
    "\n",
    "- Answer the following question: \"If you did not know that one model had a high accuracy and the other a bad one, how would you know that the second model is giving a misclassification?\"\n"
   ]
  },
  {
   "cell_type": "markdown",
   "metadata": {
    "colab_type": "text",
    "id": "vE6KOQZJ1qMu"
   },
   "source": [
    "### Generating Explanations\n",
    "\n"
   ]
  },
  {
   "cell_type": "code",
   "execution_count": null,
   "metadata": {},
   "outputs": [],
   "source": [
    "###### Copy these cells to the end of last week's notebook\n",
    "###### module7-exercises_solutions\n",
    "###### and start working from there\n",
    "###############################################"
   ]
  },
  {
   "cell_type": "code",
   "execution_count": 23,
   "metadata": {
    "ExecuteTime": {
     "end_time": "2020-05-06T00:11:22.001315Z",
     "start_time": "2020-05-06T00:11:21.930901Z"
    },
    "colab": {},
    "colab_type": "code",
    "id": "xm5Zlo8LCOYZ"
   },
   "outputs": [],
   "source": [
    "import lime\n",
    "from lime import lime_tabular"
   ]
  },
  {
   "cell_type": "code",
   "execution_count": null,
   "metadata": {
    "colab": {},
    "colab_type": "code",
    "id": "Kyy3N1iXHLC9"
   },
   "outputs": [],
   "source": []
  }
 ],
 "metadata": {
  "colab": {
   "collapsed_sections": [],
   "name": "UncertaintyInFlowerDataTutorial.ipynb",
   "provenance": [],
   "toc_visible": true
  },
  "kernelspec": {
   "display_name": "Python 3",
   "language": "python",
   "name": "python3"
  },
  "language_info": {
   "codemirror_mode": {
    "name": "ipython",
    "version": 3
   },
   "file_extension": ".py",
   "mimetype": "text/x-python",
   "name": "python",
   "nbconvert_exporter": "python",
   "pygments_lexer": "ipython3",
   "version": "3.8.8"
  },
  "toc": {
   "base_numbering": 1,
   "nav_menu": {},
   "number_sections": true,
   "sideBar": true,
   "skip_h1_title": false,
   "title_cell": "Table of Contents",
   "title_sidebar": "Contents",
   "toc_cell": false,
   "toc_position": {},
   "toc_section_display": true,
   "toc_window_display": false
  },
  "varInspector": {
   "cols": {
    "lenName": 16,
    "lenType": 16,
    "lenVar": 40
   },
   "kernels_config": {
    "python": {
     "delete_cmd_postfix": "",
     "delete_cmd_prefix": "del ",
     "library": "var_list.py",
     "varRefreshCmd": "print(var_dic_list())"
    },
    "r": {
     "delete_cmd_postfix": ") ",
     "delete_cmd_prefix": "rm(",
     "library": "var_list.r",
     "varRefreshCmd": "cat(var_dic_list()) "
    }
   },
   "types_to_exclude": [
    "module",
    "function",
    "builtin_function_or_method",
    "instance",
    "_Feature"
   ],
   "window_display": false
  }
 },
 "nbformat": 4,
 "nbformat_minor": 4
}
