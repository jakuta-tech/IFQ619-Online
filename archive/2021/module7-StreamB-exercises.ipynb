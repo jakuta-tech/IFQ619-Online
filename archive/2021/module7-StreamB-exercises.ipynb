{
 "cells": [
  {
   "cell_type": "markdown",
   "metadata": {
    "colab_type": "text",
    "id": "a6aI01kSh_7f"
   },
   "source": [
    "# IFN619. Week 8: Neural Networks and Fairness in Data Analytics"
   ]
  },
  {
   "cell_type": "markdown",
   "metadata": {
    "colab_type": "text",
    "id": "Hfs36QT-h94f"
   },
   "source": [
    "## Determining Flower Species\n",
    "\n",
    "You've been contracted by a floral research company in Canada to assist with a dilemma they are facing concerning some uncertainty in their data.\n",
    "\n",
    "You see, they recently held an expedition to count and characterise flowers in a nearby forest, to inform a local honey company on the yield and quality of flowers for the year. However, some of their papers were damaged during the expedition, causing the species types on certain records to be de-identified, and leaving only the measurements of the flowers behind.\n",
    "\n",
    "Their management team is upset, considering that the expedition was expensive to fund, and they still need to submit the report to the honey company.\n",
    "\n",
    "**They want to know if there is some way to confidently determine the flower species of the damaged records?**"
   ]
  },
  {
   "cell_type": "code",
   "execution_count": 77,
   "metadata": {},
   "outputs": [],
   "source": [
    "from __future__ import absolute_import, division, print_function, unicode_literals\n",
    "\n",
    "import pandas as pd\n",
    "import numpy as np\n",
    "import seaborn as sns\n",
    "import warnings\n",
    "warnings.simplefilter(action='ignore', category=FutureWarning)\n",
    "\n",
    "# keras / deep learning libraries\n",
    "import numpy as np\n",
    "import random as rn\n",
    "import csv\n",
    "\n",
    "# For reproduciability reasons:\n",
    "np.random.seed(515)\n",
    "rn.seed(515)\n",
    "\n",
    "from tensorflow import keras\n",
    "from tensorflow.keras.models import Sequential\n",
    "from tensorflow.keras.models import model_from_json\n",
    "from tensorflow.keras.layers import Dense\n",
    "from tensorflow.keras.optimizers import Nadam\n",
    "from tensorflow.keras.callbacks import TensorBoard\n",
    "from tensorflow.keras.utils import plot_model\n",
    "\n",
    "# callbacks\n",
    "from tensorflow.keras import backend as K\n",
    "from tensorflow.keras.callbacks import EarlyStopping\n",
    "from tensorflow.keras.callbacks import ModelCheckpoint\n",
    "from tensorflow.keras.callbacks import ReduceLROnPlateau\n",
    "\n",
    "from matplotlib import pyplot as plt\n",
    "from matplotlib.pyplot import figure\n",
    "import matplotlib.image as mpimg\n",
    "import pylab as pl\n",
    "from pylab import savefig\n",
    "\n",
    "plt.style.use('seaborn-deep')\n",
    "%matplotlib inline\n",
    "\n",
    "from sklearn import datasets\n",
    "from sklearn.model_selection import train_test_split\n",
    "# very important for feature transformation\n",
    "from sklearn.preprocessing import OneHotEncoder, StandardScaler,MinMaxScaler\n",
    "\n",
    "sns.set()"
   ]
  },
  {
   "cell_type": "markdown",
   "metadata": {
    "colab_type": "text",
    "id": "5DWIp4b3iqBZ"
   },
   "source": [
    "### The Dataset\n",
    "\n",
    "They provide you with the dataset of the undamaged records. It appears that they were recording the measurements of the flower sizes to indicate the quality of the surveyed flowers. Perhaps we can use this data to inform an analysis that might provide some reassurance under the current uncertainty."
   ]
  },
  {
   "cell_type": "code",
   "execution_count": null,
   "metadata": {
    "colab": {
     "base_uri": "https://localhost:8080/",
     "height": 419
    },
    "colab_type": "code",
    "executionInfo": {
     "elapsed": 844,
     "status": "ok",
     "timestamp": 1588109489469,
     "user": {
      "displayName": "Catarina Moreira",
      "photoUrl": "https://lh3.googleusercontent.com/a-/AOh14Gid-vLpdwA-GJKlz2vCYOiRm1vjzbCkZjtsgFVV=s64",
      "userId": "07726683220655856721"
     },
     "user_tz": -600
    },
    "id": "FJ5mYo91iztZ",
    "outputId": "a37cb6bf-6ac7-4ca6-ef89-9894d23d4360"
   },
   "outputs": [],
   "source": [
    "# find the dataset \"iris.csv\" in the data folder\n",
    "# try to identify what is the class variable and load the dataset\n",
    "\n",
    "# YOUR CODE HERE\n",
    "dataset_path = ...\n",
    "class_var = ...\n",
    "dataset = pd.read_csv( dataset_path )\n",
    "dataset"
   ]
  },
  {
   "cell_type": "markdown",
   "metadata": {
    "colab_type": "text",
    "id": "MX8ppOBQmuN9"
   },
   "source": [
    "### Checking Class Balance\n",
    "\n"
   ]
  },
  {
   "cell_type": "markdown",
   "metadata": {},
   "source": [
    "Here, we're going to try to detect imbalances in the class labels. A classifier needs to have the same amount of instances for each class, otherwise it will be biased towards one of them"
   ]
  },
  {
   "cell_type": "code",
   "execution_count": null,
   "metadata": {
    "colab": {
     "base_uri": "https://localhost:8080/",
     "height": 173
    },
    "colab_type": "code",
    "executionInfo": {
     "elapsed": 799,
     "status": "ok",
     "timestamp": 1588109492296,
     "user": {
      "displayName": "Catarina Moreira",
      "photoUrl": "https://lh3.googleusercontent.com/a-/AOh14Gid-vLpdwA-GJKlz2vCYOiRm1vjzbCkZjtsgFVV=s64",
      "userId": "07726683220655856721"
     },
     "user_tz": -600
    },
    "id": "QJTkFZELmyHZ",
    "outputId": "38afe4fd-d5ac-4e3d-b758-c4bf10f78305"
   },
   "outputs": [],
   "source": [
    "# perform a group by operation and count how many instances you have from each class\n",
    "\n",
    "# YOUR CODE HERE"
   ]
  },
  {
   "cell_type": "markdown",
   "metadata": {
    "colab_type": "text",
    "id": "CcP-E8LQm7NB"
   },
   "source": [
    "### Checking How Features are Correlated and Distributed per Class\n",
    "\n",
    "Here we visualise the correlation between features: the less correlated, the better. The main diagonal shows how each feature is correlated with itself for each class:"
   ]
  },
  {
   "cell_type": "code",
   "execution_count": null,
   "metadata": {
    "colab": {
     "base_uri": "https://localhost:8080/",
     "height": 661
    },
    "colab_type": "code",
    "executionInfo": {
     "elapsed": 7367,
     "status": "ok",
     "timestamp": 1588109499894,
     "user": {
      "displayName": "Catarina Moreira",
      "photoUrl": "https://lh3.googleusercontent.com/a-/AOh14Gid-vLpdwA-GJKlz2vCYOiRm1vjzbCkZjtsgFVV=s64",
      "userId": "07726683220655856721"
     },
     "user_tz": -600
    },
    "id": "K4uwab_vkFJ-",
    "outputId": "78f4d68a-6cad-45c3-8124-57f2dfdcb7b2"
   },
   "outputs": [],
   "source": [
    "# this can take a while to run\n",
    "g = sns.pairplot(dataset, hue=class_var, palette=\"husl\")"
   ]
  },
  {
   "cell_type": "markdown",
   "metadata": {
    "colab_type": "text",
    "id": "WWLIXhf5nO_7"
   },
   "source": [
    "### Feature Transformation"
   ]
  },
  {
   "cell_type": "code",
   "execution_count": null,
   "metadata": {
    "colab": {
     "base_uri": "https://localhost:8080/",
     "height": 51
    },
    "colab_type": "code",
    "executionInfo": {
     "elapsed": 6471,
     "status": "ok",
     "timestamp": 1588109499894,
     "user": {
      "displayName": "Catarina Moreira",
      "photoUrl": "https://lh3.googleusercontent.com/a-/AOh14Gid-vLpdwA-GJKlz2vCYOiRm1vjzbCkZjtsgFVV=s64",
      "userId": "07726683220655856721"
     },
     "user_tz": -600
    },
    "id": "LqMWjAzqkq-6",
    "outputId": "65302615-76ae-46fc-e695-d1ab5a5be5dd"
   },
   "outputs": [],
   "source": [
    "# get an array with the features names\n",
    "# YOUR CODE GOES HERE\n",
    "feature_names = \n",
    "\n",
    "# get an array with the unique class labels\n",
    "# YOUR CODE GOES HERE\n",
    "labels = \n",
    "\n",
    "# separate variables: \n",
    "# put all features in varible, X, which is a matrix\n",
    "# and all the class labels in variable y, which is an array\n",
    "# YOUR CODE GOES HERE\n",
    "X = \n",
    "y = \n",
    "\n",
    "# general info about number of features and classes\n",
    "# YOUR CODE GOES HERE\n",
    "n_features = \n",
    "n_samples = \n",
    "n_classes = \n",
    "\n",
    "print(\"There are a total of %d training instances, %d features and a total of %d classes\\n\" %(n_samples, n_features, n_classes))"
   ]
  },
  {
   "cell_type": "code",
   "execution_count": null,
   "metadata": {
    "colab": {
     "base_uri": "https://localhost:8080/",
     "height": 187
    },
    "colab_type": "code",
    "executionInfo": {
     "elapsed": 6045,
     "status": "ok",
     "timestamp": 1588109499895,
     "user": {
      "displayName": "Catarina Moreira",
      "photoUrl": "https://lh3.googleusercontent.com/a-/AOh14Gid-vLpdwA-GJKlz2vCYOiRm1vjzbCkZjtsgFVV=s64",
      "userId": "07726683220655856721"
     },
     "user_tz": -600
    },
    "id": "NL8cdldXoQ9b",
    "outputId": "3773b6b3-c1b1-4223-e6cb-415d26ab771d"
   },
   "outputs": [],
   "source": [
    "# taking a look at our features (also called the independent variables)\n",
    "X[0:10,:]"
   ]
  },
  {
   "cell_type": "code",
   "execution_count": null,
   "metadata": {
    "colab": {
     "base_uri": "https://localhost:8080/",
     "height": 51
    },
    "colab_type": "code",
    "executionInfo": {
     "elapsed": 5601,
     "status": "ok",
     "timestamp": 1588109499895,
     "user": {
      "displayName": "Catarina Moreira",
      "photoUrl": "https://lh3.googleusercontent.com/a-/AOh14Gid-vLpdwA-GJKlz2vCYOiRm1vjzbCkZjtsgFVV=s64",
      "userId": "07726683220655856721"
     },
     "user_tz": -600
    },
    "id": "tGawtTpVoano",
    "outputId": "08571e01-323e-4fe0-dc0b-85594036e370"
   },
   "outputs": [],
   "source": [
    "# taking a look at the class variable (also called the dependent variable)\n",
    "y[0:10]"
   ]
  },
  {
   "cell_type": "code",
   "execution_count": null,
   "metadata": {
    "colab": {
     "base_uri": "https://localhost:8080/",
     "height": 34
    },
    "colab_type": "code",
    "executionInfo": {
     "elapsed": 5169,
     "status": "ok",
     "timestamp": 1588109499895,
     "user": {
      "displayName": "Catarina Moreira",
      "photoUrl": "https://lh3.googleusercontent.com/a-/AOh14Gid-vLpdwA-GJKlz2vCYOiRm1vjzbCkZjtsgFVV=s64",
      "userId": "07726683220655856721"
     },
     "user_tz": -600
    },
    "id": "3ZfHgebmpb2W",
    "outputId": "308d095d-c778-4186-a4c1-579696fe86b5"
   },
   "outputs": [],
   "source": [
    "# taking a look at the unique class labels\n",
    "labels"
   ]
  },
  {
   "cell_type": "code",
   "execution_count": null,
   "metadata": {
    "colab": {
     "base_uri": "https://localhost:8080/",
     "height": 187
    },
    "colab_type": "code",
    "executionInfo": {
     "elapsed": 4634,
     "status": "ok",
     "timestamp": 1588109499896,
     "user": {
      "displayName": "Catarina Moreira",
      "photoUrl": "https://lh3.googleusercontent.com/a-/AOh14Gid-vLpdwA-GJKlz2vCYOiRm1vjzbCkZjtsgFVV=s64",
      "userId": "07726683220655856721"
     },
     "user_tz": -600
    },
    "id": "78F-uludoig_",
    "outputId": "a9e0bac4-60c5-431e-9b4a-620890249c63"
   },
   "outputs": [],
   "source": [
    "# create numerical encoding for attribute species\n",
    "# each class will be in one neuron, one column in a matrix\n",
    "# 'setosa' - index 0\n",
    "# 'versicolor' - index 1 \n",
    "# 'virginica' - index 2\n",
    "\n",
    "# YOUR CODE GOES HERE. Use one hot encoder\n",
    "enc = \n",
    "Y = \n",
    "Y[0:10,:]"
   ]
  },
  {
   "cell_type": "code",
   "execution_count": 18,
   "metadata": {
    "colab": {
     "base_uri": "https://localhost:8080/",
     "height": 187
    },
    "colab_type": "code",
    "executionInfo": {
     "elapsed": 4198,
     "status": "ok",
     "timestamp": 1588109499896,
     "user": {
      "displayName": "Catarina Moreira",
      "photoUrl": "https://lh3.googleusercontent.com/a-/AOh14Gid-vLpdwA-GJKlz2vCYOiRm1vjzbCkZjtsgFVV=s64",
      "userId": "07726683220655856721"
     },
     "user_tz": -600
    },
    "id": "ZeGtcRmgpHyX",
    "outputId": "8f917af1-a3ce-47ed-fff6-94877b7d24d0"
   },
   "outputs": [
    {
     "data": {
      "text/plain": [
       "array([[0.22222222, 0.625     , 0.06779661, 0.04166667],\n",
       "       [0.16666667, 0.41666667, 0.06779661, 0.04166667],\n",
       "       [0.11111111, 0.5       , 0.05084746, 0.04166667],\n",
       "       [0.08333333, 0.45833333, 0.08474576, 0.04166667],\n",
       "       [0.19444444, 0.66666667, 0.06779661, 0.04166667],\n",
       "       [0.30555556, 0.79166667, 0.11864407, 0.125     ],\n",
       "       [0.08333333, 0.58333333, 0.06779661, 0.08333333],\n",
       "       [0.19444444, 0.58333333, 0.08474576, 0.04166667],\n",
       "       [0.02777778, 0.375     , 0.06779661, 0.04166667],\n",
       "       [0.16666667, 0.45833333, 0.08474576, 0.        ]])"
      ]
     },
     "execution_count": 18,
     "metadata": {},
     "output_type": "execute_result"
    }
   ],
   "source": [
    "# Scale data to have mean 0 and variance 1 \n",
    "# which is importance for convergence of the neural network\n",
    "scaler = MinMaxScaler()\n",
    "X_scaled = scaler.fit_transform(X)\n",
    "\n",
    "# taking a look\n",
    "\n",
    "X_scaled[0:10,:]"
   ]
  },
  {
   "cell_type": "markdown",
   "metadata": {
    "colab_type": "text",
    "id": "lOMiWm2pp9fZ"
   },
   "source": [
    "### Training Process"
   ]
  },
  {
   "cell_type": "markdown",
   "metadata": {
    "colab_type": "text",
    "id": "QLmRoi82qBWS"
   },
   "source": [
    "#### Split Data"
   ]
  },
  {
   "cell_type": "code",
   "execution_count": 19,
   "metadata": {
    "colab": {},
    "colab_type": "code",
    "id": "IZlAsbbHp2b8"
   },
   "outputs": [],
   "source": [
    "# Split the data set into training, test and validation set\n",
    "# use random state flag 2\n",
    "\n",
    "# YOUR CODE HERE\n",
    "X_train, X_test, Y_train, Y_test = \n",
    "X_validation, X_test, Y_validation, Y_test = \n"
   ]
  },
  {
   "cell_type": "markdown",
   "metadata": {
    "colab_type": "text",
    "id": "uz-kGZOTqLEH"
   },
   "source": [
    "#### Looking for the best NN architecture and params\n",
    "\n",
    "Some hints.\n",
    "\n",
    "The number of neurons in the hidden layer(s) also will involve trial and error but there are some popular cheat sheets floating around for choosing number of neurons in a hidden layer, such as the following:\n",
    "\n",
    "$ N_h = \\frac{N_s}{ \\alpha (N_i + N_o)  }$\n",
    "\n",
    "Nh is the number of neurons in the hidden layer; \n",
    "Ns is the number of samples in the training data;\n",
    "alpha is the scaling factor, \n",
    "Ni is the number of input neurons\n",
    "No is the number of output neurons."
   ]
  },
  {
   "cell_type": "markdown",
   "metadata": {},
   "source": [
    "### Auxiliary functions"
   ]
  },
  {
   "cell_type": "markdown",
   "metadata": {
    "colab_type": "text",
    "id": "7iliNxoiqhlJ"
   },
   "source": [
    "#### Create a general NN model"
   ]
  },
  {
   "cell_type": "code",
   "execution_count": 79,
   "metadata": {
    "colab": {},
    "colab_type": "code",
    "id": "eoVI3kivqFmo"
   },
   "outputs": [],
   "source": [
    "# create neural network\n",
    "def create_model(input_dim, output_dim, nodes, hidden_layers=1, loss_func='categorical_crossentropy', optim='nadam', metrics=['accuracy'], name='model'):\n",
    "    \n",
    "    model = Sequential(name=name)\n",
    "\n",
    "    # adding a sequence of layers according to the fucntion's input params\n",
    "    model.add( Dense(nodes, input_dim=input_dim, activation='relu'))  # input layer\n",
    "    for i in range(hidden_layers):                                    # hidden layers\n",
    "        model.add(Dense(nodes, activation='relu'))  \n",
    "    model.add(Dense(output_dim, activation='softmax'))                # output layer\n",
    "\n",
    "    # Compile model\n",
    "    if( optim == \"nadam\" ):\n",
    "        optim = keras.optimizers.Nadam(lr=0.0001, beta_1=0.9, beta_2=0.999)\n",
    "  \n",
    "    model.compile(loss=loss_func, optimizer=optim, metrics=metrics)\n",
    "    return model\n"
   ]
  },
  {
   "cell_type": "markdown",
   "metadata": {
    "colab_type": "text",
    "id": "eP1iO9SXw02a"
   },
   "source": [
    "#### Saving and Loading Trained Models"
   ]
  },
  {
   "cell_type": "code",
   "execution_count": 80,
   "metadata": {
    "colab": {},
    "colab_type": "code",
    "id": "o6cRMFyZw7Cx"
   },
   "outputs": [],
   "source": [
    "# SERIALIZE_MODEL ------------------------------------------\n",
    "def serialize_model( model, model_name, path ):\n",
    "    \n",
    "    # serialize model to JSON\n",
    "    model_json = model.to_json()\n",
    "    with open(path + model_name+\"_DUO.json\", \"w\") as json_file:\n",
    "        json_file.write(model_json)\n",
    "    \n",
    "    # serialize weights to HDF5\n",
    "    model.save_weights( path + model_name+\"_DUO.h5\")\n",
    "    print(\"Model saved to disk\") \n",
    "\n",
    "# SERIALIZE_MODEL_HISTORY ------------------------------------------\n",
    "def serialize_model_history(  model_hist, model_name, path ):\n",
    "    file = open(path + model_name + \"_hist.csv\", \"w\")\n",
    "    w = csv.writer( file )\n",
    "    \n",
    "    for key, val in model_hist.history.items():\n",
    "        w.writerow([key, val])\n",
    "    file.close()\n",
    "    print(\"Model history saved to disk\") \n",
    "\n",
    "# LOAD_MODEL_HISTORY ------------------------------------------\n",
    "def load_model_history( model_name, path):\n",
    "    \n",
    "    model_hist_loaded = {}\n",
    "    values = []\n",
    "    \n",
    "    # load dictionary\n",
    "    r = open( path + model_name + \"_hist.csv\", \"r\").read()\n",
    "    for line in r.split(\"\\n\"):\n",
    "        if(len(line) == 0):\n",
    "            continue\n",
    "            \n",
    "        metric = line.split(\",\\\"[\")[0]                                    # extract metrics\n",
    "        values_str = line.split(\",\\\"[\")[1].replace(\"]\\\"\",\"\").split(\", \")  # extract validation values\n",
    "        values = [float(val_str) for val_str in values_str]\n",
    "        model_hist_loaded.update( {metric : values} )\n",
    "    return model_hist_loaded\n",
    "\n",
    "# LOAD_MODEL ------------------------------------------\n",
    "def load_model( model_name, path ):\n",
    "    json_file = open( path + model_name +  \"_DUO.json\", 'r')\n",
    "    loaded_model_json = json_file.read()\n",
    "    json_file.close()\n",
    "    \n",
    "    # load weights into new model\n",
    "    loaded_model = model_from_json(loaded_model_json)\n",
    "    loaded_model.load_weights(path + model_name +  \"_DUO.h5\")\n",
    "    print(\"Loaded model from disk\")\n",
    "    return loaded_model"
   ]
  },
  {
   "cell_type": "markdown",
   "metadata": {},
   "source": [
    "#### Plot Learning Curves"
   ]
  },
  {
   "cell_type": "code",
   "execution_count": 81,
   "metadata": {},
   "outputs": [],
   "source": [
    "# plot training curves\n",
    "def plot_training_curve(history):\n",
    "    \n",
    "    f, axarr = plt.subplots(1,2)\n",
    "    f.set_figheight(5)\n",
    "    f.set_figwidth(10)\n",
    "\n",
    "    axarr[0].plot(history['loss'], label='train')\n",
    "    axarr[0].plot(history['val_loss'], label='val')\n",
    "    axarr[0].set_ylabel('loss', fontsize=12)\n",
    "    axarr[0].set_xlim(0,150)\n",
    "    axarr[0].set_xlabel('iterations', fontsize=12)\n",
    "\n",
    "    axarr[1].plot(history['accuracy'], label='train')\n",
    "    axarr[1].plot(history['val_accuracy'], label='val')\n",
    "    axarr[1].set_ylabel('accuracy', fontsize=12)\n",
    "    axarr[1].set_xlabel('iterations', fontsize=12)\n",
    "    \n",
    "    plt.legend()\n",
    "    plt.tight_layout()\n",
    "    plt.show()"
   ]
  },
  {
   "cell_type": "markdown",
   "metadata": {
    "colab_type": "text",
    "id": "oAWk-UCTrILT"
   },
   "source": [
    "#### Looking for the best models: Grid Search\n",
    "\n",
    "We will create a list of different models with different numbers of hidden layers and neurons"
   ]
  },
  {
   "cell_type": "code",
   "execution_count": 82,
   "metadata": {
    "colab": {
     "base_uri": "https://localhost:8080/",
     "height": 782
    },
    "colab_type": "code",
    "executionInfo": {
     "elapsed": 2762,
     "status": "ok",
     "timestamp": 1588109872314,
     "user": {
      "displayName": "Catarina Moreira",
      "photoUrl": "https://lh3.googleusercontent.com/a-/AOh14Gid-vLpdwA-GJKlz2vCYOiRm1vjzbCkZjtsgFVV=s64",
      "userId": "07726683220655856721"
     },
     "user_tz": -600
    },
    "id": "CW5zutmyqqCl",
    "outputId": "73ecf5c6-630b-46eb-d4a1-f34dc57fcb9d"
   },
   "outputs": [
    {
     "name": "stdout",
     "output_type": "stream",
     "text": [
      "-----------------------------------\n",
      "Generating model: model_h1_N4\n",
      "Generating model: model_h2_N4\n",
      "Generating model: model_h3_N4\n",
      "Generating model: model_h4_N4\n",
      "-----------------------------------\n",
      "Generating model: model_h1_N5\n",
      "Generating model: model_h2_N5\n",
      "Generating model: model_h3_N5\n",
      "Generating model: model_h4_N5\n",
      "-----------------------------------\n",
      "Generating model: model_h1_N6\n",
      "Generating model: model_h2_N6\n",
      "Generating model: model_h3_N6\n",
      "Generating model: model_h4_N6\n",
      "-----------------------------------\n",
      "Generating model: model_h1_N7\n",
      "Generating model: model_h2_N7\n",
      "Generating model: model_h3_N7\n",
      "Generating model: model_h4_N7\n",
      "-----------------------------------\n",
      "Generating model: model_h1_N8\n",
      "Generating model: model_h2_N8\n",
      "Generating model: model_h3_N8\n",
      "Generating model: model_h4_N8\n",
      "-----------------------------------\n",
      "Generating model: model_h1_N9\n",
      "Generating model: model_h2_N9\n",
      "Generating model: model_h3_N9\n",
      "Generating model: model_h4_N9\n",
      "-----------------------------------\n",
      "Generating model: model_h1_N10\n",
      "Generating model: model_h2_N10\n",
      "Generating model: model_h3_N10\n",
      "Generating model: model_h4_N10\n",
      "-----------------------------------\n",
      "Generating model: model_h1_N11\n",
      "Generating model: model_h2_N11\n",
      "Generating model: model_h3_N11\n",
      "Generating model: model_h4_N11\n",
      "-----------------------------------\n",
      "Generating model: model_h1_N12\n",
      "Generating model: model_h2_N12\n",
      "Generating model: model_h3_N12\n",
      "Generating model: model_h4_N12\n"
     ]
    }
   ],
   "source": [
    "MAX_NODES = 12\n",
    "MAX_HLAYERS = 4\n",
    "DEBUG = False\n",
    "models = []\n",
    "metrics = ['accuracy']\n",
    "\n",
    "# DEFINE DIFFERENT MODELS WITH DIFFERENT NUMBER OF HIDDEN LAYERS\n",
    "# AND DIFFERENT NUMBER OF NEURONS\n",
    "for neuron in range(4, MAX_NODES+1):\n",
    "    print(\"-----------------------------------\")\n",
    "    for hidden_layer in range(1, MAX_HLAYERS+1):\n",
    "        model_name = \"model_h\" + str(hidden_layer) + \"_N\"+str(neuron)\n",
    "        model = create_model(n_features, n_classes, neuron, hidden_layer, name=model_name, metrics = metrics)\n",
    "        \n",
    "        print(\"Generating model: \" + model_name)\n",
    "        models.append( model )\n",
    "        \n",
    "    # plot general information for each model\n",
    "    if( DEBUG ):  \n",
    "        for model in models:\n",
    "            model.summary()"
   ]
  },
  {
   "cell_type": "code",
   "execution_count": 29,
   "metadata": {
    "colab": {
     "base_uri": "https://localhost:8080/",
     "height": 1000
    },
    "colab_type": "code",
    "executionInfo": {
     "elapsed": 677440,
     "status": "ok",
     "timestamp": 1588110554747,
     "user": {
      "displayName": "Catarina Moreira",
      "photoUrl": "https://lh3.googleusercontent.com/a-/AOh14Gid-vLpdwA-GJKlz2vCYOiRm1vjzbCkZjtsgFVV=s64",
      "userId": "07726683220655856721"
     },
     "user_tz": -600
    },
    "id": "egpbJykKrzfZ",
    "outputId": "a305870b-b5fc-4f28-9cff-9d89b9ffdd18"
   },
   "outputs": [
    {
     "name": "stdout",
     "output_type": "stream",
     "text": [
      "MODEL NAME: model_h1_N4\n",
      "4/4 [==============================] - 0s 1ms/step - loss: 0.4961 - accuracy: 0.6667\n",
      "Test loss:      0.4493 \tTrain loss:  0.4961\n",
      "Test accuracy:  0.6087 \tTrain accu:  0.6667\n",
      "Abs accuracy:   0.0580\n",
      "Abs loss:       0.0468\n",
      "\n",
      "###########################################################\n",
      "\n",
      "Model saved to disk\n",
      "Model history saved to disk\n",
      "MODEL NAME: model_h2_N4\n",
      "Epoch 00012: early stopping\n",
      "4/4 [==============================] - 0s 1ms/step - loss: 1.0981 - accuracy: 0.3524\n",
      "Test loss:      1.1013 \tTrain loss:  1.0981\n",
      "Test accuracy:  0.2174 \tTrain accu:  0.3524\n",
      "Abs accuracy:   0.1350\n",
      "Abs loss:       0.0032\n",
      "\n",
      "###########################################################\n",
      "\n",
      "Model saved to disk\n",
      "Model history saved to disk\n",
      "MODEL NAME: model_h3_N4\n",
      "Epoch 00011: early stopping\n",
      "4/4 [==============================] - 0s 1ms/step - loss: 1.0981 - accuracy: 0.3524\n",
      "Test loss:      1.1014 \tTrain loss:  1.0981\n",
      "Test accuracy:  0.2174 \tTrain accu:  0.3524\n",
      "Abs accuracy:   0.1350\n",
      "Abs loss:       0.0033\n",
      "\n",
      "###########################################################\n",
      "\n",
      "Model saved to disk\n",
      "Model history saved to disk\n",
      "MODEL NAME: model_h4_N4\n",
      "4/4 [==============================] - 0s 1ms/step - loss: 0.2951 - accuracy: 0.9333\n",
      "Test loss:      0.2422 \tTrain loss:  0.2951\n",
      "Test accuracy:  1.0000 \tTrain accu:  0.9333\n",
      "Abs accuracy:   0.0667\n",
      "Abs loss:       0.0529\n",
      "\n",
      "###########################################################\n",
      "\n",
      "Model saved to disk\n",
      "Model history saved to disk\n",
      "MODEL NAME: model_h1_N5\n",
      "4/4 [==============================] - 0s 1ms/step - loss: 0.3717 - accuracy: 0.9524\n",
      "Test loss:      0.3257 \tTrain loss:  0.3717\n",
      "Test accuracy:  0.9565 \tTrain accu:  0.9524\n",
      "Abs accuracy:   0.0041\n",
      "Abs loss:       0.0461\n",
      "\n",
      "###########################################################\n",
      "\n",
      "Model saved to disk\n",
      "Model history saved to disk\n",
      "MODEL NAME: model_h2_N5\n",
      "4/4 [==============================] - 0s 1ms/step - loss: 0.1580 - accuracy: 0.9619\n",
      "Test loss:      0.1377 \tTrain loss:  0.1580\n",
      "Test accuracy:  1.0000 \tTrain accu:  0.9619\n",
      "Abs accuracy:   0.0381\n",
      "Abs loss:       0.0203\n",
      "\n",
      "###########################################################\n",
      "\n",
      "Model saved to disk\n",
      "Model history saved to disk\n",
      "MODEL NAME: model_h3_N5\n",
      "4/4 [==============================] - 0s 1ms/step - loss: 0.4376 - accuracy: 0.8476\n",
      "Test loss:      0.4539 \tTrain loss:  0.4376\n",
      "Test accuracy:  0.9130 \tTrain accu:  0.8476\n",
      "Abs accuracy:   0.0654\n",
      "Abs loss:       0.0163\n",
      "\n",
      "###########################################################\n",
      "\n",
      "Model saved to disk\n",
      "Model history saved to disk\n",
      "MODEL NAME: model_h4_N5\n",
      "4/4 [==============================] - 0s 1ms/step - loss: 0.5032 - accuracy: 0.6667\n",
      "Test loss:      0.4519 \tTrain loss:  0.5032\n",
      "Test accuracy:  0.6087 \tTrain accu:  0.6667\n",
      "Abs accuracy:   0.0580\n",
      "Abs loss:       0.0513\n",
      "\n",
      "###########################################################\n",
      "\n",
      "Model saved to disk\n",
      "Model history saved to disk\n",
      "MODEL NAME: model_h1_N6\n",
      "4/4 [==============================] - 0s 2ms/step - loss: 0.3786 - accuracy: 0.9238\n",
      "Test loss:      0.3803 \tTrain loss:  0.3786\n",
      "Test accuracy:  0.9565 \tTrain accu:  0.9238\n",
      "Abs accuracy:   0.0327\n",
      "Abs loss:       0.0017\n",
      "\n",
      "###########################################################\n",
      "\n",
      "Model saved to disk\n",
      "Model history saved to disk\n",
      "MODEL NAME: model_h2_N6\n",
      "4/4 [==============================] - 0s 1ms/step - loss: 0.1316 - accuracy: 0.9619\n",
      "Test loss:      0.1144 \tTrain loss:  0.1316\n",
      "Test accuracy:  1.0000 \tTrain accu:  0.9619\n",
      "Abs accuracy:   0.0381\n",
      "Abs loss:       0.0172\n",
      "\n",
      "###########################################################\n",
      "\n",
      "Model saved to disk\n",
      "Model history saved to disk\n",
      "MODEL NAME: model_h3_N6\n",
      "4/4 [==============================] - 0s 1ms/step - loss: 0.1068 - accuracy: 0.9619\n",
      "Test loss:      0.0793 \tTrain loss:  0.1068\n",
      "Test accuracy:  1.0000 \tTrain accu:  0.9619\n",
      "Abs accuracy:   0.0381\n",
      "Abs loss:       0.0275\n",
      "\n",
      "###########################################################\n",
      "\n",
      "Model saved to disk\n",
      "Model history saved to disk\n",
      "MODEL NAME: model_h4_N6\n",
      "4/4 [==============================] - 0s 1ms/step - loss: 0.2930 - accuracy: 0.9524\n",
      "Test loss:      0.2778 \tTrain loss:  0.2930\n",
      "Test accuracy:  1.0000 \tTrain accu:  0.9524\n",
      "Abs accuracy:   0.0476\n",
      "Abs loss:       0.0152\n",
      "\n",
      "###########################################################\n",
      "\n",
      "Model saved to disk\n",
      "Model history saved to disk\n",
      "MODEL NAME: model_h1_N7\n",
      "4/4 [==============================] - 0s 1ms/step - loss: 0.1778 - accuracy: 0.9524\n",
      "Test loss:      0.1694 \tTrain loss:  0.1778\n",
      "Test accuracy:  1.0000 \tTrain accu:  0.9524\n",
      "Abs accuracy:   0.0476\n",
      "Abs loss:       0.0084\n",
      "\n",
      "###########################################################\n",
      "\n",
      "Model saved to disk\n",
      "Model history saved to disk\n",
      "MODEL NAME: model_h2_N7\n",
      "4/4 [==============================] - 0s 1ms/step - loss: 0.1235 - accuracy: 0.9619\n",
      "Test loss:      0.1038 \tTrain loss:  0.1235\n",
      "Test accuracy:  1.0000 \tTrain accu:  0.9619\n",
      "Abs accuracy:   0.0381\n",
      "Abs loss:       0.0197\n",
      "\n",
      "###########################################################\n",
      "\n",
      "Model saved to disk\n",
      "Model history saved to disk\n",
      "MODEL NAME: model_h3_N7\n",
      "4/4 [==============================] - 0s 1ms/step - loss: 0.0875 - accuracy: 0.9524\n",
      "Test loss:      0.0516 \tTrain loss:  0.0875\n",
      "Test accuracy:  1.0000 \tTrain accu:  0.9524\n",
      "Abs accuracy:   0.0476\n",
      "Abs loss:       0.0359\n",
      "\n",
      "###########################################################\n",
      "\n",
      "Model saved to disk\n",
      "Model history saved to disk\n",
      "MODEL NAME: model_h4_N7\n",
      "Epoch 00128: early stopping\n",
      "4/4 [==============================] - 0s 1ms/step - loss: 0.0910 - accuracy: 0.9619\n",
      "Test loss:      0.0493 \tTrain loss:  0.0910\n",
      "Test accuracy:  1.0000 \tTrain accu:  0.9619\n",
      "Abs accuracy:   0.0381\n",
      "Abs loss:       0.0417\n",
      "\n",
      "###########################################################\n",
      "\n",
      "Model saved to disk\n",
      "Model history saved to disk\n",
      "MODEL NAME: model_h1_N8\n",
      "4/4 [==============================] - 0s 1ms/step - loss: 0.2033 - accuracy: 0.9619\n",
      "Test loss:      0.1891 \tTrain loss:  0.2033\n",
      "Test accuracy:  0.9565 \tTrain accu:  0.9619\n",
      "Abs accuracy:   0.0054\n",
      "Abs loss:       0.0141\n",
      "\n",
      "###########################################################\n",
      "\n",
      "Model saved to disk\n",
      "Model history saved to disk\n",
      "MODEL NAME: model_h2_N8\n",
      "4/4 [==============================] - 0s 1ms/step - loss: 0.0993 - accuracy: 0.9524\n",
      "Test loss:      0.0722 \tTrain loss:  0.0993\n",
      "Test accuracy:  1.0000 \tTrain accu:  0.9524\n",
      "Abs accuracy:   0.0476\n",
      "Abs loss:       0.0271\n",
      "\n",
      "###########################################################\n",
      "\n",
      "Model saved to disk\n",
      "Model history saved to disk\n",
      "MODEL NAME: model_h3_N8\n",
      "Epoch 00111: early stopping\n",
      "4/4 [==============================] - 0s 1ms/step - loss: 0.0833 - accuracy: 0.9619\n",
      "Test loss:      0.0563 \tTrain loss:  0.0833\n",
      "Test accuracy:  1.0000 \tTrain accu:  0.9619\n",
      "Abs accuracy:   0.0381\n",
      "Abs loss:       0.0270\n",
      "\n",
      "###########################################################\n",
      "\n",
      "Model saved to disk\n",
      "Model history saved to disk\n",
      "MODEL NAME: model_h4_N8\n",
      "4/4 [==============================] - 0s 1ms/step - loss: 0.0884 - accuracy: 0.9619\n",
      "Test loss:      0.0590 \tTrain loss:  0.0884\n",
      "Test accuracy:  1.0000 \tTrain accu:  0.9619\n",
      "Abs accuracy:   0.0381\n",
      "Abs loss:       0.0294\n",
      "\n",
      "###########################################################\n",
      "\n",
      "Model saved to disk\n",
      "Model history saved to disk\n",
      "MODEL NAME: model_h1_N9\n",
      "4/4 [==============================] - 0s 1ms/step - loss: 0.3639 - accuracy: 0.9429\n",
      "Test loss:      0.3392 \tTrain loss:  0.3639\n",
      "Test accuracy:  0.9565 \tTrain accu:  0.9429\n",
      "Abs accuracy:   0.0137\n",
      "Abs loss:       0.0247\n",
      "\n",
      "###########################################################\n",
      "\n",
      "Model saved to disk\n",
      "Model history saved to disk\n",
      "MODEL NAME: model_h2_N9\n",
      "4/4 [==============================] - 0s 1ms/step - loss: 0.3094 - accuracy: 0.9619\n",
      "Test loss:      0.2903 \tTrain loss:  0.3094\n",
      "Test accuracy:  0.9565 \tTrain accu:  0.9619\n",
      "Abs accuracy:   0.0054\n",
      "Abs loss:       0.0191\n",
      "\n",
      "###########################################################\n",
      "\n",
      "Model saved to disk\n",
      "Model history saved to disk\n",
      "MODEL NAME: model_h3_N9\n",
      "4/4 [==============================] - 0s 1ms/step - loss: 0.1183 - accuracy: 0.9619\n",
      "Test loss:      0.0909 \tTrain loss:  0.1183\n",
      "Test accuracy:  1.0000 \tTrain accu:  0.9619\n",
      "Abs accuracy:   0.0381\n",
      "Abs loss:       0.0274\n",
      "\n",
      "###########################################################\n",
      "\n",
      "Model saved to disk\n",
      "Model history saved to disk\n",
      "MODEL NAME: model_h4_N9\n",
      "Epoch 00148: early stopping\n",
      "4/4 [==============================] - 0s 1ms/step - loss: 0.1833 - accuracy: 0.9238\n",
      "Test loss:      0.1313 \tTrain loss:  0.1833\n",
      "Test accuracy:  0.9130 \tTrain accu:  0.9238\n",
      "Abs accuracy:   0.0108\n",
      "Abs loss:       0.0520\n",
      "\n",
      "###########################################################\n",
      "\n",
      "Model saved to disk\n",
      "Model history saved to disk\n",
      "MODEL NAME: model_h1_N10\n",
      "4/4 [==============================] - 0s 1ms/step - loss: 0.2895 - accuracy: 0.9714\n",
      "Test loss:      0.2751 \tTrain loss:  0.2895\n",
      "Test accuracy:  0.9565 \tTrain accu:  0.9714\n",
      "Abs accuracy:   0.0149\n",
      "Abs loss:       0.0143\n",
      "\n",
      "###########################################################\n",
      "\n",
      "Model saved to disk\n",
      "Model history saved to disk\n",
      "MODEL NAME: model_h2_N10\n",
      "4/4 [==============================] - 0s 1ms/step - loss: 0.1515 - accuracy: 0.9524\n",
      "Test loss:      0.1392 \tTrain loss:  0.1515\n",
      "Test accuracy:  1.0000 \tTrain accu:  0.9524\n",
      "Abs accuracy:   0.0476\n",
      "Abs loss:       0.0123\n",
      "\n",
      "###########################################################\n",
      "\n",
      "Model saved to disk\n",
      "Model history saved to disk\n",
      "MODEL NAME: model_h3_N10\n",
      "4/4 [==============================] - 0s 1ms/step - loss: 0.1357 - accuracy: 0.9714\n",
      "Test loss:      0.1203 \tTrain loss:  0.1357\n",
      "Test accuracy:  1.0000 \tTrain accu:  0.9714\n",
      "Abs accuracy:   0.0286\n",
      "Abs loss:       0.0155\n",
      "\n",
      "###########################################################\n",
      "\n",
      "Model saved to disk\n",
      "Model history saved to disk\n",
      "MODEL NAME: model_h4_N10\n",
      "4/4 [==============================] - 0s 1ms/step - loss: 0.0980 - accuracy: 0.9714\n",
      "Test loss:      0.0680 \tTrain loss:  0.0980\n",
      "Test accuracy:  1.0000 \tTrain accu:  0.9714\n",
      "Abs accuracy:   0.0286\n",
      "Abs loss:       0.0299\n",
      "\n",
      "###########################################################\n",
      "\n",
      "Model saved to disk\n",
      "Model history saved to disk\n",
      "MODEL NAME: model_h1_N11\n",
      "4/4 [==============================] - 0s 1ms/step - loss: 0.2874 - accuracy: 0.9238\n",
      "Test loss:      0.2531 \tTrain loss:  0.2874\n",
      "Test accuracy:  0.9565 \tTrain accu:  0.9238\n",
      "Abs accuracy:   0.0327\n",
      "Abs loss:       0.0343\n",
      "\n",
      "###########################################################\n",
      "\n",
      "Model saved to disk\n",
      "Model history saved to disk\n",
      "MODEL NAME: model_h2_N11\n",
      "4/4 [==============================] - 0s 1ms/step - loss: 0.1877 - accuracy: 0.9714\n",
      "Test loss:      0.1734 \tTrain loss:  0.1877\n",
      "Test accuracy:  1.0000 \tTrain accu:  0.9714\n",
      "Abs accuracy:   0.0286\n",
      "Abs loss:       0.0143\n",
      "\n",
      "###########################################################\n",
      "\n",
      "Model saved to disk\n",
      "Model history saved to disk\n",
      "MODEL NAME: model_h3_N11\n",
      "Epoch 00116: early stopping\n",
      "4/4 [==============================] - 0s 1ms/step - loss: 0.0931 - accuracy: 0.9714\n",
      "Test loss:      0.0633 \tTrain loss:  0.0931\n",
      "Test accuracy:  1.0000 \tTrain accu:  0.9714\n",
      "Abs accuracy:   0.0286\n",
      "Abs loss:       0.0298\n",
      "\n",
      "###########################################################\n",
      "\n",
      "Model saved to disk\n",
      "Model history saved to disk\n",
      "MODEL NAME: model_h4_N11\n",
      "4/4 [==============================] - 0s 1ms/step - loss: 0.0756 - accuracy: 0.9810\n",
      "Test loss:      0.0496 \tTrain loss:  0.0756\n",
      "Test accuracy:  1.0000 \tTrain accu:  0.9810\n",
      "Abs accuracy:   0.0190\n",
      "Abs loss:       0.0261\n",
      "\n",
      "###########################################################\n",
      "\n",
      "Model saved to disk\n",
      "Model history saved to disk\n",
      "MODEL NAME: model_h1_N12\n",
      "4/4 [==============================] - 0s 1ms/step - loss: 0.3353 - accuracy: 0.9619\n",
      "Test loss:      0.3418 \tTrain loss:  0.3353\n",
      "Test accuracy:  0.9565 \tTrain accu:  0.9619\n",
      "Abs accuracy:   0.0054\n",
      "Abs loss:       0.0065\n",
      "\n",
      "###########################################################\n",
      "\n",
      "Model saved to disk\n",
      "Model history saved to disk\n",
      "MODEL NAME: model_h2_N12\n",
      "4/4 [==============================] - 0s 1ms/step - loss: 0.1132 - accuracy: 0.9429\n",
      "Test loss:      0.0893 \tTrain loss:  0.1132\n",
      "Test accuracy:  1.0000 \tTrain accu:  0.9429\n",
      "Abs accuracy:   0.0571\n",
      "Abs loss:       0.0239\n",
      "\n",
      "###########################################################\n",
      "\n",
      "Model saved to disk\n",
      "Model history saved to disk\n",
      "MODEL NAME: model_h3_N12\n",
      "4/4 [==============================] - 0s 1ms/step - loss: 0.1428 - accuracy: 0.9619\n",
      "Test loss:      0.1330 \tTrain loss:  0.1428\n",
      "Test accuracy:  0.9565 \tTrain accu:  0.9619\n",
      "Abs accuracy:   0.0054\n",
      "Abs loss:       0.0098\n",
      "\n",
      "###########################################################\n",
      "\n",
      "Model saved to disk\n",
      "Model history saved to disk\n",
      "MODEL NAME: model_h4_N12\n",
      "Epoch 00150: early stopping\n",
      "4/4 [==============================] - 0s 1ms/step - loss: 0.0829 - accuracy: 0.9714\n",
      "Test loss:      0.0556 \tTrain loss:  0.0829\n",
      "Test accuracy:  1.0000 \tTrain accu:  0.9714\n",
      "Abs accuracy:   0.0286\n",
      "Abs loss:       0.0273\n",
      "\n",
      "###########################################################\n",
      "\n",
      "Model saved to disk\n",
      "Model history saved to disk\n"
     ]
    }
   ],
   "source": [
    "# DO NOT RUN THIS CELL FOR THE PURPOSES OF THIS TUTORIAL\n",
    "# This piece of code performs a grid search,\n",
    "# It trains different models so we can analyse the different learning curves\n",
    "# and choose which one performs better\n",
    "\n",
    "FLAG = False # only set true if you want to run the grid search process\n",
    "# not recommended to do over the tutorial\n",
    "# the idea is for you to find the best models and upload them with your Jupyter\n",
    "# notebook so we do not have to run this expensive process\n",
    "\n",
    "# you can find the pre-trained models in this folder\n",
    "# together with their respective training history\n",
    "models_path = \"./tutorial_trained_models/\"\n",
    "\n",
    "# START THE GRID SEARCH\n",
    "EPOCHS = 150\n",
    "BATCH_SIZE = 1\n",
    "\n",
    "HISTORY_DICT = {}\n",
    "\n",
    "if FLAG:\n",
    "    patience = 10 # how many iterations to be considered a convergence\n",
    "\n",
    "    # define the callebacks to take into consideration during training\n",
    "    # stop training when convergence is achieved after 10 iterations\n",
    "    early_stop = EarlyStopping(monitor='val_loss', patience=patience, verbose=1, mode='min')\n",
    "    # save the model after every epoch\n",
    "    callbacks_list = [early_stop]\n",
    "    \n",
    "    # grid search over each model\n",
    "    for model in models:\n",
    "        print('MODEL NAME:', model.name)\n",
    "        history_callback = model.fit(X_train, Y_train, batch_size = BATCH_SIZE, epochs = EPOCHS,\n",
    "                                 verbose=0, validation_data=(X_validation, Y_validation), callbacks=callbacks_list)\n",
    "        \n",
    "        score_test = model.evaluate( X_test, Y_test, verbose=0 )\n",
    "        score_train = model.evaluate( X_train, Y_train  )\n",
    "        \n",
    "        print('Test loss:     ', format(score_test[0], '.4f'), '\\tTrain loss: ', format(score_train[0], '.4f') )\n",
    "        print('Test accuracy: ', format(score_test[1], '.4f'), '\\tTrain accu: ', format(score_train[1], '.4f') )\n",
    "        print('Abs accuracy:  ', format( np.abs( score_test[1] - score_train[1] ), '.4f'))\n",
    "        print('Abs loss:      ', format( np.abs( score_test[0] - score_train[0] ), '.4f'))\n",
    "        print('\\n###########################################################\\n')\n",
    "\n",
    "        HISTORY_DICT[model.name] = [history_callback, model]\n",
    "        \n",
    "        # save the model to a file, so we do not have to run the Grid Search function again\n",
    "        # serialize best model to JSON and weights to HDF5\n",
    "        serialize_model( model, model.name, models_path )\n",
    "        \n",
    "        # serialize best model training history to CSV\n",
    "        serialize_model_history( history_callback, model.name, models_path )"
   ]
  },
  {
   "cell_type": "markdown",
   "metadata": {
    "colab": {},
    "colab_type": "code",
    "id": "8H7HwrSPsIgC"
   },
   "source": [
    "Looking at the general training process, we need to choose the model with the best trade off in terms of validation accuracy vs train accuracy and validation loss and train loss\n",
    "\n",
    "If accuracy in train data is much higher than the accuracy in the validation set, then it means the algorithm learned \"by heart\" and was not able to generalize this is called overfitting and it is very typical in machine learning\n",
    "\n",
    "Ideally, we want the validation curve and the training curve as close to  each other as possible\n",
    "\n",
    "Remember the loss function is the \"cost of error\" of the model.  The goal is to have the loss converging to zero and the maximum possible accuracy"
   ]
  },
  {
   "cell_type": "code",
   "execution_count": null,
   "metadata": {},
   "outputs": [],
   "source": [
    "# take a look at ALL LEARNING CURVES of the trained models\n",
    "# choose the MODEL NAME of a good performing model\n",
    "# and a bad performing model\n",
    "# do a FOR LOOP over all MODELS, extract the model name of each model\n",
    "# load the model\n",
    "# load the model history\n",
    "# plot the learning curves and the model architecture\n",
    "\n",
    "# YOUR CODE GOES HERE\n",
    "for m in models:\n",
    "    ..."
   ]
  },
  {
   "cell_type": "markdown",
   "metadata": {
    "colab_type": "text",
    "id": "MXi3xGVtz4ri"
   },
   "source": [
    "#### Choose two models: one that performs very well and one that performs badly"
   ]
  },
  {
   "cell_type": "code",
   "execution_count": 83,
   "metadata": {
    "colab": {},
    "colab_type": "code",
    "id": "L5tUVCcYyO9Z"
   },
   "outputs": [],
   "source": [
    "# YOUR CODE GOES HERE\n",
    "\n",
    "# BEST MODEL\n",
    "best_model_name = \n",
    "\n",
    "# let's also take a look at a BAD MODEL\n",
    "bad_model_name = "
   ]
  },
  {
   "cell_type": "markdown",
   "metadata": {
    "colab_type": "text",
    "id": "QPfoUEr_z7j4"
   },
   "source": [
    "#### Loading Models"
   ]
  },
  {
   "cell_type": "code",
   "execution_count": null,
   "metadata": {
    "colab": {
     "base_uri": "https://localhost:8080/",
     "height": 357
    },
    "colab_type": "code",
    "executionInfo": {
     "elapsed": 774,
     "status": "ok",
     "timestamp": 1588111449440,
     "user": {
      "displayName": "Catarina Moreira",
      "photoUrl": "https://lh3.googleusercontent.com/a-/AOh14Gid-vLpdwA-GJKlz2vCYOiRm1vjzbCkZjtsgFVV=s64",
      "userId": "07726683220655856721"
     },
     "user_tz": -600
    },
    "id": "iYd2AJRVzPH_",
    "outputId": "89f22115-b32a-4cce-8a58-c0871edbdf99"
   },
   "outputs": [],
   "source": [
    "# load a good model and training history\n",
    "best_model_hist_loaded = load_model_history( best_model_name, models_path )\n",
    "best_model_loaded = load_model( best_model_name,  models_path )\n",
    "print(best_model_loaded.summary())"
   ]
  },
  {
   "cell_type": "code",
   "execution_count": null,
   "metadata": {
    "colab": {
     "base_uri": "https://localhost:8080/",
     "height": 357
    },
    "colab_type": "code",
    "executionInfo": {
     "elapsed": 1009,
     "status": "ok",
     "timestamp": 1588111458982,
     "user": {
      "displayName": "Catarina Moreira",
      "photoUrl": "https://lh3.googleusercontent.com/a-/AOh14Gid-vLpdwA-GJKlz2vCYOiRm1vjzbCkZjtsgFVV=s64",
      "userId": "07726683220655856721"
     },
     "user_tz": -600
    },
    "id": "vSylcVv_0IM2",
    "outputId": "a3e83d79-0d9d-4086-9f6e-94f0bad319ad"
   },
   "outputs": [],
   "source": [
    "# load a bad model and training history\n",
    "# YOUR CODE GOES HERE\n"
   ]
  },
  {
   "cell_type": "markdown",
   "metadata": {
    "colab_type": "text",
    "id": "BapxkAcU0Tid"
   },
   "source": [
    "#### Evaluate the Good Model"
   ]
  },
  {
   "cell_type": "code",
   "execution_count": null,
   "metadata": {
    "colab": {
     "base_uri": "https://localhost:8080/",
     "height": 102
    },
    "colab_type": "code",
    "executionInfo": {
     "elapsed": 721,
     "status": "ok",
     "timestamp": 1588111558436,
     "user": {
      "displayName": "Catarina Moreira",
      "photoUrl": "https://lh3.googleusercontent.com/a-/AOh14Gid-vLpdwA-GJKlz2vCYOiRm1vjzbCkZjtsgFVV=s64",
      "userId": "07726683220655856721"
     },
     "user_tz": -600
    },
    "id": "bWK-2zGB0P9x",
    "outputId": "ed38155b-68ab-4083-c176-916d97b44efb"
   },
   "outputs": [],
   "source": [
    "# evaluate the BEST loaded model on test and training data\n",
    "print(\"EVALUATING BEST MODEL:\")\n",
    "optim = keras.optimizers.Nadam(lr=0.0001, beta_1=0.9, beta_2=0.999)\n",
    "best_model_loaded.compile(loss='categorical_crossentropy', optimizer=optim, metrics=['accuracy'])\n",
    "\n",
    "train_loss,train_acc= best_model_loaded.evaluate(X_train, Y_train, verbose=1)\n",
    "test_loss,test_acc = best_model_loaded.evaluate(X_test, Y_test, verbose=1)\n",
    "print('[Accuracy] Train: %.3f, Test: %.3f' % (train_acc, test_acc))\n",
    "print('[Loss] Train: %.3f, Test: %.3f' % (train_loss, test_loss))"
   ]
  },
  {
   "cell_type": "code",
   "execution_count": null,
   "metadata": {},
   "outputs": [],
   "source": [
    "# evaluate the BAD loaded model on test and training data\n",
    "# YOUR CODE GOES HERE\n",
    "print(\"EVALUATING BAD MODEL:\")\n",
    "...\n"
   ]
  },
  {
   "cell_type": "code",
   "execution_count": null,
   "metadata": {
    "colab": {
     "base_uri": "https://localhost:8080/",
     "height": 549
    },
    "colab_type": "code",
    "executionInfo": {
     "elapsed": 1287,
     "status": "ok",
     "timestamp": 1588111559773,
     "user": {
      "displayName": "Catarina Moreira",
      "photoUrl": "https://lh3.googleusercontent.com/a-/AOh14Gid-vLpdwA-GJKlz2vCYOiRm1vjzbCkZjtsgFVV=s64",
      "userId": "07726683220655856721"
     },
     "user_tz": -600
    },
    "id": "mQDeyr2B0kIh",
    "outputId": "2d06ccbb-766c-4cb4-f4a8-aaf3de725943"
   },
   "outputs": [],
   "source": [
    "# get model's training history\n",
    "plt.plot(best_model_hist_loaded['accuracy'], label='train')\n",
    "plt.plot(best_model_hist_loaded['val_accuracy'], label='test')\n",
    "plt.ylabel('Accuracy')\n",
    "plt.xlabel('Number of Epochs')\n",
    "plt.ylim([0, 1])\n",
    "plt.legend()\n",
    "plt.show()\n",
    "\n",
    "plt.plot(best_model_hist_loaded['loss'], label='train')\n",
    "plt.plot(best_model_hist_loaded['val_loss'], label='test')\n",
    "plt.ylabel('Loss')\n",
    "plt.xlabel('Number of Epochs')\n",
    "plt.ylim([0, 1])\n",
    "plt.legend()\n",
    "plt.show()"
   ]
  },
  {
   "cell_type": "markdown",
   "metadata": {
    "colab_type": "text",
    "id": "VPY4Vofn1Bqp"
   },
   "source": [
    "#### Evaluate the Bad Model"
   ]
  },
  {
   "cell_type": "code",
   "execution_count": null,
   "metadata": {
    "colab": {
     "base_uri": "https://localhost:8080/",
     "height": 557
    },
    "colab_type": "code",
    "executionInfo": {
     "elapsed": 843,
     "status": "ok",
     "timestamp": 1588111681504,
     "user": {
      "displayName": "Catarina Moreira",
      "photoUrl": "https://lh3.googleusercontent.com/a-/AOh14Gid-vLpdwA-GJKlz2vCYOiRm1vjzbCkZjtsgFVV=s64",
      "userId": "07726683220655856721"
     },
     "user_tz": -600
    },
    "id": "Mns9yitV0sD9",
    "outputId": "351eb7aa-9f4e-4e2e-8ba0-8ce28d0a0c6d"
   },
   "outputs": [],
   "source": [
    "# get model's training history\n",
    "# YOUR CODE GOES HERE\n",
    "\n",
    "..."
   ]
  },
  {
   "cell_type": "markdown",
   "metadata": {
    "colab_type": "text",
    "id": "gyU3np0o1U1S"
   },
   "source": [
    "#### Can you discuss what happened in these models?\n",
    "\n",
    "**Answer**"
   ]
  },
  {
   "cell_type": "markdown",
   "metadata": {
    "colab_type": "text",
    "id": "vE6KOQZJ1qMu"
   },
   "source": [
    "### Analysing the Confusion Matix of the Good Model"
   ]
  },
  {
   "cell_type": "code",
   "execution_count": 71,
   "metadata": {
    "colab": {
     "base_uri": "https://localhost:8080/",
     "height": 425
    },
    "colab_type": "code",
    "executionInfo": {
     "elapsed": 710,
     "status": "ok",
     "timestamp": 1588113031267,
     "user": {
      "displayName": "Catarina Moreira",
      "photoUrl": "https://lh3.googleusercontent.com/a-/AOh14Gid-vLpdwA-GJKlz2vCYOiRm1vjzbCkZjtsgFVV=s64",
      "userId": "07726683220655856721"
     },
     "user_tz": -600
    },
    "id": "x6ms-FtI3NvF",
    "outputId": "23bd6561-ef6c-4951-c23b-bdf7945dded4"
   },
   "outputs": [
    {
     "name": "stdout",
     "output_type": "stream",
     "text": [
      "Before transformation\n",
      "[[1.6016900e-03 9.5532757e-01 4.3070827e-02]\n",
      " [2.1289354e-03 9.6037835e-01 3.7492719e-02]\n",
      " [1.6721595e-02 9.6615893e-01 1.7119484e-02]\n",
      " [6.5328606e-04 9.1016328e-01 8.9183502e-02]\n",
      " [9.9819154e-01 1.8075722e-03 9.5725716e-07]\n",
      " [1.8463275e-06 1.8140510e-01 8.1859308e-01]\n",
      " [9.9784601e-01 2.1525400e-03 1.4345661e-06]\n",
      " [9.9875569e-01 1.2437961e-03 4.3138255e-07]\n",
      " [9.9824643e-01 1.7525216e-03 1.0185709e-06]\n",
      " [3.4649156e-07 3.4601383e-02 9.6539825e-01]]\n",
      "\n",
      "After transformation\n",
      "\n",
      "[['versicolor']\n",
      " ['versicolor']\n",
      " ['versicolor']\n",
      " ['versicolor']\n",
      " ['setosa']\n",
      " ['virginica']\n",
      " ['setosa']\n",
      " ['setosa']\n",
      " ['setosa']\n",
      " ['virginica']]\n"
     ]
    }
   ],
   "source": [
    "# how to convert predictions into their original classes\n",
    "predictions = enc.inverse_transform(best_model_loaded.predict( X_test ))\n",
    "\n",
    "print(\"Before transformation\")\n",
    "print(best_model_loaded.predict( X_test )[0:10])\n",
    "print(\"\\nAfter transformation\\n\")\n",
    "print(predictions[0:10])\n"
   ]
  },
  {
   "cell_type": "code",
   "execution_count": 72,
   "metadata": {
    "colab": {
     "base_uri": "https://localhost:8080/",
     "height": 283
    },
    "colab_type": "code",
    "executionInfo": {
     "elapsed": 1103,
     "status": "ok",
     "timestamp": 1588113036373,
     "user": {
      "displayName": "Catarina Moreira",
      "photoUrl": "https://lh3.googleusercontent.com/a-/AOh14Gid-vLpdwA-GJKlz2vCYOiRm1vjzbCkZjtsgFVV=s64",
      "userId": "07726683220655856721"
     },
     "user_tz": -600
    },
    "id": "XnAmGg9I1NXt",
    "outputId": "05ddc873-1e37-411d-fb71-76f90d72b6f3"
   },
   "outputs": [
    {
     "data": {
      "image/png": "[encoded data removed]",
      "text/plain": [
       "<Figure size 432x288 with 2 Axes>"
      ]
     },
     "metadata": {},
     "output_type": "display_data"
    }
   ],
   "source": [
    "from sklearn.metrics import confusion_matrix\n",
    "from matplotlib import cm\n",
    "\n",
    "groundtruth = enc.inverse_transform( Y_test )\n",
    "\n",
    "mat = confusion_matrix(groundtruth, predictions)\n",
    "sns.heatmap(mat.T, square=True, cbar=True, xticklabels=labels, \\\n",
    "            yticklabels=labels, annot=True, cmap=cm.viridis)\n",
    "\n",
    "plt.xlabel('true label')\n",
    "plt.ylabel('predicted label');"
   ]
  },
  {
   "cell_type": "markdown",
   "metadata": {
    "colab_type": "text",
    "id": "NcgEs9Mj5p0D"
   },
   "source": [
    "### Analysing the Confusion Matix of the Bad Model"
   ]
  },
  {
   "cell_type": "code",
   "execution_count": 73,
   "metadata": {
    "colab": {
     "base_uri": "https://localhost:8080/",
     "height": 283
    },
    "colab_type": "code",
    "executionInfo": {
     "elapsed": 781,
     "status": "ok",
     "timestamp": 1588113061900,
     "user": {
      "displayName": "Catarina Moreira",
      "photoUrl": "https://lh3.googleusercontent.com/a-/AOh14Gid-vLpdwA-GJKlz2vCYOiRm1vjzbCkZjtsgFVV=s64",
      "userId": "07726683220655856721"
     },
     "user_tz": -600
    },
    "id": "S1xG_inR13Jd",
    "outputId": "deae616d-b81d-44f7-8dfc-880f03b1331d"
   },
   "outputs": [
    {
     "data": {
      "image/png": "[encoded data removed]",
      "text/plain": [
       "<Figure size 432x288 with 2 Axes>"
      ]
     },
     "metadata": {},
     "output_type": "display_data"
    }
   ],
   "source": [
    "# how to convert predictions into their original classes\n",
    "predictions_bad_model = enc.inverse_transform(bad_model_loaded.predict( X_test ))\n",
    "groundtruth = enc.inverse_transform( Y_test )\n",
    "\n",
    "mat = confusion_matrix(groundtruth, predictions_bad_model)\n",
    "sns.heatmap(mat.T, square=True, cbar=True, xticklabels=labels, \\\n",
    "            yticklabels=labels, annot=True, cmap=cm.viridis)\n",
    "\n",
    "plt.xlabel('true label')\n",
    "plt.ylabel('predicted label');"
   ]
  },
  {
   "cell_type": "markdown",
   "metadata": {
    "colab_type": "text",
    "id": "gM7G0CXz6mLG"
   },
   "source": [
    "#### Can you interpret this?\n",
    "\n",
    "Maybe it is better to take a look at the predictions of the bad model"
   ]
  },
  {
   "cell_type": "code",
   "execution_count": null,
   "metadata": {
    "colab": {
     "base_uri": "https://localhost:8080/",
     "height": 408
    },
    "colab_type": "code",
    "executionInfo": {
     "elapsed": 764,
     "status": "ok",
     "timestamp": 1588113156096,
     "user": {
      "displayName": "Catarina Moreira",
      "photoUrl": "https://lh3.googleusercontent.com/a-/AOh14Gid-vLpdwA-GJKlz2vCYOiRm1vjzbCkZjtsgFVV=s64",
      "userId": "07726683220655856721"
     },
     "user_tz": -600
    },
    "id": "zt2ymyjq6pWv",
    "outputId": "016d204d-e6d7-4fbc-9a78-aad3d982e01d"
   },
   "outputs": [],
   "source": [
    "predictions_bad_model"
   ]
  },
  {
   "cell_type": "code",
   "execution_count": null,
   "metadata": {
    "colab": {
     "base_uri": "https://localhost:8080/",
     "height": 408
    },
    "colab_type": "code",
    "executionInfo": {
     "elapsed": 1091,
     "status": "ok",
     "timestamp": 1588113162503,
     "user": {
      "displayName": "Catarina Moreira",
      "photoUrl": "https://lh3.googleusercontent.com/a-/AOh14Gid-vLpdwA-GJKlz2vCYOiRm1vjzbCkZjtsgFVV=s64",
      "userId": "07726683220655856721"
     },
     "user_tz": -600
    },
    "id": "lyu0s0oE6xTs",
    "outputId": "8920db78-3c6c-44e5-da98-414b29d87ddc"
   },
   "outputs": [],
   "source": [
    "groundtruth"
   ]
  },
  {
   "cell_type": "markdown",
   "metadata": {
    "colab_type": "text",
    "id": "CF8-6kur7B6A"
   },
   "source": [
    "### Ethical discussions about the approach as in the lecture"
   ]
  },
  {
   "cell_type": "code",
   "execution_count": null,
   "metadata": {
    "colab": {},
    "colab_type": "code",
    "id": "GobW1bin67xv"
   },
   "outputs": [],
   "source": []
  }
 ],
 "metadata": {
  "colab": {
   "authorship_tag": "ABX9TyNqvNIhIfpovvanmCUvxdga",
   "collapsed_sections": [],
   "name": "Untitled2.ipynb",
   "provenance": [],
   "toc_visible": true
  },
  "kernelspec": {
   "display_name": "Python 3",
   "language": "python",
   "name": "python3"
  },
  "language_info": {
   "codemirror_mode": {
    "name": "ipython",
    "version": 3
   },
   "file_extension": ".py",
   "mimetype": "text/x-python",
   "name": "python",
   "nbconvert_exporter": "python",
   "pygments_lexer": "ipython3",
   "version": "3.8.5"
  }
 },
 "nbformat": 4,
 "nbformat_minor": 4
}
