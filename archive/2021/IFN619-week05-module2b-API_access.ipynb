{
 "cells": [
  {
   "cell_type": "markdown",
   "id": "informal-liquid",
   "metadata": {},
   "source": [
    "### API access"
   ]
  },
  {
   "cell_type": "code",
   "execution_count": null,
   "id": "sustained-concentration",
   "metadata": {},
   "outputs": [],
   "source": [
    "#load key\n",
    "with open('guardian_key.txt', 'r') as file:\n",
    "    key = file.read().strip()\n",
    "len(key)"
   ]
  },
  {
   "cell_type": "code",
   "execution_count": null,
   "id": "union-syndication",
   "metadata": {},
   "outputs": [],
   "source": [
    "#import required libraries\n",
    "import requests\n",
    "import json"
   ]
  },
  {
   "cell_type": "code",
   "execution_count": null,
   "id": "variable-oliver",
   "metadata": {},
   "outputs": [],
   "source": [
    " #build a search URL\n",
    "baseUrl = 'https://content.guardianapis.com/search?q='\n",
    "searchString = \"sexual assault\"\n",
    "tag = \"politics/politics\"\n",
    "fromDate = \"2021-03-01\"\n",
    "\n",
    "url = baseUrl+'\"'+searchString+'\"'+'&tag='+tag+'&from-date='+fromDate+'&api-key='+key\n",
    "print(url[:100])"
   ]
  },
  {
   "cell_type": "code",
   "execution_count": null,
   "id": "tired-northeast",
   "metadata": {},
   "outputs": [],
   "source": [
    "# get data from server\n",
    "response = requests.get(url)"
   ]
  },
  {
   "cell_type": "code",
   "execution_count": null,
   "id": "hundred-council",
   "metadata": {},
   "outputs": [],
   "source": [
    "response"
   ]
  },
  {
   "cell_type": "code",
   "execution_count": null,
   "id": "religious-durham",
   "metadata": {
    "scrolled": true,
    "tags": []
   },
   "outputs": [],
   "source": [
    "response.content"
   ]
  },
  {
   "cell_type": "code",
   "execution_count": null,
   "id": "racial-holly",
   "metadata": {
    "scrolled": true,
    "tags": []
   },
   "outputs": [],
   "source": [
    "data = json.loads(response.content)\n",
    "data"
   ]
  },
  {
   "cell_type": "code",
   "execution_count": null,
   "id": "endless-alpha",
   "metadata": {
    "scrolled": true,
    "tags": []
   },
   "outputs": [],
   "source": [
    "results = data['response']['results']\n",
    "results"
   ]
  },
  {
   "cell_type": "code",
   "execution_count": null,
   "id": "entire-bandwidth",
   "metadata": {},
   "outputs": [],
   "source": [
    "for result in results:\n",
    "    print(result['webTitle'])"
   ]
  },
  {
   "cell_type": "code",
   "execution_count": null,
   "id": "found-bridge",
   "metadata": {},
   "outputs": [],
   "source": [
    "titles = []\n",
    "for result in results:\n",
    "    titles.append(result['webTitle'])"
   ]
  },
  {
   "cell_type": "code",
   "execution_count": null,
   "id": "dedicated-burton",
   "metadata": {},
   "outputs": [],
   "source": [
    "titles"
   ]
  },
  {
   "cell_type": "code",
   "execution_count": null,
   "id": "patent-return",
   "metadata": {},
   "outputs": [],
   "source": [
    "titles[0].split(\" \")"
   ]
  },
  {
   "cell_type": "code",
   "execution_count": null,
   "id": "smooth-timeline",
   "metadata": {},
   "outputs": [],
   "source": [
    "# create a function to make it easier\n",
    "def getData(url):\n",
    "    content = requests.get(url+'?api-key='+key)\n",
    "    data = json.loads(content.content)\n",
    "    return data"
   ]
  },
  {
   "cell_type": "code",
   "execution_count": null,
   "id": "loose-import",
   "metadata": {
    "scrolled": true,
    "tags": []
   },
   "outputs": [],
   "source": [
    "# explore editions\n",
    "editionsResponse = getData('http://content.guardianapis.com/editions')"
   ]
  },
  {
   "cell_type": "code",
   "execution_count": null,
   "id": "composite-suspension",
   "metadata": {
    "scrolled": true,
    "tags": []
   },
   "outputs": [],
   "source": [
    "results = editionsResponse['response']['results']\n",
    "results"
   ]
  },
  {
   "cell_type": "code",
   "execution_count": null,
   "id": "weekly-separate",
   "metadata": {},
   "outputs": [],
   "source": [
    "for result in results:\n",
    "    print(result['id'])"
   ]
  },
  {
   "cell_type": "code",
   "execution_count": null,
   "id": "behavioral-miami",
   "metadata": {
    "scrolled": true,
    "tags": []
   },
   "outputs": [],
   "source": [
    "# explore sections\n",
    "for result in getData('http://content.guardianapis.com/sections')['response']['results']:\n",
    "    print(result['webTitle'])"
   ]
  },
  {
   "cell_type": "code",
   "execution_count": null,
   "id": "stock-secondary",
   "metadata": {},
   "outputs": [],
   "source": []
  }
 ],
 "metadata": {
  "kernelspec": {
   "display_name": "Python 3",
   "language": "python",
   "name": "python3"
  },
  "language_info": {
   "codemirror_mode": {
    "name": "ipython",
    "version": 3
   },
   "file_extension": ".py",
   "mimetype": "text/x-python",
   "name": "python",
   "nbconvert_exporter": "python",
   "pygments_lexer": "ipython3",
   "version": "3.8.8"
  }
 },
 "nbformat": 4,
 "nbformat_minor": 5
}
