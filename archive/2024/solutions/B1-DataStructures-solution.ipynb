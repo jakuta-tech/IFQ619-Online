{
 "cells": [
  {
   "cell_type": "markdown",
   "id": "6075ee20-3f59-4828-8455-a739ef016bdc",
   "metadata": {
    "cell_name": "header_cell"
   },
   "source": [
    "<div style=\"background:#E9FFF6; color:#440404; padding:8px; border-radius: 4px; text-align: center; font-weight: 500;\">IFN619 - Data Analytics for Strategic Decision Makers (2024 Sem 1)</div>"
   ]
  },
  {
   "attachments": {},
   "cell_type": "markdown",
   "id": "e156461d-7f52-4da6-a33f-bc4e3f77279b",
   "metadata": {
    "cell_name": "title_cell"
   },
   "source": [
    "# IFN619 :: B1-DataStructures"
   ]
  },
  {
   "cell_type": "markdown",
   "id": "1ac4e1b4",
   "metadata": {},
   "source": [
    "### Why consider structure in data?"
   ]
  },
  {
   "cell_type": "markdown",
   "id": "c71e499d",
   "metadata": {},
   "source": [
    "Structure in data helps us make meaning from that data and to be consistent and precise in using it.\n",
    "\n",
    "When data is structured, then we can program computational systems to compute using that data as long as the data adheres to the defined structure."
   ]
  },
  {
   "cell_type": "markdown",
   "id": "2e9ed243",
   "metadata": {},
   "source": [
    "### Structured data\n",
    "\n",
    "For example, the idea of a spreadsheet allows us to make infer relationships between the cells based on rows and columns. This was possible with even the very first spreadsheets.\n",
    "\n",
    "<a title=\"By User:Gortu (apple2history.org) [Public domain], via Wikimedia Commons\" href=\"https://commons.wikimedia.org/wiki/File%3AVisicalc.png\"><img width=\"512\" alt=\"Visicalc\" src=\"https://upload.wikimedia.org/wikipedia/commons/7/7a/Visicalc.png\"/></a>\n",
    "\n",
    "*By User:Gortu (apple2history.org) \\[Public domain\\], via Wikimedia Commons*\n"
   ]
  },
  {
   "cell_type": "markdown",
   "id": "8b7c5092",
   "metadata": {},
   "source": [
    "Even in this very simple example, we can make sense of this data, and because of the structure, the computer can work with the data, like calculating the costs for each row, calculating a subtotal, the tax, and the total. If the data in this spreadsheet was unstructured (for example written on a piece of paper), the computer would not be able to work with it."
   ]
  },
  {
   "cell_type": "markdown",
   "id": "8220ff41",
   "metadata": {},
   "source": [
    "Most structured data today is found in relational datatabase management systems (RDBMS), or commonly just refered to as databases. The structure is one of tables (like a spreadsheet) and relationships between them, but relating particular fields or columns in one table with those in another.\n",
    "\n",
    "<a data-flickr-embed=\"true\"  href=\"https://www.flickr.com/photos/14804582@N08/2111269218\" title=\"database schema\"><img src=\"https://farm3.staticflickr.com/2129/2111269218_950cf23a03_b.jpg\" width=\"1024\" height=\"953\" alt=\"database schema\"></a><script async src=\"//embedr.flickr.com/assets/client-code.js\" charset=\"utf-8\"></script>\n"
   ]
  },
  {
   "cell_type": "markdown",
   "id": "30c165a7",
   "metadata": {},
   "source": [
    "But these are not the only kinds of data structuring. Structured data is basically when the organisation of the data is pre-defined so that certain data is associated with certain labels.\n",
    "\n",
    "<p><a href=\"https://commons.wikimedia.org/wiki/File:Database_models.jpg#/media/File:Database_models.jpg\"><img src=\"https://upload.wikimedia.org/wikipedia/commons/thumb/3/3b/Database_models.jpg/1200px-Database_models.jpg\" alt=\"Database models.jpg\"></a><br>By <a href=\"//commons.wikimedia.org/wiki/User:Mdd\" title=\"User:Mdd\">Marcel Douwe Dekker</a> - <span class=\"int-own-work\" lang=\"en\">Own work</span>, <a href=\"https://creativecommons.org/licenses/by-sa/3.0\" title=\"Creative Commons Attribution-Share Alike 3.0\">CC BY-SA 3.0</a>, <a href=\"https://commons.wikimedia.org/w/index.php?curid=5679857\">Link</a></p>"
   ]
  },
  {
   "attachments": {},
   "cell_type": "markdown",
   "id": "a0ffc26d",
   "metadata": {},
   "source": [
    "### Working with structured data\n",
    "\n",
    "We will work with structured data by mostly reading it from a file into a dataframe. One of the most common files for holding structured tabular data is the comma separated value (CSV) file. A spreadsheet table or a database table can be saved as a CSV file, which we can then import into a pandas dataframe. If you'd like more information on Pandas, try the [10 minutes to pandas](https://pandas.pydata.org/pandas-docs/version/2.1/user_guide/10min.html) tutorial.\n",
    "\n",
    "For the following example, we're going to use open data from [data.gov.au](https://data.gov.au) for [2016 SoE Biodiversity Cumulative historical extinctions of Australian mammal species](https://data.gov.au/data/dataset/2016-soe-biodiversity-cumulative-number-of-extinct-mammal-species). If you're interested, you can read about the data in [Terrestrial plant and animal species: Mammals](https://soe.environment.gov.au/theme/biodiversity/topic/2016/terrestrial-plant-and-animal-species-mammals#biodiversity-figure-BIO19)\n",
    "\n",
    "Previously, we have read data into pandas from a file. But pandas also allows us to load data from a URL. Before completing the code below, take a look at the data by opening the URL in your browser. Take a note of which column might be appropriate for the index of the dataframe.\n",
    "\n",
    "[https://data.gov.au/dataset/c02731e8-5327-4720-bbc7-1fe67350a569/resource/8339c2b4-c763-4c50-a647-63935537453c/download/cumulative-number-of-extinct-mammal-species.csv](https://data.gov.au/dataset/c02731e8-5327-4720-bbc7-1fe67350a569/resource/8339c2b4-c763-4c50-a647-63935537453c/download/cumulative-number-of-extinct-mammal-species.csv)"
   ]
  },
  {
   "attachments": {},
   "cell_type": "markdown",
   "id": "2eaa4edf",
   "metadata": {},
   "source": [
    "#### Reading data from a URL"
   ]
  },
  {
   "cell_type": "code",
   "execution_count": 1,
   "id": "0a57ea64",
   "metadata": {
    "scrolled": true
   },
   "outputs": [
    {
     "data": {
      "text/html": [
       "<div>\n",
       "<style scoped>\n",
       "    .dataframe tbody tr th:only-of-type {\n",
       "        vertical-align: middle;\n",
       "    }\n",
       "\n",
       "    .dataframe tbody tr th {\n",
       "        vertical-align: top;\n",
       "    }\n",
       "\n",
       "    .dataframe thead th {\n",
       "        text-align: right;\n",
       "    }\n",
       "</style>\n",
       "<table border=\"1\" class=\"dataframe\">\n",
       "  <thead>\n",
       "    <tr style=\"text-align: right;\">\n",
       "      <th></th>\n",
       "      <th>Cumulative number of extinct mammal species</th>\n",
       "    </tr>\n",
       "    <tr>\n",
       "      <th>Decade</th>\n",
       "      <th></th>\n",
       "    </tr>\n",
       "  </thead>\n",
       "  <tbody>\n",
       "    <tr>\n",
       "      <th>1790</th>\n",
       "      <td>0</td>\n",
       "    </tr>\n",
       "    <tr>\n",
       "      <th>1800</th>\n",
       "      <td>0</td>\n",
       "    </tr>\n",
       "    <tr>\n",
       "      <th>1810</th>\n",
       "      <td>0</td>\n",
       "    </tr>\n",
       "    <tr>\n",
       "      <th>1820</th>\n",
       "      <td>0</td>\n",
       "    </tr>\n",
       "    <tr>\n",
       "      <th>1830</th>\n",
       "      <td>0</td>\n",
       "    </tr>\n",
       "    <tr>\n",
       "      <th>1840</th>\n",
       "      <td>1</td>\n",
       "    </tr>\n",
       "    <tr>\n",
       "      <th>1850</th>\n",
       "      <td>3</td>\n",
       "    </tr>\n",
       "    <tr>\n",
       "      <th>1860</th>\n",
       "      <td>5</td>\n",
       "    </tr>\n",
       "    <tr>\n",
       "      <th>1870</th>\n",
       "      <td>7</td>\n",
       "    </tr>\n",
       "    <tr>\n",
       "      <th>1880</th>\n",
       "      <td>8</td>\n",
       "    </tr>\n",
       "    <tr>\n",
       "      <th>1890</th>\n",
       "      <td>9</td>\n",
       "    </tr>\n",
       "    <tr>\n",
       "      <th>1900</th>\n",
       "      <td>14</td>\n",
       "    </tr>\n",
       "    <tr>\n",
       "      <th>1910</th>\n",
       "      <td>14</td>\n",
       "    </tr>\n",
       "    <tr>\n",
       "      <th>1920</th>\n",
       "      <td>15</td>\n",
       "    </tr>\n",
       "    <tr>\n",
       "      <th>1930</th>\n",
       "      <td>18</td>\n",
       "    </tr>\n",
       "    <tr>\n",
       "      <th>1940</th>\n",
       "      <td>18</td>\n",
       "    </tr>\n",
       "    <tr>\n",
       "      <th>1950</th>\n",
       "      <td>22</td>\n",
       "    </tr>\n",
       "    <tr>\n",
       "      <th>1960</th>\n",
       "      <td>24</td>\n",
       "    </tr>\n",
       "    <tr>\n",
       "      <th>1970</th>\n",
       "      <td>25</td>\n",
       "    </tr>\n",
       "    <tr>\n",
       "      <th>1980</th>\n",
       "      <td>25</td>\n",
       "    </tr>\n",
       "    <tr>\n",
       "      <th>1990</th>\n",
       "      <td>25</td>\n",
       "    </tr>\n",
       "    <tr>\n",
       "      <th>2000</th>\n",
       "      <td>26</td>\n",
       "    </tr>\n",
       "    <tr>\n",
       "      <th>2010</th>\n",
       "      <td>27</td>\n",
       "    </tr>\n",
       "  </tbody>\n",
       "</table>\n",
       "</div>"
      ],
      "text/plain": [
       "        Cumulative number of extinct mammal species\n",
       "Decade                                             \n",
       "1790                                              0\n",
       "1800                                              0\n",
       "1810                                              0\n",
       "1820                                              0\n",
       "1830                                              0\n",
       "1840                                              1\n",
       "1850                                              3\n",
       "1860                                              5\n",
       "1870                                              7\n",
       "1880                                              8\n",
       "1890                                              9\n",
       "1900                                             14\n",
       "1910                                             14\n",
       "1920                                             15\n",
       "1930                                             18\n",
       "1940                                             18\n",
       "1950                                             22\n",
       "1960                                             24\n",
       "1970                                             25\n",
       "1980                                             25\n",
       "1990                                             25\n",
       "2000                                             26\n",
       "2010                                             27"
      ]
     },
     "execution_count": 1,
     "metadata": {},
     "output_type": "execute_result"
    }
   ],
   "source": [
    "# To use pandas, we need to import it (normally as 'pd')\n",
    "import pandas as pd\n",
    "\n",
    "# We can then open a CSV file into a new dataframe\n",
    "extinct_mammals_url = \"https://data.gov.au/dataset/c02731e8-5327-4720-bbc7-1fe67350a569/resource/8339c2b4-c763-4c50-a647-63935537453c/download/cumulative-number-of-extinct-mammal-species.csv\"\n",
    "exmam_df = pd.read_csv(extinct_mammals_url,index_col=\"Decade\")\n",
    "\n",
    "# view the dataframe\n",
    "exmam_df"
   ]
  },
  {
   "attachments": {},
   "cell_type": "markdown",
   "id": "ece5abaf",
   "metadata": {},
   "source": [
    "### Saving (writing) data to a file\n",
    "\n",
    "Pandas allows us to write a dataframe to a local file with the function `to_csv()`. This can be used in a way that is similar to reading a CSV into a dataframe."
   ]
  },
  {
   "cell_type": "code",
   "execution_count": 2,
   "id": "01eaab6a",
   "metadata": {},
   "outputs": [],
   "source": [
    "# We can save our dataframe to use later\n",
    "file_name = \"extinct_aus_mammals.csv\"\n",
    "path = \"data\"\n",
    "exmam_df.to_csv(f\"{path}/{file_name}\")\n"
   ]
  },
  {
   "cell_type": "code",
   "execution_count": 3,
   "id": "cbff1eef",
   "metadata": {
    "scrolled": true
   },
   "outputs": [
    {
     "data": {
      "text/html": [
       "<div>\n",
       "<style scoped>\n",
       "    .dataframe tbody tr th:only-of-type {\n",
       "        vertical-align: middle;\n",
       "    }\n",
       "\n",
       "    .dataframe tbody tr th {\n",
       "        vertical-align: top;\n",
       "    }\n",
       "\n",
       "    .dataframe thead th {\n",
       "        text-align: right;\n",
       "    }\n",
       "</style>\n",
       "<table border=\"1\" class=\"dataframe\">\n",
       "  <thead>\n",
       "    <tr style=\"text-align: right;\">\n",
       "      <th></th>\n",
       "      <th>Cumulative number of extinct mammal species</th>\n",
       "    </tr>\n",
       "    <tr>\n",
       "      <th>Decade</th>\n",
       "      <th></th>\n",
       "    </tr>\n",
       "  </thead>\n",
       "  <tbody>\n",
       "    <tr>\n",
       "      <th>1790</th>\n",
       "      <td>0</td>\n",
       "    </tr>\n",
       "    <tr>\n",
       "      <th>1800</th>\n",
       "      <td>0</td>\n",
       "    </tr>\n",
       "    <tr>\n",
       "      <th>1810</th>\n",
       "      <td>0</td>\n",
       "    </tr>\n",
       "    <tr>\n",
       "      <th>1820</th>\n",
       "      <td>0</td>\n",
       "    </tr>\n",
       "    <tr>\n",
       "      <th>1830</th>\n",
       "      <td>0</td>\n",
       "    </tr>\n",
       "    <tr>\n",
       "      <th>1840</th>\n",
       "      <td>1</td>\n",
       "    </tr>\n",
       "    <tr>\n",
       "      <th>1850</th>\n",
       "      <td>3</td>\n",
       "    </tr>\n",
       "    <tr>\n",
       "      <th>1860</th>\n",
       "      <td>5</td>\n",
       "    </tr>\n",
       "    <tr>\n",
       "      <th>1870</th>\n",
       "      <td>7</td>\n",
       "    </tr>\n",
       "    <tr>\n",
       "      <th>1880</th>\n",
       "      <td>8</td>\n",
       "    </tr>\n",
       "    <tr>\n",
       "      <th>1890</th>\n",
       "      <td>9</td>\n",
       "    </tr>\n",
       "    <tr>\n",
       "      <th>1900</th>\n",
       "      <td>14</td>\n",
       "    </tr>\n",
       "    <tr>\n",
       "      <th>1910</th>\n",
       "      <td>14</td>\n",
       "    </tr>\n",
       "    <tr>\n",
       "      <th>1920</th>\n",
       "      <td>15</td>\n",
       "    </tr>\n",
       "    <tr>\n",
       "      <th>1930</th>\n",
       "      <td>18</td>\n",
       "    </tr>\n",
       "    <tr>\n",
       "      <th>1940</th>\n",
       "      <td>18</td>\n",
       "    </tr>\n",
       "    <tr>\n",
       "      <th>1950</th>\n",
       "      <td>22</td>\n",
       "    </tr>\n",
       "    <tr>\n",
       "      <th>1960</th>\n",
       "      <td>24</td>\n",
       "    </tr>\n",
       "    <tr>\n",
       "      <th>1970</th>\n",
       "      <td>25</td>\n",
       "    </tr>\n",
       "    <tr>\n",
       "      <th>1980</th>\n",
       "      <td>25</td>\n",
       "    </tr>\n",
       "    <tr>\n",
       "      <th>1990</th>\n",
       "      <td>25</td>\n",
       "    </tr>\n",
       "    <tr>\n",
       "      <th>2000</th>\n",
       "      <td>26</td>\n",
       "    </tr>\n",
       "    <tr>\n",
       "      <th>2010</th>\n",
       "      <td>27</td>\n",
       "    </tr>\n",
       "  </tbody>\n",
       "</table>\n",
       "</div>"
      ],
      "text/plain": [
       "        Cumulative number of extinct mammal species\n",
       "Decade                                             \n",
       "1790                                              0\n",
       "1800                                              0\n",
       "1810                                              0\n",
       "1820                                              0\n",
       "1830                                              0\n",
       "1840                                              1\n",
       "1850                                              3\n",
       "1860                                              5\n",
       "1870                                              7\n",
       "1880                                              8\n",
       "1890                                              9\n",
       "1900                                             14\n",
       "1910                                             14\n",
       "1920                                             15\n",
       "1930                                             18\n",
       "1940                                             18\n",
       "1950                                             22\n",
       "1960                                             24\n",
       "1970                                             25\n",
       "1980                                             25\n",
       "1990                                             25\n",
       "2000                                             26\n",
       "2010                                             27"
      ]
     },
     "execution_count": 3,
     "metadata": {},
     "output_type": "execute_result"
    }
   ],
   "source": [
    "# The saved version can be loaded in the same way as the original URL\n",
    "# We have already declared the path and file_name variables in the previous string\n",
    "\n",
    "exmam_file_df = pd.read_csv(f\"{path}/{file_name}\", index_col=\"Decade\")\n",
    "exmam_file_df"
   ]
  },
  {
   "attachments": {},
   "cell_type": "markdown",
   "id": "34586e9e",
   "metadata": {},
   "source": [
    "#### Reading and writing different formats\n",
    "\n",
    "We can also read and write structured data formats different to CSV. Excel is a common spreadsheet format for structured data. Jupyter allows us to read and write excel files with the functions `read_excel()` and `to_excel()`.\n",
    "\n",
    "Try writing the data above to excel format and then downloading it to your local computer and opening it with Excel. You might also try reading in an excel file that you upload from your local computer.\n",
    "\n",
    "What other formats does pandas *read* and *write*? (TIP: Type `pandas.to` and then the `tab` key to bring up a menu of suggestions.)"
   ]
  },
  {
   "cell_type": "code",
   "execution_count": 4,
   "id": "5eb5adec",
   "metadata": {},
   "outputs": [],
   "source": [
    "# Make sure the file extension .xlsx matches the save format\n",
    "# The old excel format of .xls does not work with the current version of pandas!\n",
    "\n",
    "excel_file = \"extinct_aus_mammals.xlsx\" # <---- note .xlsx\n",
    "exmam_file_df.to_excel(f\"{path}/{excel_file}\")"
   ]
  },
  {
   "attachments": {},
   "cell_type": "markdown",
   "id": "745a63c4",
   "metadata": {},
   "source": [
    "To avoid writing the (new) index to the excel file, use the option: `index=False`"
   ]
  },
  {
   "cell_type": "code",
   "execution_count": 5,
   "id": "a89915b8",
   "metadata": {},
   "outputs": [],
   "source": [
    "exmam_file_df.to_excel(f\"{path}/{excel_file}\",index=False)"
   ]
  },
  {
   "cell_type": "code",
   "execution_count": 7,
   "id": "8a76722c",
   "metadata": {},
   "outputs": [
    {
     "data": {
      "text/html": [
       "<div>\n",
       "<style scoped>\n",
       "    .dataframe tbody tr th:only-of-type {\n",
       "        vertical-align: middle;\n",
       "    }\n",
       "\n",
       "    .dataframe tbody tr th {\n",
       "        vertical-align: top;\n",
       "    }\n",
       "\n",
       "    .dataframe thead th {\n",
       "        text-align: right;\n",
       "    }\n",
       "</style>\n",
       "<table border=\"1\" class=\"dataframe\">\n",
       "  <thead>\n",
       "    <tr style=\"text-align: right;\">\n",
       "      <th></th>\n",
       "      <th>Cumulative number of extinct mammal species</th>\n",
       "    </tr>\n",
       "  </thead>\n",
       "  <tbody>\n",
       "    <tr>\n",
       "      <th>0</th>\n",
       "      <td>0</td>\n",
       "    </tr>\n",
       "    <tr>\n",
       "      <th>1</th>\n",
       "      <td>0</td>\n",
       "    </tr>\n",
       "    <tr>\n",
       "      <th>2</th>\n",
       "      <td>0</td>\n",
       "    </tr>\n",
       "    <tr>\n",
       "      <th>3</th>\n",
       "      <td>0</td>\n",
       "    </tr>\n",
       "    <tr>\n",
       "      <th>4</th>\n",
       "      <td>0</td>\n",
       "    </tr>\n",
       "    <tr>\n",
       "      <th>5</th>\n",
       "      <td>1</td>\n",
       "    </tr>\n",
       "    <tr>\n",
       "      <th>6</th>\n",
       "      <td>3</td>\n",
       "    </tr>\n",
       "    <tr>\n",
       "      <th>7</th>\n",
       "      <td>5</td>\n",
       "    </tr>\n",
       "    <tr>\n",
       "      <th>8</th>\n",
       "      <td>7</td>\n",
       "    </tr>\n",
       "    <tr>\n",
       "      <th>9</th>\n",
       "      <td>8</td>\n",
       "    </tr>\n",
       "    <tr>\n",
       "      <th>10</th>\n",
       "      <td>9</td>\n",
       "    </tr>\n",
       "    <tr>\n",
       "      <th>11</th>\n",
       "      <td>14</td>\n",
       "    </tr>\n",
       "    <tr>\n",
       "      <th>12</th>\n",
       "      <td>14</td>\n",
       "    </tr>\n",
       "    <tr>\n",
       "      <th>13</th>\n",
       "      <td>15</td>\n",
       "    </tr>\n",
       "    <tr>\n",
       "      <th>14</th>\n",
       "      <td>18</td>\n",
       "    </tr>\n",
       "    <tr>\n",
       "      <th>15</th>\n",
       "      <td>18</td>\n",
       "    </tr>\n",
       "    <tr>\n",
       "      <th>16</th>\n",
       "      <td>22</td>\n",
       "    </tr>\n",
       "    <tr>\n",
       "      <th>17</th>\n",
       "      <td>24</td>\n",
       "    </tr>\n",
       "    <tr>\n",
       "      <th>18</th>\n",
       "      <td>25</td>\n",
       "    </tr>\n",
       "    <tr>\n",
       "      <th>19</th>\n",
       "      <td>25</td>\n",
       "    </tr>\n",
       "    <tr>\n",
       "      <th>20</th>\n",
       "      <td>25</td>\n",
       "    </tr>\n",
       "    <tr>\n",
       "      <th>21</th>\n",
       "      <td>26</td>\n",
       "    </tr>\n",
       "    <tr>\n",
       "      <th>22</th>\n",
       "      <td>27</td>\n",
       "    </tr>\n",
       "  </tbody>\n",
       "</table>\n",
       "</div>"
      ],
      "text/plain": [
       "    Cumulative number of extinct mammal species\n",
       "0                                             0\n",
       "1                                             0\n",
       "2                                             0\n",
       "3                                             0\n",
       "4                                             0\n",
       "5                                             1\n",
       "6                                             3\n",
       "7                                             5\n",
       "8                                             7\n",
       "9                                             8\n",
       "10                                            9\n",
       "11                                           14\n",
       "12                                           14\n",
       "13                                           15\n",
       "14                                           18\n",
       "15                                           18\n",
       "16                                           22\n",
       "17                                           24\n",
       "18                                           25\n",
       "19                                           25\n",
       "20                                           25\n",
       "21                                           26\n",
       "22                                           27"
      ]
     },
     "execution_count": 7,
     "metadata": {},
     "output_type": "execute_result"
    }
   ],
   "source": [
    "exmam_excel_df = pd.read_excel(f\"{path}/{excel_file}\")\n",
    "exmam_excel_df"
   ]
  },
  {
   "cell_type": "markdown",
   "id": "431a42d2",
   "metadata": {
    "tags": []
   },
   "source": [
    "### Unstructured data\n",
    "\n",
    "Humans can make meaning from data without necessarily having pre-defined structure. In fact we frequently use very ill-defined structures to organise and communicate our thinking. We are also adept at creating these kinds of structures as required, in the moment, rather than requiring the data be structured before we can make sense of it.\n",
    "\n",
    "<p><a href=\"https://commons.wikimedia.org/wiki/File:Coggle_Document.png#/media/File:Coggle_Document.png\"><img src=\"https://upload.wikimedia.org/wikipedia/commons/1/19/Coggle_Document.png\" alt=\"Coggle Document.png\"></a><br>By <a href=\"https://en.wikipedia.org/wiki/User:Lurched95\" class=\"extiw\" title=\"en:User:Lurched95\">User:Lurched95</a>, <a href=\"https://creativecommons.org/licenses/by-sa/3.0\" title=\"Creative Commons Attribution-Share Alike 3.0\">CC BY-SA 3.0</a>, <a href=\"https://commons.wikimedia.org/w/index.php?curid=33923406\">Link</a></p>\n"
   ]
  },
  {
   "cell_type": "markdown",
   "id": "80d99c67",
   "metadata": {},
   "source": [
    "Computers are not so adept, so complex in the moment sense-making tasks on unstructured data are often easy for humans but very challenging for computers.\n",
    "\n",
    "<img src=\"https://static.boredpanda.com/blog/wp-content/uploads/2016/03/dog-food-comparison-bagel-muffin-lookalike-teenybiscuit-karen-zack-5__700.jpg\">\n",
    "\n",
    "[Puppies or Food (boredpanda.com March 2016)](https://www.boredpanda.com/dog-food-comparison-bagel-muffin-lookalike-teenybiscuit-karen-zack/)"
   ]
  },
  {
   "cell_type": "markdown",
   "id": "ac641763",
   "metadata": {},
   "source": [
    "### Kinds of structuring of data\n",
    "\n",
    "In order for us to perform data analysis on unstructured data, we will usually need to do some structuring of it, and this frequently results in semi-structured data. \n",
    "\n",
    "The 3 different kinds of structuring can be summarised as:\n",
    "\n",
    "* **Structured** $\\Rightarrow$ when the structure is pre-defined\n",
    "* **Structured** $\\Rightarrow$ is almost synonymous with 'stored in a RDMS', but can also exist in other software\n",
    "* **Unstructured** $\\leadsto$ when there is no pre-defined structure, or can't easily be conformed to a structure\n",
    "* **Unstructured** $\\leadsto$ commonly raw text, but also images, video, audio\n",
    "* **Unstructured** $\\leadsto$ can appear to have some kind of structure, but often that appearence is derived from our understanding, not from the data itself\n",
    "* **Semi-structured** $\\rightarrow$ the data can be stored in defined structure, but the actual instance of the structure is not predefined"
   ]
  },
  {
   "cell_type": "markdown",
   "id": "28cbfcc8",
   "metadata": {},
   "source": [
    "### Semi-structured data\n",
    "\n",
    "Semi-structured data is a lot more prevalent than structured data, but the computational tools are not as mature as structured data tools. Most semi-structured data tools have come about with the advent of the internet and then social media."
   ]
  },
  {
   "attachments": {},
   "cell_type": "markdown",
   "id": "e9a9bb22",
   "metadata": {},
   "source": [
    "### Working with semi-structured data\n",
    "\n",
    "We will work with semi-structured data mostly by:\n",
    "1. creating it from plain text which is read from a file, or\n",
    "2. importing the data from a `JSON` file.\n",
    "\n",
    "*JSON* is a way of labelling data, but without requiring all data to be the same or without requiring the structure to be fixed in advance.\n",
    "\n",
    "\n"
   ]
  },
  {
   "cell_type": "markdown",
   "id": "63651263",
   "metadata": {},
   "source": [
    "#### Reading plain text files"
   ]
  },
  {
   "cell_type": "code",
   "execution_count": 12,
   "id": "d24cb750",
   "metadata": {},
   "outputs": [
    {
     "name": "stdout",
     "output_type": "stream",
     "text": [
      "Decade,Cumulative number of extinct mammal species\n",
      "1790,0\n",
      "1800,0\n",
      "1810,0\n",
      "1820,0\n",
      "1830,0\n",
      "1840,1\n",
      "1850,3\n",
      "1860,5\n",
      "1870,7\n",
      "1880,8\n",
      "1890,9\n",
      "1900,14\n",
      "1910,14\n",
      "1920,15\n",
      "1930,18\n",
      "1940,18\n",
      "1950,22\n",
      "1960,24\n",
      "1970,25\n",
      "1980,25\n",
      "1990,25\n",
      "2000,26\n",
      "2010,27\n",
      "\n"
     ]
    }
   ],
   "source": [
    "# Read in a plain text file\n",
    "with open(f\"{path}/{file_name}\", 'r') as fp:\n",
    "    exmam_text = fp.read()\n",
    "\n",
    "# Print the string that was read from the file\n",
    "print(exmam_text)"
   ]
  },
  {
   "cell_type": "code",
   "execution_count": 18,
   "id": "12eac510",
   "metadata": {},
   "outputs": [
    {
     "data": {
      "text/plain": [
       "'Decade,Cumulative number of extinct mammal species\\n1790,0\\n1800,0\\n1810,0\\n1820,0\\n1830,0\\n1840,1\\n1850,3\\n1860,5\\n1870,7\\n1880,8\\n1890,9\\n1900,14\\n1910,14\\n1920,15\\n1930,18\\n1940,18\\n1950,22\\n1960,24\\n1970,25\\n1980,25\\n1990,25\\n2000,26\\n2010,27\\n'"
      ]
     },
     "execution_count": 18,
     "metadata": {},
     "output_type": "execute_result"
    }
   ],
   "source": [
    "# What does the actual string look like (not formatted)\n",
    "exmam_text"
   ]
  },
  {
   "cell_type": "code",
   "execution_count": 21,
   "id": "36fd9c5f",
   "metadata": {},
   "outputs": [
    {
     "name": "stdout",
     "output_type": "stream",
     "text": [
      "['Decade,Cumulative number of extinct mammal species\\n', '1790,0\\n', '1800,0\\n', '1810,0\\n', '1820,0\\n', '1830,0\\n', '1840,1\\n', '1850,3\\n', '1860,5\\n', '1870,7\\n', '1880,8\\n', '1890,9\\n', '1900,14\\n', '1910,14\\n', '1920,15\\n', '1930,18\\n', '1940,18\\n', '1950,22\\n', '1960,24\\n', '1970,25\\n', '1980,25\\n', '1990,25\\n', '2000,26\\n', '2010,27\\n']\n"
     ]
    }
   ],
   "source": [
    "# We can read the text in a semi-structured format by taking advantage of the lines in the file\n",
    "with open(f\"{path}/{file_name}\", 'r') as fp:\n",
    "    exmam_lines = fp.readlines()\n",
    "\n",
    "print(exmam_lines)"
   ]
  },
  {
   "cell_type": "code",
   "execution_count": 22,
   "id": "b8473cf2",
   "metadata": {},
   "outputs": [
    {
     "data": {
      "text/plain": [
       "['Decade,Cumulative number of extinct mammal species\\n',\n",
       " '1790,0\\n',\n",
       " '1800,0\\n',\n",
       " '1810,0\\n',\n",
       " '1820,0\\n',\n",
       " '1830,0\\n',\n",
       " '1840,1\\n',\n",
       " '1850,3\\n',\n",
       " '1860,5\\n',\n",
       " '1870,7\\n',\n",
       " '1880,8\\n',\n",
       " '1890,9\\n',\n",
       " '1900,14\\n',\n",
       " '1910,14\\n',\n",
       " '1920,15\\n',\n",
       " '1930,18\\n',\n",
       " '1940,18\\n',\n",
       " '1950,22\\n',\n",
       " '1960,24\\n',\n",
       " '1970,25\\n',\n",
       " '1980,25\\n',\n",
       " '1990,25\\n',\n",
       " '2000,26\\n',\n",
       " '2010,27\\n']"
      ]
     },
     "execution_count": 22,
     "metadata": {},
     "output_type": "execute_result"
    }
   ],
   "source": [
    "# Show the list that was read from the file\n",
    "exmam_lines"
   ]
  },
  {
   "attachments": {},
   "cell_type": "markdown",
   "id": "9e7faacd",
   "metadata": {},
   "source": [
    "In each of these examples, notice that we have `\\n` newline characters in the data. This is because Python is keeping all of the data from the original file including the characters that specify the end of a line of text.\n",
    "\n",
    "A way to import the data *without* this character is to split the lines using the string `.split()` function after reading in the text as a single string."
   ]
  },
  {
   "cell_type": "code",
   "execution_count": 28,
   "id": "018df77d",
   "metadata": {},
   "outputs": [
    {
     "data": {
      "text/plain": [
       "'species'"
      ]
     },
     "execution_count": 28,
     "metadata": {},
     "output_type": "execute_result"
    }
   ],
   "source": [
    "# We can also create the list, by splitting the original string\n",
    "lines = exmam_text.split('\\n')\n",
    "\n",
    "# view the list\n",
    "lines[0].split(',')[1].split(' ')[-1]"
   ]
  },
  {
   "attachments": {},
   "cell_type": "markdown",
   "id": "98cd038d",
   "metadata": {},
   "source": [
    "Now each line of the file is an element in the list and the `\\n` characters have been removed. \n",
    "\n",
    "However, because each line includes 2 data points, we can split each line. This creates a list of lists which gives us a structure similar to a dataframe."
   ]
  },
  {
   "cell_type": "code",
   "execution_count": 29,
   "id": "f28723d1",
   "metadata": {},
   "outputs": [
    {
     "name": "stdout",
     "output_type": "stream",
     "text": [
      "['Decade', 'Cumulative number of extinct mammal species']\n",
      "['1790', '0']\n",
      "['1800', '0']\n",
      "['1810', '0']\n",
      "['1820', '0']\n",
      "['1830', '0']\n",
      "['1840', '1']\n",
      "['1850', '3']\n",
      "['1860', '5']\n",
      "['1870', '7']\n",
      "['1880', '8']\n",
      "['1890', '9']\n",
      "['1900', '14']\n",
      "['1910', '14']\n",
      "['1920', '15']\n",
      "['1930', '18']\n",
      "['1940', '18']\n",
      "['1950', '22']\n",
      "['1960', '24']\n",
      "['1970', '25']\n",
      "['1980', '25']\n",
      "['1990', '25']\n",
      "['2000', '26']\n",
      "['2010', '27']\n",
      "['']\n"
     ]
    }
   ],
   "source": [
    "# We can also create the list, by splitting the original string\n",
    "lines = exmam_text.split('\\n')\n",
    "\n",
    "# view the list\n",
    "for line in lines:\n",
    "    data_points = line.split(',')\n",
    "    print(data_points)"
   ]
  },
  {
   "attachments": {},
   "cell_type": "markdown",
   "id": "3cb934f8",
   "metadata": {},
   "source": [
    "Notice that the data is not `clean`. Think about ways that we might be able to fix this."
   ]
  },
  {
   "attachments": {},
   "cell_type": "markdown",
   "id": "5f91ac11",
   "metadata": {},
   "source": [
    "#### Reading JSON\n",
    "\n",
    "JSON is a very common file format for semi-structured data. To read this format we open the file as before, but we use the `json` library to help load the data into a Python dictionary or `dict` structure."
   ]
  },
  {
   "cell_type": "code",
   "execution_count": 30,
   "id": "49e11d43",
   "metadata": {},
   "outputs": [],
   "source": [
    "# We need the JSON library\n",
    "import json"
   ]
  },
  {
   "cell_type": "code",
   "execution_count": 31,
   "id": "2880b905",
   "metadata": {},
   "outputs": [
    {
     "name": "stdout",
     "output_type": "stream",
     "text": [
      "{'Key 1': 'The first value that goes with Key 1', 'Second key': 'Json data that goes with the second key', '3rd_key': ['This', 'is', 'a', 'json', 'list', 'and', 'value', 'for', '3rd key']}\n"
     ]
    }
   ],
   "source": [
    "# Read a JSON file like text, but with conversion to python dictionary\n",
    "json_file_name = \"simple_json_file.json\"\n",
    "path = \"data\"\n",
    "\n",
    "with open(f\"{path}/{json_file_name}\", 'r') as fp:\n",
    "    json_data = json.load(fp)\n",
    "\n",
    "# print the loaded data\n",
    "print(json_data)"
   ]
  },
  {
   "cell_type": "code",
   "execution_count": 32,
   "id": "414eee02",
   "metadata": {},
   "outputs": [
    {
     "data": {
      "text/plain": [
       "{'Key 1': 'The first value that goes with Key 1',\n",
       " 'Second key': 'Json data that goes with the second key',\n",
       " '3rd_key': ['This',\n",
       "  'is',\n",
       "  'a',\n",
       "  'json',\n",
       "  'list',\n",
       "  'and',\n",
       "  'value',\n",
       "  'for',\n",
       "  '3rd key']}"
      ]
     },
     "execution_count": 32,
     "metadata": {},
     "output_type": "execute_result"
    }
   ],
   "source": [
    "# View the json data\n",
    "json_data"
   ]
  },
  {
   "cell_type": "code",
   "execution_count": 33,
   "id": "edfd2b0f-0923-430e-8063-44643dcc1d06",
   "metadata": {},
   "outputs": [],
   "source": [
    "name = dict()"
   ]
  },
  {
   "cell_type": "code",
   "execution_count": 34,
   "id": "d3ac86d9-f88c-4036-a69e-de270beb1d47",
   "metadata": {},
   "outputs": [],
   "source": [
    "name['first'] = 'Andrew'"
   ]
  },
  {
   "cell_type": "code",
   "execution_count": 36,
   "id": "4bc63b97-09fc-4a01-847d-e8fe6ac7baed",
   "metadata": {},
   "outputs": [
    {
     "data": {
      "text/plain": [
       "'Andrew'"
      ]
     },
     "execution_count": 36,
     "metadata": {},
     "output_type": "execute_result"
    }
   ],
   "source": [
    "name['first']"
   ]
  },
  {
   "attachments": {},
   "cell_type": "markdown",
   "id": "55e84125",
   "metadata": {},
   "source": [
    "The advantage of a `dict` in python is that you can access a `value` by calling its `key`. These are called *key-value pairs* and are fundamental to a dictionary structure."
   ]
  },
  {
   "cell_type": "code",
   "execution_count": 37,
   "id": "da365e22",
   "metadata": {},
   "outputs": [
    {
     "data": {
      "text/plain": [
       "'The first value that goes with Key 1'"
      ]
     },
     "execution_count": 37,
     "metadata": {},
     "output_type": "execute_result"
    }
   ],
   "source": [
    "# Access values in the dict by calling the keys\n",
    "json_data['Key 1']"
   ]
  },
  {
   "cell_type": "code",
   "execution_count": 38,
   "id": "642d7b32",
   "metadata": {},
   "outputs": [
    {
     "data": {
      "text/plain": [
       "dict_keys(['Key 1', 'Second key', '3rd_key'])"
      ]
     },
     "execution_count": 38,
     "metadata": {},
     "output_type": "execute_result"
    }
   ],
   "source": [
    "# Get a list of keys for a dict\n",
    "json_data.keys()"
   ]
  },
  {
   "cell_type": "code",
   "execution_count": 39,
   "id": "72e1774c",
   "metadata": {},
   "outputs": [
    {
     "name": "stdout",
     "output_type": "stream",
     "text": [
      "key: Key 1\n",
      "value: The first value that goes with Key 1\n",
      "\n",
      "key: Second key\n",
      "value: Json data that goes with the second key\n",
      "\n",
      "key: 3rd_key\n",
      "value: ['This', 'is', 'a', 'json', 'list', 'and', 'value', 'for', '3rd key']\n",
      "\n"
     ]
    }
   ],
   "source": [
    "# Iterate over the keys in a dict\n",
    "\n",
    "for key in json_data.keys():\n",
    "    print(\"key:\",key)\n",
    "    value = json_data[key]\n",
    "    print(\"value:\",value)\n",
    "    print()"
   ]
  },
  {
   "attachments": {},
   "cell_type": "markdown",
   "id": "80c492b0",
   "metadata": {},
   "source": [
    "JSON data can include dictionary structures and list structures and they can be nested. To see this, in action we can load json data from a URL. \n",
    "\n",
    "To get data from a URL we use the `requests` library. This works like your web browser by sending `get` *request* to a web server, and then processing the response (instead of rendering in a browser)."
   ]
  },
  {
   "cell_type": "code",
   "execution_count": 40,
   "id": "a3ae2026",
   "metadata": {},
   "outputs": [
    {
     "data": {
      "text/plain": [
       "b'{\"help\": \"https://data.gov.au/data/api/3/action/help_show?name=package_show\", \"success\": true, \"result\": {\"author\": \"CSIRO Publishing\", \"author_email\": null, \"contact_info\": false, \"contact_point\": \"soe@environment.gov.au\", \"creator_user_id\": \"dd537e79-7dfd-4a78-9110-8a42785bad1a\", \"data_state\": \"active\", \"field_of_research\": [], \"geospatial_topic\": [], \"id\": \"c02731e8-5327-4720-bbc7-1fe67350a569\", \"isopen\": true, \"jurisdiction\": \"Commonwealth of Australia\", \"language\": \"English\", \"license_id\": \"cc-by-4.0\", \"license_title\": \"Creative Commons Attribution 4.0 International\", \"license_url\": \"http://creativecommons.org/licenses/by/4.0\", \"maintainer\": \"soe\", \"maintainer_email\": null, \"metadata_created\": \"2016-10-13T05:31:05.905629\", \"metadata_modified\": \"2023-08-09T05:00:12.302898\", \"name\": \"2016-soe-biodiversity-cumulative-number-of-extinct-mammal-species\", \"notes\": \"Data on cumulative historical extinctions of Australian mammal species - according to the Action Plan for Australian Mammals (2014 edition) by John Woinarksi, Andrew Burbidge and Peter Harrison. CSIRO Publishing.\\\\r\\\\n\\\\r\\\\nThis data was used by the Department of Environment and Energy to produce Figure BIO19 in the Biodiversity theme of Australia State of the Environment 2016, available at \\\\r\\\\nhttps://soe.environment.gov.au/theme/biodiversity/topic/2016/terrestrial-plant-and-animal-species-mammals#biodiversity-figure-BIO19\\\\r\\\\n\", \"num_resources\": 1, \"num_tags\": 10, \"organization\": {\"id\": \"c416b1b6-1ea1-47c3-b44a-b4586bee6e58\", \"name\": \"state-of-the-environment\", \"title\": \"State of the Environment\", \"type\": \"organization\", \"description\": \"\", \"image_url\": \"2017-01-25-001455.510982SOE2016LogoColour.png\", \"created\": \"2016-01-21T17:05:45.618925\", \"is_organization\": true, \"approval_status\": \"approved\", \"state\": \"active\"}, \"owner_org\": \"c416b1b6-1ea1-47c3-b44a-b4586bee6e58\", \"private\": false, \"spatial_coverage\": \"Australia\", \"state\": \"active\", \"temporal_coverage_from\": \"2016-10-13 05:31:05\", \"title\": \"2016 SoE Biodiversity Cumulative historical extinctions of Australian mammal species\", \"type\": \"dataset\", \"unpublished\": false, \"update_freq\": \"infrequently\", \"url\": null, \"version\": null, \"resources\": [{\"cache_last_updated\": null, \"cache_url\": null, \"ckan_url\": \"https://data.gov.au\", \"created\": \"2016-10-13T16:31:36.178357\", \"datastore_active\": true, \"datastore_contains_all_records_of_source_file\": true, \"description\": \"Source: Woinarski, JCZ, Burbidge, AA & Harrison PL (2014 edition). The action plan for Australian mammals 2012, CSIRO Publishing, Melbourne.\\\\r\\\\n\\\\r\\\\nNote: The extinction of 3 species\\\\u2014Bettongia pusilla, Conilurus capricornensis and Pseudomys glaucus\\\\u2014cannot be readily and reliably dated, and these are not included in the data.\", \"format\": \"CSV\", \"hash\": \"d9d6c23d4b14989a714e437602634ba8\", \"id\": \"8339c2b4-c763-4c50-a647-63935537453c\", \"ignore_hash\": false, \"last_modified\": \"2016-10-13\", \"metadata_modified\": \"2023-08-09T05:00:12.311402\", \"mimetype\": null, \"mimetype_inner\": null, \"name\": \"BIO19 Cumulative historical extinctions of Australian mammal species\", \"original_url\": \"https://data.gov.au/data/dataset/c02731e8-5327-4720-bbc7-1fe67350a569/resource/8339c2b4-c763-4c50-a647-63935537453c/download/cumulative-number-of-extinct-mammal-species.csv\", \"package_id\": \"c02731e8-5327-4720-bbc7-1fe67350a569\", \"position\": 0, \"resource_id\": \"8339c2b4-c763-4c50-a647-63935537453c\", \"resource_type\": null, \"set_url_type\": false, \"size\": null, \"state\": \"active\", \"task_created\": \"2023-08-09 04:59:07.755538\", \"url\": \"https://data.gov.au/data/dataset/c02731e8-5327-4720-bbc7-1fe67350a569/resource/8339c2b4-c763-4c50-a647-63935537453c/download/cumulative-number-of-extinct-mammal-species.csv\", \"url_type\": \"upload\", \"wms_layer\": \"\", \"zip_extract\": false}], \"tags\": [{\"display_name\": \"2016\", \"id\": \"1cdd2af1-833e-411c-8003-485b677d2f4d\", \"name\": \"2016\", \"state\": \"active\", \"vocabulary_id\": null}, {\"display_name\": \"2016 SoE\", \"id\": \"662eb96b-dedd-482a-bbed-6fe51a4783cb\", \"name\": \"2016 SoE\", \"state\": \"active\", \"vocabulary_id\": null}, {\"display_name\": \"Action Plan for Australian mammals\", \"id\": \"ab2fae4a-f38a-46b9-bd3b-f62f2b21aea5\", \"name\": \"Action Plan for Australian mammals\", \"state\": \"active\", \"vocabulary_id\": null}, {\"display_name\": \"Biodiversity\", \"id\": \"655e233e-355c-4311-b3ac-a06db4a3c237\", \"name\": \"Biodiversity\", \"state\": \"active\", \"vocabulary_id\": null}, {\"display_name\": \"SoE\", \"id\": \"6752f3e8-9a7a-4ffe-b9e7-9fce46be330f\", \"name\": \"SoE\", \"state\": \"active\", \"vocabulary_id\": null}, {\"display_name\": \"SoE Graph\", \"id\": \"ff1d16f8-8dfa-4c65-8bfc-3c5d53e0c385\", \"name\": \"SoE Graph\", \"state\": \"active\", \"vocabulary_id\": null}, {\"display_name\": \"State of the Environment\", \"id\": \"bfdd0f69-272e-49a1-b3b9-cabb8f586348\", \"name\": \"State of the Environment\", \"state\": \"active\", \"vocabulary_id\": null}, {\"display_name\": \"extinct\", \"id\": \"eef7a30a-2cec-4932-baf4-6ccf8d981b4b\", \"name\": \"extinct\", \"state\": \"active\", \"vocabulary_id\": null}, {\"display_name\": \"mammals\", \"id\": \"74b1d415-25b1-49f2-9274-b9626838f1c4\", \"name\": \"mammals\", \"state\": \"active\", \"vocabulary_id\": null}, {\"display_name\": \"species\", \"id\": \"2634e534-e803-4ea8-934d-50f936cf9073\", \"name\": \"species\", \"state\": \"active\", \"vocabulary_id\": null}], \"groups\": [], \"relationships_as_subject\": [], \"relationships_as_object\": []}}'"
      ]
     },
     "execution_count": 40,
     "metadata": {},
     "output_type": "execute_result"
    }
   ],
   "source": [
    "# You can also load json data from a URL\n",
    "import requests\n",
    "\n",
    "# JSON data about the CSV on extinct mammals from the same website above\n",
    "mammal_url = \"https://data.gov.au/api/3/action/package_show?id=c02731e8-5327-4720-bbc7-1fe67350a569\"\n",
    "\n",
    "# Request the content from the web server with a .get() request\n",
    "response = requests.get(mammal_url)\n",
    "\n",
    "response.content"
   ]
  },
  {
   "cell_type": "code",
   "execution_count": 41,
   "id": "4e0af0a1",
   "metadata": {
    "scrolled": true
   },
   "outputs": [
    {
     "data": {
      "text/plain": [
       "{'help': 'https://data.gov.au/data/api/3/action/help_show?name=package_show',\n",
       " 'success': True,\n",
       " 'result': {'author': 'CSIRO Publishing',\n",
       "  'author_email': None,\n",
       "  'contact_info': False,\n",
       "  'contact_point': 'soe@environment.gov.au',\n",
       "  'creator_user_id': 'dd537e79-7dfd-4a78-9110-8a42785bad1a',\n",
       "  'data_state': 'active',\n",
       "  'field_of_research': [],\n",
       "  'geospatial_topic': [],\n",
       "  'id': 'c02731e8-5327-4720-bbc7-1fe67350a569',\n",
       "  'isopen': True,\n",
       "  'jurisdiction': 'Commonwealth of Australia',\n",
       "  'language': 'English',\n",
       "  'license_id': 'cc-by-4.0',\n",
       "  'license_title': 'Creative Commons Attribution 4.0 International',\n",
       "  'license_url': 'http://creativecommons.org/licenses/by/4.0',\n",
       "  'maintainer': 'soe',\n",
       "  'maintainer_email': None,\n",
       "  'metadata_created': '2016-10-13T05:31:05.905629',\n",
       "  'metadata_modified': '2023-08-09T05:00:12.302898',\n",
       "  'name': '2016-soe-biodiversity-cumulative-number-of-extinct-mammal-species',\n",
       "  'notes': 'Data on cumulative historical extinctions of Australian mammal species - according to the Action Plan for Australian Mammals (2014 edition) by John Woinarksi, Andrew Burbidge and Peter Harrison. CSIRO Publishing.\\r\\n\\r\\nThis data was used by the Department of Environment and Energy to produce Figure BIO19 in the Biodiversity theme of Australia State of the Environment 2016, available at \\r\\nhttps://soe.environment.gov.au/theme/biodiversity/topic/2016/terrestrial-plant-and-animal-species-mammals#biodiversity-figure-BIO19\\r\\n',\n",
       "  'num_resources': 1,\n",
       "  'num_tags': 10,\n",
       "  'organization': {'id': 'c416b1b6-1ea1-47c3-b44a-b4586bee6e58',\n",
       "   'name': 'state-of-the-environment',\n",
       "   'title': 'State of the Environment',\n",
       "   'type': 'organization',\n",
       "   'description': '',\n",
       "   'image_url': '2017-01-25-001455.510982SOE2016LogoColour.png',\n",
       "   'created': '2016-01-21T17:05:45.618925',\n",
       "   'is_organization': True,\n",
       "   'approval_status': 'approved',\n",
       "   'state': 'active'},\n",
       "  'owner_org': 'c416b1b6-1ea1-47c3-b44a-b4586bee6e58',\n",
       "  'private': False,\n",
       "  'spatial_coverage': 'Australia',\n",
       "  'state': 'active',\n",
       "  'temporal_coverage_from': '2016-10-13 05:31:05',\n",
       "  'title': '2016 SoE Biodiversity Cumulative historical extinctions of Australian mammal species',\n",
       "  'type': 'dataset',\n",
       "  'unpublished': False,\n",
       "  'update_freq': 'infrequently',\n",
       "  'url': None,\n",
       "  'version': None,\n",
       "  'resources': [{'cache_last_updated': None,\n",
       "    'cache_url': None,\n",
       "    'ckan_url': 'https://data.gov.au',\n",
       "    'created': '2016-10-13T16:31:36.178357',\n",
       "    'datastore_active': True,\n",
       "    'datastore_contains_all_records_of_source_file': True,\n",
       "    'description': 'Source: Woinarski, JCZ, Burbidge, AA & Harrison PL (2014 edition). The action plan for Australian mammals 2012, CSIRO Publishing, Melbourne.\\r\\n\\r\\nNote: The extinction of 3 species—Bettongia pusilla, Conilurus capricornensis and Pseudomys glaucus—cannot be readily and reliably dated, and these are not included in the data.',\n",
       "    'format': 'CSV',\n",
       "    'hash': 'd9d6c23d4b14989a714e437602634ba8',\n",
       "    'id': '8339c2b4-c763-4c50-a647-63935537453c',\n",
       "    'ignore_hash': False,\n",
       "    'last_modified': '2016-10-13',\n",
       "    'metadata_modified': '2023-08-09T05:00:12.311402',\n",
       "    'mimetype': None,\n",
       "    'mimetype_inner': None,\n",
       "    'name': 'BIO19 Cumulative historical extinctions of Australian mammal species',\n",
       "    'original_url': 'https://data.gov.au/data/dataset/c02731e8-5327-4720-bbc7-1fe67350a569/resource/8339c2b4-c763-4c50-a647-63935537453c/download/cumulative-number-of-extinct-mammal-species.csv',\n",
       "    'package_id': 'c02731e8-5327-4720-bbc7-1fe67350a569',\n",
       "    'position': 0,\n",
       "    'resource_id': '8339c2b4-c763-4c50-a647-63935537453c',\n",
       "    'resource_type': None,\n",
       "    'set_url_type': False,\n",
       "    'size': None,\n",
       "    'state': 'active',\n",
       "    'task_created': '2023-08-09 04:59:07.755538',\n",
       "    'url': 'https://data.gov.au/data/dataset/c02731e8-5327-4720-bbc7-1fe67350a569/resource/8339c2b4-c763-4c50-a647-63935537453c/download/cumulative-number-of-extinct-mammal-species.csv',\n",
       "    'url_type': 'upload',\n",
       "    'wms_layer': '',\n",
       "    'zip_extract': False}],\n",
       "  'tags': [{'display_name': '2016',\n",
       "    'id': '1cdd2af1-833e-411c-8003-485b677d2f4d',\n",
       "    'name': '2016',\n",
       "    'state': 'active',\n",
       "    'vocabulary_id': None},\n",
       "   {'display_name': '2016 SoE',\n",
       "    'id': '662eb96b-dedd-482a-bbed-6fe51a4783cb',\n",
       "    'name': '2016 SoE',\n",
       "    'state': 'active',\n",
       "    'vocabulary_id': None},\n",
       "   {'display_name': 'Action Plan for Australian mammals',\n",
       "    'id': 'ab2fae4a-f38a-46b9-bd3b-f62f2b21aea5',\n",
       "    'name': 'Action Plan for Australian mammals',\n",
       "    'state': 'active',\n",
       "    'vocabulary_id': None},\n",
       "   {'display_name': 'Biodiversity',\n",
       "    'id': '655e233e-355c-4311-b3ac-a06db4a3c237',\n",
       "    'name': 'Biodiversity',\n",
       "    'state': 'active',\n",
       "    'vocabulary_id': None},\n",
       "   {'display_name': 'SoE',\n",
       "    'id': '6752f3e8-9a7a-4ffe-b9e7-9fce46be330f',\n",
       "    'name': 'SoE',\n",
       "    'state': 'active',\n",
       "    'vocabulary_id': None},\n",
       "   {'display_name': 'SoE Graph',\n",
       "    'id': 'ff1d16f8-8dfa-4c65-8bfc-3c5d53e0c385',\n",
       "    'name': 'SoE Graph',\n",
       "    'state': 'active',\n",
       "    'vocabulary_id': None},\n",
       "   {'display_name': 'State of the Environment',\n",
       "    'id': 'bfdd0f69-272e-49a1-b3b9-cabb8f586348',\n",
       "    'name': 'State of the Environment',\n",
       "    'state': 'active',\n",
       "    'vocabulary_id': None},\n",
       "   {'display_name': 'extinct',\n",
       "    'id': 'eef7a30a-2cec-4932-baf4-6ccf8d981b4b',\n",
       "    'name': 'extinct',\n",
       "    'state': 'active',\n",
       "    'vocabulary_id': None},\n",
       "   {'display_name': 'mammals',\n",
       "    'id': '74b1d415-25b1-49f2-9274-b9626838f1c4',\n",
       "    'name': 'mammals',\n",
       "    'state': 'active',\n",
       "    'vocabulary_id': None},\n",
       "   {'display_name': 'species',\n",
       "    'id': '2634e534-e803-4ea8-934d-50f936cf9073',\n",
       "    'name': 'species',\n",
       "    'state': 'active',\n",
       "    'vocabulary_id': None}],\n",
       "  'groups': [],\n",
       "  'relationships_as_subject': [],\n",
       "  'relationships_as_object': []}}"
      ]
     },
     "execution_count": 41,
     "metadata": {},
     "output_type": "execute_result"
    }
   ],
   "source": [
    "# Get the data as json from the response\n",
    "\n",
    "mammal_json = response.json()\n",
    "\n",
    "mammal_json"
   ]
  },
  {
   "attachments": {},
   "cell_type": "markdown",
   "id": "d53cd62e",
   "metadata": {},
   "source": [
    "Since we know this is json data, we can use the structure to navigate the data and find what we are interested in."
   ]
  },
  {
   "cell_type": "code",
   "execution_count": 42,
   "id": "8dea4ec3",
   "metadata": {
    "scrolled": true
   },
   "outputs": [
    {
     "data": {
      "text/plain": [
       "dict_keys(['help', 'success', 'result'])"
      ]
     },
     "execution_count": 42,
     "metadata": {},
     "output_type": "execute_result"
    }
   ],
   "source": [
    "# Take a look at the keys\n",
    "mammal_json.keys()"
   ]
  },
  {
   "cell_type": "code",
   "execution_count": 43,
   "id": "5de74d75-c76b-4e32-a701-f1be9f44f356",
   "metadata": {
    "scrolled": true
   },
   "outputs": [
    {
     "data": {
      "text/plain": [
       "{'author': 'CSIRO Publishing',\n",
       " 'author_email': None,\n",
       " 'contact_info': False,\n",
       " 'contact_point': 'soe@environment.gov.au',\n",
       " 'creator_user_id': 'dd537e79-7dfd-4a78-9110-8a42785bad1a',\n",
       " 'data_state': 'active',\n",
       " 'field_of_research': [],\n",
       " 'geospatial_topic': [],\n",
       " 'id': 'c02731e8-5327-4720-bbc7-1fe67350a569',\n",
       " 'isopen': True,\n",
       " 'jurisdiction': 'Commonwealth of Australia',\n",
       " 'language': 'English',\n",
       " 'license_id': 'cc-by-4.0',\n",
       " 'license_title': 'Creative Commons Attribution 4.0 International',\n",
       " 'license_url': 'http://creativecommons.org/licenses/by/4.0',\n",
       " 'maintainer': 'soe',\n",
       " 'maintainer_email': None,\n",
       " 'metadata_created': '2016-10-13T05:31:05.905629',\n",
       " 'metadata_modified': '2023-08-09T05:00:12.302898',\n",
       " 'name': '2016-soe-biodiversity-cumulative-number-of-extinct-mammal-species',\n",
       " 'notes': 'Data on cumulative historical extinctions of Australian mammal species - according to the Action Plan for Australian Mammals (2014 edition) by John Woinarksi, Andrew Burbidge and Peter Harrison. CSIRO Publishing.\\r\\n\\r\\nThis data was used by the Department of Environment and Energy to produce Figure BIO19 in the Biodiversity theme of Australia State of the Environment 2016, available at \\r\\nhttps://soe.environment.gov.au/theme/biodiversity/topic/2016/terrestrial-plant-and-animal-species-mammals#biodiversity-figure-BIO19\\r\\n',\n",
       " 'num_resources': 1,\n",
       " 'num_tags': 10,\n",
       " 'organization': {'id': 'c416b1b6-1ea1-47c3-b44a-b4586bee6e58',\n",
       "  'name': 'state-of-the-environment',\n",
       "  'title': 'State of the Environment',\n",
       "  'type': 'organization',\n",
       "  'description': '',\n",
       "  'image_url': '2017-01-25-001455.510982SOE2016LogoColour.png',\n",
       "  'created': '2016-01-21T17:05:45.618925',\n",
       "  'is_organization': True,\n",
       "  'approval_status': 'approved',\n",
       "  'state': 'active'},\n",
       " 'owner_org': 'c416b1b6-1ea1-47c3-b44a-b4586bee6e58',\n",
       " 'private': False,\n",
       " 'spatial_coverage': 'Australia',\n",
       " 'state': 'active',\n",
       " 'temporal_coverage_from': '2016-10-13 05:31:05',\n",
       " 'title': '2016 SoE Biodiversity Cumulative historical extinctions of Australian mammal species',\n",
       " 'type': 'dataset',\n",
       " 'unpublished': False,\n",
       " 'update_freq': 'infrequently',\n",
       " 'url': None,\n",
       " 'version': None,\n",
       " 'resources': [{'cache_last_updated': None,\n",
       "   'cache_url': None,\n",
       "   'ckan_url': 'https://data.gov.au',\n",
       "   'created': '2016-10-13T16:31:36.178357',\n",
       "   'datastore_active': True,\n",
       "   'datastore_contains_all_records_of_source_file': True,\n",
       "   'description': 'Source: Woinarski, JCZ, Burbidge, AA & Harrison PL (2014 edition). The action plan for Australian mammals 2012, CSIRO Publishing, Melbourne.\\r\\n\\r\\nNote: The extinction of 3 species—Bettongia pusilla, Conilurus capricornensis and Pseudomys glaucus—cannot be readily and reliably dated, and these are not included in the data.',\n",
       "   'format': 'CSV',\n",
       "   'hash': 'd9d6c23d4b14989a714e437602634ba8',\n",
       "   'id': '8339c2b4-c763-4c50-a647-63935537453c',\n",
       "   'ignore_hash': False,\n",
       "   'last_modified': '2016-10-13',\n",
       "   'metadata_modified': '2023-08-09T05:00:12.311402',\n",
       "   'mimetype': None,\n",
       "   'mimetype_inner': None,\n",
       "   'name': 'BIO19 Cumulative historical extinctions of Australian mammal species',\n",
       "   'original_url': 'https://data.gov.au/data/dataset/c02731e8-5327-4720-bbc7-1fe67350a569/resource/8339c2b4-c763-4c50-a647-63935537453c/download/cumulative-number-of-extinct-mammal-species.csv',\n",
       "   'package_id': 'c02731e8-5327-4720-bbc7-1fe67350a569',\n",
       "   'position': 0,\n",
       "   'resource_id': '8339c2b4-c763-4c50-a647-63935537453c',\n",
       "   'resource_type': None,\n",
       "   'set_url_type': False,\n",
       "   'size': None,\n",
       "   'state': 'active',\n",
       "   'task_created': '2023-08-09 04:59:07.755538',\n",
       "   'url': 'https://data.gov.au/data/dataset/c02731e8-5327-4720-bbc7-1fe67350a569/resource/8339c2b4-c763-4c50-a647-63935537453c/download/cumulative-number-of-extinct-mammal-species.csv',\n",
       "   'url_type': 'upload',\n",
       "   'wms_layer': '',\n",
       "   'zip_extract': False}],\n",
       " 'tags': [{'display_name': '2016',\n",
       "   'id': '1cdd2af1-833e-411c-8003-485b677d2f4d',\n",
       "   'name': '2016',\n",
       "   'state': 'active',\n",
       "   'vocabulary_id': None},\n",
       "  {'display_name': '2016 SoE',\n",
       "   'id': '662eb96b-dedd-482a-bbed-6fe51a4783cb',\n",
       "   'name': '2016 SoE',\n",
       "   'state': 'active',\n",
       "   'vocabulary_id': None},\n",
       "  {'display_name': 'Action Plan for Australian mammals',\n",
       "   'id': 'ab2fae4a-f38a-46b9-bd3b-f62f2b21aea5',\n",
       "   'name': 'Action Plan for Australian mammals',\n",
       "   'state': 'active',\n",
       "   'vocabulary_id': None},\n",
       "  {'display_name': 'Biodiversity',\n",
       "   'id': '655e233e-355c-4311-b3ac-a06db4a3c237',\n",
       "   'name': 'Biodiversity',\n",
       "   'state': 'active',\n",
       "   'vocabulary_id': None},\n",
       "  {'display_name': 'SoE',\n",
       "   'id': '6752f3e8-9a7a-4ffe-b9e7-9fce46be330f',\n",
       "   'name': 'SoE',\n",
       "   'state': 'active',\n",
       "   'vocabulary_id': None},\n",
       "  {'display_name': 'SoE Graph',\n",
       "   'id': 'ff1d16f8-8dfa-4c65-8bfc-3c5d53e0c385',\n",
       "   'name': 'SoE Graph',\n",
       "   'state': 'active',\n",
       "   'vocabulary_id': None},\n",
       "  {'display_name': 'State of the Environment',\n",
       "   'id': 'bfdd0f69-272e-49a1-b3b9-cabb8f586348',\n",
       "   'name': 'State of the Environment',\n",
       "   'state': 'active',\n",
       "   'vocabulary_id': None},\n",
       "  {'display_name': 'extinct',\n",
       "   'id': 'eef7a30a-2cec-4932-baf4-6ccf8d981b4b',\n",
       "   'name': 'extinct',\n",
       "   'state': 'active',\n",
       "   'vocabulary_id': None},\n",
       "  {'display_name': 'mammals',\n",
       "   'id': '74b1d415-25b1-49f2-9274-b9626838f1c4',\n",
       "   'name': 'mammals',\n",
       "   'state': 'active',\n",
       "   'vocabulary_id': None},\n",
       "  {'display_name': 'species',\n",
       "   'id': '2634e534-e803-4ea8-934d-50f936cf9073',\n",
       "   'name': 'species',\n",
       "   'state': 'active',\n",
       "   'vocabulary_id': None}],\n",
       " 'groups': [],\n",
       " 'relationships_as_subject': [],\n",
       " 'relationships_as_object': []}"
      ]
     },
     "execution_count": 43,
     "metadata": {},
     "output_type": "execute_result"
    }
   ],
   "source": [
    "mammal_json['result']"
   ]
  },
  {
   "cell_type": "code",
   "execution_count": 44,
   "id": "75dc8a0e",
   "metadata": {},
   "outputs": [
    {
     "data": {
      "text/plain": [
       "dict_keys(['author', 'author_email', 'contact_info', 'contact_point', 'creator_user_id', 'data_state', 'field_of_research', 'geospatial_topic', 'id', 'isopen', 'jurisdiction', 'language', 'license_id', 'license_title', 'license_url', 'maintainer', 'maintainer_email', 'metadata_created', 'metadata_modified', 'name', 'notes', 'num_resources', 'num_tags', 'organization', 'owner_org', 'private', 'spatial_coverage', 'state', 'temporal_coverage_from', 'title', 'type', 'unpublished', 'update_freq', 'url', 'version', 'resources', 'tags', 'groups', 'relationships_as_subject', 'relationships_as_object'])"
      ]
     },
     "execution_count": 44,
     "metadata": {},
     "output_type": "execute_result"
    }
   ],
   "source": [
    "# What about the keys down a level?\n",
    "mammal_json['result'].keys()"
   ]
  },
  {
   "cell_type": "code",
   "execution_count": 45,
   "id": "e7f624cf",
   "metadata": {
    "scrolled": true
   },
   "outputs": [
    {
     "data": {
      "text/plain": [
       "[{'cache_last_updated': None,\n",
       "  'cache_url': None,\n",
       "  'ckan_url': 'https://data.gov.au',\n",
       "  'created': '2016-10-13T16:31:36.178357',\n",
       "  'datastore_active': True,\n",
       "  'datastore_contains_all_records_of_source_file': True,\n",
       "  'description': 'Source: Woinarski, JCZ, Burbidge, AA & Harrison PL (2014 edition). The action plan for Australian mammals 2012, CSIRO Publishing, Melbourne.\\r\\n\\r\\nNote: The extinction of 3 species—Bettongia pusilla, Conilurus capricornensis and Pseudomys glaucus—cannot be readily and reliably dated, and these are not included in the data.',\n",
       "  'format': 'CSV',\n",
       "  'hash': 'd9d6c23d4b14989a714e437602634ba8',\n",
       "  'id': '8339c2b4-c763-4c50-a647-63935537453c',\n",
       "  'ignore_hash': False,\n",
       "  'last_modified': '2016-10-13',\n",
       "  'metadata_modified': '2023-08-09T05:00:12.311402',\n",
       "  'mimetype': None,\n",
       "  'mimetype_inner': None,\n",
       "  'name': 'BIO19 Cumulative historical extinctions of Australian mammal species',\n",
       "  'original_url': 'https://data.gov.au/data/dataset/c02731e8-5327-4720-bbc7-1fe67350a569/resource/8339c2b4-c763-4c50-a647-63935537453c/download/cumulative-number-of-extinct-mammal-species.csv',\n",
       "  'package_id': 'c02731e8-5327-4720-bbc7-1fe67350a569',\n",
       "  'position': 0,\n",
       "  'resource_id': '8339c2b4-c763-4c50-a647-63935537453c',\n",
       "  'resource_type': None,\n",
       "  'set_url_type': False,\n",
       "  'size': None,\n",
       "  'state': 'active',\n",
       "  'task_created': '2023-08-09 04:59:07.755538',\n",
       "  'url': 'https://data.gov.au/data/dataset/c02731e8-5327-4720-bbc7-1fe67350a569/resource/8339c2b4-c763-4c50-a647-63935537453c/download/cumulative-number-of-extinct-mammal-species.csv',\n",
       "  'url_type': 'upload',\n",
       "  'wms_layer': '',\n",
       "  'zip_extract': False}]"
      ]
     },
     "execution_count": 45,
     "metadata": {},
     "output_type": "execute_result"
    }
   ],
   "source": [
    "# Digging deeper\n",
    "mammal_json['result']['resources']"
   ]
  },
  {
   "attachments": {},
   "cell_type": "markdown",
   "id": "7d7410f0",
   "metadata": {},
   "source": [
    "This is a list of dicts - let's get the first dict in the list (item 0) and explore further"
   ]
  },
  {
   "cell_type": "code",
   "execution_count": 52,
   "id": "ea67f991",
   "metadata": {},
   "outputs": [
    {
     "data": {
      "text/plain": [
       "['Source: Woinarski, JCZ, Burbidge, AA & Harrison PL (2014 edition). The action plan for Australian mammals 2012, CSIRO Publishing, Melbourne.',\n",
       " '',\n",
       " 'Note: The extinction of 3 species—Bettongia pusilla, Conilurus capricornensis and Pseudomys glaucus—cannot be readily and reliably dated, and these are not included in the data.']"
      ]
     },
     "execution_count": 52,
     "metadata": {},
     "output_type": "execute_result"
    }
   ],
   "source": [
    "# Only one item in the list - get it by accessing the first item 0\n",
    "mammal_json['result']['resources'][0]['description'].split('\\r\\n')"
   ]
  },
  {
   "attachments": {},
   "cell_type": "markdown",
   "id": "c176efdd",
   "metadata": {},
   "source": [
    "We can save this dictionary formated data as *JSON* by using the `dumps()` function of the `json` library."
   ]
  },
  {
   "cell_type": "code",
   "execution_count": 53,
   "id": "aeb7b601",
   "metadata": {
    "scrolled": true
   },
   "outputs": [
    {
     "data": {
      "text/plain": [
       "'{\"help\": \"https://data.gov.au/data/api/3/action/help_show?name=package_show\", \"success\": true, \"result\": {\"author\": \"CSIRO Publishing\", \"author_email\": null, \"contact_info\": false, \"contact_point\": \"soe@environment.gov.au\", \"creator_user_id\": \"dd537e79-7dfd-4a78-9110-8a42785bad1a\", \"data_state\": \"active\", \"field_of_research\": [], \"geospatial_topic\": [], \"id\": \"c02731e8-5327-4720-bbc7-1fe67350a569\", \"isopen\": true, \"jurisdiction\": \"Commonwealth of Australia\", \"language\": \"English\", \"license_id\": \"cc-by-4.0\", \"license_title\": \"Creative Commons Attribution 4.0 International\", \"license_url\": \"http://creativecommons.org/licenses/by/4.0\", \"maintainer\": \"soe\", \"maintainer_email\": null, \"metadata_created\": \"2016-10-13T05:31:05.905629\", \"metadata_modified\": \"2023-08-09T05:00:12.302898\", \"name\": \"2016-soe-biodiversity-cumulative-number-of-extinct-mammal-species\", \"notes\": \"Data on cumulative historical extinctions of Australian mammal species - according to the Action Plan for Australian Mammals (2014 edition) by John Woinarksi, Andrew Burbidge and Peter Harrison. CSIRO Publishing.\\\\r\\\\n\\\\r\\\\nThis data was used by the Department of Environment and Energy to produce Figure BIO19 in the Biodiversity theme of Australia State of the Environment 2016, available at \\\\r\\\\nhttps://soe.environment.gov.au/theme/biodiversity/topic/2016/terrestrial-plant-and-animal-species-mammals#biodiversity-figure-BIO19\\\\r\\\\n\", \"num_resources\": 1, \"num_tags\": 10, \"organization\": {\"id\": \"c416b1b6-1ea1-47c3-b44a-b4586bee6e58\", \"name\": \"state-of-the-environment\", \"title\": \"State of the Environment\", \"type\": \"organization\", \"description\": \"\", \"image_url\": \"2017-01-25-001455.510982SOE2016LogoColour.png\", \"created\": \"2016-01-21T17:05:45.618925\", \"is_organization\": true, \"approval_status\": \"approved\", \"state\": \"active\"}, \"owner_org\": \"c416b1b6-1ea1-47c3-b44a-b4586bee6e58\", \"private\": false, \"spatial_coverage\": \"Australia\", \"state\": \"active\", \"temporal_coverage_from\": \"2016-10-13 05:31:05\", \"title\": \"2016 SoE Biodiversity Cumulative historical extinctions of Australian mammal species\", \"type\": \"dataset\", \"unpublished\": false, \"update_freq\": \"infrequently\", \"url\": null, \"version\": null, \"resources\": [{\"cache_last_updated\": null, \"cache_url\": null, \"ckan_url\": \"https://data.gov.au\", \"created\": \"2016-10-13T16:31:36.178357\", \"datastore_active\": true, \"datastore_contains_all_records_of_source_file\": true, \"description\": \"Source: Woinarski, JCZ, Burbidge, AA & Harrison PL (2014 edition). The action plan for Australian mammals 2012, CSIRO Publishing, Melbourne.\\\\r\\\\n\\\\r\\\\nNote: The extinction of 3 species\\\\u2014Bettongia pusilla, Conilurus capricornensis and Pseudomys glaucus\\\\u2014cannot be readily and reliably dated, and these are not included in the data.\", \"format\": \"CSV\", \"hash\": \"d9d6c23d4b14989a714e437602634ba8\", \"id\": \"8339c2b4-c763-4c50-a647-63935537453c\", \"ignore_hash\": false, \"last_modified\": \"2016-10-13\", \"metadata_modified\": \"2023-08-09T05:00:12.311402\", \"mimetype\": null, \"mimetype_inner\": null, \"name\": \"BIO19 Cumulative historical extinctions of Australian mammal species\", \"original_url\": \"https://data.gov.au/data/dataset/c02731e8-5327-4720-bbc7-1fe67350a569/resource/8339c2b4-c763-4c50-a647-63935537453c/download/cumulative-number-of-extinct-mammal-species.csv\", \"package_id\": \"c02731e8-5327-4720-bbc7-1fe67350a569\", \"position\": 0, \"resource_id\": \"8339c2b4-c763-4c50-a647-63935537453c\", \"resource_type\": null, \"set_url_type\": false, \"size\": null, \"state\": \"active\", \"task_created\": \"2023-08-09 04:59:07.755538\", \"url\": \"https://data.gov.au/data/dataset/c02731e8-5327-4720-bbc7-1fe67350a569/resource/8339c2b4-c763-4c50-a647-63935537453c/download/cumulative-number-of-extinct-mammal-species.csv\", \"url_type\": \"upload\", \"wms_layer\": \"\", \"zip_extract\": false}], \"tags\": [{\"display_name\": \"2016\", \"id\": \"1cdd2af1-833e-411c-8003-485b677d2f4d\", \"name\": \"2016\", \"state\": \"active\", \"vocabulary_id\": null}, {\"display_name\": \"2016 SoE\", \"id\": \"662eb96b-dedd-482a-bbed-6fe51a4783cb\", \"name\": \"2016 SoE\", \"state\": \"active\", \"vocabulary_id\": null}, {\"display_name\": \"Action Plan for Australian mammals\", \"id\": \"ab2fae4a-f38a-46b9-bd3b-f62f2b21aea5\", \"name\": \"Action Plan for Australian mammals\", \"state\": \"active\", \"vocabulary_id\": null}, {\"display_name\": \"Biodiversity\", \"id\": \"655e233e-355c-4311-b3ac-a06db4a3c237\", \"name\": \"Biodiversity\", \"state\": \"active\", \"vocabulary_id\": null}, {\"display_name\": \"SoE\", \"id\": \"6752f3e8-9a7a-4ffe-b9e7-9fce46be330f\", \"name\": \"SoE\", \"state\": \"active\", \"vocabulary_id\": null}, {\"display_name\": \"SoE Graph\", \"id\": \"ff1d16f8-8dfa-4c65-8bfc-3c5d53e0c385\", \"name\": \"SoE Graph\", \"state\": \"active\", \"vocabulary_id\": null}, {\"display_name\": \"State of the Environment\", \"id\": \"bfdd0f69-272e-49a1-b3b9-cabb8f586348\", \"name\": \"State of the Environment\", \"state\": \"active\", \"vocabulary_id\": null}, {\"display_name\": \"extinct\", \"id\": \"eef7a30a-2cec-4932-baf4-6ccf8d981b4b\", \"name\": \"extinct\", \"state\": \"active\", \"vocabulary_id\": null}, {\"display_name\": \"mammals\", \"id\": \"74b1d415-25b1-49f2-9274-b9626838f1c4\", \"name\": \"mammals\", \"state\": \"active\", \"vocabulary_id\": null}, {\"display_name\": \"species\", \"id\": \"2634e534-e803-4ea8-934d-50f936cf9073\", \"name\": \"species\", \"state\": \"active\", \"vocabulary_id\": null}], \"groups\": [], \"relationships_as_subject\": [], \"relationships_as_object\": []}}'"
      ]
     },
     "execution_count": 53,
     "metadata": {},
     "output_type": "execute_result"
    }
   ],
   "source": [
    "# Dump the dict into a json string\n",
    "metadata = json.dumps(mammal_json)\n",
    "metadata"
   ]
  },
  {
   "cell_type": "code",
   "execution_count": 55,
   "id": "bd45b370",
   "metadata": {},
   "outputs": [],
   "source": [
    "# Write the json string to a file\n",
    "file_name = \"extinct_mammals_metadata.json\"\n",
    "with open(f\"{path}/{file_name}\",'w') as fp:\n",
    "    fp.write(metadata)"
   ]
  },
  {
   "attachments": {},
   "cell_type": "markdown",
   "id": "cb6bb49a",
   "metadata": {},
   "source": [
    "Open the file that you just created to check that it has been written correctly."
   ]
  },
  {
   "cell_type": "code",
   "execution_count": null,
   "id": "3fdf1c6b",
   "metadata": {},
   "outputs": [],
   "source": [
    "# read the file back in\n",
    "with open(f\"{path}/{file_name}\",'r') as fp:\n",
    "    text = fp.read()\n",
    "    file_json = json.loads(text)\n",
    "\n",
    "file_json"
   ]
  },
  {
   "attachments": {},
   "cell_type": "markdown",
   "id": "72a6ba29",
   "metadata": {},
   "source": [
    "Explore the JSON structure starting with the keys"
   ]
  },
  {
   "cell_type": "code",
   "execution_count": 57,
   "id": "1e4d6eb7",
   "metadata": {},
   "outputs": [
    {
     "data": {
      "text/plain": [
       "dict_keys(['cache_last_updated', 'cache_url', 'ckan_url', 'created', 'datastore_active', 'datastore_contains_all_records_of_source_file', 'description', 'format', 'hash', 'id', 'ignore_hash', 'last_modified', 'metadata_modified', 'mimetype', 'mimetype_inner', 'name', 'original_url', 'package_id', 'position', 'resource_id', 'resource_type', 'set_url_type', 'size', 'state', 'task_created', 'url', 'url_type', 'wms_layer', 'zip_extract'])"
      ]
     },
     "execution_count": 57,
     "metadata": {},
     "output_type": "execute_result"
    }
   ],
   "source": [
    "# What keys are available in the first item in the list of resources?\n",
    "mammal_json['result']['resources'][0].keys()"
   ]
  },
  {
   "cell_type": "code",
   "execution_count": 58,
   "id": "daa50e4f",
   "metadata": {},
   "outputs": [
    {
     "data": {
      "text/plain": [
       "'Source: Woinarski, JCZ, Burbidge, AA & Harrison PL (2014 edition). The action plan for Australian mammals 2012, CSIRO Publishing, Melbourne.\\r\\n\\r\\nNote: The extinction of 3 species—Bettongia pusilla, Conilurus capricornensis and Pseudomys glaucus—cannot be readily and reliably dated, and these are not included in the data.'"
      ]
     },
     "execution_count": 58,
     "metadata": {},
     "output_type": "execute_result"
    }
   ],
   "source": [
    "# Take a look at the description\n",
    "mammal_json['result']['resources'][0]['description']"
   ]
  },
  {
   "cell_type": "code",
   "execution_count": 59,
   "id": "e5538a9e",
   "metadata": {},
   "outputs": [
    {
     "data": {
      "text/plain": [
       "['Source: Woinarski, JCZ, Burbidge, AA & Harrison PL (2014 edition). The action plan for Australian mammals 2012, CSIRO Publishing, Melbourne.',\n",
       " '',\n",
       " 'Note: The extinction of 3 species—Bettongia pusilla, Conilurus capricornensis and Pseudomys glaucus—cannot be readily and reliably dated, and these are not included in the data.']"
      ]
     },
     "execution_count": 59,
     "metadata": {},
     "output_type": "execute_result"
    }
   ],
   "source": [
    "# Format the description as a list\n",
    "mammal_json['result']['resources'][0]['description'].split('\\r\\n')"
   ]
  },
  {
   "cell_type": "code",
   "execution_count": 60,
   "id": "2e926d10",
   "metadata": {},
   "outputs": [
    {
     "data": {
      "text/plain": [
       "'Source: Woinarski, JCZ, Burbidge, AA & Harrison PL (2014 edition). The action plan for Australian mammals 2012, CSIRO Publishing, Melbourne.'"
      ]
     },
     "execution_count": 60,
     "metadata": {},
     "output_type": "execute_result"
    }
   ],
   "source": [
    "# Get the first item in the list\n",
    "mammal_json['result']['resources'][0]['description'].split('\\r\\n')[0]"
   ]
  },
  {
   "cell_type": "code",
   "execution_count": 61,
   "id": "1f8be749",
   "metadata": {},
   "outputs": [
    {
     "data": {
      "text/plain": [
       "'Data on cumulative historical extinctions of Australian mammal species - according to the Action Plan for Australian Mammals (2014 edition) by John Woinarksi, Andrew Burbidge and Peter Harrison. CSIRO Publishing.\\r\\n\\r\\nThis data was used by the Department of Environment and Energy to produce Figure BIO19 in the Biodiversity theme of Australia State of the Environment 2016, available at \\r\\nhttps://soe.environment.gov.au/theme/biodiversity/topic/2016/terrestrial-plant-and-animal-species-mammals#biodiversity-figure-BIO19\\r\\n'"
      ]
     },
     "execution_count": 61,
     "metadata": {},
     "output_type": "execute_result"
    }
   ],
   "source": [
    "# since the result is a dictionary, we can the value for one particular key\n",
    "mammal_json[\"result\"][\"notes\"]"
   ]
  },
  {
   "cell_type": "code",
   "execution_count": 62,
   "id": "7de72e24",
   "metadata": {},
   "outputs": [
    {
     "name": "stdout",
     "output_type": "stream",
     "text": [
      "Data on cumulative historical extinctions of Australian mammal species - according to the Action Plan for Australian Mammals (2014 edition) by John Woinarksi, Andrew Burbidge and Peter Harrison. CSIRO Publishing.\n",
      "\n",
      "This data was used by the Department of Environment and Energy to produce Figure BIO19 in the Biodiversity theme of Australia State of the Environment 2016, available at \n",
      "https://soe.environment.gov.au/theme/biodiversity/topic/2016/terrestrial-plant-and-animal-species-mammals#biodiversity-figure-BIO19\n",
      "\n"
     ]
    }
   ],
   "source": [
    "# we can take this data and structure it further\n",
    "\n",
    "notes = mammal_json[\"result\"][\"notes\"]\n",
    "struct_notes = notes.split('\\r\\n')\n",
    "for note in struct_notes:\n",
    "    print(note)"
   ]
  },
  {
   "attachments": {},
   "cell_type": "markdown",
   "id": "8dc776d3",
   "metadata": {},
   "source": [
    "### Explore further\n",
    "\n",
    "Try experimenting with exploring the dict format to find interesting parts of the data. \n",
    "\n",
    "You might also like to try saving the extracted data as a file, and creating a new dataframe with the structured data."
   ]
  },
  {
   "cell_type": "code",
   "execution_count": null,
   "id": "60966a77",
   "metadata": {},
   "outputs": [],
   "source": [
    "???"
   ]
  }
 ],
 "metadata": {
  "creation_period": "",
  "kernelspec": {
   "display_name": "Python 3 (ipykernel)",
   "language": "python",
   "name": "python3"
  },
  "language_info": {
   "codemirror_mode": {
    "name": "ipython",
    "version": 3
   },
   "file_extension": ".py",
   "mimetype": "text/x-python",
   "name": "python",
   "nbconvert_exporter": "python",
   "pygments_lexer": "ipython3",
   "version": "3.10.13"
  },
  "nb_name": "template",
  "qut": {
   "creation_period": "2023_sem1",
   "nb_name": "B1-DataStructures",
   "unit_code": "IFN619"
  }
 },
 "nbformat": 4,
 "nbformat_minor": 5
}
