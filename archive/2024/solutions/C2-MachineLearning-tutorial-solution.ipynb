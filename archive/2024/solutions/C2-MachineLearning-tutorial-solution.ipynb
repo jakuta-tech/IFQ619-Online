{
 "cells": [
  {
   "cell_type": "markdown",
   "id": "319899bc-3fc3-4e1a-8c26-2990db3b9c34",
   "metadata": {
    "cell_name": "header_cell"
   },
   "source": [
    "<div style=\"background:#E9FFF6; color:#440404; padding:8px; border-radius: 4px; text-align: center; font-weight: 500;\">IFN619 - Data Analytics for Strategic Decision Makers (2024_sem1)</div>"
   ]
  },
  {
   "cell_type": "markdown",
   "id": "bf483340-54bb-4181-86ae-e410f1efbb7a",
   "metadata": {
    "cell_name": "title_cell"
   },
   "source": [
    "# IFN619 :: C2 - Machine Learning - Tutorial\n",
    "\n",
    "Ensure that you have worked through the studio notebook before doing this tutorial, as the exercises below will build on what you did in the studio notebook."
   ]
  },
  {
   "cell_type": "code",
   "execution_count": null,
   "id": "4708f59f",
   "metadata": {},
   "outputs": [],
   "source": [
    "from sklearn.preprocessing import minmax_scale\n",
    "\n",
    "from sklearn.cluster import KMeans\n",
    "from sklearn.linear_model import LinearRegression\n",
    "from sklearn.linear_model import LogisticRegression\n",
    "\n",
    "from sklearn.model_selection import train_test_split\n",
    "from sklearn.metrics import mean_squared_error, r2_score\n",
    "from sklearn.preprocessing import StandardScaler\n",
    "from sklearn.preprocessing import LabelEncoder\n",
    "from sklearn.metrics import confusion_matrix\n",
    "from sklearn.metrics import classification_report\n",
    "\n",
    "import pandas as pd\n",
    "import plotly.express as px\n"
   ]
  },
  {
   "cell_type": "markdown",
   "id": "2965232a",
   "metadata": {},
   "source": [
    "### K-means algorithm Exercises\n",
    "\n",
    "1. Load the [Queensland Ambulance Service Locations and Coordinates Data](https://data.qld.gov.au/dataset/679424b4-ccf8-46cd-8e0b-f16c49572dbb) into a dataframe\n",
    "2. Load the data into a dataframe\n",
    "3. Perform a k-means clustering based on coordinates (start with 2 clusters)\n",
    "4. Visualise on a map\n",
    "5. Try increasing the number of clusters to identify potentially meaningful groupings\n",
    "\n"
   ]
  },
  {
   "cell_type": "markdown",
   "id": "2fa7426a-17ac-4f99-a732-4cdc4f279162",
   "metadata": {
    "jp-MarkdownHeadingCollapsed": true
   },
   "source": [
    "#### Load the data"
   ]
  },
  {
   "cell_type": "code",
   "execution_count": null,
   "id": "192f78b4",
   "metadata": {},
   "outputs": [],
   "source": [
    "# Load the data\n",
    "qas_df = pd.read_csv(\"https://www.data.qld.gov.au/datastore/dump/83360397-4dcb-495c-a9c8-342a5ef6b5aa?bom=True\", index_col=\"_id\")\n",
    "qas_df"
   ]
  },
  {
   "cell_type": "markdown",
   "id": "4bc96dc8-3dce-4d62-91a6-3e779631f99d",
   "metadata": {
    "jp-MarkdownHeadingCollapsed": true
   },
   "source": [
    "#### Create the model and fit to relevant data"
   ]
  },
  {
   "cell_type": "code",
   "execution_count": null,
   "id": "9e2a0aee",
   "metadata": {},
   "outputs": [],
   "source": [
    "clst2 = KMeans(n_clusters=2, random_state=0).fit(qas_df[['X Coordinates','Y Coordinates']])\n",
    "qas_df['cluster2'] = clst2.labels_\n",
    "qas_df"
   ]
  },
  {
   "cell_type": "markdown",
   "id": "8adfbd04-0261-4b6f-b4b1-2ed0f70dbdc1",
   "metadata": {
    "jp-MarkdownHeadingCollapsed": true
   },
   "source": [
    "#### Visualise the clusters"
   ]
  },
  {
   "cell_type": "code",
   "execution_count": null,
   "id": "43fc786a",
   "metadata": {},
   "outputs": [],
   "source": [
    "qas_map = px.scatter_mapbox(qas_df, \n",
    "    lat=\"Y Coordinates\", \n",
    "    lon=\"X Coordinates\",\n",
    "    color=\"cluster2\") \n",
    "    \n",
    "qas_map.update_layout(mapbox_style=\"open-street-map\",   # changed from stamen-terrain\n",
    "    mapbox_center_lat = -22.5, \n",
    "    mapbox_center_lon = 144,  \n",
    "    mapbox_zoom = 3.0, \n",
    "    margin={\"r\":0,\"t\":0,\"l\":0,\"b\":0})\n",
    "\n",
    "qas_map.show()"
   ]
  },
  {
   "cell_type": "markdown",
   "id": "848f9da4-0923-4002-9e23-5ff376f67620",
   "metadata": {
    "jp-MarkdownHeadingCollapsed": true
   },
   "source": [
    "#### Try more clusters"
   ]
  },
  {
   "cell_type": "code",
   "execution_count": null,
   "id": "713b1888-0eb7-4884-ab88-519db26f8adf",
   "metadata": {},
   "outputs": [],
   "source": [
    "clst6 = KMeans(n_clusters=6, random_state=0).fit(qas_df[['X Coordinates','Y Coordinates']])\n",
    "qas_df['cluster6'] = clst6.labels_\n",
    "qas_df"
   ]
  },
  {
   "cell_type": "markdown",
   "id": "eb817463-c7af-4da2-a74a-63c1f8025300",
   "metadata": {
    "jp-MarkdownHeadingCollapsed": true
   },
   "source": [
    "#### Visualise"
   ]
  },
  {
   "cell_type": "code",
   "execution_count": null,
   "id": "00921882-ca1c-4bcd-86b4-8e5ce9563984",
   "metadata": {},
   "outputs": [],
   "source": [
    "\n",
    "\n",
    "qas_map = px.scatter_mapbox(qas_df, \n",
    "    lat=\"Y Coordinates\", \n",
    "    lon=\"X Coordinates\",\n",
    "    color=\"cluster6\",\n",
    "    hover_name = \"Entity Name\"\n",
    ") \n",
    "    \n",
    "qas_map.update_layout(mapbox_style=\"open-street-map\",   # changed from stamen-terrain\n",
    "    mapbox_center_lat = -22.5, \n",
    "    mapbox_center_lon = 144,  \n",
    "    mapbox_zoom = 3.0, \n",
    "    margin={\"r\":0,\"t\":0,\"l\":0,\"b\":0})\n",
    "\n",
    "qas_map.show()\n"
   ]
  },
  {
   "cell_type": "markdown",
   "id": "40e2b0d8",
   "metadata": {},
   "source": [
    "### Linear Regression algorithm\n",
    "\n",
    "1. Load the [Great Barrier Reef Carbon Dioxide Measurements](https://www.csiro.au/en/education/Resources/Educational-datasets/GBR-Carbon-Study) data located in the data folder (name gbr.csv)\n",
    "2. Perform linear regression to predict CO2\n",
    "3. Experiment with predictions (increase the temperature to see what happens)\n"
   ]
  },
  {
   "cell_type": "markdown",
   "id": "07b62ca9-71e3-4a08-b857-0e2a4fdc7fe5",
   "metadata": {
    "jp-MarkdownHeadingCollapsed": true
   },
   "source": [
    "#### Load the data"
   ]
  },
  {
   "cell_type": "code",
   "execution_count": null,
   "id": "beb8fc85",
   "metadata": {},
   "outputs": [],
   "source": [
    "lr_df = pd.read_csv('./data/gbr.csv')\n",
    "lr_df"
   ]
  },
  {
   "cell_type": "code",
   "execution_count": null,
   "id": "ffeedebc",
   "metadata": {},
   "outputs": [],
   "source": [
    "lr_df.describe()"
   ]
  },
  {
   "cell_type": "markdown",
   "id": "4ef46aca-40fd-406a-a78b-adb63478d05e",
   "metadata": {
    "jp-MarkdownHeadingCollapsed": true
   },
   "source": [
    "#### Check for correlations"
   ]
  },
  {
   "cell_type": "code",
   "execution_count": null,
   "id": "f64a0418",
   "metadata": {},
   "outputs": [],
   "source": [
    "lr_df.corr()"
   ]
  },
  {
   "cell_type": "code",
   "execution_count": null,
   "id": "cd4fb3ab",
   "metadata": {},
   "outputs": [],
   "source": [
    "lr_corr_fig = px.imshow(lr_df.corr(), color_continuous_scale = 'RdBu',zmin=-1, zmax=1) # check the documentation!! \n",
    "lr_corr_fig.show()"
   ]
  },
  {
   "cell_type": "markdown",
   "id": "5ac24685-70ea-40c8-ad9f-f8a55f812ff4",
   "metadata": {
    "jp-MarkdownHeadingCollapsed": true
   },
   "source": [
    "#### Visualise correlations"
   ]
  },
  {
   "cell_type": "code",
   "execution_count": null,
   "id": "e60eacb3",
   "metadata": {},
   "outputs": [],
   "source": [
    "lr_corr_mt = px.scatter_matrix(lr_df)\n",
    "lr_corr_mt.show()"
   ]
  },
  {
   "cell_type": "markdown",
   "id": "0c98e1f1-db5b-4f80-babb-b9bac202ce56",
   "metadata": {
    "jp-MarkdownHeadingCollapsed": true
   },
   "source": [
    "#### Select domain features - independent variables"
   ]
  },
  {
   "cell_type": "code",
   "execution_count": null,
   "id": "35a738d3",
   "metadata": {},
   "outputs": [],
   "source": [
    "X_data = lr_df[['pressure', 'sea_surface_temp']] #'salinity']]\n",
    "X_data"
   ]
  },
  {
   "cell_type": "markdown",
   "id": "68a29c41-c59b-4be5-b76a-8c47081ab168",
   "metadata": {
    "jp-MarkdownHeadingCollapsed": true
   },
   "source": [
    "#### Select range feature - dependent variable"
   ]
  },
  {
   "cell_type": "code",
   "execution_count": null,
   "id": "926c70de",
   "metadata": {},
   "outputs": [],
   "source": [
    "y_data = lr_df['co2']\n",
    "y_data"
   ]
  },
  {
   "cell_type": "markdown",
   "id": "bbc289d4-b2c6-4dfd-8a46-4c7fa4ca626f",
   "metadata": {
    "jp-MarkdownHeadingCollapsed": true
   },
   "source": [
    "#### Create train/test data"
   ]
  },
  {
   "cell_type": "code",
   "execution_count": null,
   "id": "da8d8cb5",
   "metadata": {},
   "outputs": [],
   "source": [
    "X_train, X_test, y_train, y_test = train_test_split(X_data, y_data, shuffle=True, train_size=0.8, random_state=99)"
   ]
  },
  {
   "cell_type": "markdown",
   "id": "94737d09-20c2-4295-9d8d-b674f58eee21",
   "metadata": {
    "jp-MarkdownHeadingCollapsed": true
   },
   "source": [
    "#### Create the model and fit to training data"
   ]
  },
  {
   "cell_type": "code",
   "execution_count": null,
   "id": "e25515d1-1473-490d-9786-f54d9626cc48",
   "metadata": {},
   "outputs": [],
   "source": [
    "linear_model = LinearRegression() \n",
    "linear_model.fit(X_train, y_train) "
   ]
  },
  {
   "cell_type": "markdown",
   "id": "a24f875a-1720-4523-9104-916a81e82e82",
   "metadata": {
    "jp-MarkdownHeadingCollapsed": true
   },
   "source": [
    "#### Use the model to predict based on the test features"
   ]
  },
  {
   "cell_type": "code",
   "execution_count": null,
   "id": "c7efa593",
   "metadata": {},
   "outputs": [],
   "source": [
    "linear_predictions = linear_model.predict(X_test) \n",
    "linear_predictions # predicted CO2"
   ]
  },
  {
   "cell_type": "code",
   "execution_count": null,
   "id": "18730111",
   "metadata": {},
   "outputs": [],
   "source": [
    "lr_R2 = r2_score(y_test, linear_predictions) \n",
    "print(f'The model R squared score is: {lr_R2}')\n",
    "\n",
    "#The R-squared is a coeficient between 0 and 1 that determine the quality of the model prediction. \n",
    "# This number indicates the percentage of variance in the dependent variable that the independent \n",
    "# variables explain. 0 means that the model's prediction is not explained at all by the independent \n",
    "# variables, while 1 means that the model's prediction is 100% explained by the independent variables."
   ]
  },
  {
   "cell_type": "markdown",
   "id": "ca5e340f-824e-4181-a1c3-382a2cc8f289",
   "metadata": {
    "jp-MarkdownHeadingCollapsed": true
   },
   "source": [
    "#### Visualise the predictions vs actual values \n",
    "(for test data)"
   ]
  },
  {
   "cell_type": "code",
   "execution_count": null,
   "id": "acd59212",
   "metadata": {},
   "outputs": [],
   "source": [
    "# Create a chart to check the differences between what has been predicted and the real values\n",
    "\n",
    "y_test_fig_df = pd.DataFrame(y_test)\n",
    "linear_prediction_fig_df = pd.DataFrame(linear_predictions)\n",
    "linear_prediction_fig_df.columns = ['Predicted CO2']\n",
    "linear_prediction_fig_df['Test Index'] = y_test_fig_df.index\n",
    "linear_prediction_fig_df.set_index('Test Index', inplace=True)\n",
    "linear_fig_df = linear_prediction_fig_df.join(y_test_fig_df)\n",
    "linear_fig = px.scatter(linear_fig_df)\n",
    "linear_fig.show()"
   ]
  },
  {
   "cell_type": "markdown",
   "id": "f18596e3-bfa8-4e80-970a-f4683f977171",
   "metadata": {
    "jp-MarkdownHeadingCollapsed": true
   },
   "source": [
    "#### Try a prediction on unseen data"
   ]
  },
  {
   "cell_type": "code",
   "execution_count": null,
   "id": "f656da7e",
   "metadata": {},
   "outputs": [],
   "source": [
    "new_lr_prediction = linear_model.predict(pd.DataFrame({'pressure': [1009.49], 'sea_surface_temp': [32]})) \n",
    "new_lr_prediction"
   ]
  },
  {
   "cell_type": "markdown",
   "id": "71df6264",
   "metadata": {},
   "source": [
    "### Logistic Regression algorithm\n",
    "\n",
    "1. Load the [Thyroid sickness determination dataset](https://www.kaggle.com/datasets/bidemiayinde/thyroid-sickness-determination) in the data folder\n",
    "2. Perform logistic regression\n",
    "3. Change features to improve classification\n"
   ]
  },
  {
   "cell_type": "markdown",
   "id": "68969847-fedd-4d5a-a493-1a486289ea7a",
   "metadata": {
    "jp-MarkdownHeadingCollapsed": true
   },
   "source": [
    "#### Load and clean data"
   ]
  },
  {
   "cell_type": "code",
   "execution_count": null,
   "id": "9ddb5c3c",
   "metadata": {},
   "outputs": [],
   "source": [
    "log_df = pd.read_csv('./data/health.csv')\n",
    "# we want to predict thyroid disease, i.e. if log_df['Class'] is sick or negative\n",
    "\n",
    "# transform categorical variables into numeric\n",
    "log_df['sex_n'] = LabelEncoder().fit(log_df['sex']).transform(log_df['sex'])\n",
    "log_df['class_n'] = LabelEncoder().fit(log_df['Class']).transform(log_df['Class'])\n",
    "log_df"
   ]
  },
  {
   "cell_type": "code",
   "execution_count": null,
   "id": "b0bd37e2-b32c-45dc-a98a-fe880141e849",
   "metadata": {},
   "outputs": [],
   "source": [
    "log_df.info()"
   ]
  },
  {
   "cell_type": "code",
   "execution_count": null,
   "id": "b9b57fb3-f63a-4a50-a8b7-252bca3db131",
   "metadata": {},
   "outputs": [],
   "source": [
    "# age should be integer instead of object\n",
    "log_df['age'].value_counts()"
   ]
  },
  {
   "cell_type": "code",
   "execution_count": null,
   "id": "3c79e9f0-c2d6-4519-9e89-d2864edc1f95",
   "metadata": {},
   "outputs": [],
   "source": [
    "log_df[log_df['age'].str.isnumeric()==False]"
   ]
  },
  {
   "cell_type": "code",
   "execution_count": null,
   "id": "19f3ed5b-2a05-4468-be5f-3c1462924e9e",
   "metadata": {},
   "outputs": [],
   "source": [
    "log_df = log_df[log_df['age'].str.isnumeric()==True].copy()\n",
    "log_df['age'] = log_df['age'].astype('int')\n",
    "log_df.info()"
   ]
  },
  {
   "cell_type": "code",
   "execution_count": null,
   "id": "3da244e5",
   "metadata": {},
   "outputs": [],
   "source": [
    "log_df.describe()"
   ]
  },
  {
   "cell_type": "markdown",
   "id": "e525ee78-9d60-4029-81bb-1857041c9ffc",
   "metadata": {
    "jp-MarkdownHeadingCollapsed": true
   },
   "source": [
    "#### Check correlations"
   ]
  },
  {
   "cell_type": "code",
   "execution_count": null,
   "id": "0677d619",
   "metadata": {},
   "outputs": [],
   "source": [
    "log_df.corr(numeric_only=True)"
   ]
  },
  {
   "cell_type": "code",
   "execution_count": null,
   "id": "1fb0c136",
   "metadata": {},
   "outputs": [],
   "source": [
    "log_corr_fig = px.imshow(log_df.corr(numeric_only=True), color_continuous_scale = 'RdBu', zmin=-1, zmax = 1)\n",
    "log_corr_fig.show()"
   ]
  },
  {
   "cell_type": "markdown",
   "id": "e5678315-fa51-4890-a40d-5ad8f8475046",
   "metadata": {
    "jp-MarkdownHeadingCollapsed": true
   },
   "source": [
    "#### Select independent and dependent variables"
   ]
  },
  {
   "cell_type": "code",
   "execution_count": null,
   "id": "06491d47",
   "metadata": {},
   "outputs": [],
   "source": [
    "X_data = log_df[['T3', 'TT4', 'T4U']] \n",
    "X_data"
   ]
  },
  {
   "cell_type": "code",
   "execution_count": null,
   "id": "3374f658",
   "metadata": {},
   "outputs": [],
   "source": [
    "y_data = log_df['class_n'] \n",
    "y_data"
   ]
  },
  {
   "cell_type": "markdown",
   "id": "a8ea89f2-ecac-4033-a6d1-2915d6ecc151",
   "metadata": {
    "jp-MarkdownHeadingCollapsed": true
   },
   "source": [
    "#### Create train/test split, check class balance, and scale"
   ]
  },
  {
   "cell_type": "code",
   "execution_count": null,
   "id": "0deea374",
   "metadata": {},
   "outputs": [],
   "source": [
    "X_train, X_test, y_train, y_test = train_test_split(X_data, y_data, shuffle=True, train_size=0.8, random_state=99)"
   ]
  },
  {
   "cell_type": "code",
   "execution_count": null,
   "id": "ccdbe85d",
   "metadata": {},
   "outputs": [],
   "source": [
    "# Check the class balance\n",
    "y_train.value_counts(normalize=True)"
   ]
  },
  {
   "cell_type": "markdown",
   "id": "53d6b143-9640-4ad0-b33f-f27f6e84a552",
   "metadata": {},
   "source": [
    "Class weights very imbalanced, a lot more negative (healthy) than positive (sick).\n",
    "There is a class inbalance in the variable that we are going to predict. Therefore, the model is likely to predict towards 'Negative' (healhty) just because the biased data rather than the independent variables. In any classification model such as logistic regression, decision trees, etc. The class balance need to be considered (class_weight input parameter in LogisticRegression function)."
   ]
  },
  {
   "cell_type": "markdown",
   "id": "29f287c3-3ad7-461c-b8db-09d4c825a0ae",
   "metadata": {},
   "source": [
    "Additionally, it is a common practice to scale the date to have a better model. To scale the data wwe are going to use standardization that scale the data to have a mean of 0 and a standard deviation of 1."
   ]
  },
  {
   "cell_type": "code",
   "execution_count": null,
   "id": "c026aada",
   "metadata": {},
   "outputs": [],
   "source": [
    "scale = StandardScaler()\n",
    "X_train = scale.fit_transform(X_train)\n",
    "X_test = scale.transform(X_test)"
   ]
  },
  {
   "cell_type": "markdown",
   "id": "456ec8ed-8607-4ade-8a7b-bcba319cf325",
   "metadata": {
    "jp-MarkdownHeadingCollapsed": true
   },
   "source": [
    "#### Create the model and fit to training data"
   ]
  },
  {
   "cell_type": "code",
   "execution_count": null,
   "id": "c50f21c2",
   "metadata": {},
   "outputs": [],
   "source": [
    "\n",
    "logistic_model = LogisticRegression(class_weight='balanced') # (class_weight={0: 0.92, 1: 0.07})"
   ]
  },
  {
   "cell_type": "code",
   "execution_count": null,
   "id": "217d3d95",
   "metadata": {},
   "outputs": [],
   "source": [
    "# Fit the model to the training dataset\n",
    "logistic_model.fit(X_train, y_train)"
   ]
  },
  {
   "cell_type": "markdown",
   "id": "0426eb93-c75f-4fe1-be16-1b22df0d4ac2",
   "metadata": {
    "jp-MarkdownHeadingCollapsed": true
   },
   "source": [
    "#### Test model on test data and check with confusion matrix"
   ]
  },
  {
   "cell_type": "code",
   "execution_count": null,
   "id": "885958c9",
   "metadata": {},
   "outputs": [],
   "source": [
    "# to evaluate model use confusion matrix\n",
    "logistic_prediction = logistic_model.predict(X_test)  # Use the model to predict based on the testing dataset\n",
    "cm = confusion_matrix(y_test, logistic_prediction) # Compare the model's prediction against the true value in the testing dataset\n",
    "cm"
   ]
  },
  {
   "cell_type": "markdown",
   "id": "3800f126-0a8e-40a2-89c2-da3a6ab252c4",
   "metadata": {
    "jp-MarkdownHeadingCollapsed": true
   },
   "source": [
    "#### Visualise the confusion matrix"
   ]
  },
  {
   "cell_type": "code",
   "execution_count": null,
   "id": "71278632",
   "metadata": {},
   "outputs": [],
   "source": [
    "cm_fig = px.imshow(cm, labels={'x': 'Predicted label', 'y': 'Actual label'})\n",
    "cm_fig.show()"
   ]
  },
  {
   "cell_type": "markdown",
   "id": "bb29654b-e174-4b4b-a902-93c9ff8b835d",
   "metadata": {
    "jp-MarkdownHeadingCollapsed": true
   },
   "source": [
    "#### Create a test report"
   ]
  },
  {
   "cell_type": "code",
   "execution_count": null,
   "id": "765b0762",
   "metadata": {},
   "outputs": [],
   "source": [
    "report = classification_report(y_test, logistic_prediction)\n",
    "print(report)"
   ]
  },
  {
   "cell_type": "markdown",
   "id": "04336b0d-b63b-447c-bbef-224895479a81",
   "metadata": {},
   "source": [
    "Consider precision and recall of model. \n",
    "\n",
    "Precision: What proportion of positive identifications was actually correct?\n",
    "That is: (true positives / (true positives + false positives))\n",
    "\n",
    "Recall: What proportion of actual positives was identified correctly?\n",
    "That is (true positives / (true positives + false negatives))\n",
    "\n",
    "0 means not sick, 1 means sick. "
   ]
  }
 ],
 "metadata": {
  "creation_period": "",
  "kernelspec": {
   "display_name": "Python 3 (ipykernel)",
   "language": "python",
   "name": "python3"
  },
  "language_info": {
   "codemirror_mode": {
    "name": "ipython",
    "version": 3
   },
   "file_extension": ".py",
   "mimetype": "text/x-python",
   "name": "python",
   "nbconvert_exporter": "python",
   "pygments_lexer": "ipython3",
   "version": "3.10.13"
  },
  "nb_name": "template",
  "qut": {
   "creation_period": "2023_sem1",
   "nb_name": "C4-MachineLearning-tutorial",
   "unit_code": "IFN619"
  },
  "unit_code": ""
 },
 "nbformat": 4,
 "nbformat_minor": 5
}
