{
 "cells": [
  {
   "cell_type": "markdown",
   "metadata": {},
   "source": [
    "# IFN619 - Data Analytics for Strategic Decision Makers\n",
    "---"
   ]
  },
  {
   "cell_type": "markdown",
   "metadata": {},
   "source": [
    "Welcome to IFN619.\n",
    "\n",
    "All Jupyter notebook resources for this unit, can be obtained from the [QI Studio GitHub repo for IFN619](https://github.com/qistudio/ifn619)\n",
    "\n",
    "You can easily copy the latest files to your Jupyter folder by clicking here: [Get files from GitHub](https://jupyter.qistudio.io/hub/user-redirect/git-pull?repo=https%3A%2F%2Fgithub.com%2Fqistudio%2Fifn619&urlpath=lab%2Ftree%2Fifn619%2F)"
   ]
  }
 ],
 "metadata": {
  "kernelspec": {
   "display_name": "Python 3",
   "language": "python",
   "name": "python3"
  },
  "language_info": {
   "codemirror_mode": {
    "name": "ipython",
    "version": 3
   },
   "file_extension": ".py",
   "mimetype": "text/x-python",
   "name": "python",
   "nbconvert_exporter": "python",
   "pygments_lexer": "ipython3",
   "version": "3.6.7"
  }
 },
 "nbformat": 4,
 "nbformat_minor": 2
}
