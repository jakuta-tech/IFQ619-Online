{
    "cells": [
        {
            "attachments": {},
            "cell_type": "markdown",
            "metadata": {},
            "source": [
                "# Getting Started\n",
                "\n",
                "- **Overview** - work through the [overview module](https://canvas.qut.edu.au/courses/2159/modules/179851) on Canvas\n",
                "- **Assessment** - work through the [assessment module](https://canvas.qut.edu.au/courses/2159/modules/179852) on Canvas. In particular, take a look at Assessment 3 and makes sure you know how to use [GoingOK](https://qut.goingok.org).\n",
                "- **MS Teams** - login to the [IFN619_2023 Team](https://teams.microsoft.com/l/team/19%3aPixaAxJFFx1Ucjmd5qcjgEdmOQOp_5yNREZqitDw7aA1%40thread.tacv2/conversations?groupId=08bbd41a-b11b-4341-aa46-7d224c862592&tenantId=dc0b52a3-68c5-44f7-881d-9383d8850b96) and familiarise your self the channels, respond to the welcome message, familiarise yourself with posting code.\n",
                "- **Research** - watch the videos about the Data Analytics research happening during this unit, and ensure that you are aware of your option to withdraw consent if you want to.\n",
                "- **Teaching team** - make sure you know who from the teaching team is taking your studio session and your tutorial. Take the time to introduce yourself, and reach out if you have any questions about getting started in the unit."
            ]
        },
        {
            "attachments": {},
            "cell_type": "markdown",
            "metadata": {},
            "source": [
                "# Jupyter for Data Analytics\n",
                "\n",
                "Almost all of the learning activities for this unit will involve Jupyter. It is critical that you familiarise yourself with Jupyter NOW, and dedicate time to exploring the main features.\n",
                "\n",
                "Try and find out about the following features and how to use them:\n",
                "- Help menu\n",
                "- Working with notebooks and other files\n",
                "- Creating folders and moving files\n",
                "- Creating, editing and running cells - difference between Markdown and Code cells\n",
                "- Variable display\n",
                "- Code completion\n",
                "- Clearing outputs and Resetting the Kernel\n",
                "- Saving and downloading notebooks\n",
                "- Downloading folder archive"
            ]
        },
        {
            "cell_type": "code",
            "execution_count": null,
            "metadata": {},
            "outputs": [],
            "source": [
                "### Getting started with Markdown cells\n"
            ]
        }
    ],
    "metadata": {
        "creation_period": "2023_sem1",
        "kernelspec": {
            "display_name": "Python 3",
            "language": "python",
            "name": "python3"
        },
        "language_info": {
            "codemirror_mode": {
                "name": "ipython",
                "version": 3
            },
            "file_extension": ".py",
            "mimetype": "text/x-python",
            "name": "python",
            "nbconvert_exporter": "python",
            "pygments_lexer": "ipython3",
            "version": "3.10.6"
        },
        "nb_nambe": "A1-Jupyter",
        "nb_name": "template",
        "unit_code": "IFN619",
        "vscode": {
            "interpreter": {
                "hash": "31f2aee4e71d21fbe5cf8b01ff0e069b9275f58929596ceb00d14d90e3e16cd6"
            }
        }
    },
    "nbformat": 4,
    "nbformat_minor": 5
}
