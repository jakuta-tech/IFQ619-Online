{
    "cells": [
        {
            "cell_type": "markdown",
            "id": "cdc30bc6-8bab-48ed-a375-833e6c556c6a",
            "metadata": {
                "cell_name": "header_cell"
            },
            "source": [
                "<div style=\"background:#E9FFF6; color:#440404; padding:8px; border-radius: 4px; text-align: center; font-weight: 500;\">IFN619 - Data Analytics for Strategic Decision Makers (2023_sem1)</div>"
            ]
        },
        {
            "cell_type": "markdown",
            "id": "ed5105af-66b9-41c5-95ab-7642aae82616",
            "metadata": {
                "cell_name": "title_cell"
            },
            "source": [
                "# IFN619 :: B2-StructuredAnalytics"
            ]
        },
        {
            "attachments": {},
            "cell_type": "markdown",
            "id": "83f8a233",
            "metadata": {},
            "source": [
                "### Business Concern\n",
                "\n",
                "Analysis of Human Resources (HR) data can help provide insights on issues associated with employees and employment.\n",
                "\n",
                "In this ficticious scenario, a HR department has access to employee data from the company database that include the following fields:\n",
                "\n",
                "| Field                 | Description                                 |\n",
                "|-----------------------|---------------------------------------------|\n",
                "| satisfaction_level    | Satisfaction Level                          |\n",
                "| last_evaluation       | Last evaluation                             |\n",
                "| number_project        | Number of projects                          |\n",
                "| average_montly_hours  | Average monthly hours                       |\n",
                "| time_spend_company    | Time spent at the company                   |\n",
                "| Work_accident         | Whether they have had a work accident       |\n",
                "| left                  | Whether the employee has left               |\n",
                "| promotion_last_5years | Whether had a promotion in the last 5 years |\n",
                "| department            | department                                  |\n",
                "| salary                | Salary                                      |\n",
                "\n",
                "### Question\n",
                "\n",
                "Which employees are leaving the company, and what are the likely reasons?"
            ]
        },
        {
            "attachments": {},
            "cell_type": "markdown",
            "id": "b4651aaa",
            "metadata": {},
            "source": [
                "### Data\n",
                "\n",
                "The data can be loaded from the file `b2-structured_analytics-data.csv`. \n",
                "\n",
                "Before loading the data, take a look at the CSV to check column names and whether there is any index. \n",
                "\n",
                "After loading the data, check how many records we have and get the column headings as a list to check against the table above."
            ]
        },
        {
            "cell_type": "code",
            "execution_count": null,
            "id": "ff7c22a4-d8e9-4247-b870-425f856790f0",
            "metadata": {
                "notebookRunGroups": {
                    "groupValue": ""
                }
            },
            "outputs": [],
            "source": [
                "# Load necessary libraries\n",
                "# Use pandas for dataframe representation of structured data\n",
                "import ??? as ???\n",
                "# Use the plotly library to visualise the distribution as a histogram\n",
                "import plotly.express as px"
            ]
        },
        {
            "cell_type": "code",
            "execution_count": null,
            "id": "ec76e8a9",
            "metadata": {},
            "outputs": [],
            "source": [
                "# Locate the data and set appropriate variables\n",
                "file_path = ???\n",
                "file_name = ???\n",
                "\n",
                "# Load the data into a dataframe assigned to an appropriately named variable\n",
                "hr_df = pd.read_csv(f\"{file_path}{file_name}\",index_col=???)\n",
                "\n",
                "# View the dataframe\n",
                "???"
            ]
        },
        {
            "attachments": {},
            "cell_type": "markdown",
            "id": "eb133f63",
            "metadata": {},
            "source": [
                "If we want to report on the number of records, we can place a variable inside a string (using an f-string) which can be printed."
            ]
        },
        {
            "cell_type": "code",
            "execution_count": null,
            "id": "4d24070d",
            "metadata": {},
            "outputs": [],
            "source": [
                "# Check the number of records\n",
                "hr_df.size"
            ]
        },
        {
            "cell_type": "code",
            "execution_count": null,
            "id": "a74e7113",
            "metadata": {},
            "outputs": [],
            "source": [
                "# Report on important information\n",
                "report_records = f\"There are {???} records in the database\"\n",
                "print(report_records)"
            ]
        },
        {
            "cell_type": "code",
            "execution_count": null,
            "id": "417903da",
            "metadata": {},
            "outputs": [],
            "source": [
                "# An alternative to printing\n",
                "print(\"Number of database records: \",???)"
            ]
        },
        {
            "attachments": {},
            "cell_type": "markdown",
            "id": "cfdfffc6",
            "metadata": {},
            "source": [
                "The dataframe can return a list of columns by calling the `columns` property. However, the type is a `pandas index object`. This object can be changed into a python list using the `list()` function."
            ]
        },
        {
            "cell_type": "code",
            "execution_count": null,
            "id": "87cf5717",
            "metadata": {},
            "outputs": [],
            "source": [
                "# Get columns property\n",
                "hr_df.columns"
            ]
        },
        {
            "cell_type": "code",
            "execution_count": null,
            "id": "ce76ad82",
            "metadata": {},
            "outputs": [],
            "source": [
                "#Capture the column headings as a list\n",
                "hr_headings = ???\n",
                "\n",
                "hr_headings"
            ]
        },
        {
            "attachments": {},
            "cell_type": "markdown",
            "id": "b5ef3877",
            "metadata": {},
            "source": [
                "### Analysis\n",
                "\n",
                "When analysing structured data, we often want to use statistics to *describe* the data. Before doing this, we need to understand the types of **variables** in the data. \n",
                "\n",
                "In structured data, each column of data is considered to be a **variable**. For example, `satifaction_level` is one variable, and `work_accident` is another. For each record in the data, these variables take on a potentially different value which is why they are refered to as variables!\n",
                "\n",
                "There are 2 main types of variable:\n",
                "    1. **Quantitative** (or Numeric) - values are quantities represented by numbers\n",
                "    2. **Categorical** - values are categories that may or may not be represented by numbers"
            ]
        },
        {
            "attachments": {},
            "cell_type": "markdown",
            "id": "11f2ce9f",
            "metadata": {},
            "source": [
                "#### Which columns are which variable types in the HR data?\n",
                "\n",
                "Reading the descriptions of fields in the table above gives us an indication of which variables might be quantitative and which might be categorical.\n",
                "\n",
                "We can also get an indication using the `describe()` function. \n",
                "\n",
                "Take note of which variables appear in the output. Why is this?\n"
            ]
        },
        {
            "cell_type": "code",
            "execution_count": null,
            "id": "1a83c86e",
            "metadata": {},
            "outputs": [],
            "source": [
                "# Note which columns can be described\n",
                "hr_df.???"
            ]
        },
        {
            "cell_type": "code",
            "execution_count": null,
            "id": "adb343fb",
            "metadata": {},
            "outputs": [],
            "source": [
                "# Capture the columns in a variable\n",
                "quant_vars = list(hr_df.describe().columns)\n",
                "quant_vars"
            ]
        },
        {
            "cell_type": "code",
            "execution_count": null,
            "id": "99fdae84",
            "metadata": {},
            "outputs": [],
            "source": [
                "# The other columns could be categorical\n",
                "cat_vars = set(???) - set(???)\n",
                "cat_vars"
            ]
        },
        {
            "attachments": {},
            "cell_type": "markdown",
            "id": "3203b58d",
            "metadata": {},
            "source": [
                "The `describe()` function is a quick an easy way to obtain descriptive statistics on data that is quantitative.\n",
                "\n",
                "Take a look at just the `satisfaction_level` and note how that statistics describe the data.\n",
                "\n",
                "How would this be reported appropriately to humans?"
            ]
        },
        {
            "cell_type": "code",
            "execution_count": null,
            "id": "19c6cebe",
            "metadata": {},
            "outputs": [],
            "source": [
                "# Describe a single column\n",
                "hr_df[???].describe()"
            ]
        },
        {
            "cell_type": "code",
            "execution_count": null,
            "id": "3d56c07c",
            "metadata": {},
            "outputs": [],
            "source": [
                "# Get a particular value\n",
                "sat_desc = hr_df[???].describe()\n",
                "print(\"mean:\",sat_desc[???])\n",
                "print(\"max:\",sat_desc[???])"
            ]
        },
        {
            "cell_type": "code",
            "execution_count": null,
            "id": "2babd16a",
            "metadata": {},
            "outputs": [],
            "source": [
                "# We can round the mean\n",
                "round(sat_desc[???],???)"
            ]
        },
        {
            "cell_type": "code",
            "execution_count": null,
            "id": "66ae957b",
            "metadata": {},
            "outputs": [],
            "source": [
                "# More human approach by using a format string\n",
                "hr_sat = hr_df.satisfaction_level\n",
                "print(f\"The average employee satisfaction is {hr_sat.mean():.0%} (over {hr_sat.count():,} past and present employees).\")"
            ]
        },
        {
            "attachments": {},
            "cell_type": "markdown",
            "id": "2a0f0fb2",
            "metadata": {},
            "source": [
                "We can obtain more meaningful information, but grouping on the relevant categorical variable."
            ]
        },
        {
            "cell_type": "code",
            "execution_count": null,
            "id": "d2db7aae",
            "metadata": {},
            "outputs": [],
            "source": [
                "# Grouping according to current and past employees\n",
                "left_sat = hr_df.groupby([???])[???].describe()\n",
                "left_sat"
            ]
        },
        {
            "attachments": {},
            "cell_type": "markdown",
            "id": "bce19b10",
            "metadata": {},
            "source": [
                "We can also obtain particular rows of data using the `loc[]` property."
            ]
        },
        {
            "cell_type": "code",
            "execution_count": null,
            "id": "bd1b7725",
            "metadata": {},
            "outputs": [],
            "source": [
                "left_sat.loc[???] # locate row with index 'no'"
            ]
        },
        {
            "cell_type": "code",
            "execution_count": null,
            "id": "1c7b5f70",
            "metadata": {},
            "outputs": [],
            "source": [
                "left_sat.loc[???] # locate row with index 'yes'"
            ]
        },
        {
            "cell_type": "code",
            "execution_count": null,
            "id": "3862b40b",
            "metadata": {},
            "outputs": [],
            "source": [
                "# More human, more nuance\n",
                "hr_sat_past = left_sat.loc[???] # have left\n",
                "hr_sat_current = left_sat.loc[???] # have not left\n",
                "\n",
                "# Note formatting of numbers within the fstring\n",
                "print(f\"The average employee satisfaction recorded for the company's {hr_sat_current[???]:,} current employees is {hr_sat_current[???]:.0%}.\")\n",
                "print(f\"The average employee satisfaction recorded for the {hr_sat_past[???]???}  employees who have left the company is {hr_sat_past[???]???}.\")"
            ]
        },
        {
            "attachments": {},
            "cell_type": "markdown",
            "id": "4f182d34",
            "metadata": {},
            "source": [
                "### Visualise\n",
                "\n",
                "Sometimes it is helpful to visualise the data to help understand it's distribution (shape).\n",
                "\n",
                "**Histograms** are a good way of visualising the distribution of quantitative data. We can create a histogram using the `histogram()` function in the `plotly.express` library."
            ]
        },
        {
            "cell_type": "code",
            "execution_count": null,
            "id": "9ea91427",
            "metadata": {},
            "outputs": [],
            "source": [
                "# Create a histogram of satisfaction_level\n",
                "fig = px.histogram(hr_df[???])\n",
                "fig.show()"
            ]
        },
        {
            "attachments": {},
            "cell_type": "markdown",
            "id": "ea177b3e",
            "metadata": {},
            "source": [
                "The histogram allows us to see a significant group of very low satisfaction records. By hovering over the bar, we can see that the range is less than 11% satisfaction.\n",
                "\n",
                "This would suggest that we should drill down and find out more."
            ]
        },
        {
            "cell_type": "code",
            "execution_count": null,
            "id": "94bd1550",
            "metadata": {},
            "outputs": [],
            "source": [
                "# What do the descriptive statistics look like for this very low group (<15%)\n",
                "lowsat_df = hr_df[hr_df['satisfaction_level']<???]\n",
                "lowsat_df.describe()"
            ]
        },
        {
            "cell_type": "code",
            "execution_count": null,
            "id": "b7b3a642",
            "metadata": {},
            "outputs": [],
            "source": [
                "# What about those that are very satisfied? (> 75%)\n",
                "highsat_df = hr_df[hr_df['satisfaction_level']>???]\n",
                "highsat_df.describe()"
            ]
        },
        {
            "cell_type": "code",
            "execution_count": null,
            "id": "4c15487c",
            "metadata": {},
            "outputs": [],
            "source": [
                "# average number of projects\n",
                "hprojm = highsat_df.describe()[???].loc[???]\n",
                "lprojm = lowsat_df.describe()[???].loc[???]\n",
                "projd = ??? - ???\n",
                "projmore  = ???/???\n",
                "\n",
                "# average hours worked\n",
                "hhourm = highsat_df.describe()[???].loc[???]\n",
                "lhourm = lowsat_df.describe()[???].loc[???]\n",
                "hourd = ??? - ???\n",
                "hourmore = hourd/hhourm\n",
                "\n",
                "print(f\"Employees with low satisfaction were assigned to {lprojm:.2f} projects on average, compared to high satisfaction employees with {hprojm:.2f} on average. This represents an additional project load of {projd:.2f} projects for these employees with low satisfaction, or {projmore:.1%} ({hourmore:.1%}) more than those with high satisfaction.\")\n",
                "print(f\"It is not surprising then that the low satisfaction group worked an average {lhourm:.0f} hours per month, which is {hourd:.0f} more than the high satisfaction group with an average of {hhourm:.0f} hours per month.\")\n",
                "\n",
                "\n"
            ]
        },
        {
            "attachments": {},
            "cell_type": "markdown",
            "id": "38225d22",
            "metadata": {},
            "source": [
                "#### Using visualisation to help explore\n",
                "\n",
                "It looks like we have found a possible answer to the **why** part of our question. Very low satisfaction appears to be related to higher work load.\n",
                "\n",
                "We need to continue to explore by comparing to get a better understanding of **who**.\n",
                "\n",
                "One approach is to use visualisations to help compare the data. Using our histogram above, we can add a box plot that summarises the distribution.\n",
                "\n",
                "After plotting the distribution with the box plot, hover over the box plot to see what it means. See this [Chartio data tutorial](https://chartio.com/learn/charts/box-plot-complete-guide/) for a deeper dive.\n",
                "\n",
                "![img](https://chartio.com/assets/26dba4/tutorials/charts/box-plots/046df50d3e23296f1dda99a385bd54925317c413ffff2a63779ffef0a42b9434/box-plot-construction.png)"
            ]
        },
        {
            "cell_type": "code",
            "execution_count": null,
            "id": "a7734755",
            "metadata": {},
            "outputs": [],
            "source": [
                "# Add a box plot to the histogram\n",
                "fig = px.histogram(hr_df['satisfaction_level'],nbins=10, marginal=???,text_auto=True)\n",
                "fig.show()"
            ]
        },
        {
            "attachments": {},
            "cell_type": "markdown",
            "id": "f3c78b8d",
            "metadata": {},
            "source": [
                "However, this visualisation doesn't tell the story reflected in our more nuanced stats above, and it still doesn't help address the **who** part of the question.\n",
                "\n",
                "To tell a more nuanced story, we can split the dataframe into different subgroups by filtering just the rows that we want.\n",
                "\n",
                "To answer our question about which employees leave the company and why, we're pursuing a hypothesis around satisfaction. But to check if we're on the right track we need to see if there is a difference between *current employees* `left=no` and *past employees* `left=yes`."
            ]
        },
        {
            "cell_type": "code",
            "execution_count": null,
            "id": "b602c5b8",
            "metadata": {},
            "outputs": [],
            "source": [
                "# filter the dataframe to those rows containing a string\n",
                "current_df = hr_df[hr_df['left'].str.contains(???)]\n",
                "current_df"
            ]
        },
        {
            "cell_type": "code",
            "execution_count": null,
            "id": "e420b04e",
            "metadata": {},
            "outputs": [],
            "source": [
                "# describe the data (check by comparing with our previous results)\n",
                "current_df[???].describe()"
            ]
        },
        {
            "cell_type": "code",
            "execution_count": null,
            "id": "7f274eda",
            "metadata": {},
            "outputs": [],
            "source": [
                "# visualise the distribution of satisfaction for current employees\n",
                "fig = px.histogram(current_df['satisfaction_level'],nbins=10, marginal=\"box\",text_auto=True)\n",
                "fig.show()"
            ]
        },
        {
            "cell_type": "code",
            "execution_count": null,
            "id": "86ebf232",
            "metadata": {},
            "outputs": [],
            "source": [
                "# filter the dataframe to those rows containing 'yes' indicating they have left\n",
                "past_df = hr_df[hr_df['left'].str.contains(???)]\n",
                "past_df"
            ]
        },
        {
            "cell_type": "code",
            "execution_count": null,
            "id": "e642bcd0",
            "metadata": {},
            "outputs": [],
            "source": [
                "# describe the data (check by comparing with our previous results)\n",
                "past_df['satisfaction_level'].???"
            ]
        },
        {
            "cell_type": "code",
            "execution_count": null,
            "id": "c17c1d2a",
            "metadata": {},
            "outputs": [],
            "source": [
                "# visualise the distribution of satisfaction for past employees\n",
                "fig = px.histogram(past_df['satisfaction_level'],nbins=10, marginal=\"box\",text_auto=True)\n",
                "fig.show()"
            ]
        },
        {
            "attachments": {},
            "cell_type": "markdown",
            "id": "ba833ae3",
            "metadata": {},
            "source": [
                "These charts show a much more nuanced view of the data for each group. However, it would be helpful to see them together in order to compare.\n",
                "\n",
                "Visual comparison makes it more obvious the big difference in satisfaction level between the 2 groups, and the chart could be accompanied by the text that we printed out above.\n",
                "\n",
                "This is an example of *making the narrative clearer*. We are telling a story from the data about **why** employees might be leaving, and both the text and the visualisation help tell the story."
            ]
        },
        {
            "cell_type": "code",
            "execution_count": null,
            "id": "20ceffb6",
            "metadata": {},
            "outputs": [],
            "source": [
                "# view the box plots for satisfaction level, but use different colours for the 'left' values\n",
                "fig = px.box(hr_df,x='satisfaction_level',color='left')\n",
                "fig.show()\n",
                "print(f\"Employees with low satisfaction were assigned to {lprojm:.2f} projects on average, compared to high satisfaction employees with {hprojm:.2f} on average. This represents an additional project load of {projd:.2f} projects for these employees with low satisfaction, or {projmore:.1%} ({hourmore:.1%}) more than those with high satisfaction.\")\n",
                "print(f\"It is not surprising then that the low satisfaction group worked an average {lhourm:.0f} hours per month, which is {hourd:.0f} more than the high satisfaction group with an average of {hhourm:.0f} hours per month.\")"
            ]
        },
        {
            "attachments": {},
            "cell_type": "markdown",
            "id": "6f722d7f",
            "metadata": {},
            "source": [
                "**Note:** The chart above is fine for exploration, but it would need improvements before using in a report. For example, the `satisfaction_level` format in the chart does not match the format in the text.\n",
                "\n",
                "However, continuing our exploration, we can use this same approach to check if `satisfaction_level` varies according to other variables, like `department`."
            ]
        },
        {
            "cell_type": "code",
            "execution_count": null,
            "id": "f54b7f07",
            "metadata": {},
            "outputs": [],
            "source": [
                "# How does satisfaction level look for each department?\n",
                "px.box(past_df,x='satisfaction_level',color=???)"
            ]
        },
        {
            "attachments": {},
            "cell_type": "markdown",
            "id": "6b75a15a",
            "metadata": {},
            "source": [
                "We can filter the past employees data to include only certain departments. \n",
                "\n",
                "**TIP:** To see what the filtering is doing, try running the `past_df['department'].str.contains('accounting')` in a cell by itself."
            ]
        },
        {
            "cell_type": "code",
            "execution_count": null,
            "id": "03deb5a2",
            "metadata": {},
            "outputs": [],
            "source": [
                "# Selected departments of past employees\n",
                "deps_df = past_df[past_df['department'].str.contains('accounting') | # The vertical line is a logical OR operator\n",
                "                past_df['department'].str.contains('product_mng')]\n",
                "\n",
                "px.histogram(deps_df, x='satisfaction_level',nbins=10, marginal=\"box\",text_auto=True,color='department')"
            ]
        },
        {
            "attachments": {},
            "cell_type": "markdown",
            "id": "78cf7b41",
            "metadata": {},
            "source": [
                "You'll notice that the box plots reflect something that is difficult to see in the histogram - that is that proportionately accounting employees are less satisfied than product management employees.\n",
                "\n",
                "When comparing groups of different sizes, *normalising* can help tell a better story. (e.g. percent of total employees in each group)"
            ]
        },
        {
            "cell_type": "code",
            "execution_count": null,
            "id": "ab1280c2",
            "metadata": {},
            "outputs": [],
            "source": [
                "# normalise the histogram by percent\n",
                "px.histogram(deps_df, x='satisfaction_level',nbins=10, marginal=\"box\",text_auto=True,color='department', histnorm=???)"
            ]
        },
        {
            "attachments": {},
            "cell_type": "markdown",
            "id": "8bc66aee",
            "metadata": {},
            "source": [
                "Also, using a different kind of visualisation designed for comparisons can help"
            ]
        },
        {
            "cell_type": "code",
            "execution_count": null,
            "id": "c0360abd",
            "metadata": {},
            "outputs": [],
            "source": [
                "fig = px.density_heatmap(deps_df, y='satisfaction_level',x='average_monthly_hours',facet_row='department',facet_col='left',histnorm='percent')\n",
                "\n",
                "# Uncomment the following line to see how to change the dimensions of the image\n",
                "#fig.update_layout(autosize=False,width = 600,height = 800,margin=dict(l=10,r=10,b=20,t=20,pad=4),paper_bgcolor=\"LightSteelBlue\")\n",
                "\n",
                "fig.show()"
            ]
        },
        {
            "attachments": {},
            "cell_type": "markdown",
            "id": "34c08807",
            "metadata": {},
            "source": [
                "This visualisation makes obvious that the difference between the departments is minimal for current employees, but for past employees, there is a greater proportion of high hours and low satisfaction with accounting than with product management where the greater proportion of people who left had moderate satisfaction and relatively low hours."
            ]
        },
        {
            "attachments": {},
            "cell_type": "markdown",
            "id": "c885f410",
            "metadata": {},
            "source": [
                "#### Correlation Analysis\n",
                "\n",
                "Another kind of analysis used for comparing quantitative data is *correlation analysis*.\n",
                "Correlation analysis is a very useful statitiscal analysis that describes the degree of relationship between two variables. It can describe two main types of relationship between variables:\n",
                "- positive correlation: two variables move in the same direction (correlated)\n",
                "- negative correlation: two variables move in oposite directions (anti-correlated, or inverse correlation)\n",
                "\n",
                "Note that strong relationships between any 2 variables are given by how close the correlation value is to either +1.0 (correlation) or -1.0 (inverse correlation), and the closer the value is to 0, the weaker the relationship between the variables.\n",
                "\n",
                "When observing more than 2 variables, the results are using presented in a matrix form."
            ]
        },
        {
            "cell_type": "code",
            "execution_count": null,
            "id": "6ebc994d",
            "metadata": {},
            "outputs": [],
            "source": [
                "# Create a correlation matrix from variables: 'satisfaction_level','number_project','average_monthly_hours','time_spend_company'\n",
                "hr_cor_matrix = hr_df[['satisfaction_level','number_project','average_monthly_hours','time_spend_company']].???\n",
                "hr_cor_matrix"
            ]
        },
        {
            "attachments": {},
            "cell_type": "markdown",
            "id": "9028746f",
            "metadata": {},
            "source": [
                "Matrix style data (particularly correlations) can be visualised using *Heatmap* visualisations."
            ]
        },
        {
            "cell_type": "code",
            "execution_count": null,
            "id": "3af08bf9",
            "metadata": {},
            "outputs": [],
            "source": [
                "# Create a heatmap using plotly image show by assigning colours to values in the dataframe\n",
                "px.imshow(???,color_continuous_scale='Viridis', text_auto=True)"
            ]
        },
        {
            "attachments": {},
            "cell_type": "markdown",
            "id": "54557a9d",
            "metadata": {},
            "source": [
                "Compare this whole of company view, with just the past employees. What does it show?"
            ]
        },
        {
            "cell_type": "code",
            "execution_count": null,
            "id": "ac0977d2",
            "metadata": {},
            "outputs": [],
            "source": [
                "# Create a correlation matrix for the past employees\n",
                "past_cor_matrix = ???[['satisfaction_level','number_project','average_monthly_hours','time_spend_company']].???\n",
                "\n",
                "px.imshow(past_cor_matrix,color_continuous_scale='Viridis', text_auto=True)"
            ]
        },
        {
            "attachments": {},
            "cell_type": "markdown",
            "id": "1cfca3c1",
            "metadata": {},
            "source": [
                "And the same for the current employees"
            ]
        },
        {
            "cell_type": "code",
            "execution_count": null,
            "id": "b713baae",
            "metadata": {},
            "outputs": [],
            "source": [
                "current_cor_mat = ???[['satisfaction_level','number_project','average_monthly_hours','time_spend_company']].???\n",
                "\n",
                "px.imshow(current_cor_mat,color_continuous_scale='Viridis', text_auto=True)"
            ]
        },
        {
            "attachments": {},
            "cell_type": "markdown",
            "id": "f2004933",
            "metadata": {},
            "source": [
                "### Insights\n",
                "\n",
                "We have been able to identify that low satisfaction appears to be a key factor with people who have left the company, and that accounting employees had the lowest satisfaction levels. We also identified relationships between between low satisfaction and high numbers of projects and longer hours worked. This suggests that those who have left disatisfied were overworked.\n",
                "\n",
                "However, from the correlation analysis of past and current employees, it seems that the time spent at the company is more highly correlated with satisfaction levels for people who have left the company. This suggests that out of those who left, the most satisfied were also those that had been at the company the longest. Perhaps they were more persistent or more tolerant of the longer work hours. More analysis would be required to see if this sub-group of longer serving past employees actually had less work hours than more recent past employees.\n",
                "\n",
                "The overall picture that has emerged (so far) suggests that employees with low satisfaction who have been recently employed by the company are not staying, that the likely reason for this is additional projects and longer hours, and that this seems to be more prevlent with the accounting department."
            ]
        }
    ],
    "metadata": {
        "creation_period": "",
        "kernelspec": {
            "display_name": "Python 3 (ipykernel)",
            "language": "python",
            "name": "python3"
        },
        "language_info": {
            "codemirror_mode": {
                "name": "ipython",
                "version": 3
            },
            "file_extension": ".py",
            "mimetype": "text/x-python",
            "name": "python",
            "nbconvert_exporter": "python",
            "pygments_lexer": "ipython3",
            "version": "3.10.8"
        },
        "nb_name": "template",
        "qut": {
            "creation_period": "2023_sem1",
            "nb_name": "B2-StructuredAnalytics",
            "unit_code": "IFN619"
        },
        "unit_code": ""
    },
    "nbformat": 4,
    "nbformat_minor": 5
}
