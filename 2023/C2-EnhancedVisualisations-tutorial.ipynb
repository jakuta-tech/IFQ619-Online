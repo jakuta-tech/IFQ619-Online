{
    "cells": [
        {
            "cell_type": "markdown",
            "id": "226036fa-6e67-449a-abcf-aa1494f1e0ee",
            "metadata": {
                "cell_name": "header_cell"
            },
            "source": [
                "<div style=\"background:#E9FFF6; color:#440404; padding:8px; border-radius: 4px; text-align: center; font-weight: 500;\">IFN619 - Data Analytics for Strategic Decision Makers (2023_sem1)</div>"
            ]
        },
        {
            "cell_type": "markdown",
            "id": "5e76624b-e8c2-42e1-a8f3-52d7faf54c40",
            "metadata": {
                "cell_name": "title_cell"
            },
            "source": [
                "# IFN619 :: C2-EnhancedVisualisations-tutorial"
            ]
        },
        {
            "cell_type": "markdown",
            "id": "69a05d8c-d74d-4060-9f4a-c1d7dccde7b2",
            "metadata": {},
            "source": [
                "### Making maps - do it yourself\n",
                "\n",
                "Using the [Earthquake dataset](https://www.kaggle.com/datasets/warcoder/earthquake-dataset), try to create meaningful charts to depict the relationship between the magnitude, significance and location. You can use many charts and associate with other variables such as date_time."
            ]
        },
        {
            "cell_type": "code",
            "execution_count": null,
            "id": "50eec726-726b-4ebb-b69c-0390af3e7f87",
            "metadata": {},
            "outputs": [],
            "source": [
                "import pandas as pd\n",
                "import plotly.express as px # Data visualisation library\n",
                "import json\n",
                "from urllib.request import urlopen"
            ]
        },
        {
            "cell_type": "code",
            "execution_count": null,
            "id": "df47b370-8eae-42f3-886c-73b73765316b",
            "metadata": {},
            "outputs": [],
            "source": [
                "eq = pd.read_csv(???)\n",
                "eq"
            ]
        },
        {
            "cell_type": "markdown",
            "id": "e1344988-7d7b-42bd-a872-da83dc045429",
            "metadata": {},
            "source": [
                "## What and how would you visualise this dataset?"
            ]
        },
        {
            "cell_type": "code",
            "execution_count": null,
            "id": "b6a60ac2-deb8-4bea-af32-1e4ce57d39dd",
            "metadata": {},
            "outputs": [],
            "source": [
                "eq.dtypes"
            ]
        },
        {
            "cell_type": "code",
            "execution_count": null,
            "id": "e4733467-841b-41d1-948c-fb31dcfedf9f",
            "metadata": {},
            "outputs": [],
            "source": [
                "eq_map = px.scatter_mapbox(eq, # Create bubbles on top of a map\n",
                "    lat=???, # Specify the latitude for the bubbles\n",
                "    lon=???) # Specify the longitude for the bubbles\n",
                "eq_map.update_layout(mapbox_style=???, # Specify the kind of background map\n",
                "    margin={\"r\":0,\"t\":30,\"l\":0,\"b\":0}) # Sets the margins for the map\n",
                "eq_map.show()"
            ]
        },
        {
            "cell_type": "markdown",
            "id": "a0aec29d-d726-418c-b3f5-597708eb8d5e",
            "metadata": {},
            "source": [
                "Given the interactivity provided the maps it is extremely important to guide the user to the correct place to start with and use the correct zoom. Otherwise, the information can be overlooked causing inattentional blindness."
            ]
        },
        {
            "cell_type": "code",
            "execution_count": null,
            "id": "05cd52f5-9ba5-4b9f-9261-6fb5b43f100f",
            "metadata": {},
            "outputs": [],
            "source": [
                "# find appropriate start-location and zoom settings for map\n",
                "min_lat = ???\n",
                "max_lat = ???\n",
                "min_long = ???\n",
                "max_long = ???\n",
                "\n",
                "print('Min lat =', min_lat)\n",
                "print('Max lat =', max_lat)\n",
                "print('Min long =', min_long)\n",
                "print('Max long =', max_long)\n"
            ]
        },
        {
            "cell_type": "code",
            "execution_count": null,
            "id": "a81f60ad-8f37-4a8b-8f48-90b337354fb8",
            "metadata": {},
            "outputs": [],
            "source": [
                "eq_map = px.scatter_mapbox(eq,\n",
                "    lat=???,\n",
                "    lon=???\n",
                ") \n",
                "eq_map.update_layout(mapbox_style=???, \n",
                "    mapbox_center_lat = ???, # Specifies the starting latitude for first render\n",
                "    mapbox_center_lon = ???,  # Specifies the starting longitude for first render \n",
                "    mapbox_zoom = ???, # Specifies the starting zoom for first render \n",
                "    margin={\"r\":0,\"t\":30,\"l\":0,\"b\":0}) # Sets the margins for the map\n",
                "eq_map.show()\n",
                "\n",
                "\n"
            ]
        },
        {
            "cell_type": "markdown",
            "id": "67765e56-56d0-4997-b896-cb9599959d6e",
            "metadata": {},
            "source": [
                "Once the data have been correctly positioned and showed, it is time to use colour to depict the earthquakes that have happened at each location on the map. It is important to remember what is the purpose of the visualisation to select the appropriate colour."
            ]
        },
        {
            "cell_type": "code",
            "execution_count": null,
            "id": "24132c60-33f3-414e-ab27-16be2c3c7856",
            "metadata": {},
            "outputs": [],
            "source": [
                "eq_map = px.scatter_mapbox(eq,\n",
                "    lat=???,\n",
                "    lon=???,\n",
                "    color=???, # Specifies the colour to be mapped to the earthquakes\n",
                "    title=\"Earthquakes around the world (2001-2022)\",\n",
                "    color_continuous_scale = ??? # Sets the colour scale to be used\n",
                ") \n",
                "eq_map.update_layout(mapbox_style=???, \n",
                "    mapbox_center_lat = ???, \n",
                "    mapbox_center_lon = ???,  \n",
                "    mapbox_zoom = ???, \n",
                "    margin={\"r\":0,\"t\":30,\"l\":0,\"b\":0}) # Sets the margins for the map\n",
                "eq_map.show()\n"
            ]
        },
        {
            "cell_type": "markdown",
            "id": "0cd26064-1fa2-4c78-891e-a3824c94ff37",
            "metadata": {},
            "source": [
                "Are the points on the map too small, are they difficult to see? \n",
                "\n",
                "Practice changing the marker size for all points on the map. "
            ]
        },
        {
            "cell_type": "code",
            "execution_count": null,
            "id": "4b100776-0c26-4b38-ad3a-56eb0a37a70b",
            "metadata": {},
            "outputs": [],
            "source": [
                "eq_map = px.scatter_mapbox(eq,\n",
                "    lat=???,\n",
                "    lon=???,\n",
                "    color=???, # Specifies the colour to be mapped to the earthquakes\n",
                "    title=\"Earthquakes around the world (2001-2022)\",\n",
                "    color_continuous_scale = ??? # Sets the colour scale to be used\n",
                ") \n",
                "eq_map.update_layout(mapbox_style=???, \n",
                "    mapbox_center_lat = ???, \n",
                "    mapbox_center_lon = ???,  \n",
                "    mapbox_zoom = ???, \n",
                "    margin={\"r\":0,\"t\":30,\"l\":0,\"b\":0}) \n",
                "eq_map.update_traces(marker_size = ???) # Specified the size of the marker in pixels\n",
                "eq_map.show()\n"
            ]
        },
        {
            "cell_type": "markdown",
            "id": "c03fe533-77a4-46b6-a737-d87b19c235f6",
            "metadata": {},
            "source": [
                "Now the dots are probably too large. They are overlapping and it is difficult to see how many there are. "
            ]
        },
        {
            "cell_type": "markdown",
            "id": "d4ee6588-f757-45df-b96e-e2db3631d133",
            "metadata": {},
            "source": [
                "What else would be good to add to the map? \n",
                "\n",
                "It's probably a good idea to add the country or location (if available) where the earthquake happened, and the magnitude of the earthquake. "
            ]
        },
        {
            "cell_type": "code",
            "execution_count": null,
            "id": "5d41f189-7654-458e-9542-343f45af47a4",
            "metadata": {},
            "outputs": [],
            "source": [
                "eq_map = px.scatter_mapbox(eq,\n",
                "    lat=???,\n",
                "    lon=???,\n",
                "    color=???, # Specifies the colour to be mapped to the earthquakes\n",
                "    title=\"Earthquakes around the world (2001-2022)\",\n",
                "    color_continuous_scale = ??? # Sets the colour scale to be used\n",
                "    hover_name = ???, # Includes the text to be used as the title when hovered \n",
                "    hover_data = ???, # Includes additional data to be displayed when hovered\n",
                ") \n",
                "eq_map.update_layout(mapbox_style=???, \n",
                "    mapbox_center_lat = ???, \n",
                "    mapbox_center_lon = ???,  \n",
                "    mapbox_zoom = ???, \n",
                "    margin={\"r\":0,\"t\":30,\"l\":0,\"b\":0}) \n",
                "eq_map.update_traces(marker_size = ???) # Specified the size of the marker in pixels\n",
                "eq_map.show()\n"
            ]
        },
        {
            "cell_type": "markdown",
            "id": "d257a912-c006-4738-8df8-5ababaad7592",
            "metadata": {},
            "source": [
                "We can potentially use other aesthetics such as size of the dots to depict additional information of earthquake size. "
            ]
        },
        {
            "cell_type": "code",
            "execution_count": null,
            "id": "eef6170a-0c54-4dcf-8454-985c90f943b7",
            "metadata": {},
            "outputs": [],
            "source": [
                "eq_map = px.scatter_mapbox(eq,\n",
                "    lat=???,\n",
                "    lon=???,\n",
                "    color=???, # Specifies the colour to be mapped to the earthquakes\n",
                "    title=\"Earthquakes around the world (2001-2022)\",\n",
                "    color_continuous_scale = ??? # Sets the colour scale to be used\n",
                "    hover_name = ???, # Includes the text to be used as the title when hovered \n",
                "    hover_data = ???, # Includes additional data to be displayed when hovered\n",
                ") \n",
                "eq_map.update_layout(mapbox_style=???, \n",
                "    mapbox_center_lat = ???, \n",
                "    mapbox_center_lon = ???,  \n",
                "    mapbox_zoom = ???, \n",
                "    margin={\"r\":0,\"t\":30,\"l\":0,\"b\":0}) \n",
                "eq_map.show()"
            ]
        },
        {
            "cell_type": "markdown",
            "id": "a54a5b25-788b-4a9f-8652-98d133526614",
            "metadata": {},
            "source": [
                "How suitable is this visualisation? \n",
                "\n",
                "Would you change anything? Why/why not? If yes, what would you change?\n",
                "\n"
            ]
        },
        {
            "cell_type": "markdown",
            "id": "e600d94a-91cd-4751-a469-f0a1aae65181",
            "metadata": {},
            "source": [
                "## More practice...\n",
                "\n",
                "Now try to plot only a certain region and/or certain year(s), and decide the most suitable plotting parameters such as colour, size, hovering information, etc.  \n",
                "\n",
                "What other kind of plots could you make that provide additional information? \n",
                "\n"
            ]
        },
        {
            "cell_type": "code",
            "execution_count": null,
            "id": "1610be8c-7f42-45db-8d76-ab71fc22337f",
            "metadata": {},
            "outputs": [],
            "source": []
        }
    ],
    "metadata": {
        "kernelspec": {
            "display_name": "Python 3 (ipykernel)",
            "language": "python",
            "name": "python3"
        },
        "language_info": {
            "codemirror_mode": {
                "name": "ipython",
                "version": 3
            },
            "file_extension": ".py",
            "mimetype": "text/x-python",
            "name": "python",
            "nbconvert_exporter": "python",
            "pygments_lexer": "ipython3",
            "version": "3.9.16"
        },
        "qut": {
            "creation_period": "2023_sem1",
            "nb_name": "C2-EnhancedVisualisations-tutorial",
            "unit_code": "IFN619"
        }
    },
    "nbformat": 4,
    "nbformat_minor": 5
}