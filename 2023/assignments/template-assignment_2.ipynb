{
    "cells": [
        {
            "attachments": {},
            "cell_type": "markdown",
            "id": "6ef62cbd-2ea0-442e-973e-e50ca1e97fa2",
            "metadata": {
                "cell_name": "header_cell"
            },
            "source": [
                "<div style=\"background:#FFFFEE; color:#440404; padding:8px; border-radius: 4px; text-align: center; font-weight: 500;\">IFN619 - Data Analytics for Strategic Decision Makers (2023_sem1)</div>"
            ]
        },
        {
            "attachments": {},
            "cell_type": "markdown",
            "id": "ff597d6e-cdac-4d1a-b657-f6d756380ae3",
            "metadata": {
                "cell_name": "title_cell"
            },
            "source": [
                "# IFN619 :: Assignment 2 :: Extending Analytics (40%)\n",
                "\n",
                "**IMPORTANT:** Refer to the instructions in Canvas module [About the Assessment - Assignment 2](https://canvas.qut.edu.au/courses/2159/pages/instructions-for-extending-analytics-assignment?module_item_id=1170253) *BEFORE* working on this assignment.\n",
                "\n",
                "1. Complete and run the code cell below to display your name, student number, and assignment option\n",
                "2. Delete the cells for the option that you are not using\n",
                "3. Complete a full analysis for your chosen option. Ensure that you include:\n",
                "    - documentation of your thinking and decision-making\n",
                "    - clear articulation of ethical considerations and human factors in both your analysis choices and your insights\n",
                "    - at least one extended analysis approach (unstructured data analytics, ehanced visualisation, machine learning techniques)\n",
                "4. Submit your final notebook on Canvas [Assignment 2 submission page](https://canvas.qut.edu.au/courses/2159/assignments/127215)\n"
            ]
        },
        {
            "cell_type": "code",
            "execution_count": null,
            "id": "763f6f63",
            "metadata": {},
            "outputs": [],
            "source": [
                "# Complete the following cell with your details and run to produce your personalised header for this assignment\n",
                "\n",
                "from IPython.display import HTML\n",
                "\n",
                "# personal details\n",
                "first_name = ???\n",
                "last_name = ???\n",
                "student_number = ???\n",
                "# assignment option\n",
                "option_choice = ??? # either \"extending assign 1\" OR \"own choice of analysis\"\n",
                "\n",
                "personal_header = f\"<h1>{first_name} {last_name} ({student_number}) :: Option: {option_choice}</h1>\"\n",
                "HTML(personal_header)"
            ]
        },
        {
            "attachments": {},
            "cell_type": "markdown",
            "id": "24fbcf4f",
            "metadata": {},
            "source": [
                "---\n",
                "### Option 1 - extending assign 1\n",
                "\n",
                "Extend your assignment 1 analysis by including consideration of ethical and human factors, including 1 extended analysis technique, and using at least 1 additional data source. Possible additional data sources:\n",
                "\n",
                "1. Guardian API (See accessing the Guardian API notebook)\n",
                "2. Hospital location data (Provided, see data folder)\n",
                "\n",
                "**NOTE:** you should not repeat the analysis from assignment 1, but you may need to save dataframes from assignment 1 and reload for use in this assignment. You may also summarise your assignment 1 insights as part of the process of identifying questions for analysis."
            ]
        },
        {
            "attachments": {},
            "cell_type": "markdown",
            "id": "93615dbf",
            "metadata": {},
            "source": [
                "---\n",
                "### Option 2 - own choice of analysis\n",
                "\n",
                "You may choose your own scenario and your own data source. However, you **must** provide a link to the source of your data, and a good description of it. You should also provide a detailed description of your scenario and why your chosen question/s is/are important."
            ]
        }
    ],
    "metadata": {
        "creation_period": "",
        "kernelspec": {
            "display_name": "base",
            "language": "python",
            "name": "python3"
        },
        "language_info": {
            "codemirror_mode": {
                "name": "ipython",
                "version": 3
            },
            "file_extension": ".py",
            "mimetype": "text/x-python",
            "name": "python",
            "nbconvert_exporter": "python",
            "pygments_lexer": "ipython3",
            "version": "3.10.8"
        },
        "nb_name": "template",
        "qut": {
            "creation_period": "2023_sem1",
            "nb_name": "template-assignment2",
            "unit_code": "IFN619"
        },
        "unit_code": "",
        "vscode": {
            "interpreter": {
                "hash": "d4d1e4263499bec80672ea0156c357c1ee493ec2b1c70f0acce89fc37c4a6abe"
            }
        }
    },
    "nbformat": 4,
    "nbformat_minor": 5
}
