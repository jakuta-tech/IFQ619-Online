{
 "cells": [
  {
   "cell_type": "markdown",
   "metadata": {},
   "source": [
    "# Module 4 - Unstructured and semi-structured analytics - Exercises\n",
    "\n",
    "1. Run each of the module notebooks (Part A, B and C) by yourself without referring to the video\n",
    "2. Now try each of the parts with your own data. i.e. Replace the text below with text that you make up, and then try and extract elements from your own text.\n",
    "\n",
    "```python\n",
    "# the text which we want to obtain data from\n",
    "text = \"\"\"\n",
    "*** Start ***\n",
    "2020.03.18 Andrew eats avocado\n",
    "2020.03.19 Catarina eats coconut\n",
    "2020.03.19 Prime Minister eats pineapple mousse\n",
    "*** End ***\n",
    "\"\"\"\n",
    "```\n",
    "\n",
    "3. Try and use the techniques that you have learnt on a real log file. You can choose one on [loghub](https://github.com/logpai/loghub).\n"
   ]
  },
  {
   "cell_type": "code",
   "execution_count": 1,
   "metadata": {},
   "outputs": [],
   "source": [
    "### Type your code here\n"
   ]
  },
  {
   "cell_type": "code",
   "execution_count": null,
   "metadata": {},
   "outputs": [],
   "source": []
  }
 ],
 "metadata": {
  "kernelspec": {
   "display_name": "Python 3",
   "language": "python",
   "name": "python3"
  },
  "language_info": {
   "codemirror_mode": {
    "name": "ipython",
    "version": 3
   },
   "file_extension": ".py",
   "mimetype": "text/x-python",
   "name": "python",
   "nbconvert_exporter": "python",
   "pygments_lexer": "ipython3",
   "version": "3.7.6"
  }
 },
 "nbformat": 4,
 "nbformat_minor": 4
}
