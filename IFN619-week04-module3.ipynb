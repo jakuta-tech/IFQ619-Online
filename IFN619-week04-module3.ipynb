{
 "cells": [
  {
   "cell_type": "markdown",
   "metadata": {},
   "source": [
    "# Module 3 -  Structured Data\n",
    "\n",
    "In this module, we are going to learn how to manipulate structured data in a real world scenario using the Data Analytics Cycle that you learned in previous sessions. \n",
    "\n"
   ]
  },
  {
   "cell_type": "markdown",
   "metadata": {},
   "source": [
    "## Learning about Organisations with Structured Data: Why are people leaving my company?"
   ]
  },
  {
   "cell_type": "markdown",
   "metadata": {},
   "source": [
    "Case studies help students learn by immersing them in a real world business scenario where they act as problem solvers and decision-makers.\n",
    "\n",
    "A case study must not merely summarize the case. It should identify **key features** and **key problems**. And also **outline** and **assess** alternative courses of action to deal with the problem you identify.\n",
    "\n",
    "\n",
    "In this module, we are going to analyse a structured dataset with information about human resources of a company.\n"
   ]
  },
  {
   "cell_type": "markdown",
   "metadata": {},
   "source": [
    "### BUSINESS CONCERN: Understand why the best and most experienced employees leaving the company."
   ]
  },
  {
   "cell_type": "code",
   "execution_count": null,
   "metadata": {},
   "outputs": [],
   "source": [
    "import pandas as pd    # used for data manipulation and data analysis\n",
    "import numpy as np     # used for algebraic operations               \n",
    "\n",
    "import matplotlib.pyplot as plt  # used for visualisations\n",
    "import seaborn as sns            # used for visualisations\n",
    "\n",
    "pd.set_option('display.max_rows', 250)  # maximum number of rows to display in a dataframe\n",
    "#pd.options.display.max_rows            # prints the maximum number of rows to display in a dataframe"
   ]
  },
  {
   "cell_type": "markdown",
   "metadata": {},
   "source": [
    "This block of code uses HTML to align the DATASET INFORMATION table to the left"
   ]
  },
  {
   "cell_type": "code",
   "execution_count": null,
   "metadata": {},
   "outputs": [],
   "source": [
    "%%html \n",
    "<style>\n",
    "table {float:left} \n",
    "</style>"
   ]
  },
  {
   "cell_type": "markdown",
   "metadata": {},
   "source": [
    "### DATASET INFORMATION\n",
    "\n",
    "The Human Resources department of the company has collected the following information about the staff members\n",
    "\n",
    "| Variable              | Descriptions                                |\n",
    "|-----------------------|---------------------------------------------|\n",
    "| satisfaction_level    | Satisfaction Level                          |\n",
    "| last_evaluation       | Last evaluation                             |\n",
    "| number_project        | Number of projects                          |\n",
    "| average_montly_hours  | Average monthly hours                       |\n",
    "| time_spend_company    | Time spent at the company                   |\n",
    "| Work_accident         | Whether they have had a work accident       |\n",
    "| left                  | Whether the employee has left               |\n",
    "| promotion_last_5years | Whether had a promotion in the last 5 years |\n",
    "| department            | department                                  |\n",
    "| salary                | Salary                                      |"
   ]
  },
  {
   "cell_type": "markdown",
   "metadata": {},
   "source": [
    "### Taking a look at the dataset"
   ]
  },
  {
   "cell_type": "code",
   "execution_count": null,
   "metadata": {
    "slideshow": {
     "slide_type": "fragment"
    }
   },
   "outputs": [],
   "source": [
    "# dataset filepath\n",
    "dataset_path = \"data/dataset_week4.csv\"\n",
    "\n",
    "# load dataset into a dataframe\n",
    "data = pd.read_csv( dataset_path )\n",
    "data"
   ]
  },
  {
   "cell_type": "markdown",
   "metadata": {},
   "source": [
    "Take a look at the \"salary\" column. A machine cannot understand what \"low\", \"medium\" or \"high\" mean. These are terms for our human understanding. We will need to encode this representation into numbers (also called integers).\n",
    "The variable \"Salary\" is called a categorical variable, because it expresses the categories \"low\", \"medium\" and \"high\"."
   ]
  },
  {
   "cell_type": "code",
   "execution_count": null,
   "metadata": {},
   "outputs": [],
   "source": [
    "# how many categories of salary do we have?\n",
    "\n",
    "np.unique(data['salary']) # the unique function removes all duplicates from a list"
   ]
  },
  {
   "cell_type": "code",
   "execution_count": null,
   "metadata": {},
   "outputs": [],
   "source": [
    "data.salary"
   ]
  },
  {
   "cell_type": "code",
   "execution_count": null,
   "metadata": {},
   "outputs": [],
   "source": [
    "# encoding categorical variables\n",
    "# we are going to map the attributes \"low\", \"medium\", and \"high\" of the \"salary\" column to 0, 1, and 2, respectively\n",
    "# and put the results in a new column \"salary_enc\"\n",
    "data['salary_enc'] = data.salary.map({\"low\": 0, \"medium\": 1, \"high\": 2})\n",
    "data"
   ]
  },
  {
   "cell_type": "code",
   "execution_count": null,
   "metadata": {},
   "outputs": [],
   "source": [
    "# how many categories of salary do we have?\n",
    "np.unique(data['salary_enc'])"
   ]
  },
  {
   "cell_type": "markdown",
   "metadata": {},
   "source": [
    "The first step that we need to do when analysing structured data is to clean up the data. In other words, to look for:\n",
    "- missing\n",
    "- incomplete or \n",
    "- noisy values."
   ]
  },
  {
   "cell_type": "code",
   "execution_count": null,
   "metadata": {},
   "outputs": [],
   "source": [
    "# check if there are null (missing) entries in the dataset\n",
    "data.info()"
   ]
  },
  {
   "cell_type": "markdown",
   "metadata": {},
   "source": [
    "Dataset is complete and it does not have any missing values. "
   ]
  },
  {
   "cell_type": "markdown",
   "metadata": {},
   "source": [
    "### Performing Descriptive Statistics\n",
    "\n",
    "A descriptive statistic is a summary and a quantitative analysis that describes or summarizes features from a dataset.\n",
    "\n",
    "Pandas has a descriptive statistics method, **describe**, that summarize the central tendency, dispersion and shape of the dataset. \n"
   ]
  },
  {
   "cell_type": "code",
   "execution_count": null,
   "metadata": {},
   "outputs": [],
   "source": [
    "# descriptive statistics\n",
    "descr = data.describe()\n",
    "descr"
   ]
  },
  {
   "cell_type": "code",
   "execution_count": null,
   "metadata": {},
   "outputs": [],
   "source": [
    "# average number of employees who left\n",
    "employees_who_left = np.round(descr['left']['mean'],2)\n",
    "\n",
    "# average satisfaction level\n",
    "satisfaction_lv = np.round(descr['satisfaction_level']['mean'],2)\n",
    "\n",
    "# average performance level\n",
    "performance_lv = np.round(descr['last_evaluation']['mean'],2)\n",
    "\n",
    "# average performance level\n",
    "projects = np.round(descr['number_project']['mean'])\n",
    "\n",
    "# average performance level\n",
    "num_hours = np.round(descr['average_montly_hours']['mean'])"
   ]
  },
  {
   "cell_type": "code",
   "execution_count": null,
   "metadata": {},
   "outputs": [],
   "source": [
    "print(\"Summary of Descriptive Statistics:\\n\")\n",
    "print(\"\\tAverage percentage of exployees leaving the company: %.2f%%;\" %(employees_who_left))\n",
    "print(\"\\tAverage satisfaction level amongst employees: %.2f%%;\" %(satisfaction_lv))\n",
    "print(\"\\tAverage performance level of employees: %.2f%%;\" %(performance_lv))\n",
    "print(\"\\tEmployees work on average on %d projects and spend %d hours\\n\" %(projects, num_hours))"
   ]
  },
  {
   "cell_type": "markdown",
   "metadata": {},
   "source": [
    "#### Graphical Representation of Descriptive Statistics: Box Plots\n",
    "\n",
    "Boxplot is a good statistical graphic to analyze the dataset and indentify outliers. An outlier is as observation that lies an abnormal distance from other values. In this case, the data analyst has to decide what is considered abnormal according to a certain data distribution.\n"
   ]
  },
  {
   "cell_type": "code",
   "execution_count": null,
   "metadata": {},
   "outputs": [],
   "source": [
    "f, axes = plt.subplots(3,2, figsize=(10,10))\n",
    "\n",
    "plt.subplots_adjust(wspace=1) # adjust the space between the plots\n",
    "\n",
    "# plot a boxplot of satisfaction_level to see if there is outliers\n",
    "sns.boxplot( x= 'satisfaction_level',  data=data, orient='v', ax=axes[0,0])\n",
    "\n",
    "# plot a boxplot of last_evaluation to see if there is outliers\n",
    "sns.boxplot( x= 'last_evaluation',  data=data, orient='v',ax=axes[0,1])\n",
    "\n",
    "# plot a boxplot of number_project to see if there is outliers\n",
    "sns.boxplot( x= 'number_project',  data=data, orient='v',ax=axes[1,0])\n",
    "\n",
    "# plot a boxplot of average_montly_hours to see if there is outliers\n",
    "sns.boxplot( x= 'average_montly_hours',  data=data, orient='v',ax=axes[1,1])\n",
    "\n",
    "# plot a boxplot of salary to see if there is outliers\n",
    "sns.boxplot( x= 'salary_enc',  data=data, orient='v',ax=axes[2,0])\n",
    "\n",
    "# plot a boxplot of time_spend_company to see if there is outliers\n",
    "sns.boxplot( x= 'time_spend_company',  data=data, orient='v',ax=axes[2,1])\n"
   ]
  },
  {
   "cell_type": "markdown",
   "metadata": {},
   "source": [
    "We can see the graphical representation of our analysis in terms of data distributions:\n",
    "\n",
    "- Satisfaction level and Last evaluation (performance) has a skewed left (negative) ditribuitions.\n",
    "- Number of projects has a skewed right(positive) ditribution.\n",
    "- Average monthly hours has a simetric ditribution.\n",
    "- Analyse de distribution of the variables is important due the fact that many statistical tests assume normal distribution\n"
   ]
  },
  {
   "cell_type": "markdown",
   "metadata": {},
   "source": [
    "#### How Many Departments Does Our Organisation Have?"
   ]
  },
  {
   "cell_type": "code",
   "execution_count": null,
   "metadata": {},
   "outputs": [],
   "source": [
    "data_by_dept = data[['department','left']].groupby('department', sort=True).count()\n",
    "data_by_dept"
   ]
  },
  {
   "cell_type": "code",
   "execution_count": null,
   "metadata": {},
   "outputs": [],
   "source": [
    "fig, axes = plt.subplots(nrows=1, ncols=2, figsize=(20, 6))\n",
    "\n",
    "axes[0].pie(data_by_dept.values,\n",
    "        labels=data_by_dept.index,\n",
    "        shadow=True,\n",
    "        colors = ['#fc910d','#fcb13e','#239cd3','#1674b1','#ed6d50'],\n",
    "        explode=[0.2,0.1,0.1,0.1,0.1,0.1,0.1,0.1,0.1,0.1]) # to separate the \"slices\"\n",
    "axes[0].set_title('Distribution of the number of employees who left according to the different sectors\\n\\n')\n",
    "axes[0].axis(\"equal\")\n",
    "\n",
    "axes[1].bar(x = data_by_dept.index.to_list(), height = sum(data_by_dept.values.tolist(),[]))\n",
    "fig.tight_layout()\n"
   ]
  },
  {
   "cell_type": "markdown",
   "metadata": {},
   "source": [
    "#### How many employees per salary range?"
   ]
  },
  {
   "cell_type": "code",
   "execution_count": null,
   "metadata": {},
   "outputs": [],
   "source": [
    "counts_per_salary = data['salary'].value_counts()\n",
    "total = sum(counts_per_salary)\n",
    "\n",
    "print(\"There are:\\n\")\n",
    "print(\"%d employees with a Low Salary which represents %.2f%% of the employees\" %(counts_per_salary[0], np.round(counts_per_salary[0]/total,2) ))\n",
    "print(\"%d employees with a Medium Salary which represents %.2f%% of the employees\" %(counts_per_salary[1], np.round(counts_per_salary[1]/total,2) ))\n",
    "print(\"%d employees with a High Salary which represents %.2f%% of the employees\" %(counts_per_salary[2], np.round(counts_per_salary[2]/total,2) ))"
   ]
  },
  {
   "cell_type": "markdown",
   "metadata": {},
   "source": [
    "#### How many employees per salary range and per department?"
   ]
  },
  {
   "cell_type": "code",
   "execution_count": null,
   "metadata": {},
   "outputs": [],
   "source": [
    "table = data.pivot_table(values=\"satisfaction_level\", index=\"department\", columns=\"salary\",aggfunc=np.count_nonzero)\n",
    "table"
   ]
  },
  {
   "cell_type": "code",
   "execution_count": null,
   "metadata": {},
   "outputs": [],
   "source": [
    "table.plot(kind=\"bar\", figsize=(10,6), title=\"Employees per department and per salary range\")"
   ]
  },
  {
   "cell_type": "markdown",
   "metadata": {},
   "source": [
    "#### Correlation Analysis\n",
    "\n",
    "The correlation is a very useful statitiscal analysis that describes the degree of relationship between two variables. They can be of two types:\n",
    "- positive correlation: two variables move in the same direction\n",
    "- negative correlation: two variables move in oposite directions"
   ]
  },
  {
   "cell_type": "code",
   "execution_count": null,
   "metadata": {},
   "outputs": [],
   "source": [
    "correlation_matrix = data.corr()\n",
    "correlation_matrix"
   ]
  },
  {
   "cell_type": "markdown",
   "metadata": {},
   "source": [
    "The correlation matrix shows that\n",
    "\n",
    "- Negative correlation of (-0.39) between **satisfaction_level** and the employees that **left** the company. This means that the majority of the emplyees who left were highly unsatisfied with the company.\n",
    "- The highest positive correlation is between **number of projects** and **average monthly hours** (0.42). This means the more hours spent, the more projects the employee was working on.\n",
    "- **Last_evaluation** is highly correlated to **number_project**(0.35)and **average_monthly_hours**(0.34). This means that the more hours and projects an employee worked on, the higher was his evaluation.\n",
    "- **salary** (-0.16) with employees that **left**. This means that employees who left felt underpaid."
   ]
  },
  {
   "cell_type": "code",
   "execution_count": null,
   "metadata": {},
   "outputs": [],
   "source": [
    "sns.set(style='white')\n",
    "\n",
    "mask = np.zeros_like(correlation_matrix, dtype=np.bool)\n",
    "mask[np.triu_indices_from(mask)] = True\n",
    "\n",
    "f, ax = plt.subplots(figsize=(13,8))\n",
    "\n",
    "cmap = sns.diverging_palette(10,220, as_cmap=True)\n",
    "\n",
    "ax = sns.heatmap(correlation_matrix, mask=mask, \n",
    "                 cmap=cmap, vmax= .5, annot=True, annot_kws= {'size':11}, \n",
    "                 square=True, xticklabels=True, yticklabels=True, linewidths=.5, \n",
    "                 cbar_kws={'shrink': .5}, ax=ax)\n",
    "\n",
    "ax.set_title('Correlation between variables', fontsize=20);"
   ]
  },
  {
   "cell_type": "markdown",
   "metadata": {},
   "source": [
    "#### Hypothesis 1: Employess who leave it is because of the salary"
   ]
  },
  {
   "cell_type": "code",
   "execution_count": null,
   "metadata": {},
   "outputs": [],
   "source": [
    "j = sns.factorplot(x='salary', y='left', kind='bar', data=data)\n",
    "plt.title('Employees that left by salary level', fontsize=14)\n",
    "j.set_xticklabels(['High', 'Medium', 'Low']);"
   ]
  },
  {
   "cell_type": "code",
   "execution_count": null,
   "metadata": {},
   "outputs": [],
   "source": [
    "# Employees who left by salary range and department\n",
    "table_leave = data[data['left']==1].pivot_table(values=\"satisfaction_level\", index=\"department\", columns=\"salary\",aggfunc=np.count_nonzero)\n",
    "table_leave"
   ]
  },
  {
   "cell_type": "code",
   "execution_count": null,
   "metadata": {},
   "outputs": [],
   "source": [
    "table_leave.plot(kind=\"bar\", figsize=(10,6), title=\"Employees who left per department and per salary range\")"
   ]
  },
  {
   "cell_type": "code",
   "execution_count": null,
   "metadata": {},
   "outputs": [],
   "source": [
    "# Employees who stayed by salary range and department\n",
    "table_stay = data[data['left']==0].pivot_table(values=\"satisfaction_level\", index=\"department\", columns=\"salary\",aggfunc=np.count_nonzero)\n",
    "table_stay"
   ]
  },
  {
   "cell_type": "code",
   "execution_count": null,
   "metadata": {},
   "outputs": [],
   "source": [
    "table_stay.plot(kind=\"bar\", figsize=(10,6), title=\"Employees who stayed per department and per salary range\")"
   ]
  },
  {
   "cell_type": "markdown",
   "metadata": {},
   "source": [
    "The analysis shows that:\n",
    "- the majority of the employees who had a low salary left\n",
    "- the sales department had the highest number of emplyees leaving. However, this is still not enough to draw a conclusion. Many employees with low salary also stayed in the company\n",
    "- the technical and support departments also pay a low salary range to its employees, which might be another reason why they are leaving"
   ]
  },
  {
   "cell_type": "markdown",
   "metadata": {},
   "source": [
    "#### Hypothesis 2: Employees who are not satisfied tend to leave the company"
   ]
  },
  {
   "cell_type": "code",
   "execution_count": null,
   "metadata": {},
   "outputs": [],
   "source": [
    "figure(figsize=(10,6))\n",
    "\n",
    "bins = np.linspace(0.006,1.000, 15)\n",
    "    \n",
    "n, b, patches = plt.hist(data[(data['left']==1) ]['satisfaction_level'], bins=bins, alpha=1, label='Employees Left', color = \"skyblue\")\n",
    "patches[8].set_fc('r') #average satisfaction\n",
    "n, b, patches = plt.hist(data[(data['left']==0) ]['satisfaction_level'], bins=bins, alpha = 0.5, label = 'Employee Stayed', color = \"green\")\n",
    "patches[8].set_fc('r')  #average satisfaction\n",
    "plt.title('Employees Satisfaction', fontsize=14)\n",
    "plt.xlabel('satisfaction_level')\n",
    "plt.xlim((0,1.05))\n",
    "plt.legend(loc='best');"
   ]
  },
  {
   "cell_type": "markdown",
   "metadata": {},
   "source": [
    "It is possible to see 3 interesting peaks in the satisfaction levels of the employees that left the company.\n",
    "\n",
    "- We have a peak of employees who are totally disappointed.\n",
    "- Another peak at 0.4, representing another group with the satisfaction level below the average.\n",
    "- And another amount in the range 0.7 and 0.9, with employees that left, although the high satisfaction (probably because they wanted to progree in the career in another job)"
   ]
  },
  {
   "cell_type": "markdown",
   "metadata": {},
   "source": [
    "#### When did the employees start to feel unsatisfied?\n",
    "\n",
    "Are the employees working too much?"
   ]
  },
  {
   "cell_type": "code",
   "execution_count": null,
   "metadata": {},
   "outputs": [],
   "source": [
    "sns.set()\n",
    "\n",
    "ax = sns.factorplot(x=\"number_project\", y=\"satisfaction_level\", col=\"time_spend_company\",col_wrap=4, size=3, color='blue',sharex=False, data=data)\n",
    "ax.set_xlabels('Number of Projects');"
   ]
  },
  {
   "cell_type": "markdown",
   "metadata": {},
   "source": [
    "Results show a clear drop in satisfaction when employees are working on 6 or more projects (overworking...)"
   ]
  },
  {
   "cell_type": "markdown",
   "metadata": {},
   "source": [
    "#### Why are the most valuable employees leaving the company? To be continued in the tutorial!"
   ]
  },
  {
   "cell_type": "markdown",
   "metadata": {},
   "source": [
    "### Interactive Discussion: Strengths and Weaknesses"
   ]
  },
  {
   "cell_type": "markdown",
   "metadata": {},
   "source": [
    "Please go to http://www.wooclap.com/IAB303 and add some **Strengths** and **Weaknesses** that you think are related to this business concern"
   ]
  },
  {
   "cell_type": "code",
   "execution_count": null,
   "metadata": {},
   "outputs": [],
   "source": []
  }
 ],
 "metadata": {
  "kernelspec": {
   "display_name": "Python 3",
   "language": "python",
   "name": "python3"
  },
  "language_info": {
   "codemirror_mode": {
    "name": "ipython",
    "version": 3
   },
   "file_extension": ".py",
   "mimetype": "text/x-python",
   "name": "python",
   "nbconvert_exporter": "python",
   "pygments_lexer": "ipython3",
   "version": "3.8.8"
  }
 },
 "nbformat": 4,
 "nbformat_minor": 4
}
